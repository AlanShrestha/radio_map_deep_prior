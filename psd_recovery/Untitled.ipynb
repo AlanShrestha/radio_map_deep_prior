{
 "cells": [
  {
   "cell_type": "code",
   "execution_count": 1,
   "metadata": {},
   "outputs": [
    {
     "name": "stdout",
     "output_type": "stream",
     "text": [
      "tensor(0.0020, grad_fn=<MseLossBackward>)\n",
      "tensor(0.0020, grad_fn=<MseLossBackward>)\n"
     ]
    },
    {
     "name": "stderr",
     "output_type": "stream",
     "text": [
      "/home/sagar/matlab/venv/lib/python3.8/site-packages/torch/autograd/__init__.py:130: UserWarning: CUDA initialization: Found no NVIDIA driver on your system. Please check that you have an NVIDIA GPU and installed a driver from http://www.nvidia.com/Download/index.aspx (Triggered internally at  /pytorch/c10/cuda/CUDAFunctions.cpp:100.)\n",
      "  Variable._execution_engine.run_backward(\n"
     ]
    },
    {
     "name": "stdout",
     "output_type": "stream",
     "text": [
      "tensor(0.0020, grad_fn=<MseLossBackward>)\n",
      "tensor(0.0020, grad_fn=<MseLossBackward>)\n",
      "tensor(0.0020, grad_fn=<MseLossBackward>)\n",
      "tensor(0.0020, grad_fn=<MseLossBackward>)\n",
      "tensor(0.0020, grad_fn=<MseLossBackward>)\n",
      "tensor(0.0020, grad_fn=<MseLossBackward>)\n",
      "tensor(0.0020, grad_fn=<MseLossBackward>)\n",
      "tensor(0.0020, grad_fn=<MseLossBackward>)\n"
     ]
    }
   ],
   "source": [
    "import scipy.io\n",
    "from nn_descent import run_descent\n",
    "\n",
    "T = scipy.io.loadmat('data/T.mat')['T']\n",
    "C = scipy.io.loadmat('data/C.mat')['C']\n",
    "O_mat = scipy.io.loadmat('data/O_mat.mat')['O_mat']\n",
    "S_tensor = scipy.io.loadmat('data/S_tensor.mat')['S_tensor']\n",
    "ans = run_descent(O_mat, T, S_tensor, C, C.shape[1])\n"
   ]
  },
  {
   "cell_type": "code",
   "execution_count": 44,
   "metadata": {},
   "outputs": [],
   "source": [
    "from networks.adversarial_model import EncoderDecoder\n",
    "from networks.vae import Decoder\n",
    "import torch\n",
    "import numpy as np\n",
    "import scipy.io\n",
    "import torch.nn as nn\n",
    "import matplotlib.pyplot as plt\n",
    "\n",
    "dec = Decoder()\n",
    "lr = 0.01\n",
    "loop_count = 1\n",
    "\n",
    "slf_network = EncoderDecoder()\n",
    "PATH1 = '/home/sagar/Projects/deep_completion/deep_slf/trained-models/l1_5_unnorm_raw_rand_samp.model'\n",
    "checkpoint = torch.load(PATH1, map_location=torch.device('cpu'))\n",
    "slf_network.load_state_dict(checkpoint['model_state_dict'])\n",
    "\n",
    "criterion = nn.MSELoss()\n",
    "\n",
    "def outer(mat, vec):\n",
    "    prod = torch.zeros(( *vec.shape,*mat.shape), dtype=torch.float32)\n",
    "    for i in range(len(vec)):\n",
    "        prod[i,:,:] = mat*vec[i]\n",
    "    return prod\n",
    "\n",
    "def get_tensor(S, C):\n",
    "    prod = 0\n",
    "    for i in range(C.shape[0]):\n",
    "        prod += outer(S[i,:,:], C[i,:])\n",
    "    return prod\n",
    "\n",
    "def run_descent(W, X, z, C, R):\n",
    "    \"\"\"\n",
    "    Arguments:\n",
    "        W : Mask \n",
    "        X : sampled tensor\n",
    "        z : current latent vectors estimate for R emitters\n",
    "        C : current psd estimate\n",
    "\n",
    "    Returns:\n",
    "        the updated latent vector estimate\n",
    "    \"\"\"\n",
    "    # Prepare data\n",
    "    W = torch.from_numpy(W).type(torch.float32)\n",
    "    X = torch.from_numpy(X).type(torch.float32)\n",
    "    z = torch.from_numpy(z).type(torch.float32)\n",
    "    C = torch.from_numpy(C).type(torch.float32)\n",
    "    R = int(R)\n",
    "\n",
    "    K = X.shape[2]\n",
    "\n",
    "    X = X.permute(2,0,1)\n",
    "    z = z.permute(2,0,1)\n",
    "    z = z.unsqueeze(dim=1)\n",
    "    C = C.permute(1,0)\n",
    "    W = W.unsqueeze(dim=0)\n",
    "    W = W.unsqueeze(dim=0)\n",
    "    Wr = W.repeat(R,1,1,1)\n",
    "    Wx = W.repeat(K,1,1,1)\n",
    "\n",
    "    test_slf = torch.cat((Wr, z), dim=1)\n",
    "    test_slf.requires_grad = True\n",
    "    \n",
    "    for i in range(loop_count):\n",
    "        slf_complete = slf_network(test_slf)\n",
    "        \n",
    "#         plt.imshow(slf_complet)\n",
    "        # slf_complete = slf_complete.view(R,51,51)\n",
    "        # reconstruct the map from slf \n",
    "        # first normalize slf\n",
    "        # slf_complete_norm = torch.zeros((slf_complete.shape))\n",
    "        # for rr in range(R):\n",
    "        #     slf_complete[rr] = slf_complete[rr]/(slf_complete[rr].norm())\n",
    "        X_from_slf = get_tensor(slf_complete[:,0,:,:], C)\n",
    "        \n",
    "        loss = criterion(Wx*X, Wx*X_from_slf)\n",
    "        print(loss)\n",
    "        loss.backward()\n",
    "        with torch.no_grad():\n",
    "            test_slf -= lr*test_slf.grad\n",
    "    slf_opt = test_slf[:,1,:,:]\n",
    "#     return slf_opt.permute(1,2,0)\n",
    "    return slf_complete\n",
    "\n",
    "def model(z):\n",
    "    input_mat = torch.from_numpy(z)\n",
    "    input_mat = input_mat.type(torch.float32)\n",
    "    # print(input_mat)\n",
    "    # input_mat = torch.randn((2, 128), dtype=torch.float32)\n",
    "    out = dec(input_mat)\n",
    "    return out.detach().numpy()\n",
    "\n",
    "def hello():\n",
    "    return 1"
   ]
  },
  {
   "cell_type": "code",
   "execution_count": 77,
   "metadata": {},
   "outputs": [],
   "source": [
    "T = scipy.io.loadmat('data/T.mat')['T']\n",
    "C = scipy.io.loadmat('data/C.mat')['C']\n",
    "O_mat = scipy.io.loadmat('data/O_mat.mat')['O_mat']\n",
    "S_tensor = scipy.io.loadmat('data/S_tensor.mat')['S_tensor']\n",
    "# ans = run_descent(O_mat, T, S_tensor, C, C.shape[1])\n"
   ]
  },
  {
   "cell_type": "code",
   "execution_count": 78,
   "metadata": {},
   "outputs": [
    {
     "name": "stdout",
     "output_type": "stream",
     "text": [
      "sampled_loss: 3.3518432474011206e-08 true_loss: 2.232712176919449e-06\n",
      "sampled_loss: 3.3505017427160055e-08 true_loss: 2.2325596091832267e-06\n",
      "sampled_loss: 3.347304300405085e-08 true_loss: 2.2322362838167464e-06\n",
      "sampled_loss: 3.342262644423499e-08 true_loss: 2.2317592538456665e-06\n",
      "sampled_loss: 3.335379972213559e-08 true_loss: 2.2311646716843825e-06\n",
      "sampled_loss: 3.326666586644933e-08 true_loss: 2.23041433855542e-06\n",
      "sampled_loss: 3.3161324353159216e-08 true_loss: 2.2295123471849365e-06\n",
      "sampled_loss: 3.303812690091945e-08 true_loss: 2.2284423266683007e-06\n",
      "sampled_loss: 3.289777339432476e-08 true_loss: 2.22721337195253e-06\n",
      "sampled_loss: 3.273984106044736e-08 true_loss: 2.2258070657699136e-06\n",
      "sampled_loss: 3.256343816815388e-08 true_loss: 2.224263198513654e-06\n",
      "sampled_loss: 3.23649302913509e-08 true_loss: 2.222546754637733e-06\n",
      "sampled_loss: 3.2148442130619515e-08 true_loss: 2.220642500105896e-06\n",
      "sampled_loss: 3.1913952369677645e-08 true_loss: 2.218513600382721e-06\n",
      "sampled_loss: 3.166466555626357e-08 true_loss: 2.216092752860277e-06\n",
      "sampled_loss: 3.139931337159396e-08 true_loss: 2.213650986959692e-06\n",
      "sampled_loss: 3.111562918434174e-08 true_loss: 2.2110739337222185e-06\n",
      "sampled_loss: 3.081429511553324e-08 true_loss: 2.208535306635895e-06\n",
      "sampled_loss: 3.049581920322453e-08 true_loss: 2.2059582533984212e-06\n",
      "sampled_loss: 3.0164340358851405e-08 true_loss: 2.203416215706966e-06\n",
      "sampled_loss: 2.9826335179450325e-08 true_loss: 2.200765720772324e-06\n",
      "sampled_loss: 2.9475687668423234e-08 true_loss: 2.197888761656941e-06\n",
      "sampled_loss: 2.9110633903428607e-08 true_loss: 2.1947505501884734e-06\n",
      "sampled_loss: 2.873144744341971e-08 true_loss: 2.1914536318945466e-06\n",
      "sampled_loss: 2.8341354152416898e-08 true_loss: 2.1880355234316085e-06\n",
      "sampled_loss: 2.7936843949305512e-08 true_loss: 2.1846258277946617e-06\n",
      "sampled_loss: 2.7513383571431405e-08 true_loss: 2.181254558308865e-06\n",
      "sampled_loss: 2.7080929498879414e-08 true_loss: 2.1778030259156367e-06\n",
      "sampled_loss: 2.663856157880673e-08 true_loss: 2.1743037450505653e-06\n",
      "sampled_loss: 2.618545558163987e-08 true_loss: 2.170644847865333e-06\n",
      "sampled_loss: 2.573813162598526e-08 true_loss: 2.1669409306923626e-06\n",
      "sampled_loss: 2.52868694872177e-08 true_loss: 2.163355929951649e-06\n",
      "sampled_loss: 2.4828532119158808e-08 true_loss: 2.1597179511445574e-06\n",
      "sampled_loss: 2.4368238982219736e-08 true_loss: 2.1561759240285028e-06\n",
      "sampled_loss: 2.391018227854147e-08 true_loss: 2.1527644094021525e-06\n",
      "sampled_loss: 2.3459138631665155e-08 true_loss: 2.14927467823145e-06\n",
      "sampled_loss: 2.3007308058708986e-08 true_loss: 2.1455678052006988e-06\n",
      "sampled_loss: 2.255168318754386e-08 true_loss: 2.1418177311716136e-06\n",
      "sampled_loss: 2.209558225274577e-08 true_loss: 2.1381945316534257e-06\n",
      "sampled_loss: 2.163757173434533e-08 true_loss: 2.134646820195485e-06\n",
      "sampled_loss: 2.1173550024400356e-08 true_loss: 2.130769644281827e-06\n",
      "sampled_loss: 2.0712269233058578e-08 true_loss: 2.1267749161779648e-06\n",
      "sampled_loss: 2.025000966909829e-08 true_loss: 2.1226462649792666e-06\n",
      "sampled_loss: 1.9785318272624863e-08 true_loss: 2.118181328114588e-06\n",
      "sampled_loss: 1.932020410322366e-08 true_loss: 2.1143243884580443e-06\n",
      "sampled_loss: 1.885231704079615e-08 true_loss: 2.1108135115355253e-06\n",
      "sampled_loss: 1.8385497568829123e-08 true_loss: 2.1071682567708194e-06\n",
      "sampled_loss: 1.7920536166116108e-08 true_loss: 2.1034081783000147e-06\n",
      "sampled_loss: 1.745501698735552e-08 true_loss: 2.0997908904973883e-06\n",
      "sampled_loss: 1.6990846063436038e-08 true_loss: 2.0963061615475453e-06\n",
      "sampled_loss: 1.6523532764267657e-08 true_loss: 2.0930222035531187e-06\n",
      "sampled_loss: 1.605895860734563e-08 true_loss: 2.089991085085785e-06\n",
      "sampled_loss: 1.56037529563946e-08 true_loss: 2.0869149466307135e-06\n",
      "sampled_loss: 1.515898162551821e-08 true_loss: 2.083951585518662e-06\n",
      "sampled_loss: 1.4727296715477678e-08 true_loss: 2.081370212181355e-06\n",
      "sampled_loss: 1.4301500428359759e-08 true_loss: 2.0791467250091955e-06\n",
      "sampled_loss: 1.3892533345938318e-08 true_loss: 2.076971895803581e-06\n",
      "sampled_loss: 1.3511706420388236e-08 true_loss: 2.074872327284538e-06\n",
      "sampled_loss: 1.3152305911035e-08 true_loss: 2.073237283184426e-06\n",
      "sampled_loss: 1.280684092108686e-08 true_loss: 2.071896460620337e-06\n",
      "sampled_loss: 1.2454244746606946e-08 true_loss: 2.0711097477033036e-06\n",
      "sampled_loss: 1.2111408764781117e-08 true_loss: 2.0707243493234273e-06\n",
      "sampled_loss: 1.1777004260693502e-08 true_loss: 2.070432401524158e-06\n",
      "sampled_loss: 1.1452535808587072e-08 true_loss: 2.0702088932011975e-06\n",
      "sampled_loss: 1.1148350687051334e-08 true_loss: 2.069429456241778e-06\n",
      "sampled_loss: 1.0852908793879124e-08 true_loss: 2.0683128241216764e-06\n",
      "sampled_loss: 1.0572601460978603e-08 true_loss: 2.0673237486334983e-06\n",
      "sampled_loss: 1.0304956887807748e-08 true_loss: 2.0666379896283615e-06\n",
      "sampled_loss: 1.0042429110512785e-08 true_loss: 2.066055458271876e-06\n",
      "sampled_loss: 9.785608767742815e-09 true_loss: 2.065364014924853e-06\n",
      "sampled_loss: 9.536575973356776e-09 true_loss: 2.064269210677594e-06\n",
      "sampled_loss: 9.300462622263694e-09 true_loss: 2.0635127384593943e-06\n",
      "sampled_loss: 9.051907667867454e-09 true_loss: 2.0630409380828496e-06\n",
      "sampled_loss: 8.814151186697927e-09 true_loss: 2.062752400888712e-06\n",
      "sampled_loss: 8.589676525616596e-09 true_loss: 2.062868816210539e-06\n",
      "sampled_loss: 8.377846860696536e-09 true_loss: 2.0631368897738867e-06\n",
      "sampled_loss: 8.175939036902946e-09 true_loss: 2.0637246507249074e-06\n",
      "sampled_loss: 7.983779859443985e-09 true_loss: 2.06414915737696e-06\n",
      "sampled_loss: 7.801361334713874e-09 true_loss: 2.0646045868488727e-06\n",
      "sampled_loss: 7.633039977861245e-09 true_loss: 2.0651964405260514e-06\n",
      "sampled_loss: 7.480562835837645e-09 true_loss: 2.066227807517862e-06\n",
      "sampled_loss: 7.3416677182081e-09 true_loss: 2.067894456558861e-06\n",
      "sampled_loss: 7.218925013319222e-09 true_loss: 2.06995628104778e-06\n",
      "sampled_loss: 7.1104282461931234e-09 true_loss: 2.0722404769912828e-06\n",
      "sampled_loss: 7.022059378414269e-09 true_loss: 2.0747754660987994e-06\n",
      "sampled_loss: 6.94546509194538e-09 true_loss: 2.077228828056832e-06\n",
      "sampled_loss: 6.8793339913497675e-09 true_loss: 2.0797540400963044e-06\n",
      "sampled_loss: 6.82343692659515e-09 true_loss: 2.082445917039877e-06\n",
      "sampled_loss: 6.779390382405381e-09 true_loss: 2.085219193759258e-06\n",
      "sampled_loss: 6.74512534715177e-09 true_loss: 2.0880736428807722e-06\n",
      "sampled_loss: 6.7195937702990705e-09 true_loss: 2.090957650580094e-06\n",
      "sampled_loss: 6.700298982309505e-09 true_loss: 2.093617467835429e-06\n",
      "sampled_loss: 6.685260789396352e-09 true_loss: 2.0962113467248855e-06\n",
      "sampled_loss: 6.670934915575799e-09 true_loss: 2.0987779407732887e-06\n",
      "sampled_loss: 6.662844054261541e-09 true_loss: 2.1015273432567483e-06\n",
      "sampled_loss: 6.658975593154537e-09 true_loss: 2.1043385913799284e-06\n",
      "sampled_loss: 6.6597323211681214e-09 true_loss: 2.1071430182928452e-06\n",
      "sampled_loss: 6.66601662757671e-09 true_loss: 2.1103339804540155e-06\n",
      "sampled_loss: 6.6773933049546486e-09 true_loss: 2.11378619496827e-06\n",
      "sampled_loss: 6.69607835845909e-09 true_loss: 2.1175064830458723e-06\n"
     ]
    },
    {
     "data": {
      "image/png": "[encoded data removed]",
      "text/plain": [
       "<Figure size 432x288 with 1 Axes>"
      ]
     },
     "metadata": {
      "needs_background": "light"
     },
     "output_type": "display_data"
    }
   ],
   "source": [
    "# Prepare data\n",
    "W = torch.from_numpy(O_mat).type(torch.float32)\n",
    "X = torch.from_numpy(T).type(torch.float32)\n",
    "z = torch.from_numpy(S_tensor).type(torch.float32)\n",
    "C = torch.from_numpy(C).type(torch.float32)\n",
    "R = C.shape[1]\n",
    "\n",
    "K = X.shape[2]\n",
    "\n",
    "X = X.permute(2,0,1)\n",
    "z = z.permute(2,0,1)\n",
    "z = z.unsqueeze(dim=1)\n",
    "C = C.permute(1,0)\n",
    "W = W.unsqueeze(dim=0)\n",
    "W = W.unsqueeze(dim=0)\n",
    "Wr = W.repeat(R,1,1,1)\n",
    "Wx = W.repeat(K,1,1,1)\n",
    "\n",
    "Wr[Wr<0.5] = 0\n",
    "Wr[Wr>=0.5] = 1\n",
    "\n",
    "test_slf = torch.cat((Wr, z), dim=1)\n",
    "test_slf.requires_grad = True\n",
    "\n",
    "for i in range(100):\n",
    "    slf_complete = slf_network(test_slf)\n",
    "\n",
    "#         plt.imshow(slf_complet)\n",
    "    # slf_complete = slf_complete.view(R,51,51)\n",
    "    # reconstruct the map from slf \n",
    "    # first normalize slf\n",
    "    # slf_complete_norm = torch.zeros((slf_complete.shape))\n",
    "    # for rr in range(R):\n",
    "    #     slf_complete[rr] = slf_complete[rr]/(slf_complete[rr].norm())\n",
    "    X_from_slf = get_tensor(slf_complete[:,0,:,:], C)\n",
    "\n",
    "\n",
    "    loss = criterion(Wx*X, Wx*X_from_slf)\n",
    "#     print(loss)\n",
    "    plt.imshow(test_slf[0,1,:,:].detach())\n",
    "    loss.backward()\n",
    "    with torch.no_grad():\n",
    "        test_slf -= 0.03*test_slf.grad\n",
    "    true_loss = criterion(X, X_from_slf)\n",
    "    print('sampled_loss: {} true_loss: {}'.format(loss.item(), true_loss.item()))\n",
    "slf_opt = test_slf[:,1,:,:]\n",
    "#     return slf_opt.permute(1,2,0)"
   ]
  },
  {
   "cell_type": "code",
   "execution_count": 69,
   "metadata": {},
   "outputs": [
    {
     "data": {
      "text/plain": [
       "<matplotlib.image.AxesImage at 0x7fe4c8819820>"
      ]
     },
     "execution_count": 69,
     "metadata": {},
     "output_type": "execute_result"
    },
    {
     "data": {
      "image/png": "[encoded data removed]",
      "text/plain": [
       "<Figure size 432x288 with 1 Axes>"
      ]
     },
     "metadata": {
      "needs_background": "light"
     },
     "output_type": "display_data"
    }
   ],
   "source": [
    "plt.imshow(test_slf[0,1,:,:].detach())"
   ]
  },
  {
   "cell_type": "code",
   "execution_count": 48,
   "metadata": {},
   "outputs": [],
   "source": [
    "slf_complete = slf_network(test_slf)"
   ]
  },
  {
   "cell_type": "code",
   "execution_count": 28,
   "metadata": {},
   "outputs": [
    {
     "data": {
      "text/plain": [
       "torch.Size([1, 1, 51, 51])"
      ]
     },
     "execution_count": 28,
     "metadata": {},
     "output_type": "execute_result"
    }
   ],
   "source": [
    "W.shape"
   ]
  },
  {
   "cell_type": "code",
   "execution_count": 37,
   "metadata": {},
   "outputs": [],
   "source": [
    "test_slf[test_slf<0.0001] = 0"
   ]
  },
  {
   "cell_type": "code",
   "execution_count": 79,
   "metadata": {},
   "outputs": [],
   "source": [
    "a = torch.ones(2,2,3\n",
    "              )"
   ]
  },
  {
   "cell_type": "code",
   "execution_count": 81,
   "metadata": {},
   "outputs": [],
   "source": [
    "b = torch.zeros(2,2,3)"
   ]
  },
  {
   "cell_type": "code",
   "execution_count": 82,
   "metadata": {},
   "outputs": [
    {
     "data": {
      "text/plain": [
       "tensor(1.)"
      ]
     },
     "execution_count": 82,
     "metadata": {},
     "output_type": "execute_result"
    }
   ],
   "source": [
    "criterion(a,b)"
   ]
  },
  {
   "cell_type": "code",
   "execution_count": 68,
   "metadata": {},
   "outputs": [
    {
     "data": {
      "text/plain": [
       "<matplotlib.image.AxesImage at 0x7fe4c8850130>"
      ]
     },
     "execution_count": 68,
     "metadata": {},
     "output_type": "execute_result"
    },
    {
     "data": {
      "image/png": "[encoded data removed]",
      "text/plain": [
       "<Figure size 432x288 with 1 Axes>"
      ]
     },
     "metadata": {
      "needs_background": "light"
     },
     "output_type": "display_data"
    }
   ],
   "source": [
    "plt.imshow(slf_complete[0,0,:,:].detach())"
   ]
  },
  {
   "cell_type": "code",
   "execution_count": null,
   "metadata": {},
   "outputs": [],
   "source": []
  },
  {
   "cell_type": "code",
   "execution_count": 17,
   "metadata": {},
   "outputs": [
    {
     "data": {
      "text/plain": [
       "<matplotlib.image.AxesImage at 0x7fe4c8b00430>"
      ]
     },
     "execution_count": 17,
     "metadata": {},
     "output_type": "execute_result"
    },
    {
     "data": {
      "image/png": "[encoded data removed]",
      "text/plain": [
       "<Figure size 432x288 with 1 Axes>"
      ]
     },
     "metadata": {
      "needs_background": "light"
     },
     "output_type": "display_data"
    }
   ],
   "source": [
    "plt.imshow(ans[0,0,:,:].detach())"
   ]
  }
 ],
 "metadata": {
  "kernelspec": {
   "display_name": "Python 3",
   "language": "python",
   "name": "python3"
  },
  "language_info": {
   "codemirror_mode": {
    "name": "ipython",
    "version": 3
   },
   "file_extension": ".py",
   "mimetype": "text/x-python",
   "name": "python",
   "nbconvert_exporter": "python",
   "pygments_lexer": "ipython3",
   "version": "3.8.5"
  }
 },
 "nbformat": 4,
 "nbformat_minor": 4
}
{
 "cells": [
  {
   "cell_type": "markdown",
   "metadata": {},
   "source": [
    "## Declare Model"
   ]
  },
  {
   "cell_type": "code",
   "execution_count": 256,
   "metadata": {},
   "outputs": [],
   "source": [
    "import torch\n",
    "import torch.nn as nn\n",
    "from networks.model_utils import *\n",
    "\n",
    "z_dim = 16\n",
    "\n",
    "class Flatten(nn.Module):\n",
    "    def forward(self, input):\n",
    "        return input.view(input.size(0), -1)\n",
    "\n",
    "class UnFlatten(nn.Module):\n",
    "    def __init__(self, target_shape):\n",
    "        super().__init__()\n",
    "        self.target_shape = target_shape\n",
    "        \n",
    "    def forward(self, input):\n",
    "        return torch.reshape(input, (input.size(0),*self.target_shape))\n",
    "\n",
    "\n",
    "class Generator(nn.Module):\n",
    "    def __init__(self):\n",
    "        super().__init__()\n",
    "        ndf = 16\n",
    "        self.main = nn.Sequential(\n",
    "            nn.Linear(z_dim,64),\n",
    "            nn.BatchNorm1d(64),\n",
    "            nn.ReLU(True),\n",
    "            \n",
    "            nn.Linear(64, 128),\n",
    "            UnFlatten((ndf*8, 1, 1)),\n",
    "            # state size. (ndf*8) x 1 x 1\n",
    "            nn.ConvTranspose2d(ndf*8, ndf*8, 3, 1, 0),\n",
    "            nn.BatchNorm2d(ndf*8),\n",
    "            nn.ReLU(True),\n",
    "            \n",
    "            # state size. (ndf*8) x 3 x 3\n",
    "            nn.ConvTranspose2d(ndf*8, ndf*4, 4, 2, 1),\n",
    "            nn.BatchNorm2d(ndf*4),\n",
    "            nn.ReLU(True),\n",
    "            \n",
    "            # state size. (ndf*4) x 6 x 6   \n",
    "            nn.ConvTranspose2d(ndf*4, ndf*2, 4, 2, 1),\n",
    "            nn.BatchNorm2d(ndf*2),\n",
    "            nn.ReLU(True),\n",
    "\n",
    "            # state size (ndf*2) x 12 x 12\n",
    "            nn.ConvTranspose2d(ndf*2, ndf*1, 4, 2, 0),\n",
    "            nn.BatchNorm2d(ndf*1),\n",
    "            nn.ReLU(True),\n",
    "\n",
    "            # state size (ndf) x 26, 26\n",
    "            nn.ConvTranspose2d(ndf*1,2, 4, 2, 0),\n",
    "            nn.BatchNorm2d(2),\n",
    "            nn.ReLU(True),\n",
    "\n",
    "            # state size 2 x 54 x 54\n",
    "            nn.Conv2d(2,1, 4, 1, 0),\n",
    "            nn.Sigmoid()\n",
    "            # output 1 x 51 x 51              \n",
    "        )\n",
    "\n",
    "    def forward(self, input):\n",
    "#         for layer in self.main:\n",
    "#             input = layer(input)\n",
    "#             print(input.shape)\n",
    "#         return input\n",
    "        return self.main(input)\n",
    "\n",
    "\n",
    "\n",
    "\n",
    "class GANEncoder(nn.Module):\n",
    "    def __init__(self):\n",
    "        super().__init__()\n",
    "        architecture = {\n",
    "            \"conv_layers\": 5,\n",
    "            \"conv_channels\": [16, 32, 64, 128, 256],\n",
    "            \"conv_kernel_sizes\": [(4, 4), (4, 4), (4, 4), (4,4), (4,4)],\n",
    "            \"conv_strides\": [(1, 1), (2, 2), (1, 1), (2,2), (2,2)],\n",
    "            \"conv_paddings\": [(1, 1), (1, 1), (1, 1), (1,1), (1,1)],\n",
    "            \"z_dimension\": 64\n",
    "        }\n",
    "        input_shape = [1,51,51]\n",
    "        self.main, self.output_shapes = create_encoder(architecture, input_shape)\n",
    "        self.main.add_module('flatten',Flatten())\n",
    "        encoded_shape = architecture['conv_channels'][-1]*np.prod(self.output_shapes[-1][:])\n",
    "        self.main.add_module('lin_1', nn.Linear(encoded_shape, architecture['z_dimension']))\n",
    "        def forward(self, input):\n",
    "            return self.main(input)\n",
    "    def forward(self, input):\n",
    "        return self.main(input)\n",
    "\n",
    "class Discriminator(nn.Module):\n",
    "    def __init__(self):\n",
    "        ndf = 16\n",
    "        super(Discriminator, self).__init__()\n",
    "        self.main = nn.Sequential(\n",
    "            # input is 1 x 51 x 51\n",
    "            nn.Conv2d(1, ndf, 4, 2, 1, bias=False),\n",
    "            nn.LeakyReLU(0.2, inplace=True),\n",
    "            # state size. (ndf) x 25 x 25\n",
    "            nn.Conv2d(ndf, ndf * 2, 4, 2, 1, bias=False),\n",
    "            nn.BatchNorm2d(ndf * 2),\n",
    "            nn.LeakyReLU(0.2, inplace=True),\n",
    "            # state size. (ndf*2) x 12 x 12\n",
    "            nn.Conv2d(ndf * 2, ndf * 4, 4, 2, 1, bias=False),\n",
    "            nn.BatchNorm2d(ndf * 4),\n",
    "            nn.LeakyReLU(0.2, inplace=True),\n",
    "            # state size. (ndf*4) x 6 x 6\n",
    "            nn.Conv2d(ndf * 4, ndf * 8, 4, 2, 1, bias=False),\n",
    "            nn.BatchNorm2d(ndf * 8),\n",
    "            nn.LeakyReLU(0.2, inplace=True),\n",
    "            # state size. (ndf*8) x 3 x 3\n",
    "            nn.Conv2d(ndf * 8, 1, 3, 1, 0, bias=False),\n",
    "            # state size. 1 x 1 x 1\n",
    "            nn.Sigmoid()\n",
    "        )\n",
    "\n",
    "    def forward(self, input):\n",
    "        return self.main(input)\n",
    "\n",
    " "
   ]
  },
  {
   "cell_type": "markdown",
   "metadata": {},
   "source": [
    "## Data Loader"
   ]
  },
  {
   "cell_type": "code",
   "execution_count": 271,
   "metadata": {},
   "outputs": [],
   "source": [
    "from torch.utils.data import Dataset, DataLoader\n",
    "import os\n",
    "\n",
    "DEFAULT_ROOT = '/scratch/sagar/slf/train_set/set_harsh_torch_raw_unnormalized/slf_mat'\n",
    "\n",
    "class SLF(Dataset):\n",
    "    def __init__(self, root=DEFAULT_ROOT, train=True, download=True, transform=None, total_data=None, sampling=False):\n",
    "        self.root_dir = root\n",
    "        if not total_data is None:\n",
    "            self.num_examples = total_data\n",
    "        else:\n",
    "            if train == True:\n",
    "                self.num_examples = 500000\n",
    "            else:\n",
    "                self.num_examples = 2000\n",
    "        self.sampling = sampling\n",
    "        sample_size = [0.01,0.30]\n",
    "        self.sampling_rate = sample_size[1] - sample_size[0]\n",
    "        self.omega_start_point = 1.0 - sample_size[1]\n",
    "        \n",
    "    def __len__(self):\n",
    "        return self.num_examples\n",
    "\n",
    "    def __getitem__(self, idx):\n",
    "        filename = os.path.join(self.root_dir,\n",
    "                                str(idx)+'.pt')\n",
    "        sample = torch.load(filename)\n",
    "        if self.sampling:\n",
    "            rand = self.sampling_rate*torch.rand(1).item()\n",
    "            bool_mask = torch.FloatTensor(1,51,51).uniform_() > (self.omega_start_point+rand)\n",
    "            int_mask = bool_mask*torch.ones((1,51,51), dtype=torch.float32)\n",
    "            subsample = sample*bool_mask\n",
    "            return subsample, sample\n",
    "        \n",
    "        return sample\n",
    "    \n",
    "class GANSample(Dataset):\n",
    "    def __init__(self, generator_path = 'trained-models/gan/generator-gan-first',train=True, download=True, transform=None, total_data=None, sampling=False):\n",
    "        self.generator = torch.load(generator_path)\n",
    "        self.generator.eval()\n",
    "        self.generator = self.generator.to('cpu')\n",
    "        self.z_dim = next(self.generator.parameters()).shape[1]\n",
    "        if not total_data is None:\n",
    "            self.num_examples = total_data\n",
    "        else:\n",
    "            if train == True:\n",
    "                self.num_examples = 50000\n",
    "            else:\n",
    "                self.num_examples = 2000\n",
    "        \n",
    "        self.sampling = sampling\n",
    "        sample_size = [0.01,0.30]\n",
    "        self.sampling_rate = sample_size[1] - sample_size[0]\n",
    "        self.omega_start_point = 1.0 - sample_size[1]\n",
    "        \n",
    "    def __len__(self):\n",
    "        return self.num_examples\n",
    "\n",
    "    def __getitem__(self, idx):\n",
    "        z = torch.randn((1,self.z_dim), dtype=torch.float32)\n",
    "        with torch.no_grad():\n",
    "            sample = self.generator(z)\n",
    "        z = z.squeeze()\n",
    "        sample = sample.squeeze(dim=0)\n",
    "        if self.sampling:\n",
    "            rand = self.sampling_rate*torch.rand(1).item()\n",
    "            bool_mask = torch.FloatTensor(1,51,51).uniform_() > (self.omega_start_point+rand)\n",
    "            int_mask = bool_mask*torch.ones((1,51,51), dtype=torch.float32)\n",
    "            subsample = sample*bool_mask\n",
    "            subsample.requires_grad = False\n",
    "            z.requires_grad = False\n",
    "            return subsample, z\n",
    "        else:\n",
    "            return sample, z\n",
    "\n"
   ]
  },
  {
   "cell_type": "code",
   "execution_count": null,
   "metadata": {},
   "outputs": [],
   "source": []
  },
  {
   "cell_type": "markdown",
   "metadata": {},
   "source": [
    "## Tune Hyperparamters for GAN"
   ]
  },
  {
   "cell_type": "code",
   "execution_count": 195,
   "metadata": {},
   "outputs": [
    {
     "name": "stderr",
     "output_type": "stream",
     "text": [
      "\r",
      "  0%|          | 0/15625 [00:00<?, ?it/s]"
     ]
    },
    {
     "name": "stdout",
     "output_type": "stream",
     "text": [
      "starting\n"
     ]
    },
    {
     "name": "stderr",
     "output_type": "stream",
     "text": [
      "  1%|          | 186/15625 [00:03<05:23, 47.66it/s]\n"
     ]
    },
    {
     "ename": "KeyboardInterrupt",
     "evalue": "",
     "output_type": "error",
     "traceback": [
      "\u001b[0;31m---------------------------------------------------------------------------\u001b[0m",
      "\u001b[0;31mKeyboardInterrupt\u001b[0m                         Traceback (most recent call last)",
      "\u001b[0;32m<ipython-input-195-c40127e2e327>\u001b[0m in \u001b[0;36m<module>\u001b[0;34m\u001b[0m\n\u001b[1;32m     66\u001b[0m             \u001b[0;31m# Get data\u001b[0m\u001b[0;34m\u001b[0m\u001b[0;34m\u001b[0m\u001b[0;34m\u001b[0m\u001b[0m\n\u001b[1;32m     67\u001b[0m             \u001b[0mreal_slf\u001b[0m \u001b[0;34m=\u001b[0m \u001b[0mbatch\u001b[0m\u001b[0;34m\u001b[0m\u001b[0;34m\u001b[0m\u001b[0m\n\u001b[0;32m---> 68\u001b[0;31m             \u001b[0mreal_slf\u001b[0m \u001b[0;34m=\u001b[0m \u001b[0mreal_slf\u001b[0m\u001b[0;34m.\u001b[0m\u001b[0mto\u001b[0m\u001b[0;34m(\u001b[0m\u001b[0mrun\u001b[0m\u001b[0;34m.\u001b[0m\u001b[0mdevice\u001b[0m\u001b[0;34m)\u001b[0m\u001b[0;34m\u001b[0m\u001b[0;34m\u001b[0m\u001b[0m\n\u001b[0m\u001b[1;32m     69\u001b[0m \u001b[0;34m\u001b[0m\u001b[0m\n\u001b[1;32m     70\u001b[0m             \u001b[0mb_size\u001b[0m \u001b[0;34m=\u001b[0m \u001b[0mreal_slf\u001b[0m\u001b[0;34m.\u001b[0m\u001b[0msize\u001b[0m\u001b[0;34m(\u001b[0m\u001b[0;36m0\u001b[0m\u001b[0;34m)\u001b[0m\u001b[0;34m\u001b[0m\u001b[0;34m\u001b[0m\u001b[0m\n",
      "\u001b[0;31mKeyboardInterrupt\u001b[0m: "
     ]
    }
   ],
   "source": [
    "from collections import OrderedDict, namedtuple\n",
    "import os\n",
    "from run_manager_adv import RunBuilder, RunManager\n",
    "from tqdm import tqdm, trange\n",
    "from IPython.display import clear_output\n",
    "import time\n",
    "import pandas as pd\n",
    "\n",
    "DEFAULT_ROOT = '/scratch/sagar/slf/train_set/set_harsh_torch_raw_unnormalized'\n",
    "\n",
    "if torch.cuda.is_available():\n",
    "    devices = ['cuda']\n",
    "else:\n",
    "    devices = ['cpu']\n",
    "print('starting')\n",
    "\n",
    "params = OrderedDict(\n",
    "    lr = [0.0001],\n",
    "    batch_size = [32],\n",
    "    device = devices,\n",
    "    shuffle = [True],\n",
    "    num_workers = [1]\n",
    ")\n",
    "\n",
    "train_set = SLF(root=os.path.join(DEFAULT_ROOT, 'slf_mat'), total_data=500000)\n",
    "\n",
    "m = RunManager(epoch_count_print=1)\n",
    "\n",
    "real_label = 0.9\n",
    "fake_label = 0\n",
    "\n",
    "criterion = nn.BCELoss()\n",
    "alpha = 0.0001\n",
    "Tc = 0\n",
    "Td = 0\n",
    "T_train = 100\n",
    "\n",
    "count=0\n",
    "run_data = []\n",
    "\n",
    "for run in RunBuilder.get_runs(params):\n",
    "    device = torch.device(run.device)\n",
    "    generator = Generator().to(run.device)\n",
    "    discriminator = Discriminator().to(run.device)\n",
    "\n",
    "    loader = torch.utils.data.DataLoader(train_set, batch_size=run.batch_size, shuffle=run.shuffle, num_workers=run.num_workers)\n",
    "    optimizerGenerator = torch.optim.Adam(generator.parameters(), lr=run.lr)\n",
    "    optimizerDiscriminator = torch.optim.Adam(discriminator.parameters(), lr=run.lr)\n",
    "        \n",
    "    for epoch in range(10):\n",
    "\n",
    "        total_adv_loss = 0\n",
    " \n",
    "        real_count = 0\n",
    "        fake_count = 0\n",
    "        \n",
    "        total_D_real = 0\n",
    "        total_D_fake = 0\n",
    "        \n",
    "        total_D_loss = 0\n",
    "        total_G_loss = 0\n",
    "        \n",
    "        num_batches = len(train_set)/run.batch_size\n",
    "        \n",
    "        for batch in tqdm(loader):\n",
    "            # Get data\n",
    "            real_slf = batch\n",
    "            real_slf = real_slf.to(run.device)\n",
    "            \n",
    "            b_size = real_slf.size(0)\n",
    "            labels_real = torch.full((b_size,1,1,1), real_label, device=run.device, dtype=torch.float32)\n",
    "            labels_fake = torch.full((b_size,1,1,1), fake_label, device=run.device, dtype=torch.float32)\n",
    "            \n",
    "            # Update Generator\n",
    "            optimizerGenerator.zero_grad()\n",
    "            sample_z = torch.randn((b_size, z_dim), dtype=torch.float32)\n",
    "            sample_z = sample_z.to(run.device)\n",
    "            fake_slf = generator(sample_z)\n",
    "            fake_pred = discriminator(fake_slf)\n",
    "            gen_loss = criterion(fake_pred, labels_real)\n",
    "            gen_loss.backward()\n",
    "            optimizerGenerator.step()\n",
    "            \n",
    "            # Update Discriminator\n",
    "            optimizerDiscriminator.zero_grad()\n",
    "            fake_slf = generator(sample_z)\n",
    "            real_loss = criterion(discriminator(real_slf), labels_real)\n",
    "            fake_loss = criterion(discriminator(fake_slf), labels_fake)\n",
    "            d_loss = 0.5*(real_loss + fake_loss)\n",
    "            d_loss.backward()\n",
    "            optimizerDiscriminator.step()\n",
    "            \n",
    "            total_D_real += real_loss.item()\n",
    "            total_D_fake += fake_loss.item()\n",
    "        \n",
    "            total_D_loss += d_loss.item()\n",
    "            total_G_loss += gen_loss.item()\n",
    "\n",
    "            \n",
    "        results = OrderedDict()\n",
    "        results['G_loss'] = total_G_loss/num_batches\n",
    "        results['D_loss'] = total_D_loss/num_batches\n",
    "        results['lr'] = run.lr\n",
    "        results['batch_size'] = [run.batch_size]\n",
    "        run_data.append(results)\n",
    "        df = pd.DataFrame.from_dict(run_data, orient='columns')\n",
    "        clear_output(wait=True)\n",
    "        display(df)\n",
    "        \n",
    "    m.end_run()"
   ]
  },
  {
   "cell_type": "markdown",
   "metadata": {},
   "source": [
    "## Tune Hyperparameters for Encoder before GAN"
   ]
  },
  {
   "cell_type": "code",
   "execution_count": 325,
   "metadata": {},
   "outputs": [
    {
     "name": "stderr",
     "output_type": "stream",
     "text": [
      "\r",
      "  0%|          | 0/15625 [00:00<?, ?it/s]"
     ]
    },
    {
     "name": "stdout",
     "output_type": "stream",
     "text": [
      "starting\n"
     ]
    },
    {
     "name": "stderr",
     "output_type": "stream",
     "text": [
      "  0%|          | 7/15625 [00:00<14:59, 17.37it/s]  "
     ]
    },
    {
     "name": "stdout",
     "output_type": "stream",
     "text": [
      "1.2942736148834229\n",
      "1.2792531251907349\n",
      "1.2538325786590576\n",
      "1.300809383392334\n",
      "1.2491551637649536\n",
      "1.3185405731201172\n",
      "1.3362056016921997\n",
      "1.3157709836959839\n",
      "1.2646838426589966\n",
      "1.2686610221862793\n",
      "1.17344069480896\n",
      "1.2445380687713623\n",
      "1.2395656108856201\n"
     ]
    },
    {
     "name": "stderr",
     "output_type": "stream",
     "text": [
      "  0%|          | 25/15625 [00:00<05:03, 51.43it/s]"
     ]
    },
    {
     "name": "stdout",
     "output_type": "stream",
     "text": [
      "1.2420839071273804\n",
      "1.2218281030654907\n",
      "1.2418193817138672\n",
      "1.2093915939331055\n",
      "1.2409744262695312\n",
      "1.2262907028198242\n",
      "1.2060301303863525\n",
      "1.1770578622817993\n",
      "1.1978988647460938\n",
      "1.2322711944580078\n",
      "1.2357032299041748\n",
      "1.2404040098190308\n",
      "1.247361183166504\n",
      "1.2655274868011475\n",
      "1.1990231275558472\n",
      "1.2279257774353027\n",
      "1.2101548910140991\n",
      "1.2167823314666748\n",
      "1.2398951053619385\n"
     ]
    },
    {
     "name": "stderr",
     "output_type": "stream",
     "text": [
      "  0%|          | 46/15625 [00:00<03:24, 76.01it/s]"
     ]
    },
    {
     "name": "stdout",
     "output_type": "stream",
     "text": [
      "1.2231985330581665\n",
      "1.1826164722442627\n",
      "1.2431374788284302\n",
      "1.1476247310638428\n",
      "1.2319551706314087\n",
      "1.2537617683410645\n",
      "1.2486340999603271\n",
      "1.1681926250457764\n",
      "1.1624622344970703\n",
      "1.1561940908432007\n",
      "1.1311872005462646\n",
      "1.2330187559127808\n",
      "1.153343677520752\n",
      "1.1433660984039307\n",
      "1.2046259641647339\n",
      "1.271921157836914\n",
      "1.1444296836853027\n",
      "1.1485512256622314\n",
      "1.2376571893692017\n",
      "1.1461975574493408\n",
      "1.2005871534347534\n"
     ]
    },
    {
     "name": "stderr",
     "output_type": "stream",
     "text": [
      "  0%|          | 68/15625 [00:01<02:55, 88.82it/s]"
     ]
    },
    {
     "name": "stdout",
     "output_type": "stream",
     "text": [
      "1.1270020008087158\n",
      "1.2125414609909058\n",
      "1.132534146308899\n",
      "1.16127347946167\n",
      "1.2447094917297363\n",
      "1.2007182836532593\n",
      "1.1269006729125977\n",
      "1.0764198303222656\n",
      "1.1590619087219238\n",
      "1.1251354217529297\n",
      "1.1368532180786133\n",
      "1.1367818117141724\n",
      "1.1298785209655762\n",
      "1.1157927513122559\n",
      "1.0965423583984375\n",
      "1.1894183158874512\n",
      "1.1257375478744507\n",
      "1.1737929582595825\n",
      "1.117541790008545\n",
      "1.1543774604797363\n",
      "1.1476911306381226\n"
     ]
    },
    {
     "name": "stderr",
     "output_type": "stream",
     "text": [
      "  1%|          | 89/15625 [00:01<02:43, 94.79it/s]"
     ]
    },
    {
     "name": "stdout",
     "output_type": "stream",
     "text": [
      "1.157837152481079\n",
      "1.1170272827148438\n",
      "1.0971182584762573\n",
      "1.148057222366333\n",
      "1.1140897274017334\n",
      "1.1940045356750488\n",
      "1.0907987356185913\n",
      "1.1405184268951416\n",
      "1.1252150535583496\n",
      "1.1510558128356934\n",
      "1.1291478872299194\n",
      "1.1613106727600098\n",
      "1.1461155414581299\n",
      "1.1264770030975342\n",
      "1.0898950099945068\n",
      "1.1168930530548096\n",
      "1.1053951978683472\n",
      "1.1547958850860596\n",
      "1.1665680408477783\n"
     ]
    },
    {
     "name": "stderr",
     "output_type": "stream",
     "text": [
      "  1%|          | 109/15625 [00:01<02:51, 90.47it/s]"
     ]
    },
    {
     "name": "stdout",
     "output_type": "stream",
     "text": [
      "1.1113717555999756\n",
      "1.1387286186218262\n",
      "1.1300859451293945\n",
      "1.0784759521484375\n",
      "1.0877330303192139\n",
      "1.0909544229507446\n",
      "1.1122822761535645\n",
      "1.0582612752914429\n",
      "1.1190617084503174\n",
      "1.1542093753814697\n",
      "1.0729517936706543\n",
      "1.12257719039917\n",
      "1.12696373462677\n",
      "1.0717731714248657\n",
      "1.1220548152923584\n",
      "1.0712895393371582\n",
      "1.1577314138412476\n",
      "1.090224027633667\n",
      "1.1414787769317627\n",
      "1.0973156690597534\n"
     ]
    },
    {
     "name": "stderr",
     "output_type": "stream",
     "text": [
      "  1%|          | 131/15625 [00:01<02:38, 97.82it/s]"
     ]
    },
    {
     "name": "stdout",
     "output_type": "stream",
     "text": [
      "1.0346271991729736\n",
      "1.1080057621002197\n",
      "1.122069001197815\n",
      "1.085669994354248\n",
      "1.1061677932739258\n",
      "1.1074936389923096\n",
      "1.114973783493042\n",
      "1.0827445983886719\n",
      "1.1210644245147705\n",
      "1.100020170211792\n",
      "1.105717420578003\n",
      "1.1742751598358154\n",
      "1.1536509990692139\n",
      "1.0702580213546753\n",
      "1.1535621881484985\n",
      "1.150956630706787\n",
      "1.1010289192199707\n",
      "1.1230273246765137\n",
      "1.126457929611206\n",
      "1.1286659240722656\n",
      "1.1281310319900513\n",
      "1.1222569942474365\n"
     ]
    },
    {
     "name": "stderr",
     "output_type": "stream",
     "text": [
      "  1%|          | 153/15625 [00:02<02:32, 101.39it/s]"
     ]
    },
    {
     "name": "stdout",
     "output_type": "stream",
     "text": [
      "1.0759191513061523\n",
      "1.0364279747009277\n",
      "1.0612914562225342\n",
      "1.1157984733581543\n",
      "1.1061241626739502\n",
      "1.090463638305664\n",
      "1.1483291387557983\n",
      "1.139831781387329\n",
      "1.0640382766723633\n",
      "1.0651307106018066\n",
      "1.0694609880447388\n",
      "1.0912706851959229\n",
      "1.028289556503296\n",
      "1.0300796031951904\n",
      "1.0849192142486572\n",
      "1.1024534702301025\n",
      "1.1036255359649658\n",
      "1.0365058183670044\n",
      "1.0909684896469116\n",
      "1.1330592632293701\n",
      "1.1258437633514404\n"
     ]
    },
    {
     "name": "stderr",
     "output_type": "stream",
     "text": [
      "  1%|          | 175/15625 [00:02<02:29, 103.03it/s]"
     ]
    },
    {
     "name": "stdout",
     "output_type": "stream",
     "text": [
      "1.0753779411315918\n",
      "1.0344998836517334\n",
      "1.0883967876434326\n",
      "1.1360077857971191\n",
      "1.0699799060821533\n",
      "1.0585052967071533\n",
      "1.112177848815918\n",
      "1.207765817642212\n",
      "1.1177263259887695\n",
      "1.1873207092285156\n",
      "1.1033971309661865\n",
      "1.033111572265625\n",
      "1.0764820575714111\n",
      "1.1050634384155273\n",
      "1.0935434103012085\n",
      "1.0764477252960205\n",
      "1.0794100761413574\n",
      "1.117478370666504\n",
      "1.0271332263946533\n",
      "1.112906575202942\n",
      "1.0694866180419922\n",
      "1.0906246900558472\n"
     ]
    },
    {
     "name": "stderr",
     "output_type": "stream",
     "text": [
      "\r",
      "  1%|          | 186/15625 [00:02<02:28, 103.89it/s]"
     ]
    },
    {
     "name": "stdout",
     "output_type": "stream",
     "text": [
      "1.091741919517517\n",
      "1.048086404800415\n",
      "1.0690391063690186\n",
      "1.1433484554290771\n",
      "1.0645002126693726\n",
      "1.0989481210708618\n",
      "1.050913691520691\n",
      "1.077158808708191\n",
      "1.1142332553863525\n",
      "1.0106921195983887\n",
      "1.1349701881408691\n",
      "1.0722970962524414\n",
      "1.096695899963379\n",
      "1.031930685043335\n",
      "1.0458457469940186\n",
      "1.09488844871521\n",
      "1.0694961547851562\n",
      "1.1027673482894897\n"
     ]
    },
    {
     "name": "stderr",
     "output_type": "stream",
     "text": [
      "  1%|▏         | 207/15625 [00:02<02:51, 89.94it/s] "
     ]
    },
    {
     "name": "stdout",
     "output_type": "stream",
     "text": [
      "1.0491336584091187\n",
      "1.0685499906539917\n",
      "1.0632810592651367\n",
      "1.1126229763031006\n",
      "1.0745761394500732\n",
      "1.0669105052947998\n",
      "1.0813977718353271\n",
      "1.0852689743041992\n",
      "1.1124675273895264\n",
      "1.001203179359436\n",
      "1.0683374404907227\n",
      "1.196684718132019\n",
      "1.0179821252822876\n",
      "1.0134167671203613\n",
      "1.0782419443130493\n",
      "1.0466803312301636\n",
      "1.1038166284561157\n",
      "1.0478453636169434\n"
     ]
    },
    {
     "name": "stderr",
     "output_type": "stream",
     "text": [
      "  1%|▏         | 229/15625 [00:02<02:44, 93.38it/s]"
     ]
    },
    {
     "name": "stdout",
     "output_type": "stream",
     "text": [
      "1.0522522926330566\n",
      "1.0497891902923584\n",
      "1.0700619220733643\n",
      "1.0929467678070068\n",
      "1.0727686882019043\n",
      "1.0826202630996704\n",
      "1.1091313362121582\n",
      "1.1208631992340088\n",
      "1.0801879167556763\n",
      "1.1255857944488525\n",
      "1.066678762435913\n",
      "1.0393807888031006\n",
      "1.0162279605865479\n",
      "1.038987159729004\n",
      "1.0543550252914429\n",
      "1.133120059967041\n",
      "1.048971176147461\n",
      "1.0644526481628418\n"
     ]
    },
    {
     "name": "stderr",
     "output_type": "stream",
     "text": [
      "  2%|▏         | 249/15625 [00:03<02:53, 88.87it/s]"
     ]
    },
    {
     "name": "stdout",
     "output_type": "stream",
     "text": [
      "1.1092383861541748\n",
      "1.126408576965332\n",
      "1.058034062385559\n",
      "1.1106932163238525\n",
      "1.066875696182251\n",
      "1.0068674087524414\n",
      "1.0383191108703613\n",
      "1.125126600265503\n",
      "1.0829826593399048\n",
      "1.0806037187576294\n",
      "1.0631554126739502\n",
      "1.104195237159729\n",
      "1.070340871810913\n",
      "1.0854830741882324\n",
      "1.1238274574279785\n",
      "1.058821678161621\n",
      "1.0591853857040405\n",
      "1.0840452909469604\n"
     ]
    },
    {
     "name": "stderr",
     "output_type": "stream",
     "text": [
      "  2%|▏         | 269/15625 [00:03<02:44, 93.55it/s]"
     ]
    },
    {
     "name": "stdout",
     "output_type": "stream",
     "text": [
      "1.0822012424468994\n",
      "1.0673739910125732\n",
      "1.0508229732513428\n",
      "1.0166964530944824\n",
      "1.0722204446792603\n",
      "1.1065785884857178\n",
      "1.1288056373596191\n",
      "1.0325531959533691\n",
      "1.077513337135315\n",
      "1.095499038696289\n",
      "1.0952155590057373\n",
      "1.0951437950134277\n",
      "1.0327589511871338\n",
      "1.0761635303497314\n",
      "1.096343755722046\n",
      "1.0350024700164795\n",
      "1.0931463241577148\n",
      "1.0804688930511475\n",
      "1.0642592906951904\n",
      "1.028342366218567\n"
     ]
    },
    {
     "name": "stderr",
     "output_type": "stream",
     "text": [
      "\r",
      "  2%|▏         | 279/15625 [00:03<02:41, 94.94it/s]"
     ]
    },
    {
     "name": "stdout",
     "output_type": "stream",
     "text": [
      "1.059414029121399\n",
      "1.0607913732528687\n",
      "1.0076669454574585\n",
      "1.0822008848190308\n",
      "1.0873346328735352\n",
      "1.0453448295593262\n",
      "1.0339906215667725\n",
      "1.0536127090454102\n",
      "1.0671277046203613\n",
      "1.0143842697143555\n",
      "1.0585461854934692\n",
      "1.040236473083496\n",
      "1.0895437002182007\n",
      "1.0346890687942505\n",
      "1.0551105737686157\n",
      "1.0586601495742798\n",
      "1.1319981813430786\n"
     ]
    },
    {
     "name": "stderr",
     "output_type": "stream",
     "text": [
      "  2%|▏         | 298/15625 [00:03<02:59, 85.20it/s]"
     ]
    },
    {
     "name": "stdout",
     "output_type": "stream",
     "text": [
      "1.0911279916763306\n",
      "1.100183367729187\n",
      "1.0434458255767822\n",
      "1.0010019540786743\n",
      "1.0733435153961182\n",
      "1.051698923110962\n",
      "1.1146798133850098\n",
      "1.0257859230041504\n",
      "1.0662376880645752\n",
      "1.103008508682251\n",
      "1.1382453441619873\n",
      "1.004638671875\n",
      "1.1137973070144653\n",
      "1.0791025161743164\n",
      "1.0412055253982544\n",
      "0.9922913312911987\n",
      "1.0595815181732178\n",
      "1.0178050994873047\n"
     ]
    },
    {
     "name": "stderr",
     "output_type": "stream",
     "text": [
      "  2%|▏         | 318/15625 [00:03<02:50, 89.90it/s]"
     ]
    },
    {
     "name": "stdout",
     "output_type": "stream",
     "text": [
      "1.0905988216400146\n",
      "1.0987826585769653\n",
      "1.0798711776733398\n",
      "1.0906448364257812\n",
      "1.047379493713379\n",
      "1.0911918878555298\n",
      "1.1023578643798828\n",
      "1.0858519077301025\n",
      "1.068069338798523\n",
      "1.0874601602554321\n",
      "1.129276990890503\n",
      "1.011566400527954\n",
      "1.0359822511672974\n",
      "1.0557239055633545\n",
      "1.0833702087402344\n",
      "1.0652413368225098\n",
      "1.0570106506347656\n",
      "1.0187056064605713\n",
      "1.0510355234146118\n",
      "1.1124365329742432\n"
     ]
    },
    {
     "name": "stderr",
     "output_type": "stream",
     "text": [
      "  2%|▏         | 338/15625 [00:04<02:43, 93.30it/s]"
     ]
    },
    {
     "name": "stdout",
     "output_type": "stream",
     "text": [
      "1.0620349645614624\n",
      "1.050307273864746\n",
      "1.1359513998031616\n",
      "1.0455124378204346\n",
      "1.098924160003662\n",
      "1.061242938041687\n",
      "1.097095012664795\n",
      "1.036317229270935\n",
      "1.0624828338623047\n",
      "1.0836613178253174\n",
      "1.0599055290222168\n",
      "1.033074140548706\n",
      "1.0879991054534912\n",
      "1.1308677196502686\n",
      "1.0998632907867432\n",
      "1.058007001876831\n",
      "1.1972075700759888\n",
      "1.0195441246032715\n",
      "1.0610909461975098\n",
      "1.0687463283538818\n"
     ]
    },
    {
     "name": "stderr",
     "output_type": "stream",
     "text": [
      "  2%|▏         | 359/15625 [00:04<02:39, 95.77it/s]"
     ]
    },
    {
     "name": "stdout",
     "output_type": "stream",
     "text": [
      "1.0874351263046265\n",
      "1.0666234493255615\n",
      "1.032787561416626\n",
      "1.0581045150756836\n",
      "1.0915167331695557\n",
      "1.072450876235962\n",
      "1.020601511001587\n",
      "1.0773141384124756\n",
      "1.106169581413269\n",
      "1.0731780529022217\n",
      "1.0839564800262451\n",
      "1.0617667436599731\n",
      "1.0729756355285645\n",
      "1.057780146598816\n",
      "1.1052937507629395\n",
      "1.0821242332458496\n",
      "1.0722272396087646\n",
      "1.065737009048462\n",
      "0.9941753149032593\n",
      "1.1179828643798828\n"
     ]
    },
    {
     "name": "stderr",
     "output_type": "stream",
     "text": [
      "  2%|▏         | 379/15625 [00:04<02:38, 95.98it/s]"
     ]
    },
    {
     "name": "stdout",
     "output_type": "stream",
     "text": [
      "1.0737528800964355\n",
      "1.1393465995788574\n",
      "1.0069854259490967\n",
      "1.0730373859405518\n",
      "1.0483322143554688\n",
      "1.0837111473083496\n",
      "1.0796539783477783\n",
      "1.0627487897872925\n",
      "1.0682330131530762\n",
      "1.0715973377227783\n",
      "1.1258373260498047\n",
      "1.0761518478393555\n",
      "1.1610419750213623\n",
      "1.0752925872802734\n",
      "1.0380265712738037\n",
      "1.0900318622589111\n",
      "1.0606728792190552\n",
      "1.0745528936386108\n",
      "1.0956048965454102\n",
      "1.1077828407287598\n"
     ]
    },
    {
     "name": "stderr",
     "output_type": "stream",
     "text": [
      "  3%|▎         | 399/15625 [00:04<02:39, 95.26it/s]"
     ]
    },
    {
     "name": "stdout",
     "output_type": "stream",
     "text": [
      "1.0508501529693604\n",
      "1.1068085432052612\n",
      "1.0946273803710938\n",
      "1.028635025024414\n",
      "1.0777204036712646\n",
      "1.069381594657898\n",
      "1.0168657302856445\n",
      "1.0444414615631104\n",
      "1.0673545598983765\n",
      "1.0842914581298828\n",
      "1.0519773960113525\n",
      "1.067798376083374\n",
      "1.0821797847747803\n",
      "1.055753231048584\n",
      "1.0834102630615234\n",
      "1.0092369318008423\n",
      "1.0562090873718262\n",
      "1.0774078369140625\n",
      "1.0386030673980713\n"
     ]
    },
    {
     "name": "stderr",
     "output_type": "stream",
     "text": [
      "  3%|▎         | 419/15625 [00:04<02:38, 96.21it/s]"
     ]
    },
    {
     "name": "stdout",
     "output_type": "stream",
     "text": [
      "1.0840458869934082\n",
      "1.0762985944747925\n",
      "1.1088767051696777\n",
      "1.0753999948501587\n",
      "1.139892339706421\n",
      "1.0266783237457275\n",
      "1.1158421039581299\n",
      "1.084953784942627\n",
      "1.085242748260498\n",
      "1.0241940021514893\n",
      "1.0653589963912964\n",
      "1.0654056072235107\n",
      "1.0334479808807373\n",
      "1.1083210706710815\n",
      "1.1064342260360718\n",
      "1.081344723701477\n",
      "1.0535982847213745\n",
      "1.0117384195327759\n",
      "1.058902382850647\n",
      "1.0532617568969727\n"
     ]
    },
    {
     "name": "stderr",
     "output_type": "stream",
     "text": [
      "  3%|▎         | 439/15625 [00:05<02:36, 97.25it/s]"
     ]
    },
    {
     "name": "stdout",
     "output_type": "stream",
     "text": [
      "1.0616130828857422\n",
      "1.0940371751785278\n",
      "1.0822618007659912\n",
      "1.0531630516052246\n",
      "1.0960605144500732\n",
      "1.0903030633926392\n",
      "1.0915600061416626\n",
      "1.0585123300552368\n",
      "1.100306510925293\n",
      "1.1056808233261108\n",
      "1.1049922704696655\n",
      "1.0565255880355835\n",
      "1.045989990234375\n",
      "1.090477705001831\n",
      "1.030646562576294\n",
      "1.118201494216919\n",
      "1.0631952285766602\n",
      "1.1701606512069702\n",
      "1.1032087802886963\n",
      "0.9380984902381897\n"
     ]
    },
    {
     "name": "stderr",
     "output_type": "stream",
     "text": [
      "  3%|▎         | 459/15625 [00:05<02:35, 97.47it/s]"
     ]
    },
    {
     "name": "stdout",
     "output_type": "stream",
     "text": [
      "1.0345484018325806\n",
      "1.049821376800537\n",
      "1.1364518404006958\n",
      "1.071414589881897\n",
      "1.0573821067810059\n",
      "1.0091564655303955\n",
      "1.0418553352355957\n",
      "1.0338454246520996\n",
      "1.0446479320526123\n",
      "1.0313444137573242\n",
      "1.1051664352416992\n",
      "1.0657434463500977\n",
      "1.0641310214996338\n",
      "1.1052169799804688\n",
      "1.0995051860809326\n",
      "1.0729296207427979\n",
      "1.086092233657837\n",
      "1.0615153312683105\n",
      "1.0800055265426636\n",
      "1.0539031028747559\n",
      "1.1274453401565552\n"
     ]
    },
    {
     "name": "stderr",
     "output_type": "stream",
     "text": [
      "  3%|▎         | 479/15625 [00:05<02:34, 98.04it/s]"
     ]
    },
    {
     "name": "stdout",
     "output_type": "stream",
     "text": [
      "1.0646238327026367\n",
      "1.0330514907836914\n",
      "1.0621681213378906\n",
      "1.0626776218414307\n",
      "1.0705511569976807\n",
      "1.0304908752441406\n",
      "1.0254662036895752\n",
      "1.096083402633667\n",
      "1.0683379173278809\n",
      "1.1375973224639893\n",
      "1.044832468032837\n",
      "1.0972158908843994\n",
      "1.1238486766815186\n",
      "1.1354327201843262\n",
      "1.082383394241333\n",
      "1.0869815349578857\n",
      "1.0215377807617188\n",
      "1.0642515420913696\n",
      "1.0767884254455566\n",
      "1.0091552734375\n"
     ]
    },
    {
     "name": "stderr",
     "output_type": "stream",
     "text": [
      "  3%|▎         | 500/15625 [00:05<02:33, 98.83it/s]"
     ]
    },
    {
     "name": "stdout",
     "output_type": "stream",
     "text": [
      "1.0606772899627686\n",
      "1.0660830736160278\n",
      "1.0639722347259521\n",
      "1.065430998802185\n",
      "1.0331745147705078\n",
      "1.0849827527999878\n",
      "1.0060272216796875\n",
      "1.0472124814987183\n",
      "1.1086292266845703\n",
      "1.0866533517837524\n",
      "1.0441381931304932\n",
      "1.0540177822113037\n",
      "0.99696946144104\n",
      "1.1284470558166504\n",
      "1.0733071565628052\n",
      "1.0208029747009277\n",
      "1.0665507316589355\n",
      "1.0636186599731445\n",
      "1.0869649648666382\n",
      "1.1083941459655762\n",
      "1.1007660627365112\n"
     ]
    },
    {
     "name": "stderr",
     "output_type": "stream",
     "text": [
      "  3%|▎         | 521/15625 [00:05<02:31, 99.53it/s]"
     ]
    },
    {
     "name": "stdout",
     "output_type": "stream",
     "text": [
      "1.0952401161193848\n",
      "1.065009355545044\n",
      "1.078395128250122\n",
      "1.0525081157684326\n",
      "1.028074026107788\n",
      "1.088020920753479\n",
      "1.0483832359313965\n",
      "1.111943006515503\n",
      "1.0258419513702393\n",
      "1.0046632289886475\n",
      "1.1143485307693481\n",
      "1.084425449371338\n",
      "1.0552525520324707\n",
      "1.0770249366760254\n",
      "1.05295991897583\n",
      "1.0940420627593994\n",
      "1.0513229370117188\n",
      "1.0842567682266235\n",
      "1.1047426462173462\n",
      "1.1039254665374756\n"
     ]
    },
    {
     "name": "stderr",
     "output_type": "stream",
     "text": [
      "  3%|▎         | 541/15625 [00:06<02:33, 98.52it/s]"
     ]
    },
    {
     "name": "stdout",
     "output_type": "stream",
     "text": [
      "1.052472710609436\n",
      "1.0794811248779297\n",
      "1.0475077629089355\n",
      "1.0929697751998901\n",
      "1.0784060955047607\n",
      "1.0448836088180542\n",
      "1.068560004234314\n",
      "1.020994782447815\n",
      "1.092909336090088\n",
      "1.1063101291656494\n",
      "1.066145896911621\n",
      "1.0863230228424072\n",
      "1.0523924827575684\n",
      "1.0747981071472168\n",
      "1.0975112915039062\n",
      "1.0819995403289795\n",
      "1.0496670007705688\n",
      "1.0330743789672852\n",
      "1.073989748954773\n",
      "1.0536105632781982\n"
     ]
    },
    {
     "name": "stderr",
     "output_type": "stream",
     "text": [
      "  4%|▎         | 562/15625 [00:06<02:32, 98.54it/s]"
     ]
    },
    {
     "name": "stdout",
     "output_type": "stream",
     "text": [
      "1.0999513864517212\n",
      "1.090669870376587\n",
      "1.0838994979858398\n",
      "1.048642635345459\n",
      "1.0535883903503418\n",
      "1.0520973205566406\n",
      "1.0479596853256226\n",
      "1.0572396516799927\n",
      "1.049704670906067\n",
      "1.1539493799209595\n",
      "1.0662009716033936\n",
      "1.0673487186431885\n",
      "1.052764654159546\n",
      "1.0748772621154785\n",
      "1.0563158988952637\n",
      "1.0583138465881348\n",
      "1.048953890800476\n",
      "1.0838775634765625\n",
      "1.0521888732910156\n",
      "1.0756977796554565\n",
      "1.1406400203704834\n"
     ]
    },
    {
     "name": "stderr",
     "output_type": "stream",
     "text": [
      "  4%|▎         | 582/15625 [00:06<02:32, 98.52it/s]"
     ]
    },
    {
     "name": "stdout",
     "output_type": "stream",
     "text": [
      "1.0682536363601685\n",
      "1.0631976127624512\n",
      "1.0409008264541626\n",
      "1.0261521339416504\n",
      "1.0752878189086914\n",
      "1.1771814823150635\n",
      "1.0510648488998413\n",
      "1.0778579711914062\n",
      "1.0483582019805908\n",
      "1.0432965755462646\n",
      "1.0350703001022339\n",
      "1.049109697341919\n",
      "0.9991215467453003\n",
      "1.0392308235168457\n",
      "1.055332064628601\n",
      "1.0523173809051514\n",
      "1.0683701038360596\n",
      "1.1018524169921875\n",
      "1.0830023288726807\n",
      "0.9951224327087402\n"
     ]
    },
    {
     "name": "stderr",
     "output_type": "stream",
     "text": [
      "  4%|▍         | 602/15625 [00:06<02:33, 97.77it/s]"
     ]
    },
    {
     "name": "stdout",
     "output_type": "stream",
     "text": [
      "1.0262809991836548\n",
      "1.08017897605896\n",
      "1.0487923622131348\n",
      "1.0467109680175781\n",
      "1.0020240545272827\n",
      "1.0700962543487549\n",
      "1.1077512502670288\n",
      "1.0900235176086426\n",
      "1.0368006229400635\n",
      "1.0942955017089844\n",
      "1.0059256553649902\n",
      "1.100574016571045\n",
      "1.038944959640503\n",
      "1.0487953424453735\n",
      "1.0255380868911743\n",
      "1.067387342453003\n",
      "1.020231008529663\n",
      "1.0843894481658936\n",
      "1.0618919134140015\n",
      "1.0745923519134521\n"
     ]
    },
    {
     "name": "stderr",
     "output_type": "stream",
     "text": [
      "  4%|▍         | 623/15625 [00:06<02:32, 98.18it/s]"
     ]
    },
    {
     "name": "stdout",
     "output_type": "stream",
     "text": [
      "1.0571906566619873\n",
      "1.0492267608642578\n",
      "1.1195464134216309\n",
      "1.0748989582061768\n",
      "1.0761909484863281\n",
      "1.0563039779663086\n",
      "1.0262422561645508\n",
      "1.1396595239639282\n",
      "1.052161693572998\n",
      "1.1360445022583008\n",
      "1.020308256149292\n",
      "1.0824509859085083\n",
      "1.0429311990737915\n",
      "1.0819777250289917\n",
      "1.0688599348068237\n",
      "1.0300822257995605\n",
      "1.0281562805175781\n",
      "1.0262633562088013\n",
      "1.136988639831543\n",
      "1.0343129634857178\n"
     ]
    },
    {
     "name": "stderr",
     "output_type": "stream",
     "text": [
      "  4%|▍         | 644/15625 [00:07<02:30, 99.23it/s]"
     ]
    },
    {
     "name": "stdout",
     "output_type": "stream",
     "text": [
      "1.0037312507629395\n",
      "1.0563853979110718\n",
      "1.0383553504943848\n",
      "1.1493754386901855\n",
      "1.0325571298599243\n",
      "1.0430350303649902\n",
      "1.032935380935669\n",
      "1.0268837213516235\n",
      "1.107722520828247\n",
      "1.0745569467544556\n",
      "1.1055552959442139\n",
      "1.01106595993042\n",
      "1.0344061851501465\n",
      "1.0067946910858154\n",
      "1.0519719123840332\n",
      "1.0475800037384033\n",
      "1.0609657764434814\n",
      "1.0991932153701782\n",
      "1.1260262727737427\n",
      "1.0408008098602295\n",
      "1.112497091293335\n"
     ]
    },
    {
     "name": "stderr",
     "output_type": "stream",
     "text": [
      "  4%|▍         | 666/15625 [00:07<02:30, 99.62it/s] "
     ]
    },
    {
     "name": "stdout",
     "output_type": "stream",
     "text": [
      "1.0085914134979248\n",
      "1.0860822200775146\n",
      "1.0461260080337524\n",
      "1.0569045543670654\n",
      "1.091292142868042\n",
      "1.0355544090270996\n",
      "1.076810598373413\n",
      "1.073996663093567\n",
      "1.0412029027938843\n",
      "1.0714831352233887\n",
      "1.068533182144165\n",
      "1.0821934938430786\n",
      "1.0417494773864746\n",
      "1.0297560691833496\n",
      "1.0618282556533813\n",
      "1.0359885692596436\n",
      "1.0263211727142334\n",
      "1.0732852220535278\n",
      "1.068070888519287\n",
      "1.0674262046813965\n",
      "1.0739678144454956\n"
     ]
    },
    {
     "name": "stderr",
     "output_type": "stream",
     "text": [
      "  4%|▍         | 686/15625 [00:07<02:31, 98.45it/s]"
     ]
    },
    {
     "name": "stdout",
     "output_type": "stream",
     "text": [
      "1.0696223974227905\n",
      "1.0563082695007324\n",
      "1.0304477214813232\n",
      "1.0291416645050049\n",
      "1.0588181018829346\n",
      "1.0786387920379639\n",
      "1.039865255355835\n",
      "0.9969764947891235\n",
      "0.9867491722106934\n",
      "1.0578045845031738\n",
      "1.0202516317367554\n",
      "1.0153157711029053\n",
      "1.080909013748169\n",
      "1.0959992408752441\n",
      "1.1272019147872925\n",
      "1.0325121879577637\n",
      "1.0353941917419434\n",
      "1.0597503185272217\n",
      "1.0864988565444946\n",
      "0.9915525317192078\n"
     ]
    },
    {
     "name": "stderr",
     "output_type": "stream",
     "text": [
      "  5%|▍         | 707/15625 [00:07<02:30, 98.84it/s]"
     ]
    },
    {
     "name": "stdout",
     "output_type": "stream",
     "text": [
      "1.0560780763626099\n",
      "1.059554934501648\n",
      "1.0108455419540405\n",
      "1.057021975517273\n",
      "1.0277036428451538\n",
      "1.0494248867034912\n",
      "1.1220695972442627\n",
      "1.117154598236084\n",
      "1.1275575160980225\n",
      "1.062566876411438\n",
      "1.1092114448547363\n",
      "1.0177361965179443\n",
      "1.0831913948059082\n",
      "1.0222512483596802\n",
      "1.0688947439193726\n",
      "1.120314598083496\n",
      "1.0379664897918701\n",
      "1.0900113582611084\n",
      "1.136969804763794\n",
      "1.0322861671447754\n",
      "1.019103765487671\n"
     ]
    },
    {
     "name": "stderr",
     "output_type": "stream",
     "text": [
      "  5%|▍         | 728/15625 [00:08<02:33, 97.22it/s]"
     ]
    },
    {
     "name": "stdout",
     "output_type": "stream",
     "text": [
      "1.1244145631790161\n",
      "1.1192796230316162\n",
      "1.0772624015808105\n",
      "1.0714752674102783\n",
      "1.049521803855896\n",
      "1.084808349609375\n",
      "1.050676941871643\n",
      "1.0766425132751465\n",
      "1.0502632856369019\n",
      "1.1080962419509888\n",
      "1.0990946292877197\n",
      "1.069378137588501\n",
      "1.0523477792739868\n",
      "1.0554097890853882\n",
      "1.112847089767456\n",
      "1.0525383949279785\n",
      "1.0736594200134277\n",
      "1.027898907661438\n",
      "1.096312403678894\n",
      "1.0335841178894043\n"
     ]
    },
    {
     "name": "stderr",
     "output_type": "stream",
     "text": [
      "  5%|▍         | 748/15625 [00:08<02:31, 98.06it/s]"
     ]
    },
    {
     "name": "stdout",
     "output_type": "stream",
     "text": [
      "1.1220011711120605\n",
      "1.0629117488861084\n",
      "1.0412845611572266\n",
      "1.0229110717773438\n",
      "1.0937693119049072\n",
      "1.061201572418213\n",
      "1.0477328300476074\n",
      "1.0357753038406372\n",
      "1.0891706943511963\n",
      "0.9950918555259705\n",
      "1.0492792129516602\n",
      "1.0881297588348389\n",
      "1.105300784111023\n",
      "1.0646252632141113\n",
      "1.0848708152770996\n",
      "1.037349820137024\n",
      "1.0633631944656372\n",
      "1.0271393060684204\n",
      "1.0510481595993042\n",
      "1.0982255935668945\n",
      "1.0615520477294922\n"
     ]
    },
    {
     "name": "stderr",
     "output_type": "stream",
     "text": [
      "  5%|▍         | 768/15625 [00:08<02:30, 98.79it/s]"
     ]
    },
    {
     "name": "stdout",
     "output_type": "stream",
     "text": [
      "1.0852106809616089\n",
      "1.0380926132202148\n",
      "1.101189136505127\n",
      "1.001651644706726\n",
      "1.1021339893341064\n",
      "0.9989066123962402\n",
      "1.0698704719543457\n",
      "1.059680700302124\n",
      "1.0528103113174438\n",
      "1.1038368940353394\n",
      "1.0898102521896362\n",
      "1.0407724380493164\n",
      "1.0424585342407227\n",
      "1.0428659915924072\n",
      "1.0566492080688477\n",
      "1.0029640197753906\n",
      "1.0289313793182373\n",
      "1.1011316776275635\n",
      "1.0331032276153564\n",
      "1.0452699661254883\n"
     ]
    },
    {
     "name": "stderr",
     "output_type": "stream",
     "text": [
      "  5%|▌         | 788/15625 [00:08<02:29, 99.04it/s]"
     ]
    },
    {
     "name": "stdout",
     "output_type": "stream",
     "text": [
      "1.1073392629623413\n",
      "1.0647249221801758\n",
      "1.0420100688934326\n",
      "1.062192440032959\n",
      "1.099787712097168\n",
      "1.0692288875579834\n",
      "1.0967414379119873\n",
      "1.0045690536499023\n",
      "1.0018374919891357\n",
      "1.018940806388855\n",
      "1.0610682964324951\n",
      "1.0304226875305176\n",
      "1.059253454208374\n",
      "1.0619404315948486\n",
      "1.0682384967803955\n",
      "1.1084061861038208\n",
      "1.024870753288269\n",
      "1.0260205268859863\n",
      "1.100783348083496\n",
      "1.0434430837631226\n",
      "1.0638222694396973\n"
     ]
    },
    {
     "name": "stderr",
     "output_type": "stream",
     "text": [
      "  5%|▌         | 808/15625 [00:08<02:31, 97.74it/s]"
     ]
    },
    {
     "name": "stdout",
     "output_type": "stream",
     "text": [
      "1.1311454772949219\n",
      "1.0310165882110596\n",
      "1.0781853199005127\n",
      "1.0724024772644043\n",
      "1.0809987783432007\n",
      "1.0665571689605713\n",
      "1.0576975345611572\n",
      "1.0454102754592896\n",
      "1.064720869064331\n",
      "1.0715031623840332\n",
      "1.1566749811172485\n",
      "1.0846338272094727\n",
      "1.0373940467834473\n",
      "1.0738022327423096\n",
      "1.0106937885284424\n",
      "1.1005336046218872\n",
      "1.0337677001953125\n",
      "1.091923713684082\n",
      "1.106909990310669\n",
      "1.0809829235076904\n"
     ]
    },
    {
     "name": "stderr",
     "output_type": "stream",
     "text": [
      "  5%|▌         | 828/15625 [00:09<02:30, 98.11it/s]"
     ]
    },
    {
     "name": "stdout",
     "output_type": "stream",
     "text": [
      "1.0480767488479614\n",
      "1.0585649013519287\n",
      "1.0703953504562378\n",
      "1.0581117868423462\n",
      "1.1111730337142944\n",
      "1.0551000833511353\n",
      "1.0961140394210815\n",
      "1.0556076765060425\n",
      "1.1372730731964111\n",
      "1.095078945159912\n",
      "1.0199514627456665\n",
      "1.0344321727752686\n",
      "1.084364652633667\n",
      "1.093711495399475\n",
      "1.0402958393096924\n",
      "1.0676071643829346\n",
      "1.0573339462280273\n",
      "1.1137068271636963\n",
      "1.0956389904022217\n",
      "1.025355339050293\n"
     ]
    },
    {
     "name": "stderr",
     "output_type": "stream",
     "text": [
      "  5%|▌         | 848/15625 [00:09<02:31, 97.69it/s]"
     ]
    },
    {
     "name": "stdout",
     "output_type": "stream",
     "text": [
      "1.0748916864395142\n",
      "1.0884796380996704\n",
      "1.0830340385437012\n",
      "1.0914801359176636\n",
      "1.1021769046783447\n",
      "1.1153639554977417\n",
      "1.0782577991485596\n",
      "1.0310708284378052\n",
      "1.0000118017196655\n",
      "1.0416326522827148\n",
      "1.0728614330291748\n",
      "1.0870873928070068\n",
      "1.0256034135818481\n",
      "0.9843425750732422\n",
      "1.0589885711669922\n",
      "1.0265889167785645\n",
      "1.0788207054138184\n",
      "1.0651330947875977\n",
      "1.089896321296692\n",
      "1.0970866680145264\n"
     ]
    },
    {
     "name": "stderr",
     "output_type": "stream",
     "text": [
      "  6%|▌         | 868/15625 [00:09<02:30, 97.73it/s]"
     ]
    },
    {
     "name": "stdout",
     "output_type": "stream",
     "text": [
      "1.0723063945770264\n",
      "1.072717308998108\n",
      "1.05552077293396\n",
      "1.0253822803497314\n",
      "1.0563312768936157\n",
      "1.0579285621643066\n",
      "0.9736303687095642\n",
      "1.061198353767395\n",
      "1.0070335865020752\n",
      "1.019049882888794\n",
      "1.0944762229919434\n",
      "1.0708650350570679\n",
      "1.0574538707733154\n",
      "1.0418535470962524\n",
      "0.9903548955917358\n",
      "1.069610834121704\n",
      "1.0256712436676025\n",
      "1.0772173404693604\n",
      "1.0348047018051147\n",
      "1.05997633934021\n"
     ]
    },
    {
     "name": "stderr",
     "output_type": "stream",
     "text": [
      "  6%|▌         | 888/15625 [00:09<02:30, 97.99it/s]"
     ]
    },
    {
     "name": "stdout",
     "output_type": "stream",
     "text": [
      "1.0071933269500732\n",
      "1.0522127151489258\n",
      "0.9663875699043274\n",
      "1.0770859718322754\n",
      "1.0291748046875\n",
      "1.0162416696548462\n",
      "1.0404529571533203\n",
      "1.0309135913848877\n",
      "1.063652515411377\n",
      "1.0607640743255615\n",
      "1.111786961555481\n",
      "1.1290018558502197\n",
      "1.017126441001892\n",
      "1.0665594339370728\n",
      "0.996204137802124\n",
      "1.0163018703460693\n",
      "1.0515755414962769\n",
      "1.0848877429962158\n",
      "1.0705490112304688\n",
      "1.055708408355713\n"
     ]
    },
    {
     "name": "stderr",
     "output_type": "stream",
     "text": [
      "  6%|▌         | 909/15625 [00:09<02:28, 98.83it/s]"
     ]
    },
    {
     "name": "stdout",
     "output_type": "stream",
     "text": [
      "0.9919351935386658\n",
      "1.0527143478393555\n",
      "1.0345244407653809\n",
      "1.122413992881775\n",
      "1.002732753753662\n",
      "1.0431492328643799\n",
      "0.9996846914291382\n",
      "1.061995267868042\n",
      "1.0939528942108154\n",
      "1.0840511322021484\n",
      "1.0269975662231445\n",
      "1.061337947845459\n",
      "0.9968891143798828\n",
      "1.033766746520996\n",
      "1.039665937423706\n",
      "1.094285011291504\n",
      "1.0777829885482788\n",
      "1.0985347032546997\n",
      "1.0170762538909912\n",
      "1.028785228729248\n",
      "1.0194311141967773\n"
     ]
    },
    {
     "name": "stderr",
     "output_type": "stream",
     "text": [
      "  6%|▌         | 930/15625 [00:10<02:27, 99.53it/s]"
     ]
    },
    {
     "name": "stdout",
     "output_type": "stream",
     "text": [
      "1.0786335468292236\n",
      "1.0508794784545898\n",
      "1.0813554525375366\n",
      "1.1291239261627197\n",
      "1.0840184688568115\n",
      "1.0726464986801147\n",
      "1.066638708114624\n",
      "1.09355628490448\n",
      "1.0650790929794312\n",
      "1.089388370513916\n",
      "1.0266284942626953\n",
      "1.0109132528305054\n",
      "1.127327799797058\n",
      "1.0981130599975586\n",
      "1.1315319538116455\n",
      "1.0553337335586548\n",
      "1.0911986827850342\n",
      "1.0531567335128784\n",
      "1.0462448596954346\n",
      "0.9887523055076599\n",
      "1.056178092956543\n"
     ]
    },
    {
     "name": "stderr",
     "output_type": "stream",
     "text": [
      "  6%|▌         | 950/15625 [00:10<02:28, 98.76it/s]"
     ]
    },
    {
     "name": "stdout",
     "output_type": "stream",
     "text": [
      "1.0638089179992676\n",
      "1.0663601160049438\n",
      "1.053940773010254\n",
      "1.0749154090881348\n",
      "1.0751869678497314\n",
      "1.0755584239959717\n",
      "1.0495703220367432\n",
      "1.0361170768737793\n",
      "1.0156463384628296\n",
      "1.061361312866211\n",
      "1.0713307857513428\n",
      "1.0568830966949463\n",
      "1.0557539463043213\n",
      "1.027296781539917\n",
      "1.0276108980178833\n",
      "1.0714970827102661\n",
      "1.0728174448013306\n",
      "1.0411744117736816\n",
      "1.0181361436843872\n",
      "1.0557630062103271\n"
     ]
    },
    {
     "name": "stderr",
     "output_type": "stream",
     "text": [
      "  6%|▌         | 970/15625 [00:10<02:28, 98.82it/s]"
     ]
    },
    {
     "name": "stdout",
     "output_type": "stream",
     "text": [
      "1.0894103050231934\n",
      "1.0728005170822144\n",
      "1.048902988433838\n",
      "1.0498411655426025\n",
      "1.0683050155639648\n",
      "1.0459550619125366\n",
      "1.0567936897277832\n",
      "1.037097692489624\n",
      "1.0394887924194336\n",
      "1.0411653518676758\n",
      "1.029488444328308\n",
      "1.098258137702942\n",
      "1.0540589094161987\n",
      "1.0514755249023438\n",
      "1.0256117582321167\n",
      "1.0581142902374268\n",
      "1.0475631952285767\n",
      "1.0467288494110107\n",
      "1.0410575866699219\n",
      "1.0411429405212402\n"
     ]
    },
    {
     "name": "stderr",
     "output_type": "stream",
     "text": [
      "  6%|▋         | 990/15625 [00:10<02:27, 99.10it/s]"
     ]
    },
    {
     "name": "stdout",
     "output_type": "stream",
     "text": [
      "1.0758066177368164\n",
      "1.036760687828064\n",
      "1.0070264339447021\n",
      "1.0877889394760132\n",
      "1.0229088068008423\n",
      "1.0701711177825928\n",
      "1.068983793258667\n",
      "1.066634178161621\n",
      "1.0226085186004639\n",
      "1.048035740852356\n",
      "1.0495234727859497\n",
      "1.084514856338501\n",
      "1.0698907375335693\n",
      "1.067688226699829\n",
      "1.105884075164795\n",
      "1.1608012914657593\n",
      "1.0388445854187012\n",
      "1.038211464881897\n",
      "1.0274057388305664\n",
      "1.0551791191101074\n"
     ]
    },
    {
     "name": "stderr",
     "output_type": "stream",
     "text": [
      "  6%|▋         | 1010/15625 [00:10<02:30, 96.89it/s]"
     ]
    },
    {
     "name": "stdout",
     "output_type": "stream",
     "text": [
      "1.0495582818984985\n",
      "1.0520858764648438\n",
      "1.052355170249939\n",
      "1.086287021636963\n",
      "1.085132360458374\n",
      "1.0617049932479858\n",
      "1.0542126893997192\n",
      "1.1084471940994263\n",
      "1.0454260110855103\n",
      "1.0618164539337158\n",
      "1.0453617572784424\n",
      "1.0931578874588013\n",
      "1.0326582193374634\n",
      "1.0513837337493896\n",
      "1.0388586521148682\n",
      "0.9728325605392456\n",
      "1.0454542636871338\n",
      "1.0820622444152832\n",
      "1.0717816352844238\n",
      "1.0594147443771362\n"
     ]
    },
    {
     "name": "stderr",
     "output_type": "stream",
     "text": [
      "  7%|▋         | 1031/15625 [00:11<02:28, 98.32it/s]"
     ]
    },
    {
     "name": "stdout",
     "output_type": "stream",
     "text": [
      "1.0711435079574585\n",
      "1.0254217386245728\n",
      "1.1313438415527344\n",
      "1.0568674802780151\n",
      "1.0720304250717163\n",
      "1.098691701889038\n",
      "1.0690903663635254\n",
      "1.0106706619262695\n",
      "1.1466904878616333\n",
      "1.0568698644638062\n",
      "1.0452264547348022\n",
      "1.1331419944763184\n",
      "0.9781642556190491\n",
      "1.1500132083892822\n",
      "1.0891096591949463\n",
      "1.0280648469924927\n",
      "1.0716350078582764\n",
      "1.0168941020965576\n",
      "1.1138583421707153\n",
      "1.0262216329574585\n",
      "1.1462764739990234\n"
     ]
    },
    {
     "name": "stderr",
     "output_type": "stream",
     "text": [
      "  7%|▋         | 1051/15625 [00:11<02:27, 98.90it/s]"
     ]
    },
    {
     "name": "stdout",
     "output_type": "stream",
     "text": [
      "1.0464377403259277\n",
      "1.0516743659973145\n",
      "1.1094011068344116\n",
      "1.1014225482940674\n",
      "1.059159517288208\n",
      "1.0695899724960327\n",
      "1.0796669721603394\n",
      "1.038248896598816\n",
      "1.0896871089935303\n",
      "1.0500298738479614\n",
      "1.0308778285980225\n",
      "1.0227546691894531\n",
      "0.9809379577636719\n",
      "1.0405266284942627\n",
      "1.1244053840637207\n",
      "1.078012228012085\n",
      "1.0739554166793823\n",
      "1.0264949798583984\n",
      "1.0636813640594482\n",
      "1.061138391494751\n",
      "1.1029438972473145\n"
     ]
    },
    {
     "name": "stderr",
     "output_type": "stream",
     "text": [
      "  7%|▋         | 1071/15625 [00:11<02:28, 97.75it/s]"
     ]
    },
    {
     "name": "stdout",
     "output_type": "stream",
     "text": [
      "1.0739809274673462\n",
      "1.0453710556030273\n",
      "1.0358672142028809\n",
      "1.0675702095031738\n",
      "1.1179542541503906\n",
      "1.049559473991394\n",
      "1.0714846849441528\n",
      "1.0665018558502197\n",
      "1.1273995637893677\n",
      "1.0742011070251465\n",
      "1.1210072040557861\n",
      "1.126554012298584\n",
      "1.0358264446258545\n",
      "1.0574707984924316\n",
      "1.0675609111785889\n",
      "1.0228097438812256\n",
      "1.060379147529602\n",
      "1.0424113273620605\n",
      "1.1089842319488525\n",
      "1.0720027685165405\n"
     ]
    },
    {
     "name": "stderr",
     "output_type": "stream",
     "text": [
      "  7%|▋         | 1091/15625 [00:11<02:27, 98.68it/s]"
     ]
    },
    {
     "name": "stdout",
     "output_type": "stream",
     "text": [
      "1.0981180667877197\n",
      "1.038597822189331\n",
      "1.0182331800460815\n",
      "1.0487608909606934\n",
      "1.084406852722168\n",
      "1.116415023803711\n",
      "1.0557513236999512\n",
      "1.0231224298477173\n",
      "1.0190682411193848\n",
      "1.1448819637298584\n",
      "1.053049087524414\n",
      "1.036354422569275\n",
      "1.04853093624115\n",
      "1.0867576599121094\n",
      "1.1103436946868896\n",
      "1.094374418258667\n",
      "1.0823442935943604\n",
      "1.1485488414764404\n",
      "1.0392286777496338\n",
      "1.0320292711257935\n",
      "1.0853495597839355\n"
     ]
    },
    {
     "name": "stderr",
     "output_type": "stream",
     "text": [
      "  7%|▋         | 1112/15625 [00:11<02:27, 98.31it/s]"
     ]
    },
    {
     "name": "stdout",
     "output_type": "stream",
     "text": [
      "1.0343327522277832\n",
      "1.0557721853256226\n",
      "1.045529842376709\n",
      "1.0150859355926514\n",
      "1.1064579486846924\n",
      "1.0656192302703857\n",
      "1.0330119132995605\n",
      "1.1173276901245117\n",
      "1.0625123977661133\n",
      "1.0673131942749023\n",
      "0.9812581539154053\n",
      "1.003279209136963\n",
      "1.0681825876235962\n",
      "1.0321112871170044\n",
      "1.0575348138809204\n",
      "1.0904433727264404\n",
      "1.0618895292282104\n",
      "1.0368882417678833\n",
      "1.0627381801605225\n",
      "1.0363253355026245\n"
     ]
    },
    {
     "name": "stderr",
     "output_type": "stream",
     "text": [
      "  7%|▋         | 1132/15625 [00:12<02:29, 96.74it/s]"
     ]
    },
    {
     "name": "stdout",
     "output_type": "stream",
     "text": [
      "1.0568335056304932\n",
      "1.0619003772735596\n",
      "1.1052894592285156\n",
      "1.0530288219451904\n",
      "1.0369765758514404\n",
      "1.0338191986083984\n",
      "1.069106101989746\n",
      "0.9539556503295898\n",
      "1.0837619304656982\n",
      "1.1102709770202637\n",
      "1.0413532257080078\n",
      "1.047397494316101\n",
      "1.0433292388916016\n",
      "1.078484296798706\n",
      "1.080486536026001\n",
      "1.0224599838256836\n",
      "1.101242184638977\n",
      "1.048110008239746\n",
      "1.097097635269165\n",
      "1.0539911985397339\n"
     ]
    },
    {
     "name": "stderr",
     "output_type": "stream",
     "text": [
      "  7%|▋         | 1152/15625 [00:12<02:27, 97.81it/s]"
     ]
    },
    {
     "name": "stdout",
     "output_type": "stream",
     "text": [
      "1.074026107788086\n",
      "1.085329532623291\n",
      "1.0736877918243408\n",
      "1.094257116317749\n",
      "1.0242657661437988\n",
      "1.053794264793396\n",
      "1.0066437721252441\n",
      "1.0600286722183228\n",
      "1.0799400806427002\n",
      "1.1053640842437744\n",
      "1.1052601337432861\n",
      "1.071215271949768\n",
      "0.9970746636390686\n",
      "1.1011595726013184\n",
      "1.1180819272994995\n",
      "1.0633389949798584\n",
      "1.0520703792572021\n",
      "1.0953460931777954\n",
      "1.045547604560852\n",
      "1.0679802894592285\n"
     ]
    },
    {
     "name": "stderr",
     "output_type": "stream",
     "text": [
      "  8%|▊         | 1172/15625 [00:12<02:27, 97.78it/s]"
     ]
    },
    {
     "name": "stdout",
     "output_type": "stream",
     "text": [
      "1.0471625328063965\n",
      "1.04050612449646\n",
      "1.0638662576675415\n",
      "0.9797024726867676\n",
      "1.0697081089019775\n",
      "1.0475845336914062\n",
      "1.1058461666107178\n",
      "1.041916847229004\n",
      "1.0833923816680908\n",
      "1.0404139757156372\n",
      "1.1064348220825195\n",
      "1.0927629470825195\n",
      "1.1114915609359741\n",
      "1.0446736812591553\n",
      "1.0149173736572266\n",
      "1.069495439529419\n",
      "1.0420647859573364\n",
      "1.074638843536377\n",
      "1.0913716554641724\n",
      "1.0058724880218506\n"
     ]
    },
    {
     "name": "stderr",
     "output_type": "stream",
     "text": [
      "  8%|▊         | 1193/15625 [00:12<02:37, 91.57it/s]"
     ]
    },
    {
     "name": "stdout",
     "output_type": "stream",
     "text": [
      "1.0917731523513794\n",
      "1.1044843196868896\n",
      "1.06979501247406\n",
      "1.0889739990234375\n",
      "1.0407180786132812\n",
      "1.1013875007629395\n",
      "1.0870074033737183\n",
      "1.017939567565918\n",
      "1.033116102218628\n",
      "1.0939959287643433\n",
      "1.049983263015747\n",
      "1.0359190702438354\n",
      "1.0601799488067627\n",
      "1.0006768703460693\n",
      "1.0944360494613647\n",
      "1.0462478399276733\n",
      "1.0011100769042969\n"
     ]
    },
    {
     "name": "stderr",
     "output_type": "stream",
     "text": [
      "  8%|▊         | 1214/15625 [00:12<02:33, 94.03it/s]"
     ]
    },
    {
     "name": "stdout",
     "output_type": "stream",
     "text": [
      "1.051161289215088\n",
      "1.0045039653778076\n",
      "1.1059385538101196\n",
      "1.0033951997756958\n",
      "1.0775004625320435\n",
      "1.028896689414978\n",
      "1.0999757051467896\n",
      "1.096426010131836\n",
      "1.0894451141357422\n",
      "1.113548755645752\n",
      "1.1023746728897095\n",
      "1.0703611373901367\n",
      "1.0632537603378296\n",
      "1.0277082920074463\n",
      "1.0728141069412231\n",
      "1.0470771789550781\n",
      "1.0823216438293457\n",
      "1.0630000829696655\n",
      "1.0789753198623657\n",
      "1.0226643085479736\n"
     ]
    },
    {
     "name": "stderr",
     "output_type": "stream",
     "text": [
      "\r",
      "  8%|▊         | 1224/15625 [00:13<02:31, 95.06it/s]"
     ]
    },
    {
     "name": "stdout",
     "output_type": "stream",
     "text": [
      "1.0471878051757812\n",
      "1.0732476711273193\n",
      "1.0782825946807861\n",
      "1.0341109037399292\n",
      "1.0113210678100586\n",
      "1.036815881729126\n",
      "1.081583857536316\n",
      "1.031044840812683\n",
      "1.082244873046875\n",
      "1.0532070398330688\n",
      "1.079375982284546\n",
      "1.0469074249267578\n",
      "1.0712339878082275\n",
      "1.0333536863327026\n",
      "1.0710331201553345\n",
      "1.0588366985321045\n",
      "1.0731582641601562\n",
      "1.0181143283843994\n",
      "0.995556116104126\n",
      "0.9616940021514893\n",
      "1.059149146080017\n"
     ]
    },
    {
     "name": "stderr",
     "output_type": "stream",
     "text": [
      "  8%|▊         | 1256/15625 [00:13<02:25, 98.84it/s]"
     ]
    },
    {
     "name": "stdout",
     "output_type": "stream",
     "text": [
      "1.049569845199585\n",
      "1.0492818355560303\n",
      "1.0298206806182861\n",
      "1.1323212385177612\n",
      "1.0838496685028076\n",
      "1.0848201513290405\n",
      "1.0516729354858398\n",
      "1.0610252618789673\n",
      "1.049169898033142\n",
      "1.0772126913070679\n",
      "1.084094762802124\n",
      "0.9637699127197266\n",
      "1.0141549110412598\n",
      "1.0886238813400269\n",
      "1.0372298955917358\n",
      "1.0778801441192627\n",
      "1.0653777122497559\n",
      "1.0192644596099854\n",
      "1.094525694847107\n",
      "1.069916844367981\n",
      "1.0534435510635376\n"
     ]
    },
    {
     "name": "stderr",
     "output_type": "stream",
     "text": [
      "  8%|▊         | 1276/15625 [00:13<02:26, 98.19it/s]"
     ]
    },
    {
     "name": "stdout",
     "output_type": "stream",
     "text": [
      "1.0913872718811035\n",
      "1.0241197347640991\n",
      "1.0558362007141113\n",
      "1.0330877304077148\n",
      "1.0572608709335327\n",
      "1.0191972255706787\n",
      "1.0687267780303955\n",
      "1.038678765296936\n",
      "1.0612366199493408\n",
      "1.0815761089324951\n",
      "1.1459318399429321\n",
      "1.0121605396270752\n",
      "1.0136692523956299\n",
      "1.1268141269683838\n",
      "1.0983843803405762\n",
      "1.0249665975570679\n",
      "1.0199387073516846\n",
      "1.0564448833465576\n",
      "1.0256556272506714\n",
      "1.0669214725494385\n"
     ]
    },
    {
     "name": "stderr",
     "output_type": "stream",
     "text": [
      "\r",
      "  8%|▊         | 1287/15625 [00:13<02:23, 99.66it/s]"
     ]
    },
    {
     "name": "stdout",
     "output_type": "stream",
     "text": [
      "1.0836669206619263\n",
      "0.9898055791854858\n",
      "1.1033244132995605\n",
      "1.0972118377685547\n",
      "1.0277016162872314\n",
      "1.0641553401947021\n",
      "1.0778608322143555\n",
      "1.1084833145141602\n",
      "1.0810620784759521\n",
      "1.0537359714508057\n",
      "1.0767483711242676\n",
      "1.0532629489898682\n",
      "1.0402337312698364\n",
      "1.010225772857666\n",
      "1.0642948150634766\n",
      "1.1283211708068848\n",
      "1.062528371810913\n",
      "1.0626757144927979\n",
      "1.025162696838379\n",
      "1.051887035369873\n",
      "1.0887260437011719\n"
     ]
    },
    {
     "name": "stderr",
     "output_type": "stream",
     "text": [
      "  8%|▊         | 1309/15625 [00:13<02:22, 100.56it/s]"
     ]
    },
    {
     "name": "stdout",
     "output_type": "stream",
     "text": [
      "1.0797133445739746\n",
      "1.0704818964004517\n",
      "1.0445446968078613\n",
      "1.1104971170425415\n",
      "1.0035336017608643\n",
      "1.067850112915039\n",
      "1.0661896467208862\n",
      "1.0524051189422607\n",
      "1.0399937629699707\n",
      "1.048986792564392\n",
      "1.0507766008377075\n",
      "1.0557501316070557\n",
      "1.057178020477295\n",
      "1.050406575202942\n",
      "1.1366404294967651\n",
      "1.0627249479293823\n",
      "1.0174667835235596\n",
      "1.0220181941986084\n",
      "1.060373306274414\n",
      "1.0263845920562744\n",
      "1.0381382703781128\n"
     ]
    },
    {
     "name": "stderr",
     "output_type": "stream",
     "text": [
      "  9%|▊         | 1331/15625 [00:14<02:20, 101.71it/s]"
     ]
    },
    {
     "name": "stdout",
     "output_type": "stream",
     "text": [
      "1.0592020750045776\n",
      "1.0619986057281494\n",
      "1.0737154483795166\n",
      "1.103029489517212\n",
      "1.0310112237930298\n",
      "1.0743670463562012\n",
      "1.0493719577789307\n",
      "1.0701137781143188\n",
      "1.0456979274749756\n",
      "1.0399869680404663\n",
      "1.0012097358703613\n",
      "1.11546790599823\n",
      "1.0225476026535034\n",
      "1.1031436920166016\n",
      "1.0887789726257324\n",
      "1.0951800346374512\n",
      "1.0886247158050537\n",
      "1.0221937894821167\n",
      "1.0220458507537842\n",
      "1.0650064945220947\n",
      "1.0436002016067505\n"
     ]
    },
    {
     "name": "stderr",
     "output_type": "stream",
     "text": [
      "  9%|▊         | 1353/15625 [00:14<02:20, 101.88it/s]"
     ]
    },
    {
     "name": "stdout",
     "output_type": "stream",
     "text": [
      "1.0374236106872559\n",
      "1.0739349126815796\n",
      "1.116947889328003\n",
      "1.0739712715148926\n",
      "1.0791999101638794\n",
      "1.078444480895996\n",
      "1.101701259613037\n",
      "1.079944372177124\n",
      "1.0182530879974365\n",
      "1.0102684497833252\n",
      "1.072396993637085\n",
      "1.0201069116592407\n",
      "1.079087495803833\n",
      "1.053971767425537\n",
      "1.0352864265441895\n",
      "1.131430983543396\n",
      "1.0199527740478516\n",
      "1.0848878622055054\n",
      "1.0995523929595947\n",
      "1.0561401844024658\n",
      "1.028458833694458\n"
     ]
    },
    {
     "name": "stderr",
     "output_type": "stream",
     "text": [
      "  9%|▉         | 1375/15625 [00:14<02:22, 100.34it/s]"
     ]
    },
    {
     "name": "stdout",
     "output_type": "stream",
     "text": [
      "1.1549841165542603\n",
      "1.127745270729065\n",
      "1.0658341646194458\n",
      "1.0296447277069092\n",
      "1.0237822532653809\n",
      "1.0465277433395386\n",
      "0.9986104965209961\n",
      "1.048886775970459\n",
      "1.0467321872711182\n",
      "1.082428216934204\n",
      "1.071213960647583\n",
      "1.0344080924987793\n",
      "1.0509041547775269\n",
      "1.039014220237732\n",
      "1.0508203506469727\n",
      "1.1002007722854614\n",
      "1.0656380653381348\n",
      "1.0635690689086914\n",
      "1.0970005989074707\n",
      "1.0648443698883057\n",
      "1.0155572891235352\n"
     ]
    },
    {
     "name": "stderr",
     "output_type": "stream",
     "text": [
      "  9%|▉         | 1397/15625 [00:14<02:20, 101.00it/s]"
     ]
    },
    {
     "name": "stdout",
     "output_type": "stream",
     "text": [
      "1.0499241352081299\n",
      "1.0303727388381958\n",
      "1.0342798233032227\n",
      "1.0728130340576172\n",
      "1.0369758605957031\n",
      "1.0664026737213135\n",
      "1.0647425651550293\n",
      "1.0007779598236084\n",
      "1.0689404010772705\n",
      "1.0618568658828735\n",
      "0.9858518838882446\n",
      "1.0346262454986572\n",
      "1.013278603553772\n",
      "1.138627529144287\n",
      "1.0743249654769897\n",
      "1.0361131429672241\n",
      "1.0924217700958252\n",
      "1.0577118396759033\n",
      "1.0468170642852783\n",
      "1.0294941663742065\n",
      "1.0623013973236084\n"
     ]
    },
    {
     "name": "stderr",
     "output_type": "stream",
     "text": [
      "  9%|▉         | 1419/15625 [00:15<02:21, 100.53it/s]"
     ]
    },
    {
     "name": "stdout",
     "output_type": "stream",
     "text": [
      "1.0692198276519775\n",
      "1.0784567594528198\n",
      "1.0721380710601807\n",
      "1.045239806175232\n",
      "1.0350515842437744\n",
      "1.0558114051818848\n",
      "1.0925030708312988\n",
      "0.9855129718780518\n",
      "1.049213171005249\n",
      "0.981768786907196\n",
      "1.0699334144592285\n",
      "1.0468566417694092\n",
      "1.0817818641662598\n",
      "1.0419673919677734\n",
      "1.1043835878372192\n",
      "1.0493524074554443\n",
      "1.0065796375274658\n",
      "1.0298969745635986\n",
      "1.0403196811676025\n",
      "1.0398250818252563\n",
      "0.9973354935646057\n"
     ]
    },
    {
     "name": "stderr",
     "output_type": "stream",
     "text": [
      "  9%|▉         | 1441/15625 [00:15<02:20, 100.95it/s]"
     ]
    },
    {
     "name": "stdout",
     "output_type": "stream",
     "text": [
      "1.0384362936019897\n",
      "0.9877762794494629\n",
      "1.0640783309936523\n",
      "1.0823631286621094\n",
      "1.0417473316192627\n",
      "1.0892863273620605\n",
      "1.0613491535186768\n",
      "1.02590811252594\n",
      "1.079033374786377\n",
      "1.1063809394836426\n",
      "1.070128321647644\n",
      "1.0666112899780273\n",
      "1.0941860675811768\n",
      "1.011978268623352\n",
      "1.0469545125961304\n",
      "1.0707905292510986\n",
      "1.0359028577804565\n",
      "1.1013953685760498\n",
      "1.032248854637146\n",
      "1.0773544311523438\n",
      "1.0294179916381836\n"
     ]
    },
    {
     "name": "stderr",
     "output_type": "stream",
     "text": [
      "  9%|▉         | 1463/15625 [00:15<02:19, 101.43it/s]"
     ]
    },
    {
     "name": "stdout",
     "output_type": "stream",
     "text": [
      "1.014784574508667\n",
      "1.1050021648406982\n",
      "1.062191128730774\n",
      "1.0323572158813477\n",
      "1.0552165508270264\n",
      "1.0716922283172607\n",
      "1.0746326446533203\n",
      "1.05716073513031\n",
      "1.0114293098449707\n",
      "1.0168507099151611\n",
      "1.0737595558166504\n",
      "1.0685299634933472\n",
      "1.0663284063339233\n",
      "1.0591144561767578\n",
      "0.9653483629226685\n",
      "1.0781538486480713\n",
      "1.0059494972229004\n",
      "1.0273492336273193\n",
      "1.0503551959991455\n",
      "1.1074318885803223\n",
      "1.0913829803466797\n"
     ]
    },
    {
     "name": "stderr",
     "output_type": "stream",
     "text": [
      " 10%|▉         | 1485/15625 [00:15<02:18, 101.81it/s]"
     ]
    },
    {
     "name": "stdout",
     "output_type": "stream",
     "text": [
      "1.0497140884399414\n",
      "1.029127836227417\n",
      "1.0104104280471802\n",
      "1.028945803642273\n",
      "1.07185697555542\n",
      "1.0922014713287354\n",
      "1.06128990650177\n",
      "1.0063796043395996\n",
      "1.0399713516235352\n",
      "1.072422742843628\n",
      "1.1083720922470093\n",
      "1.0665504932403564\n",
      "1.0495693683624268\n",
      "1.0236986875534058\n",
      "1.0892693996429443\n",
      "1.0382113456726074\n",
      "1.0348470211029053\n",
      "1.1370699405670166\n",
      "1.0787960290908813\n",
      "1.019173502922058\n",
      "1.0551245212554932\n"
     ]
    },
    {
     "name": "stderr",
     "output_type": "stream",
     "text": [
      " 10%|▉         | 1507/15625 [00:15<02:18, 101.92it/s]"
     ]
    },
    {
     "name": "stdout",
     "output_type": "stream",
     "text": [
      "1.0678865909576416\n",
      "1.0194536447525024\n",
      "1.0432724952697754\n",
      "1.0036885738372803\n",
      "1.0888495445251465\n",
      "1.0347261428833008\n",
      "1.0425492525100708\n",
      "1.0072247982025146\n",
      "1.060561180114746\n",
      "1.074155330657959\n",
      "1.045401692390442\n",
      "1.1422169208526611\n",
      "0.999967098236084\n",
      "1.0520546436309814\n",
      "1.1118372678756714\n",
      "1.0009918212890625\n",
      "1.006631851196289\n",
      "1.0962799787521362\n",
      "1.0812764167785645\n",
      "1.041814923286438\n",
      "1.1067043542861938\n"
     ]
    },
    {
     "name": "stderr",
     "output_type": "stream",
     "text": [
      "\r",
      " 10%|▉         | 1518/15625 [00:15<02:18, 101.84it/s]"
     ]
    },
    {
     "name": "stdout",
     "output_type": "stream",
     "text": [
      "1.0333861112594604\n",
      "1.0687029361724854\n",
      "1.08159601688385\n",
      "1.0921529531478882\n",
      "1.0467092990875244\n",
      "1.0708551406860352\n",
      "1.0587408542633057\n",
      "1.0564548969268799\n",
      "1.0285882949829102\n",
      "1.0509012937545776\n",
      "1.0285791158676147\n",
      "1.0076625347137451\n",
      "1.001621961593628\n",
      "1.0018144845962524\n",
      "1.007399082183838\n",
      "1.058453917503357\n",
      "1.0589191913604736\n",
      "1.0335853099822998\n",
      "1.0335936546325684\n",
      "1.0518858432769775\n",
      "1.0466554164886475\n"
     ]
    },
    {
     "name": "stderr",
     "output_type": "stream",
     "text": [
      " 10%|▉         | 1540/15625 [00:16<02:17, 102.68it/s]"
     ]
    },
    {
     "name": "stdout",
     "output_type": "stream",
     "text": [
      "0.9789806604385376\n",
      "1.0431768894195557\n",
      "1.0321226119995117\n",
      "1.0300064086914062\n",
      "1.1122393608093262\n",
      "1.043956995010376\n",
      "1.0547902584075928\n",
      "1.1203398704528809\n",
      "1.0318493843078613\n",
      "1.085343360900879\n",
      "1.0540945529937744\n",
      "1.002616047859192\n",
      "1.0993603467941284\n",
      "1.0835773944854736\n",
      "1.0563750267028809\n",
      "1.0317416191101074\n",
      "1.0868104696273804\n",
      "1.0199363231658936\n",
      "1.082432746887207\n",
      "1.0337964296340942\n",
      "1.0421864986419678\n"
     ]
    },
    {
     "name": "stderr",
     "output_type": "stream",
     "text": [
      " 10%|▉         | 1562/15625 [00:16<02:16, 102.74it/s]"
     ]
    },
    {
     "name": "stdout",
     "output_type": "stream",
     "text": [
      "1.055674433708191\n",
      "1.0452229976654053\n",
      "1.067345380783081\n",
      "1.0260990858078003\n",
      "1.0938200950622559\n",
      "1.0865734815597534\n",
      "1.0832526683807373\n",
      "1.0506548881530762\n",
      "1.0522834062576294\n",
      "1.1385167837142944\n",
      "1.0423544645309448\n",
      "1.205962061882019\n",
      "0.9812037944793701\n",
      "1.0503675937652588\n",
      "1.0315066576004028\n",
      "1.0364949703216553\n",
      "1.061793565750122\n",
      "1.0819884538650513\n",
      "1.0839526653289795\n",
      "0.9999786615371704\n",
      "1.0032639503479004\n"
     ]
    },
    {
     "name": "stderr",
     "output_type": "stream",
     "text": [
      " 10%|█         | 1584/15625 [00:16<02:16, 102.53it/s]"
     ]
    },
    {
     "name": "stdout",
     "output_type": "stream",
     "text": [
      "1.0762815475463867\n",
      "1.0615084171295166\n",
      "1.0502240657806396\n",
      "1.036252737045288\n",
      "1.1078442335128784\n",
      "1.0797195434570312\n",
      "1.0246533155441284\n",
      "1.057605504989624\n",
      "1.0602962970733643\n",
      "1.0588972568511963\n",
      "1.055993676185608\n",
      "1.108844518661499\n",
      "1.0126707553863525\n",
      "1.122610092163086\n",
      "1.029975175857544\n",
      "1.0638434886932373\n",
      "1.1095929145812988\n",
      "1.0454963445663452\n",
      "1.09893798828125\n",
      "1.079535961151123\n",
      "1.0730489492416382\n"
     ]
    },
    {
     "name": "stderr",
     "output_type": "stream",
     "text": [
      " 10%|█         | 1606/15625 [00:16<02:16, 102.86it/s]"
     ]
    },
    {
     "name": "stdout",
     "output_type": "stream",
     "text": [
      "1.0206222534179688\n",
      "1.0535584688186646\n",
      "1.1006678342819214\n",
      "1.0569851398468018\n",
      "1.092105507850647\n",
      "1.0566365718841553\n",
      "1.0189833641052246\n",
      "1.0589547157287598\n",
      "0.9973797798156738\n",
      "1.095414161682129\n",
      "1.1136460304260254\n",
      "1.0367634296417236\n",
      "1.0742837190628052\n",
      "1.0232902765274048\n",
      "1.1064963340759277\n",
      "1.0611103773117065\n",
      "1.0261199474334717\n",
      "1.0271716117858887\n",
      "1.1391841173171997\n",
      "1.0182902812957764\n",
      "1.0435642004013062\n"
     ]
    },
    {
     "name": "stderr",
     "output_type": "stream",
     "text": [
      " 10%|█         | 1628/15625 [00:17<02:16, 102.63it/s]"
     ]
    },
    {
     "name": "stdout",
     "output_type": "stream",
     "text": [
      "0.9483649134635925\n",
      "1.1009713411331177\n",
      "1.0289820432662964\n",
      "1.0354878902435303\n",
      "1.059119701385498\n",
      "1.070899486541748\n",
      "1.0269660949707031\n",
      "1.0384408235549927\n",
      "1.115512728691101\n",
      "1.0433199405670166\n",
      "1.0495564937591553\n",
      "1.0962951183319092\n",
      "1.0252034664154053\n",
      "1.0916252136230469\n",
      "1.0547051429748535\n",
      "1.1090174913406372\n",
      "1.0553611516952515\n",
      "1.026008129119873\n",
      "1.001370906829834\n",
      "1.0399298667907715\n",
      "1.0980918407440186\n"
     ]
    },
    {
     "name": "stderr",
     "output_type": "stream",
     "text": [
      " 11%|█         | 1650/15625 [00:17<02:16, 102.57it/s]"
     ]
    },
    {
     "name": "stdout",
     "output_type": "stream",
     "text": [
      "1.098059892654419\n",
      "1.0996519327163696\n",
      "1.0741777420043945\n",
      "1.0012993812561035\n",
      "1.0823818445205688\n",
      "1.0724732875823975\n",
      "1.04347562789917\n",
      "1.0238075256347656\n",
      "1.1109321117401123\n",
      "1.0339264869689941\n",
      "1.0361065864562988\n",
      "1.0937459468841553\n",
      "1.0059993267059326\n",
      "1.0402339696884155\n",
      "1.058161735534668\n",
      "1.093148112297058\n",
      "1.0478417873382568\n",
      "1.028661847114563\n",
      "1.0853331089019775\n",
      "1.053409218788147\n",
      "1.1085350513458252\n"
     ]
    },
    {
     "name": "stderr",
     "output_type": "stream",
     "text": [
      " 11%|█         | 1672/15625 [00:17<02:16, 102.27it/s]"
     ]
    },
    {
     "name": "stdout",
     "output_type": "stream",
     "text": [
      "0.9831269979476929\n",
      "1.0217430591583252\n",
      "1.0636968612670898\n",
      "1.065865397453308\n",
      "1.1198410987854004\n",
      "1.1042563915252686\n",
      "1.0292885303497314\n",
      "1.0275989770889282\n",
      "1.0675545930862427\n",
      "1.018202543258667\n",
      "1.0249837636947632\n",
      "1.0789246559143066\n",
      "1.0308955907821655\n",
      "1.0927047729492188\n",
      "1.0536526441574097\n",
      "1.1320135593414307\n",
      "1.079361915588379\n",
      "1.0628526210784912\n",
      "1.0346306562423706\n",
      "1.0617754459381104\n",
      "1.057476282119751\n"
     ]
    },
    {
     "name": "stderr",
     "output_type": "stream",
     "text": [
      " 11%|█         | 1694/15625 [00:17<02:16, 101.97it/s]"
     ]
    },
    {
     "name": "stdout",
     "output_type": "stream",
     "text": [
      "1.006331205368042\n",
      "1.0934979915618896\n",
      "1.0255389213562012\n",
      "1.07918381690979\n",
      "1.0336904525756836\n",
      "1.0445291996002197\n",
      "1.0188305377960205\n",
      "1.0382285118103027\n",
      "1.1163334846496582\n",
      "1.0272561311721802\n",
      "1.059800148010254\n",
      "1.038748025894165\n",
      "1.0190815925598145\n",
      "1.0188014507293701\n",
      "1.063948392868042\n",
      "1.0401725769042969\n",
      "1.03050696849823\n",
      "1.135307788848877\n",
      "1.0350465774536133\n",
      "0.9760243892669678\n",
      "1.0075209140777588\n"
     ]
    },
    {
     "name": "stderr",
     "output_type": "stream",
     "text": [
      " 11%|█         | 1716/15625 [00:17<02:15, 102.70it/s]"
     ]
    },
    {
     "name": "stdout",
     "output_type": "stream",
     "text": [
      "1.0734938383102417\n",
      "1.0774590969085693\n",
      "1.0792779922485352\n",
      "1.055959701538086\n",
      "0.9819921255111694\n",
      "1.044395923614502\n",
      "1.0354671478271484\n",
      "1.0645257234573364\n",
      "1.095930814743042\n",
      "1.05303955078125\n",
      "1.1099822521209717\n",
      "1.0575616359710693\n",
      "1.0961408615112305\n",
      "1.0731064081192017\n",
      "1.1385176181793213\n",
      "1.0666358470916748\n",
      "1.057458519935608\n",
      "1.0537903308868408\n",
      "1.0127592086791992\n",
      "1.0787146091461182\n",
      "1.0275776386260986\n"
     ]
    },
    {
     "name": "stderr",
     "output_type": "stream",
     "text": [
      " 11%|█         | 1738/15625 [00:18<02:15, 102.62it/s]"
     ]
    },
    {
     "name": "stdout",
     "output_type": "stream",
     "text": [
      "1.0581367015838623\n",
      "1.0669347047805786\n",
      "1.05873441696167\n",
      "1.0458498001098633\n",
      "1.0604115724563599\n",
      "1.0628198385238647\n",
      "1.0094975233078003\n",
      "1.0904924869537354\n",
      "1.0577607154846191\n",
      "1.069023847579956\n",
      "1.0517833232879639\n",
      "1.0415825843811035\n",
      "1.0743204355239868\n",
      "1.0144370794296265\n",
      "1.0835603475570679\n",
      "1.086909532546997\n",
      "1.0685991048812866\n",
      "1.1311265230178833\n",
      "1.070011019706726\n",
      "1.0710495710372925\n",
      "1.0861401557922363\n"
     ]
    },
    {
     "name": "stderr",
     "output_type": "stream",
     "text": [
      "\r",
      " 11%|█         | 1749/15625 [00:18<02:15, 102.61it/s]"
     ]
    },
    {
     "name": "stdout",
     "output_type": "stream",
     "text": [
      "1.0480750799179077\n",
      "1.0078554153442383\n",
      "1.01993727684021\n",
      "1.070055603981018\n",
      "1.0683438777923584\n",
      "1.0450725555419922\n",
      "1.0316978693008423\n",
      "0.9982309341430664\n",
      "1.0559871196746826\n",
      "0.9971102476119995\n",
      "1.0568876266479492\n",
      "1.0060796737670898\n",
      "1.0502684116363525\n",
      "1.0541462898254395\n",
      "1.0870616436004639\n",
      "1.0638864040374756\n",
      "0.9928076863288879\n",
      "1.080100655555725\n",
      "1.069632649421692\n",
      "1.0134508609771729\n",
      "1.03617525100708\n"
     ]
    },
    {
     "name": "stderr",
     "output_type": "stream",
     "text": [
      " 11%|█▏        | 1771/15625 [00:18<02:15, 101.89it/s]"
     ]
    },
    {
     "name": "stdout",
     "output_type": "stream",
     "text": [
      "1.1077032089233398\n",
      "1.0289489030838013\n",
      "1.0261561870574951\n",
      "1.0617749691009521\n",
      "1.023169994354248\n",
      "1.0394840240478516\n",
      "1.0567660331726074\n",
      "1.099768877029419\n",
      "1.0823723077774048\n",
      "1.0668126344680786\n",
      "1.1035690307617188\n",
      "1.063464879989624\n",
      "1.0371434688568115\n",
      "1.0452468395233154\n",
      "1.084869623184204\n",
      "1.0841336250305176\n",
      "1.0146056413650513\n",
      "1.0737063884735107\n",
      "1.0629302263259888\n",
      "1.064939260482788\n",
      "1.042358636856079\n"
     ]
    },
    {
     "name": "stderr",
     "output_type": "stream",
     "text": [
      " 11%|█▏        | 1793/15625 [00:18<02:15, 101.77it/s]"
     ]
    },
    {
     "name": "stdout",
     "output_type": "stream",
     "text": [
      "1.1016087532043457\n",
      "1.019123911857605\n",
      "1.0138230323791504\n",
      "1.0846309661865234\n",
      "1.0515769720077515\n",
      "1.0823774337768555\n",
      "1.0365794897079468\n",
      "1.1113312244415283\n",
      "1.0832079648971558\n",
      "0.9950078129768372\n",
      "1.0825221538543701\n",
      "1.0381215810775757\n",
      "1.0719060897827148\n",
      "1.0044167041778564\n",
      "1.0692501068115234\n",
      "1.0404120683670044\n",
      "1.0634572505950928\n",
      "1.019116997718811\n",
      "1.04085111618042\n",
      "1.141141414642334\n",
      "1.0641835927963257\n"
     ]
    },
    {
     "name": "stderr",
     "output_type": "stream",
     "text": [
      " 12%|█▏        | 1815/15625 [00:18<02:16, 101.44it/s]"
     ]
    },
    {
     "name": "stdout",
     "output_type": "stream",
     "text": [
      "1.0073946714401245\n",
      "1.0398139953613281\n",
      "1.0029256343841553\n",
      "1.0113059282302856\n",
      "1.0383388996124268\n",
      "1.0643362998962402\n",
      "1.0115561485290527\n",
      "1.061279296875\n",
      "1.0257649421691895\n",
      "1.0525373220443726\n",
      "1.0974395275115967\n",
      "1.0595213174819946\n",
      "1.0473392009735107\n",
      "1.0673892498016357\n",
      "1.048906683921814\n",
      "1.0503597259521484\n",
      "1.013204574584961\n",
      "1.0501881837844849\n",
      "1.0603327751159668\n",
      "1.1113152503967285\n",
      "1.0581879615783691\n"
     ]
    },
    {
     "name": "stderr",
     "output_type": "stream",
     "text": [
      " 12%|█▏        | 1837/15625 [00:19<02:15, 101.75it/s]"
     ]
    },
    {
     "name": "stdout",
     "output_type": "stream",
     "text": [
      "0.9991544485092163\n",
      "1.0391818284988403\n",
      "1.0944339036941528\n",
      "1.0032174587249756\n",
      "1.0903562307357788\n",
      "1.0188589096069336\n",
      "0.9909464120864868\n",
      "1.043813943862915\n",
      "1.0588042736053467\n",
      "0.9986650943756104\n",
      "1.0791797637939453\n",
      "1.0996648073196411\n",
      "0.9929652810096741\n",
      "1.0388436317443848\n",
      "1.0331071615219116\n",
      "1.0209482908248901\n",
      "1.054413914680481\n",
      "1.0712826251983643\n",
      "1.0612218379974365\n",
      "1.0516424179077148\n",
      "1.039700984954834\n"
     ]
    },
    {
     "name": "stderr",
     "output_type": "stream",
     "text": [
      " 12%|█▏        | 1859/15625 [00:19<02:15, 101.57it/s]"
     ]
    },
    {
     "name": "stdout",
     "output_type": "stream",
     "text": [
      "1.0124943256378174\n",
      "1.0629417896270752\n",
      "1.0371150970458984\n",
      "1.0187616348266602\n",
      "1.0187463760375977\n",
      "1.1115176677703857\n",
      "1.0856783390045166\n",
      "1.0253270864486694\n",
      "1.0496082305908203\n",
      "1.0651791095733643\n",
      "1.0627872943878174\n",
      "1.079079270362854\n",
      "1.093430519104004\n",
      "1.0595805644989014\n",
      "0.9428894519805908\n",
      "1.095230221748352\n",
      "1.0108736753463745\n",
      "1.0576541423797607\n",
      "1.078823208808899\n",
      "1.007910966873169\n",
      "1.0198063850402832\n"
     ]
    },
    {
     "name": "stderr",
     "output_type": "stream",
     "text": [
      " 12%|█▏        | 1881/15625 [00:19<02:14, 102.32it/s]"
     ]
    },
    {
     "name": "stdout",
     "output_type": "stream",
     "text": [
      "1.0391831398010254\n",
      "1.0873892307281494\n",
      "1.06972074508667\n",
      "1.0555598735809326\n",
      "1.0465980768203735\n",
      "1.079172134399414\n",
      "1.023511290550232\n",
      "1.0669209957122803\n",
      "1.05726158618927\n",
      "1.037389874458313\n",
      "1.0810747146606445\n",
      "1.0878225564956665\n",
      "1.0405248403549194\n",
      "1.0365235805511475\n",
      "1.0702362060546875\n",
      "1.0298789739608765\n",
      "1.1033244132995605\n",
      "1.1128270626068115\n",
      "1.0258839130401611\n",
      "1.1162450313568115\n",
      "1.0600812435150146\n"
     ]
    },
    {
     "name": "stderr",
     "output_type": "stream",
     "text": [
      " 12%|█▏        | 1903/15625 [00:19<02:13, 102.92it/s]"
     ]
    },
    {
     "name": "stdout",
     "output_type": "stream",
     "text": [
      "1.1115741729736328\n",
      "1.1007782220840454\n",
      "1.030637264251709\n",
      "1.0801308155059814\n",
      "1.046027660369873\n",
      "1.0869722366333008\n",
      "1.010512351989746\n",
      "1.082258939743042\n",
      "1.06532621383667\n",
      "1.085237979888916\n",
      "1.1365257501602173\n",
      "1.0592572689056396\n",
      "1.0647876262664795\n",
      "1.0225616693496704\n",
      "1.0456684827804565\n",
      "1.0536894798278809\n",
      "0.992082953453064\n",
      "1.084705114364624\n",
      "1.0217162370681763\n",
      "1.0493531227111816\n",
      "1.0722897052764893\n"
     ]
    },
    {
     "name": "stderr",
     "output_type": "stream",
     "text": [
      " 12%|█▏        | 1925/15625 [00:19<02:13, 102.63it/s]"
     ]
    },
    {
     "name": "stdout",
     "output_type": "stream",
     "text": [
      "1.004199504852295\n",
      "1.082486629486084\n",
      "1.0848840475082397\n",
      "1.0404174327850342\n",
      "1.0166432857513428\n",
      "1.0460169315338135\n",
      "1.0459319353103638\n",
      "1.0141843557357788\n",
      "1.0156148672103882\n",
      "0.9996033906936646\n",
      "1.105837106704712\n",
      "1.1025035381317139\n",
      "1.060758352279663\n",
      "1.0784168243408203\n",
      "1.0409462451934814\n",
      "1.0948809385299683\n",
      "1.039893388748169\n",
      "1.0892333984375\n",
      "1.0692296028137207\n",
      "1.0411179065704346\n",
      "1.0849874019622803\n"
     ]
    },
    {
     "name": "stderr",
     "output_type": "stream",
     "text": [
      " 12%|█▏        | 1947/15625 [00:20<02:14, 102.07it/s]"
     ]
    },
    {
     "name": "stdout",
     "output_type": "stream",
     "text": [
      "1.0244629383087158\n",
      "1.054626226425171\n",
      "1.0594472885131836\n",
      "1.007864236831665\n",
      "1.051481008529663\n",
      "1.0327926874160767\n",
      "1.1456995010375977\n",
      "1.0835752487182617\n",
      "1.0725502967834473\n",
      "1.1331837177276611\n",
      "1.1152598857879639\n",
      "1.0294229984283447\n",
      "1.0898628234863281\n",
      "1.1018478870391846\n",
      "1.088721513748169\n",
      "1.008862018585205\n",
      "1.1625404357910156\n",
      "1.0768218040466309\n",
      "1.0260212421417236\n",
      "1.0988950729370117\n",
      "1.044114589691162\n"
     ]
    },
    {
     "name": "stderr",
     "output_type": "stream",
     "text": [
      "\r",
      " 13%|█▎        | 1958/15625 [00:20<02:16, 99.99it/s] "
     ]
    },
    {
     "name": "stdout",
     "output_type": "stream",
     "text": [
      "0.9973287582397461\n",
      "1.0848097801208496\n",
      "1.0625066757202148\n",
      "1.0577819347381592\n",
      "1.0535515546798706\n",
      "1.0944472551345825\n",
      "1.0412023067474365\n",
      "1.073337435722351\n",
      "1.0745176076889038\n",
      "1.011735439300537\n",
      "1.0412474870681763\n",
      "1.1003495454788208\n",
      "1.1212832927703857\n",
      "1.0150216817855835\n",
      "1.0785181522369385\n",
      "1.0517776012420654\n",
      "1.0302175283432007\n",
      "1.0795276165008545\n",
      "1.0424015522003174\n",
      "1.0490150451660156\n"
     ]
    },
    {
     "name": "stderr",
     "output_type": "stream",
     "text": [
      " 13%|█▎        | 1980/15625 [00:20<02:16, 100.20it/s]"
     ]
    },
    {
     "name": "stdout",
     "output_type": "stream",
     "text": [
      "1.0451724529266357\n",
      "0.992424726486206\n",
      "1.0447564125061035\n",
      "1.0362926721572876\n",
      "1.0810306072235107\n",
      "1.0398814678192139\n",
      "1.0995378494262695\n",
      "1.0689713954925537\n",
      "1.0727620124816895\n",
      "1.0256105661392212\n",
      "1.0336867570877075\n",
      "1.058894395828247\n",
      "1.0938847064971924\n",
      "1.0518691539764404\n",
      "1.0363763570785522\n",
      "1.085132122039795\n",
      "1.0233255624771118\n",
      "1.075746774673462\n",
      "1.1413112878799438\n",
      "1.1080143451690674\n",
      "1.1037631034851074\n"
     ]
    },
    {
     "name": "stderr",
     "output_type": "stream",
     "text": [
      " 13%|█▎        | 2002/15625 [00:20<02:15, 100.88it/s]"
     ]
    },
    {
     "name": "stdout",
     "output_type": "stream",
     "text": [
      "1.0381531715393066\n",
      "1.1002216339111328\n",
      "1.029690146446228\n",
      "1.0712673664093018\n",
      "1.0387191772460938\n",
      "1.070483922958374\n",
      "1.0572044849395752\n",
      "1.038957118988037\n",
      "1.0272433757781982\n",
      "1.064755916595459\n",
      "1.0383433103561401\n",
      "1.105977177619934\n",
      "1.09461510181427\n",
      "1.1163196563720703\n",
      "1.0862095355987549\n",
      "1.0541284084320068\n",
      "0.9835087060928345\n",
      "0.9762925505638123\n",
      "1.062551736831665\n",
      "1.1112797260284424\n",
      "1.072356939315796\n"
     ]
    },
    {
     "name": "stderr",
     "output_type": "stream",
     "text": [
      " 13%|█▎        | 2024/15625 [00:20<02:14, 100.76it/s]"
     ]
    },
    {
     "name": "stdout",
     "output_type": "stream",
     "text": [
      "1.0306274890899658\n",
      "1.0686475038528442\n",
      "1.0862386226654053\n",
      "1.081020712852478\n",
      "1.0416021347045898\n",
      "1.0380527973175049\n",
      "1.0014686584472656\n",
      "1.0721004009246826\n",
      "1.0444327592849731\n",
      "1.044825792312622\n",
      "1.0449142456054688\n",
      "1.0997014045715332\n",
      "1.019058346748352\n",
      "1.0947513580322266\n",
      "1.0763154029846191\n",
      "1.0479183197021484\n",
      "1.0570645332336426\n",
      "1.079026222229004\n",
      "1.0091722011566162\n",
      "1.032593011856079\n",
      "1.0951672792434692\n"
     ]
    },
    {
     "name": "stderr",
     "output_type": "stream",
     "text": [
      " 13%|█▎        | 2046/15625 [00:21<02:14, 101.13it/s]"
     ]
    },
    {
     "name": "stdout",
     "output_type": "stream",
     "text": [
      "1.0100839138031006\n",
      "1.0584948062896729\n",
      "1.018398404121399\n",
      "1.026855707168579\n",
      "1.0325162410736084\n",
      "1.0810950994491577\n",
      "1.0690001249313354\n",
      "1.0713447332382202\n",
      "1.0710092782974243\n",
      "1.0428369045257568\n",
      "1.0561597347259521\n",
      "1.0900096893310547\n",
      "1.0407606363296509\n",
      "1.0982943773269653\n",
      "1.0220016241073608\n",
      "1.085716962814331\n",
      "0.9843688011169434\n",
      "0.9877843856811523\n",
      "1.0416936874389648\n",
      "1.0589797496795654\n",
      "1.017381191253662\n"
     ]
    },
    {
     "name": "stderr",
     "output_type": "stream",
     "text": [
      " 13%|█▎        | 2068/15625 [00:21<02:13, 101.70it/s]"
     ]
    },
    {
     "name": "stdout",
     "output_type": "stream",
     "text": [
      "1.0358619689941406\n",
      "1.0986073017120361\n",
      "1.0539990663528442\n",
      "1.0329846143722534\n",
      "1.1046394109725952\n",
      "1.018828272819519\n",
      "1.0666725635528564\n",
      "1.0397536754608154\n",
      "1.0467884540557861\n",
      "1.0153837203979492\n",
      "1.0596752166748047\n",
      "1.0882772207260132\n",
      "1.0488650798797607\n",
      "0.9986486434936523\n",
      "1.0416481494903564\n",
      "1.0369412899017334\n",
      "1.1227964162826538\n",
      "0.981115460395813\n",
      "1.0615125894546509\n",
      "0.9892053008079529\n",
      "1.046356201171875\n"
     ]
    },
    {
     "name": "stderr",
     "output_type": "stream",
     "text": [
      " 13%|█▎        | 2090/15625 [00:21<02:13, 101.44it/s]"
     ]
    },
    {
     "name": "stdout",
     "output_type": "stream",
     "text": [
      "1.1202201843261719\n",
      "1.0507454872131348\n",
      "1.0707125663757324\n",
      "1.0822253227233887\n",
      "1.0150762796401978\n",
      "1.049161672592163\n",
      "1.063353419303894\n",
      "1.023810625076294\n",
      "1.0063451528549194\n",
      "1.0388786792755127\n",
      "1.0736095905303955\n",
      "1.1047332286834717\n",
      "1.1340252161026\n",
      "1.0837602615356445\n",
      "1.0208337306976318\n",
      "1.0049700736999512\n",
      "0.9998644590377808\n",
      "1.0085556507110596\n",
      "1.0238721370697021\n",
      "1.0106642246246338\n",
      "1.0010557174682617\n"
     ]
    },
    {
     "name": "stderr",
     "output_type": "stream",
     "text": [
      " 14%|█▎        | 2112/15625 [00:21<02:11, 102.44it/s]"
     ]
    },
    {
     "name": "stdout",
     "output_type": "stream",
     "text": [
      "1.0900208950042725\n",
      "0.9953026175498962\n",
      "1.0550696849822998\n",
      "1.0805871486663818\n",
      "1.0168095827102661\n",
      "0.9637745022773743\n",
      "1.0253926515579224\n",
      "1.0428967475891113\n",
      "0.9813199043273926\n",
      "1.0477877855300903\n",
      "1.0027596950531006\n",
      "1.052710771560669\n",
      "1.0527591705322266\n",
      "1.0365118980407715\n",
      "1.105530023574829\n",
      "1.0432066917419434\n",
      "1.0755550861358643\n",
      "1.0256845951080322\n",
      "1.0924369096755981\n",
      "1.052077054977417\n",
      "1.0261240005493164\n"
     ]
    },
    {
     "name": "stderr",
     "output_type": "stream",
     "text": [
      " 14%|█▎        | 2134/15625 [00:22<02:11, 102.70it/s]"
     ]
    },
    {
     "name": "stdout",
     "output_type": "stream",
     "text": [
      "1.1241850852966309\n",
      "1.1094801425933838\n",
      "1.0772459506988525\n",
      "1.0403677225112915\n",
      "1.073559284210205\n",
      "1.0332958698272705\n",
      "1.0667908191680908\n",
      "1.0473928451538086\n",
      "1.0638223886489868\n",
      "1.05189847946167\n",
      "1.0191757678985596\n",
      "1.1214934587478638\n",
      "1.0643352270126343\n",
      "1.073273777961731\n",
      "1.0363943576812744\n",
      "0.9961583614349365\n",
      "1.069138765335083\n",
      "1.0688388347625732\n",
      "1.1242051124572754\n",
      "1.0303674936294556\n",
      "1.038771152496338\n"
     ]
    },
    {
     "name": "stderr",
     "output_type": "stream",
     "text": [
      " 14%|█▍        | 2156/15625 [00:22<02:11, 102.42it/s]"
     ]
    },
    {
     "name": "stdout",
     "output_type": "stream",
     "text": [
      "1.0925512313842773\n",
      "1.0977706909179688\n",
      "1.0534260272979736\n",
      "1.0516357421875\n",
      "1.0931174755096436\n",
      "1.0442509651184082\n",
      "1.0662422180175781\n",
      "1.0523719787597656\n",
      "1.0626918077468872\n",
      "1.0295991897583008\n",
      "1.0645325183868408\n",
      "1.0300462245941162\n",
      "1.0512055158615112\n",
      "1.0313971042633057\n",
      "1.009179711341858\n",
      "1.067609429359436\n",
      "1.0852349996566772\n",
      "0.9935297966003418\n",
      "1.0617575645446777\n",
      "1.1001837253570557\n",
      "1.0877680778503418\n"
     ]
    },
    {
     "name": "stderr",
     "output_type": "stream",
     "text": [
      " 14%|█▍        | 2178/15625 [00:22<02:11, 102.34it/s]"
     ]
    },
    {
     "name": "stdout",
     "output_type": "stream",
     "text": [
      "1.073850154876709\n",
      "1.0795257091522217\n",
      "1.058222770690918\n",
      "1.057370662689209\n",
      "1.0832306146621704\n",
      "1.092473030090332\n",
      "1.097293734550476\n",
      "1.0804288387298584\n",
      "1.1041691303253174\n",
      "1.0256454944610596\n",
      "1.0030183792114258\n",
      "0.9954215288162231\n",
      "1.0386521816253662\n",
      "1.0499277114868164\n",
      "1.004351258277893\n",
      "1.0576008558273315\n",
      "1.0553897619247437\n",
      "1.0216717720031738\n",
      "1.0735441446304321\n",
      "1.050925850868225\n",
      "1.0400209426879883\n"
     ]
    },
    {
     "name": "stderr",
     "output_type": "stream",
     "text": [
      "\r",
      " 14%|█▍        | 2189/15625 [00:22<02:11, 102.29it/s]"
     ]
    },
    {
     "name": "stdout",
     "output_type": "stream",
     "text": [
      "1.0277559757232666\n",
      "1.0043050050735474\n",
      "1.0843052864074707\n",
      "1.0841814279556274\n",
      "1.0412850379943848\n",
      "1.175136923789978\n",
      "1.0385098457336426\n",
      "1.0201997756958008\n",
      "1.0487735271453857\n",
      "1.0243093967437744\n",
      "0.9889318943023682\n",
      "0.9836652278900146\n",
      "1.0363342761993408\n",
      "1.0589475631713867\n",
      "1.072934627532959\n",
      "1.0403695106506348\n",
      "1.1018010377883911\n",
      "1.022732138633728\n",
      "1.0066678524017334\n",
      "1.0633790493011475\n",
      "1.0834715366363525\n"
     ]
    },
    {
     "name": "stderr",
     "output_type": "stream",
     "text": [
      " 14%|█▍        | 2211/15625 [00:22<02:10, 102.98it/s]"
     ]
    },
    {
     "name": "stdout",
     "output_type": "stream",
     "text": [
      "1.0540316104888916\n",
      "1.0998457670211792\n",
      "1.063369631767273\n",
      "1.0365920066833496\n",
      "1.0862852334976196\n",
      "0.9688015580177307\n",
      "1.0887726545333862\n",
      "1.0187733173370361\n",
      "1.0228023529052734\n",
      "1.1099075078964233\n",
      "1.0454107522964478\n",
      "1.1272183656692505\n",
      "0.9830687046051025\n",
      "1.049211025238037\n",
      "1.0944215059280396\n",
      "1.0505541563034058\n",
      "1.0513641834259033\n",
      "1.038657546043396\n",
      "1.044335126876831\n",
      "1.055111050605774\n",
      "1.0611636638641357\n"
     ]
    },
    {
     "name": "stderr",
     "output_type": "stream",
     "text": [
      " 14%|█▍        | 2233/15625 [00:22<02:09, 103.21it/s]"
     ]
    },
    {
     "name": "stdout",
     "output_type": "stream",
     "text": [
      "1.0467469692230225\n",
      "1.041947364807129\n",
      "1.0447781085968018\n",
      "1.0736279487609863\n",
      "0.9646637439727783\n",
      "1.085697889328003\n",
      "1.0690643787384033\n",
      "1.0070245265960693\n",
      "1.0581037998199463\n",
      "1.084112524986267\n",
      "1.0687332153320312\n",
      "1.0095734596252441\n",
      "1.0496649742126465\n",
      "1.068350076675415\n",
      "1.046385645866394\n",
      "1.066151738166809\n",
      "1.088247537612915\n",
      "1.0499083995819092\n",
      "1.0306215286254883\n",
      "1.0258842706680298\n",
      "1.0682307481765747\n"
     ]
    },
    {
     "name": "stderr",
     "output_type": "stream",
     "text": [
      " 14%|█▍        | 2255/15625 [00:23<02:08, 103.67it/s]"
     ]
    },
    {
     "name": "stdout",
     "output_type": "stream",
     "text": [
      "1.089198112487793\n",
      "1.0384502410888672\n",
      "1.0137426853179932\n",
      "1.0765416622161865\n",
      "1.0514442920684814\n",
      "1.100951910018921\n",
      "1.046945571899414\n",
      "1.018141746520996\n",
      "1.0057681798934937\n",
      "1.0058753490447998\n",
      "1.0870788097381592\n",
      "1.0420966148376465\n",
      "1.0230308771133423\n",
      "0.9629688262939453\n",
      "0.9809296131134033\n",
      "1.0141186714172363\n",
      "1.1024131774902344\n",
      "1.0540399551391602\n",
      "1.073021411895752\n",
      "1.0802206993103027\n",
      "1.0508723258972168\n"
     ]
    },
    {
     "name": "stderr",
     "output_type": "stream",
     "text": [
      " 15%|█▍        | 2277/15625 [00:23<02:10, 102.25it/s]"
     ]
    },
    {
     "name": "stdout",
     "output_type": "stream",
     "text": [
      "1.039617896080017\n",
      "1.0359232425689697\n",
      "1.0290273427963257\n",
      "1.015601396560669\n",
      "1.0209808349609375\n",
      "1.1206698417663574\n",
      "1.0751830339431763\n",
      "1.0805559158325195\n",
      "1.1087570190429688\n",
      "1.1147990226745605\n",
      "1.091001272201538\n",
      "1.0513746738433838\n",
      "1.0424714088439941\n",
      "1.0327911376953125\n",
      "1.0799427032470703\n",
      "1.0758233070373535\n",
      "1.0894074440002441\n",
      "1.0322526693344116\n",
      "1.0445722341537476\n",
      "1.013559103012085\n",
      "0.9720665216445923\n"
     ]
    },
    {
     "name": "stderr",
     "output_type": "stream",
     "text": [
      " 15%|█▍        | 2299/15625 [00:23<02:09, 103.14it/s]"
     ]
    },
    {
     "name": "stdout",
     "output_type": "stream",
     "text": [
      "1.054682731628418\n",
      "0.9688500165939331\n",
      "1.0711350440979004\n",
      "1.0886173248291016\n",
      "1.0889489650726318\n",
      "0.999142050743103\n",
      "1.0417392253875732\n",
      "1.0963151454925537\n",
      "1.0620269775390625\n",
      "1.0159144401550293\n",
      "1.0513249635696411\n",
      "1.0734014511108398\n",
      "1.0444374084472656\n",
      "1.1091206073760986\n",
      "1.0153038501739502\n",
      "1.038935661315918\n",
      "1.0423376560211182\n",
      "1.016315221786499\n",
      "1.0307594537734985\n",
      "1.0307466983795166\n",
      "1.0088872909545898\n"
     ]
    },
    {
     "name": "stderr",
     "output_type": "stream",
     "text": [
      " 15%|█▍        | 2321/15625 [00:23<02:09, 103.10it/s]"
     ]
    },
    {
     "name": "stdout",
     "output_type": "stream",
     "text": [
      "1.0210015773773193\n",
      "1.1108129024505615\n",
      "1.0397353172302246\n",
      "1.0146030187606812\n",
      "1.0330349206924438\n",
      "1.0669416189193726\n",
      "1.0492463111877441\n",
      "1.0014190673828125\n",
      "1.0692403316497803\n",
      "1.1068869829177856\n",
      "1.1297800540924072\n",
      "0.9795392751693726\n",
      "1.0473428964614868\n",
      "1.0924749374389648\n",
      "1.1202600002288818\n",
      "1.0413836240768433\n",
      "1.0917878150939941\n",
      "1.0354403257369995\n",
      "1.1438720226287842\n",
      "1.0896306037902832\n",
      "1.0602948665618896\n"
     ]
    },
    {
     "name": "stderr",
     "output_type": "stream",
     "text": [
      " 15%|█▍        | 2343/15625 [00:24<02:07, 103.84it/s]"
     ]
    },
    {
     "name": "stdout",
     "output_type": "stream",
     "text": [
      "1.0574069023132324\n",
      "1.0241107940673828\n",
      "1.036169171333313\n",
      "1.0458002090454102\n",
      "1.024697184562683\n",
      "1.102959156036377\n",
      "1.0474841594696045\n",
      "1.1066980361938477\n",
      "1.0720221996307373\n",
      "1.086503267288208\n",
      "1.1052789688110352\n",
      "1.0680159330368042\n",
      "1.1059143543243408\n",
      "1.0570762157440186\n",
      "1.0578999519348145\n",
      "0.9930925369262695\n",
      "1.0425753593444824\n",
      "1.066426157951355\n",
      "1.0409598350524902\n",
      "1.0145167112350464\n",
      "1.0648576021194458\n",
      "1.067563533782959\n"
     ]
    },
    {
     "name": "stderr",
     "output_type": "stream",
     "text": [
      " 15%|█▌        | 2365/15625 [00:24<02:08, 103.51it/s]"
     ]
    },
    {
     "name": "stdout",
     "output_type": "stream",
     "text": [
      "1.0383344888687134\n",
      "1.0310012102127075\n",
      "1.021989345550537\n",
      "1.0792853832244873\n",
      "1.0123035907745361\n",
      "1.0718739032745361\n",
      "1.02156662940979\n",
      "1.0307332277297974\n",
      "0.9757319688796997\n",
      "1.0307567119598389\n",
      "1.1226515769958496\n",
      "1.091472864151001\n",
      "1.0625866651535034\n",
      "1.0631539821624756\n",
      "1.024705171585083\n",
      "1.0366573333740234\n",
      "1.1221187114715576\n",
      "1.0465006828308105\n",
      "1.0723168849945068\n",
      "1.0597548484802246\n",
      "1.0366647243499756\n"
     ]
    },
    {
     "name": "stderr",
     "output_type": "stream",
     "text": [
      " 15%|█▌        | 2387/15625 [00:24<02:07, 103.93it/s]"
     ]
    },
    {
     "name": "stdout",
     "output_type": "stream",
     "text": [
      "1.0392816066741943\n",
      "1.0341682434082031\n",
      "1.074129343032837\n",
      "1.0293707847595215\n",
      "1.064612627029419\n",
      "1.0809059143066406\n",
      "1.0323883295059204\n",
      "1.0713356733322144\n",
      "1.0667762756347656\n",
      "1.083132266998291\n",
      "1.067217230796814\n",
      "1.0147249698638916\n",
      "1.0756018161773682\n",
      "1.0531914234161377\n",
      "1.0218008756637573\n",
      "1.012969970703125\n",
      "1.0206701755523682\n",
      "1.0477428436279297\n",
      "1.068939447402954\n",
      "1.0304882526397705\n",
      "1.1308832168579102\n"
     ]
    },
    {
     "name": "stderr",
     "output_type": "stream",
     "text": [
      " 15%|█▌        | 2409/15625 [00:24<02:06, 104.63it/s]"
     ]
    },
    {
     "name": "stdout",
     "output_type": "stream",
     "text": [
      "1.1132831573486328\n",
      "1.0564026832580566\n",
      "1.0809954404830933\n",
      "0.9938887357711792\n",
      "1.0516724586486816\n",
      "0.9988583326339722\n",
      "1.0097990036010742\n",
      "1.0232187509536743\n",
      "1.0529320240020752\n",
      "1.0268326997756958\n",
      "1.1616401672363281\n",
      "0.9942284822463989\n",
      "1.0677498579025269\n",
      "1.0667260885238647\n",
      "1.0435364246368408\n",
      "1.0824315547943115\n",
      "1.054348349571228\n",
      "1.0550898313522339\n",
      "0.9953041076660156\n",
      "1.1339640617370605\n",
      "1.002180576324463\n",
      "1.0638699531555176\n"
     ]
    },
    {
     "name": "stderr",
     "output_type": "stream",
     "text": [
      " 16%|█▌        | 2431/15625 [00:24<02:06, 104.22it/s]"
     ]
    },
    {
     "name": "stdout",
     "output_type": "stream",
     "text": [
      "1.0328978300094604\n",
      "1.044610857963562\n",
      "1.0393860340118408\n",
      "1.0492258071899414\n",
      "1.0253981351852417\n",
      "1.0601049661636353\n",
      "1.0401134490966797\n",
      "1.0510220527648926\n",
      "1.0348670482635498\n",
      "0.9886144399642944\n",
      "1.0240306854248047\n",
      "1.042069435119629\n",
      "1.0712600946426392\n",
      "1.0906298160552979\n",
      "1.0569987297058105\n",
      "1.02372407913208\n",
      "1.0113418102264404\n",
      "1.0692458152770996\n",
      "0.9973618984222412\n",
      "1.0701395273208618\n",
      "1.0059118270874023\n"
     ]
    },
    {
     "name": "stderr",
     "output_type": "stream",
     "text": [
      " 16%|█▌        | 2453/15625 [00:25<02:06, 103.99it/s]"
     ]
    },
    {
     "name": "stdout",
     "output_type": "stream",
     "text": [
      "1.0543923377990723\n",
      "1.0782628059387207\n",
      "1.0669171810150146\n",
      "1.065921425819397\n",
      "1.0488706827163696\n",
      "1.0360791683197021\n",
      "1.086334466934204\n",
      "1.1105067729949951\n",
      "1.0083320140838623\n",
      "1.1094592809677124\n",
      "1.053715467453003\n",
      "1.0307388305664062\n",
      "1.0588092803955078\n",
      "1.0612006187438965\n",
      "1.0482157468795776\n",
      "1.0801218748092651\n",
      "1.0781359672546387\n",
      "1.0183802843093872\n",
      "1.0119636058807373\n",
      "1.083569049835205\n",
      "1.0209381580352783\n"
     ]
    },
    {
     "name": "stderr",
     "output_type": "stream",
     "text": [
      "\r",
      " 16%|█▌        | 2464/15625 [00:25<02:07, 103.53it/s]"
     ]
    },
    {
     "name": "stdout",
     "output_type": "stream",
     "text": [
      "1.0809928178787231\n",
      "1.0840439796447754\n",
      "0.9869875907897949\n",
      "1.0988376140594482\n",
      "1.0767358541488647\n",
      "1.029052972793579\n",
      "1.0241132974624634\n",
      "1.0793052911758423\n",
      "1.1097033023834229\n",
      "0.982629120349884\n",
      "1.0393290519714355\n",
      "1.053415298461914\n",
      "1.0608338117599487\n",
      "1.0214505195617676\n",
      "1.0489583015441895\n",
      "0.9742092490196228\n",
      "1.0228376388549805\n",
      "1.1170941591262817\n",
      "1.0273945331573486\n",
      "1.0809013843536377\n",
      "0.9700590372085571\n"
     ]
    },
    {
     "name": "stderr",
     "output_type": "stream",
     "text": [
      " 16%|█▌        | 2486/15625 [00:25<02:07, 102.99it/s]"
     ]
    },
    {
     "name": "stdout",
     "output_type": "stream",
     "text": [
      "1.0718936920166016\n",
      "1.04922616481781\n",
      "1.0889489650726318\n",
      "1.0285706520080566\n",
      "1.0667678117752075\n",
      "1.0609326362609863\n",
      "1.0076935291290283\n",
      "1.0858659744262695\n",
      "1.0316758155822754\n",
      "1.0875638723373413\n",
      "1.0567331314086914\n",
      "1.0754358768463135\n",
      "1.0215775966644287\n",
      "1.0982277393341064\n",
      "1.0455787181854248\n",
      "1.0419895648956299\n",
      "1.0646333694458008\n",
      "1.0302889347076416\n",
      "1.0336384773254395\n",
      "1.0502238273620605\n",
      "1.0589847564697266\n"
     ]
    },
    {
     "name": "stderr",
     "output_type": "stream",
     "text": [
      " 16%|█▌        | 2508/15625 [00:25<02:07, 103.00it/s]"
     ]
    },
    {
     "name": "stdout",
     "output_type": "stream",
     "text": [
      "1.0442636013031006\n",
      "1.0746219158172607\n",
      "1.0140483379364014\n",
      "1.0388953685760498\n",
      "1.043529748916626\n",
      "1.0535273551940918\n",
      "1.0786077976226807\n",
      "1.1193935871124268\n",
      "1.1031098365783691\n",
      "1.0755949020385742\n",
      "1.0060487985610962\n",
      "1.0440804958343506\n",
      "1.0339205265045166\n",
      "1.0779212713241577\n",
      "1.0511243343353271\n",
      "1.0463645458221436\n",
      "1.0466077327728271\n",
      "1.0885635614395142\n",
      "1.078210711479187\n",
      "1.0047558546066284\n",
      "1.0886387825012207\n"
     ]
    },
    {
     "name": "stderr",
     "output_type": "stream",
     "text": [
      " 16%|█▌        | 2529/15625 [00:25<02:31, 86.61it/s] "
     ]
    },
    {
     "name": "stdout",
     "output_type": "stream",
     "text": [
      "1.0241997241973877\n",
      "1.063338279724121\n",
      "1.0203542709350586\n",
      "1.0583925247192383\n",
      "1.078040599822998\n",
      "1.0369946956634521\n",
      "1.0555304288864136\n",
      "1.0489866733551025\n",
      "1.0264787673950195\n",
      "1.0209624767303467\n",
      "1.039000391960144\n",
      "1.0347037315368652\n",
      "1.0522050857543945\n",
      "1.0541565418243408\n"
     ]
    },
    {
     "name": "stderr",
     "output_type": "stream",
     "text": [
      " 16%|█▋        | 2548/15625 [00:26<02:30, 86.97it/s]"
     ]
    },
    {
     "name": "stdout",
     "output_type": "stream",
     "text": [
      "1.0390584468841553\n",
      "0.9937737584114075\n",
      "1.0977709293365479\n",
      "1.0821417570114136\n",
      "1.0763156414031982\n",
      "1.0603070259094238\n",
      "1.0546646118164062\n",
      "1.0721845626831055\n",
      "1.089996576309204\n",
      "1.019128680229187\n",
      "1.0867810249328613\n",
      "1.0061498880386353\n",
      "1.0366638898849487\n",
      "1.0506950616836548\n",
      "0.9867446422576904\n",
      "1.0565478801727295\n",
      "1.0224601030349731\n",
      "1.0702943801879883\n"
     ]
    },
    {
     "name": "stderr",
     "output_type": "stream",
     "text": [
      " 16%|█▋        | 2568/15625 [00:26<02:21, 92.16it/s]"
     ]
    },
    {
     "name": "stdout",
     "output_type": "stream",
     "text": [
      "1.0952636003494263\n",
      "1.1274824142456055\n",
      "1.0269609689712524\n",
      "1.0052452087402344\n",
      "1.033158540725708\n",
      "1.0642122030258179\n",
      "1.068286418914795\n",
      "1.0378267765045166\n",
      "1.0436007976531982\n",
      "1.100915789604187\n",
      "1.0558569431304932\n",
      "1.0414767265319824\n",
      "1.068051815032959\n",
      "1.0195788145065308\n",
      "1.093116044998169\n",
      "1.0712718963623047\n",
      "1.0245568752288818\n",
      "1.0874357223510742\n",
      "1.0717740058898926\n",
      "1.0632013082504272\n"
     ]
    },
    {
     "name": "stderr",
     "output_type": "stream",
     "text": [
      "\r",
      " 16%|█▋        | 2578/15625 [00:26<02:18, 94.00it/s]"
     ]
    },
    {
     "name": "stdout",
     "output_type": "stream",
     "text": [
      "1.0336880683898926\n",
      "1.0792940855026245\n",
      "1.0259486436843872\n",
      "1.0738418102264404\n",
      "1.007473111152649\n",
      "1.0092219114303589\n",
      "1.0809855461120605\n",
      "1.0392022132873535\n",
      "1.0754128694534302\n",
      "1.0436067581176758\n",
      "1.0821683406829834\n",
      "1.0545246601104736\n",
      "1.0490550994873047\n",
      "1.0416622161865234\n",
      "1.1503092050552368\n",
      "1.0767279863357544\n",
      "1.010717511177063\n",
      "1.015177845954895\n",
      "1.0475165843963623\n",
      "0.9918938875198364\n",
      "1.04474937915802\n"
     ]
    },
    {
     "name": "stderr",
     "output_type": "stream",
     "text": [
      " 17%|█▋        | 2600/15625 [00:26<02:13, 97.70it/s]"
     ]
    },
    {
     "name": "stdout",
     "output_type": "stream",
     "text": [
      "1.0802290439605713\n",
      "0.9996265172958374\n",
      "1.0683809518814087\n",
      "1.058152198791504\n",
      "1.0787444114685059\n",
      "1.0894994735717773\n",
      "1.0685538053512573\n",
      "1.1088653802871704\n",
      "1.0657124519348145\n",
      "1.0216319561004639\n",
      "1.034493088722229\n",
      "1.0466551780700684\n",
      "0.9855276346206665\n",
      "1.0492846965789795\n",
      "1.0768544673919678\n",
      "1.0738282203674316\n",
      "0.9802793264389038\n",
      "1.1095772981643677\n",
      "1.0426830053329468\n",
      "0.9903993606567383\n",
      "1.0053107738494873\n"
     ]
    },
    {
     "name": "stderr",
     "output_type": "stream",
     "text": [
      " 17%|█▋        | 2622/15625 [00:26<02:10, 99.47it/s]"
     ]
    },
    {
     "name": "stdout",
     "output_type": "stream",
     "text": [
      "1.0951757431030273\n",
      "1.0618407726287842\n",
      "1.073956847190857\n",
      "1.0180648565292358\n",
      "1.0531456470489502\n",
      "1.0712032318115234\n",
      "1.033315658569336\n",
      "1.020338535308838\n",
      "1.0755066871643066\n",
      "1.0632485151290894\n",
      "1.0646981000900269\n",
      "1.0316615104675293\n",
      "1.0260393619537354\n",
      "1.0292352437973022\n",
      "1.1201226711273193\n",
      "1.0245769023895264\n",
      "1.0029371976852417\n",
      "1.0488507747650146\n",
      "1.043422818183899\n",
      "1.0892047882080078\n",
      "1.0187253952026367\n"
     ]
    },
    {
     "name": "stderr",
     "output_type": "stream",
     "text": [
      " 17%|█▋        | 2644/15625 [00:27<02:08, 101.31it/s]"
     ]
    },
    {
     "name": "stdout",
     "output_type": "stream",
     "text": [
      "1.0562270879745483\n",
      "1.067866325378418\n",
      "1.0517454147338867\n",
      "1.0928059816360474\n",
      "1.0680246353149414\n",
      "1.0569666624069214\n",
      "1.0158147811889648\n",
      "1.009929895401001\n",
      "1.0578563213348389\n",
      "1.0479744672775269\n",
      "1.024721622467041\n",
      "0.9969699382781982\n",
      "1.0337684154510498\n",
      "1.0624337196350098\n",
      "1.0558562278747559\n",
      "1.0298027992248535\n",
      "1.0738048553466797\n",
      "1.0431967973709106\n",
      "1.0097523927688599\n",
      "1.0394957065582275\n",
      "1.0391285419464111\n"
     ]
    },
    {
     "name": "stderr",
     "output_type": "stream",
     "text": [
      " 17%|█▋        | 2666/15625 [00:27<02:06, 102.33it/s]"
     ]
    },
    {
     "name": "stdout",
     "output_type": "stream",
     "text": [
      "1.0351519584655762\n",
      "1.0827878713607788\n",
      "1.0363281965255737\n",
      "1.0132184028625488\n",
      "0.9970014095306396\n",
      "1.067826509475708\n",
      "1.0955642461776733\n",
      "1.0166006088256836\n",
      "1.036389946937561\n",
      "1.043917179107666\n",
      "1.0227774381637573\n",
      "1.0182875394821167\n",
      "1.0473089218139648\n",
      "1.0337464809417725\n",
      "1.040176510810852\n",
      "1.0019956827163696\n",
      "1.054959774017334\n",
      "1.00779128074646\n",
      "1.025425672531128\n",
      "0.984591543674469\n",
      "1.0198044776916504\n"
     ]
    },
    {
     "name": "stderr",
     "output_type": "stream",
     "text": [
      " 17%|█▋        | 2688/15625 [00:27<02:06, 102.58it/s]"
     ]
    },
    {
     "name": "stdout",
     "output_type": "stream",
     "text": [
      "1.0257744789123535\n",
      "1.0322809219360352\n",
      "1.0718910694122314\n",
      "1.0410780906677246\n",
      "1.0733139514923096\n",
      "1.0356154441833496\n",
      "0.9741817712783813\n",
      "1.0148749351501465\n",
      "1.0054763555526733\n",
      "1.0823330879211426\n",
      "1.0993165969848633\n",
      "1.031164288520813\n",
      "1.0011836290359497\n",
      "1.0907975435256958\n",
      "1.1227868795394897\n",
      "1.0830211639404297\n",
      "1.021510362625122\n",
      "1.0470515489578247\n",
      "1.0227093696594238\n",
      "1.054288625717163\n",
      "1.0033507347106934\n"
     ]
    },
    {
     "name": "stderr",
     "output_type": "stream",
     "text": [
      " 17%|█▋        | 2710/15625 [00:27<02:07, 101.56it/s]"
     ]
    },
    {
     "name": "stdout",
     "output_type": "stream",
     "text": [
      "1.0029296875\n",
      "1.0406110286712646\n",
      "1.0035218000411987\n",
      "1.0731291770935059\n",
      "1.0860679149627686\n",
      "1.0655996799468994\n",
      "0.9853445291519165\n",
      "1.0649495124816895\n",
      "1.0877158641815186\n",
      "1.04380464553833\n",
      "1.049870491027832\n",
      "1.0830023288726807\n",
      "1.0362367630004883\n",
      "1.0720622539520264\n",
      "1.0032457113265991\n",
      "1.0732464790344238\n",
      "1.055420160293579\n",
      "1.0632190704345703\n",
      "1.0334632396697998\n",
      "1.0751256942749023\n",
      "1.0252795219421387\n"
     ]
    },
    {
     "name": "stderr",
     "output_type": "stream",
     "text": [
      " 17%|█▋        | 2732/15625 [00:27<02:08, 100.46it/s]"
     ]
    },
    {
     "name": "stdout",
     "output_type": "stream",
     "text": [
      "1.081892967224121\n",
      "1.0075838565826416\n",
      "1.065589427947998\n",
      "1.0444415807724\n",
      "1.09621262550354\n",
      "1.062686562538147\n",
      "1.0153120756149292\n",
      "1.0637074708938599\n",
      "0.9574071168899536\n",
      "1.0254688262939453\n",
      "0.99263596534729\n",
      "1.067968726158142\n",
      "1.0411407947540283\n",
      "1.0519845485687256\n",
      "1.0150995254516602\n",
      "1.0768399238586426\n",
      "1.095459222793579\n",
      "1.0908880233764648\n",
      "1.0306581258773804\n",
      "1.0773587226867676\n",
      "1.0731885433197021\n"
     ]
    },
    {
     "name": "stderr",
     "output_type": "stream",
     "text": [
      " 18%|█▊        | 2753/15625 [00:28<02:08, 99.85it/s] "
     ]
    },
    {
     "name": "stdout",
     "output_type": "stream",
     "text": [
      "1.043536901473999\n",
      "1.0725831985473633\n",
      "1.0621190071105957\n",
      "1.1012728214263916\n",
      "1.0318658351898193\n",
      "1.027388334274292\n",
      "1.0462102890014648\n",
      "1.0262320041656494\n",
      "0.988491952419281\n",
      "1.0481479167938232\n",
      "1.0434205532073975\n",
      "1.0236530303955078\n",
      "1.0495245456695557\n",
      "1.0141940116882324\n",
      "1.0589487552642822\n",
      "1.0101420879364014\n",
      "1.1037161350250244\n",
      "1.0914949178695679\n",
      "1.0359457731246948\n",
      "1.1013436317443848\n",
      "1.0617549419403076\n"
     ]
    },
    {
     "name": "stderr",
     "output_type": "stream",
     "text": [
      " 18%|█▊        | 2774/15625 [00:28<02:09, 99.61it/s]"
     ]
    },
    {
     "name": "stdout",
     "output_type": "stream",
     "text": [
      "1.028555154800415\n",
      "1.0332362651824951\n",
      "1.0685241222381592\n",
      "1.0671790838241577\n",
      "1.058305263519287\n",
      "1.0228757858276367\n",
      "0.9997660517692566\n",
      "1.014643907546997\n",
      "0.970720648765564\n",
      "1.0174133777618408\n",
      "1.0312453508377075\n",
      "1.0222057104110718\n",
      "1.0344412326812744\n",
      "1.0274959802627563\n",
      "1.0056757926940918\n",
      "1.0991886854171753\n",
      "1.0358967781066895\n",
      "1.0527348518371582\n",
      "1.0300894975662231\n",
      "1.100282073020935\n",
      "1.030288815498352\n"
     ]
    },
    {
     "name": "stderr",
     "output_type": "stream",
     "text": [
      " 18%|█▊        | 2796/15625 [00:28<02:08, 100.14it/s]"
     ]
    },
    {
     "name": "stdout",
     "output_type": "stream",
     "text": [
      "1.0511797666549683\n",
      "1.0588653087615967\n",
      "1.1287143230438232\n",
      "1.041548728942871\n",
      "1.0714640617370605\n",
      "1.066773772239685\n",
      "0.9743740558624268\n",
      "1.0410072803497314\n",
      "1.0377914905548096\n",
      "1.0384151935577393\n",
      "1.0120556354522705\n",
      "1.0245305299758911\n",
      "1.0463677644729614\n",
      "1.0317498445510864\n",
      "1.0330538749694824\n",
      "1.0667716264724731\n",
      "1.027216911315918\n",
      "1.058955192565918\n",
      "1.0121346712112427\n",
      "1.078779697418213\n",
      "1.0390180349349976\n"
     ]
    },
    {
     "name": "stderr",
     "output_type": "stream",
     "text": [
      " 18%|█▊        | 2818/15625 [00:28<02:07, 100.35it/s]"
     ]
    },
    {
     "name": "stdout",
     "output_type": "stream",
     "text": [
      "0.9884289503097534\n",
      "1.042778730392456\n",
      "1.0817846059799194\n",
      "1.0514259338378906\n",
      "1.044503092765808\n",
      "1.103747844696045\n",
      "1.0171650648117065\n",
      "1.0005841255187988\n",
      "1.0833754539489746\n",
      "1.0776445865631104\n",
      "0.9867016673088074\n",
      "0.971778392791748\n",
      "1.0498604774475098\n",
      "1.0463907718658447\n",
      "1.0021764039993286\n",
      "1.0863678455352783\n",
      "1.00917649269104\n",
      "1.0590938329696655\n",
      "0.9864748120307922\n",
      "1.047438621520996\n",
      "1.0874775648117065\n"
     ]
    },
    {
     "name": "stderr",
     "output_type": "stream",
     "text": [
      " 18%|█▊        | 2840/15625 [00:29<02:07, 100.19it/s]"
     ]
    },
    {
     "name": "stdout",
     "output_type": "stream",
     "text": [
      "1.0758767127990723\n",
      "1.040296196937561\n",
      "1.0360499620437622\n",
      "1.0494561195373535\n",
      "1.0478649139404297\n",
      "1.079087734222412\n",
      "1.0769693851470947\n",
      "1.0852382183074951\n",
      "1.0600160360336304\n",
      "1.0016639232635498\n",
      "0.9625213146209717\n",
      "1.0528771877288818\n",
      "1.0313291549682617\n",
      "1.041808843612671\n",
      "1.0279734134674072\n",
      "1.065021276473999\n",
      "1.0583751201629639\n",
      "1.061234712600708\n",
      "1.0697373151779175\n",
      "0.9772474765777588\n",
      "1.0497381687164307\n"
     ]
    },
    {
     "name": "stderr",
     "output_type": "stream",
     "text": [
      "\r",
      " 18%|█▊        | 2851/15625 [00:29<02:07, 100.12it/s]"
     ]
    },
    {
     "name": "stdout",
     "output_type": "stream",
     "text": [
      "0.9658678770065308\n",
      "1.000372052192688\n",
      "1.063711166381836\n",
      "1.035204291343689\n",
      "1.064911127090454\n",
      "0.974786639213562\n",
      "1.0732321739196777\n",
      "0.978571355342865\n",
      "1.0689221620559692\n",
      "1.0467994213104248\n",
      "1.061679720878601\n",
      "1.0943799018859863\n",
      "1.0850651264190674\n",
      "0.987649142742157\n",
      "1.0366005897521973\n",
      "1.1156766414642334\n",
      "1.0229618549346924\n",
      "1.0377452373504639\n",
      "1.0783344507217407\n",
      "1.1395988464355469\n",
      "0.9878661632537842\n"
     ]
    },
    {
     "name": "stderr",
     "output_type": "stream",
     "text": [
      " 18%|█▊        | 2872/15625 [00:29<02:21, 90.17it/s] "
     ]
    },
    {
     "name": "stdout",
     "output_type": "stream",
     "text": [
      "1.0694162845611572\n",
      "1.0347596406936646\n",
      "0.9775355458259583\n",
      "1.089271068572998\n",
      "1.0341992378234863\n",
      "1.0479518175125122\n",
      "1.1063551902770996\n",
      "1.0309792757034302\n",
      "1.055059552192688\n",
      "1.123145341873169\n",
      "1.0263066291809082\n",
      "1.0377554893493652\n",
      "1.1146223545074463\n",
      "1.069123387336731\n",
      "0.9802745580673218\n",
      "1.0656628608703613\n"
     ]
    },
    {
     "name": "stderr",
     "output_type": "stream",
     "text": [
      " 19%|█▊        | 2893/15625 [00:29<02:16, 93.02it/s]"
     ]
    },
    {
     "name": "stdout",
     "output_type": "stream",
     "text": [
      "1.0970544815063477\n",
      "1.0347084999084473\n",
      "1.0644680261611938\n",
      "1.0299004316329956\n",
      "1.124725580215454\n",
      "1.0899043083190918\n",
      "1.0751512050628662\n",
      "1.0658799409866333\n",
      "1.0112465620040894\n",
      "1.0661122798919678\n",
      "1.0381733179092407\n",
      "1.0478272438049316\n",
      "1.0268199443817139\n",
      "1.0303161144256592\n",
      "1.086014747619629\n",
      "1.0458009243011475\n",
      "1.034248948097229\n",
      "1.1227364540100098\n",
      "1.0189712047576904\n",
      "1.0662202835083008\n"
     ]
    },
    {
     "name": "stderr",
     "output_type": "stream",
     "text": [
      " 19%|█▊        | 2913/15625 [00:29<02:20, 90.70it/s]"
     ]
    },
    {
     "name": "stdout",
     "output_type": "stream",
     "text": [
      "1.054259181022644\n",
      "1.0909817218780518\n",
      "1.0214821100234985\n",
      "1.039506196975708\n",
      "1.053026795387268\n",
      "1.0873470306396484\n",
      "1.0372605323791504\n",
      "1.0490272045135498\n",
      "1.0758569240570068\n",
      "1.0686101913452148\n",
      "1.060042142868042\n",
      "1.0985381603240967\n",
      "1.0158298015594482\n",
      "1.0772700309753418\n",
      "1.0825331211090088\n",
      "0.9682862162590027\n",
      "0.9840593338012695\n",
      "1.0032222270965576\n",
      "1.092881679534912\n"
     ]
    },
    {
     "name": "stderr",
     "output_type": "stream",
     "text": [
      " 19%|█▉        | 2935/15625 [00:30<02:12, 95.83it/s]"
     ]
    },
    {
     "name": "stdout",
     "output_type": "stream",
     "text": [
      "1.085979700088501\n",
      "1.085389494895935\n",
      "1.0291476249694824\n",
      "1.0824744701385498\n",
      "1.0363048315048218\n",
      "1.0891281366348267\n",
      "1.0225735902786255\n",
      "1.0793778896331787\n",
      "1.0963337421417236\n",
      "1.011720895767212\n",
      "1.0453736782073975\n",
      "1.023707389831543\n",
      "1.0466079711914062\n",
      "1.0276193618774414\n",
      "1.0393507480621338\n",
      "1.0616430044174194\n",
      "1.041931390762329\n",
      "1.0270906686782837\n",
      "1.0214061737060547\n",
      "1.0189731121063232\n",
      "1.0241010189056396\n"
     ]
    },
    {
     "name": "stderr",
     "output_type": "stream",
     "text": [
      " 19%|█▉        | 2957/15625 [00:30<02:08, 98.58it/s]"
     ]
    },
    {
     "name": "stdout",
     "output_type": "stream",
     "text": [
      "1.0524982213974\n",
      "1.1036748886108398\n",
      "1.0407650470733643\n",
      "1.089630365371704\n",
      "1.1252859830856323\n",
      "1.063165545463562\n",
      "1.0126760005950928\n",
      "1.0769412517547607\n",
      "0.9913787841796875\n",
      "1.0279611349105835\n",
      "1.0483403205871582\n",
      "1.0586955547332764\n",
      "1.0457441806793213\n",
      "1.0867470502853394\n",
      "0.9957913160324097\n",
      "1.065132975578308\n",
      "1.0420217514038086\n",
      "1.07207190990448\n",
      "1.0540730953216553\n",
      "1.0089974403381348\n",
      "1.0115351676940918\n"
     ]
    },
    {
     "name": "stderr",
     "output_type": "stream",
     "text": [
      " 19%|█▉        | 2979/15625 [00:30<02:05, 100.39it/s]"
     ]
    },
    {
     "name": "stdout",
     "output_type": "stream",
     "text": [
      "1.0702205896377563\n",
      "1.1329652070999146\n",
      "1.0359859466552734\n",
      "1.089408040046692\n",
      "1.0663657188415527\n",
      "0.9662747383117676\n",
      "1.0971629619598389\n",
      "1.0604157447814941\n",
      "1.0666090250015259\n",
      "1.035905361175537\n",
      "0.9519304037094116\n",
      "1.0800246000289917\n",
      "1.0615510940551758\n",
      "1.0414035320281982\n",
      "1.06953763961792\n",
      "1.0629825592041016\n",
      "1.0379120111465454\n",
      "1.0745375156402588\n",
      "0.9864776134490967\n",
      "1.0614370107650757\n",
      "1.0461511611938477\n"
     ]
    },
    {
     "name": "stderr",
     "output_type": "stream",
     "text": [
      " 19%|█▉        | 3001/15625 [00:30<02:03, 101.91it/s]"
     ]
    },
    {
     "name": "stdout",
     "output_type": "stream",
     "text": [
      "1.0341150760650635\n",
      "1.0442309379577637\n",
      "1.0171124935150146\n",
      "1.010103464126587\n",
      "1.0387463569641113\n",
      "1.0573570728302002\n",
      "1.0240073204040527\n",
      "1.0638810396194458\n",
      "1.0105199813842773\n",
      "1.0546294450759888\n",
      "0.9740030765533447\n",
      "1.0361863374710083\n",
      "0.9677777290344238\n",
      "1.0612196922302246\n",
      "1.0598945617675781\n",
      "1.031199336051941\n",
      "1.0289921760559082\n",
      "1.0802892446517944\n",
      "1.07659912109375\n",
      "1.025399923324585\n",
      "1.064059853553772\n"
     ]
    },
    {
     "name": "stderr",
     "output_type": "stream",
     "text": [
      "\r",
      " 19%|█▉        | 3012/15625 [00:30<02:03, 102.26it/s]"
     ]
    },
    {
     "name": "stdout",
     "output_type": "stream",
     "text": [
      "0.999820351600647\n",
      "1.0116275548934937\n",
      "1.08583664894104\n",
      "1.113435983657837\n",
      "1.1189444065093994\n",
      "1.0042405128479004\n",
      "1.006319522857666\n",
      "1.0910171270370483\n",
      "1.0491502285003662\n",
      "1.0353708267211914\n",
      "1.0498617887496948\n",
      "1.0272619724273682\n",
      "0.993313193321228\n",
      "1.1386380195617676\n",
      "1.0602216720581055\n",
      "1.0490870475769043\n",
      "1.052117109298706\n",
      "1.0340204238891602\n",
      "1.0394365787506104\n",
      "0.9993230104446411\n",
      "1.0273797512054443\n"
     ]
    },
    {
     "name": "stderr",
     "output_type": "stream",
     "text": [
      " 19%|█▉        | 3034/15625 [00:31<02:02, 102.86it/s]"
     ]
    },
    {
     "name": "stdout",
     "output_type": "stream",
     "text": [
      "1.0703678131103516\n",
      "1.0107786655426025\n",
      "1.028594970703125\n",
      "0.9827522039413452\n",
      "1.0544061660766602\n",
      "1.0264250040054321\n",
      "1.0163325071334839\n",
      "0.9723769426345825\n",
      "1.052648901939392\n",
      "1.0380529165267944\n",
      "1.111422061920166\n",
      "1.017735481262207\n",
      "1.039989948272705\n",
      "0.9844873547554016\n",
      "1.0217561721801758\n",
      "1.029405951499939\n",
      "1.028712511062622\n",
      "1.0339467525482178\n",
      "1.0203001499176025\n",
      "1.0436391830444336\n",
      "1.082932710647583\n"
     ]
    },
    {
     "name": "stderr",
     "output_type": "stream",
     "text": [
      " 20%|█▉        | 3056/15625 [00:31<02:01, 103.04it/s]"
     ]
    },
    {
     "name": "stdout",
     "output_type": "stream",
     "text": [
      "1.0107131004333496\n",
      "1.055487871170044\n",
      "1.0701301097869873\n",
      "1.0450844764709473\n",
      "1.0448386669158936\n",
      "1.0170924663543701\n",
      "1.034997820854187\n",
      "1.0848476886749268\n",
      "1.0612432956695557\n",
      "1.0632859468460083\n",
      "1.0953457355499268\n",
      "1.0744221210479736\n",
      "1.0133891105651855\n",
      "1.0851541757583618\n",
      "1.0583698749542236\n",
      "1.0279557704925537\n",
      "1.0921962261199951\n",
      "1.1070245504379272\n",
      "1.0800652503967285\n",
      "1.0244531631469727\n",
      "1.0698468685150146\n"
     ]
    },
    {
     "name": "stderr",
     "output_type": "stream",
     "text": [
      " 20%|█▉        | 3078/15625 [00:31<02:02, 102.40it/s]"
     ]
    },
    {
     "name": "stdout",
     "output_type": "stream",
     "text": [
      "1.082905650138855\n",
      "1.0336490869522095\n",
      "1.0391490459442139\n",
      "1.024559736251831\n",
      "1.0110574960708618\n",
      "1.0264760255813599\n",
      "1.0486645698547363\n",
      "1.060370683670044\n",
      "1.0327467918395996\n",
      "1.0438538789749146\n",
      "1.0143985748291016\n",
      "1.048384189605713\n",
      "0.9495830535888672\n",
      "1.019005298614502\n",
      "1.0365654230117798\n",
      "1.0439597368240356\n",
      "1.0345838069915771\n",
      "1.0225257873535156\n",
      "1.0845973491668701\n",
      "1.0061718225479126\n",
      "1.020982027053833\n"
     ]
    },
    {
     "name": "stderr",
     "output_type": "stream",
     "text": [
      " 20%|█▉        | 3100/15625 [00:31<02:02, 102.26it/s]"
     ]
    },
    {
     "name": "stdout",
     "output_type": "stream",
     "text": [
      "1.0070598125457764\n",
      "1.0248980522155762\n",
      "1.0296849012374878\n",
      "1.0527493953704834\n",
      "1.0316498279571533\n",
      "1.048733115196228\n",
      "1.015897274017334\n",
      "1.015650987625122\n",
      "1.0747021436691284\n",
      "1.0537545680999756\n",
      "1.0051226615905762\n",
      "1.0220454931259155\n",
      "1.095120906829834\n",
      "1.0122191905975342\n",
      "1.057297706604004\n",
      "1.1586347818374634\n",
      "1.004317283630371\n",
      "1.0693756341934204\n",
      "1.0953216552734375\n",
      "1.054065465927124\n",
      "1.0591853857040405\n"
     ]
    },
    {
     "name": "stderr",
     "output_type": "stream",
     "text": [
      " 20%|█▉        | 3122/15625 [00:31<02:02, 101.94it/s]"
     ]
    },
    {
     "name": "stdout",
     "output_type": "stream",
     "text": [
      "1.0217249393463135\n",
      "1.0451467037200928\n",
      "1.0430397987365723\n",
      "1.0667287111282349\n",
      "1.0862421989440918\n",
      "1.0587105751037598\n",
      "1.0182373523712158\n",
      "1.0336976051330566\n",
      "1.0700117349624634\n",
      "1.008744478225708\n",
      "1.029176950454712\n",
      "1.0468798875808716\n",
      "0.993871808052063\n",
      "1.0360848903656006\n",
      "1.0378801822662354\n",
      "1.0588901042938232\n",
      "1.0414984226226807\n",
      "1.054520845413208\n",
      "1.0919302701950073\n",
      "1.0073210000991821\n",
      "1.0596798658370972\n"
     ]
    },
    {
     "name": "stderr",
     "output_type": "stream",
     "text": [
      " 20%|██        | 3144/15625 [00:32<02:02, 102.20it/s]"
     ]
    },
    {
     "name": "stdout",
     "output_type": "stream",
     "text": [
      "1.0114669799804688\n",
      "1.0228999853134155\n",
      "1.0477110147476196\n",
      "1.1027427911758423\n",
      "1.1006319522857666\n",
      "0.9883661866188049\n",
      "1.0707030296325684\n",
      "0.9850362539291382\n",
      "1.0458388328552246\n",
      "0.9725134372711182\n",
      "1.0529817342758179\n",
      "1.1125671863555908\n",
      "1.034332275390625\n",
      "1.022617220878601\n",
      "1.059746265411377\n",
      "1.0798921585083008\n",
      "1.0309257507324219\n",
      "1.0362772941589355\n",
      "1.1047654151916504\n",
      "1.0605279207229614\n",
      "1.0240683555603027\n"
     ]
    },
    {
     "name": "stderr",
     "output_type": "stream",
     "text": [
      " 20%|██        | 3166/15625 [00:32<02:01, 102.52it/s]"
     ]
    },
    {
     "name": "stdout",
     "output_type": "stream",
     "text": [
      "1.0562403202056885\n",
      "1.0694570541381836\n",
      "1.066235899925232\n",
      "1.0169544219970703\n",
      "1.0540614128112793\n",
      "1.0425705909729004\n",
      "1.000257968902588\n",
      "0.9876677989959717\n",
      "1.1055597066879272\n",
      "1.0706537961959839\n",
      "1.067643404006958\n",
      "1.0496375560760498\n",
      "1.017358660697937\n",
      "1.0643693208694458\n",
      "1.0524730682373047\n",
      "1.1022849082946777\n",
      "1.0728886127471924\n",
      "1.042389154434204\n",
      "1.0487974882125854\n",
      "1.0223146677017212\n",
      "1.0300325155258179\n"
     ]
    },
    {
     "name": "stderr",
     "output_type": "stream",
     "text": [
      " 20%|██        | 3188/15625 [00:32<02:01, 102.40it/s]"
     ]
    },
    {
     "name": "stdout",
     "output_type": "stream",
     "text": [
      "1.0689444541931152\n",
      "1.0290658473968506\n",
      "1.0501487255096436\n",
      "1.0502195358276367\n",
      "1.0018011331558228\n",
      "1.0128440856933594\n",
      "1.0775058269500732\n",
      "1.0990209579467773\n",
      "0.9953116178512573\n",
      "0.9981924295425415\n",
      "1.0661011934280396\n",
      "1.005631923675537\n",
      "0.9741545915603638\n",
      "0.9961655139923096\n",
      "1.0494014024734497\n",
      "1.0855562686920166\n",
      "1.0374072790145874\n",
      "1.0565093755722046\n",
      "1.0121022462844849\n",
      "1.0347115993499756\n",
      "1.0768072605133057\n"
     ]
    },
    {
     "name": "stderr",
     "output_type": "stream",
     "text": [
      "\r",
      " 20%|██        | 3199/15625 [00:32<02:01, 102.10it/s]"
     ]
    },
    {
     "name": "stdout",
     "output_type": "stream",
     "text": [
      "1.0623772144317627\n",
      "1.0652440786361694\n",
      "0.9951683282852173\n",
      "1.0499708652496338\n",
      "1.077564001083374\n",
      "1.034585952758789\n",
      "1.0523713827133179\n",
      "1.0585614442825317\n",
      "1.0278470516204834\n",
      "1.0240213871002197\n",
      "1.031596064567566\n",
      "1.0044323205947876\n",
      "1.0241823196411133\n",
      "1.0206948518753052\n",
      "1.0020800828933716\n",
      "1.0648245811462402\n",
      "1.030163049697876\n",
      "1.0494059324264526\n",
      "1.0775971412658691\n",
      "1.0392060279846191\n"
     ]
    },
    {
     "name": "stderr",
     "output_type": "stream",
     "text": [
      " 21%|██        | 3220/15625 [00:32<02:13, 93.06it/s] "
     ]
    },
    {
     "name": "stdout",
     "output_type": "stream",
     "text": [
      "1.0362977981567383\n",
      "1.0553028583526611\n",
      "1.0294547080993652\n",
      "1.0069776773452759\n",
      "1.0567548274993896\n",
      "1.0340250730514526\n",
      "1.0529186725616455\n",
      "1.0604305267333984\n",
      "1.0701651573181152\n",
      "1.102099895477295\n",
      "1.0492948293685913\n",
      "1.0472111701965332\n",
      "1.0903918743133545\n",
      "1.0529448986053467\n",
      "1.059340476989746\n",
      "1.0724282264709473\n",
      "1.075465440750122\n",
      "0.990199089050293\n",
      "1.0356680154800415\n"
     ]
    },
    {
     "name": "stderr",
     "output_type": "stream",
     "text": [
      " 21%|██        | 3241/15625 [00:33<02:08, 96.51it/s]"
     ]
    },
    {
     "name": "stdout",
     "output_type": "stream",
     "text": [
      "1.0735373497009277\n",
      "1.099308967590332\n",
      "1.077308177947998\n",
      "1.0229992866516113\n",
      "1.0568222999572754\n",
      "1.0269629955291748\n",
      "1.0121536254882812\n",
      "1.0318348407745361\n",
      "1.0347487926483154\n",
      "1.005199670791626\n",
      "1.02252197265625\n",
      "1.0394155979156494\n",
      "1.0899196863174438\n",
      "1.052115559577942\n",
      "1.0049266815185547\n",
      "1.0604513883590698\n",
      "1.0006043910980225\n",
      "1.0273323059082031\n",
      "1.011033058166504\n",
      "0.961276650428772\n",
      "1.0400400161743164\n"
     ]
    },
    {
     "name": "stderr",
     "output_type": "stream",
     "text": [
      " 21%|██        | 3263/15625 [00:33<02:04, 99.03it/s]"
     ]
    },
    {
     "name": "stdout",
     "output_type": "stream",
     "text": [
      "1.031471848487854\n",
      "0.9965359568595886\n",
      "1.0256760120391846\n",
      "0.9900265336036682\n",
      "1.049155831336975\n",
      "1.0617892742156982\n",
      "1.0188114643096924\n",
      "1.0567597150802612\n",
      "1.006709337234497\n",
      "1.038550615310669\n",
      "1.1081557273864746\n",
      "1.0401225090026855\n",
      "1.0555295944213867\n",
      "1.0021591186523438\n",
      "1.1162229776382446\n",
      "1.0301177501678467\n",
      "1.0459957122802734\n",
      "1.0912246704101562\n",
      "0.9883505702018738\n",
      "1.0633320808410645\n",
      "1.0072133541107178\n"
     ]
    },
    {
     "name": "stderr",
     "output_type": "stream",
     "text": [
      " 21%|██        | 3283/15625 [00:33<02:04, 99.28it/s]"
     ]
    },
    {
     "name": "stdout",
     "output_type": "stream",
     "text": [
      "1.0825483798980713\n",
      "1.0332424640655518\n",
      "1.1009594202041626\n",
      "1.0457303524017334\n",
      "1.0567222833633423\n",
      "1.0335869789123535\n",
      "1.0198194980621338\n",
      "1.084533452987671\n",
      "1.012972354888916\n",
      "1.0044114589691162\n",
      "1.1038681268692017\n",
      "1.0290632247924805\n",
      "1.046708345413208\n",
      "1.0664501190185547\n",
      "1.0238893032073975\n",
      "1.0238037109375\n",
      "1.0176565647125244\n",
      "1.0953576564788818\n",
      "1.0811952352523804\n",
      "1.025587558746338\n",
      "1.029769778251648\n"
     ]
    },
    {
     "name": "stderr",
     "output_type": "stream",
     "text": [
      " 21%|██        | 3303/15625 [00:33<02:03, 99.44it/s]"
     ]
    },
    {
     "name": "stdout",
     "output_type": "stream",
     "text": [
      "1.0387022495269775\n",
      "1.0484566688537598\n",
      "1.1129448413848877\n",
      "1.022436499595642\n",
      "1.0291533470153809\n",
      "1.126999020576477\n",
      "1.0410709381103516\n",
      "1.0972747802734375\n",
      "1.0094176530838013\n",
      "1.0391347408294678\n",
      "1.0098862648010254\n",
      "1.0574400424957275\n",
      "1.067845344543457\n",
      "1.000169277191162\n",
      "1.0496453046798706\n",
      "1.0077228546142578\n",
      "1.0584056377410889\n",
      "0.9882230162620544\n",
      "1.0748547315597534\n",
      "1.0818719863891602\n",
      "0.9674656391143799\n"
     ]
    },
    {
     "name": "stderr",
     "output_type": "stream",
     "text": [
      " 21%|██▏       | 3333/15625 [00:34<02:03, 99.39it/s]"
     ]
    },
    {
     "name": "stdout",
     "output_type": "stream",
     "text": [
      "1.070723295211792\n",
      "1.027920126914978\n",
      "1.0319621562957764\n",
      "1.0759587287902832\n",
      "1.1001803874969482\n",
      "1.1022694110870361\n",
      "1.0498896837234497\n",
      "1.0645190477371216\n",
      "1.0488767623901367\n",
      "1.0687850713729858\n",
      "1.0268547534942627\n",
      "1.0537697076797485\n",
      "0.9991227984428406\n",
      "1.0212000608444214\n",
      "1.0050371885299683\n",
      "1.033602237701416\n",
      "1.0641334056854248\n",
      "1.0619838237762451\n",
      "0.994613766670227\n",
      "1.1108942031860352\n",
      "1.0278334617614746\n"
     ]
    },
    {
     "name": "stderr",
     "output_type": "stream",
     "text": [
      " 21%|██▏       | 3354/15625 [00:34<02:03, 99.73it/s]"
     ]
    },
    {
     "name": "stdout",
     "output_type": "stream",
     "text": [
      "1.017540454864502\n",
      "1.1069004535675049\n",
      "1.0539312362670898\n",
      "1.0304455757141113\n",
      "1.0347650051116943\n",
      "1.0227266550064087\n",
      "1.0379729270935059\n",
      "1.0450966358184814\n",
      "1.0229216814041138\n",
      "1.0386430025100708\n",
      "0.993932843208313\n",
      "1.0656993389129639\n",
      "1.0063154697418213\n",
      "1.032708764076233\n",
      "1.0356190204620361\n",
      "1.0826340913772583\n",
      "0.9873279333114624\n",
      "1.0291858911514282\n",
      "0.9785041809082031\n",
      "1.0532677173614502\n",
      "1.0304847955703735\n"
     ]
    },
    {
     "name": "stderr",
     "output_type": "stream",
     "text": [
      " 22%|██▏       | 3375/15625 [00:34<02:02, 99.89it/s]"
     ]
    },
    {
     "name": "stdout",
     "output_type": "stream",
     "text": [
      "1.0612984895706177\n",
      "0.9656924605369568\n",
      "1.1167018413543701\n",
      "1.0472536087036133\n",
      "1.0456833839416504\n",
      "1.1030839681625366\n",
      "1.0397968292236328\n",
      "1.0405564308166504\n",
      "1.007667064666748\n",
      "1.0894283056259155\n",
      "1.083885908126831\n",
      "1.072669506072998\n",
      "1.0626040697097778\n",
      "1.0772653818130493\n",
      "1.0379705429077148\n",
      "1.0520350933074951\n",
      "1.001908540725708\n",
      "1.057316780090332\n",
      "1.0078718662261963\n",
      "1.036435604095459\n",
      "0.976742148399353\n"
     ]
    },
    {
     "name": "stderr",
     "output_type": "stream",
     "text": [
      " 22%|██▏       | 3395/15625 [00:34<02:03, 99.35it/s]"
     ]
    },
    {
     "name": "stdout",
     "output_type": "stream",
     "text": [
      "1.026151180267334\n",
      "1.056463360786438\n",
      "1.0889763832092285\n",
      "0.9958428144454956\n",
      "1.00384521484375\n",
      "1.0026402473449707\n",
      "1.0735526084899902\n",
      "1.0171942710876465\n",
      "1.0342612266540527\n",
      "1.0632476806640625\n",
      "1.034312129020691\n",
      "1.0423438549041748\n",
      "1.0729268789291382\n",
      "1.065555214881897\n",
      "1.0459798574447632\n",
      "1.0678352117538452\n",
      "1.056105136871338\n",
      "1.0566143989562988\n",
      "1.0361329317092896\n",
      "1.0717262029647827\n"
     ]
    },
    {
     "name": "stderr",
     "output_type": "stream",
     "text": [
      " 22%|██▏       | 3416/15625 [00:34<02:03, 98.95it/s]"
     ]
    },
    {
     "name": "stdout",
     "output_type": "stream",
     "text": [
      "1.0930776596069336\n",
      "1.0145809650421143\n",
      "1.0630905628204346\n",
      "1.0283676385879517\n",
      "1.0942786931991577\n",
      "1.066323161125183\n",
      "1.0532459020614624\n",
      "1.0283701419830322\n",
      "1.0319406986236572\n",
      "1.0781962871551514\n",
      "1.0824339389801025\n",
      "1.0091552734375\n",
      "1.1126075983047485\n",
      "1.0673255920410156\n",
      "1.0563738346099854\n",
      "0.989609956741333\n",
      "1.0055768489837646\n",
      "1.035850167274475\n",
      "1.0080288648605347\n",
      "1.0513253211975098\n",
      "1.0770533084869385\n"
     ]
    },
    {
     "name": "stderr",
     "output_type": "stream",
     "text": [
      " 22%|██▏       | 3437/15625 [00:35<02:02, 99.46it/s]"
     ]
    },
    {
     "name": "stdout",
     "output_type": "stream",
     "text": [
      "1.080493450164795\n",
      "1.0325075387954712\n",
      "1.1012920141220093\n",
      "1.0418715476989746\n",
      "1.072353482246399\n",
      "1.0798759460449219\n",
      "1.02790367603302\n",
      "1.01750910282135\n",
      "1.1009392738342285\n",
      "1.0722196102142334\n",
      "1.0612287521362305\n",
      "1.0457284450531006\n",
      "1.0955870151519775\n",
      "1.0705883502960205\n",
      "1.0688446760177612\n",
      "1.0541635751724243\n",
      "1.061236023902893\n",
      "1.0953474044799805\n",
      "1.0625088214874268\n",
      "1.0319674015045166\n",
      "1.0391836166381836\n"
     ]
    },
    {
     "name": "stderr",
     "output_type": "stream",
     "text": [
      " 22%|██▏       | 3457/15625 [00:35<02:02, 99.59it/s]"
     ]
    },
    {
     "name": "stdout",
     "output_type": "stream",
     "text": [
      "1.061565637588501\n",
      "1.062448501586914\n",
      "1.026599645614624\n",
      "1.006652593612671\n",
      "0.9849932193756104\n",
      "1.0662431716918945\n",
      "1.064859390258789\n",
      "1.0525524616241455\n",
      "1.0118954181671143\n",
      "1.050126075744629\n",
      "1.1088285446166992\n",
      "1.0576786994934082\n",
      "1.0412774085998535\n",
      "1.00203537940979\n",
      "1.0081241130828857\n",
      "1.0633705854415894\n",
      "1.059529185295105\n",
      "1.0239458084106445\n",
      "1.0278453826904297\n",
      "1.0940330028533936\n",
      "1.0385538339614868\n"
     ]
    },
    {
     "name": "stderr",
     "output_type": "stream",
     "text": [
      " 22%|██▏       | 3477/15625 [00:35<02:01, 99.79it/s]"
     ]
    },
    {
     "name": "stdout",
     "output_type": "stream",
     "text": [
      "1.0659797191619873\n",
      "1.0734336376190186\n",
      "1.091194748878479\n",
      "0.9882757663726807\n",
      "1.1014361381530762\n",
      "0.9910086393356323\n",
      "1.034813404083252\n",
      "1.005774974822998\n",
      "1.0196346044540405\n",
      "1.0406913757324219\n",
      "1.0374096632003784\n",
      "0.9938918352127075\n",
      "1.0104715824127197\n",
      "1.0562889575958252\n",
      "1.0574238300323486\n",
      "1.0637643337249756\n",
      "1.0183990001678467\n",
      "1.0743253231048584\n",
      "1.0944032669067383\n",
      "1.0569911003112793\n",
      "1.0483698844909668\n"
     ]
    },
    {
     "name": "stderr",
     "output_type": "stream",
     "text": [
      " 22%|██▏       | 3498/15625 [00:35<02:01, 99.67it/s]"
     ]
    },
    {
     "name": "stdout",
     "output_type": "stream",
     "text": [
      "1.0499296188354492\n",
      "1.0578324794769287\n",
      "1.006230115890503\n",
      "1.033245325088501\n",
      "1.0306005477905273\n",
      "1.0802507400512695\n",
      "0.9994646906852722\n",
      "1.081449270248413\n",
      "1.0389635562896729\n",
      "1.0616121292114258\n",
      "1.0227057933807373\n",
      "1.045336365699768\n",
      "1.030969262123108\n",
      "1.0566275119781494\n",
      "1.0527613162994385\n",
      "0.9871140718460083\n",
      "1.07345449924469\n",
      "1.0559179782867432\n",
      "1.0654382705688477\n",
      "1.0554986000061035\n",
      "1.0443966388702393\n"
     ]
    },
    {
     "name": "stderr",
     "output_type": "stream",
     "text": [
      " 23%|██▎       | 3518/15625 [00:35<02:01, 99.49it/s]"
     ]
    },
    {
     "name": "stdout",
     "output_type": "stream",
     "text": [
      "1.0426281690597534\n",
      "1.0100138187408447\n",
      "1.0221858024597168\n",
      "1.0425056219100952\n",
      "1.0472594499588013\n",
      "1.0011911392211914\n",
      "1.0670950412750244\n",
      "1.042069435119629\n",
      "1.0471524000167847\n",
      "1.0493054389953613\n",
      "1.0083065032958984\n",
      "1.056901454925537\n",
      "1.006118655204773\n",
      "1.0329288244247437\n",
      "1.0489819049835205\n",
      "1.0505378246307373\n",
      "1.0289685726165771\n",
      "1.0409672260284424\n",
      "1.0368679761886597\n",
      "1.0669097900390625\n",
      "1.049241304397583\n"
     ]
    },
    {
     "name": "stderr",
     "output_type": "stream",
     "text": [
      " 23%|██▎       | 3538/15625 [00:36<02:01, 99.32it/s]"
     ]
    },
    {
     "name": "stdout",
     "output_type": "stream",
     "text": [
      "0.9914593696594238\n",
      "1.0936676263809204\n",
      "1.0278818607330322\n",
      "0.9995794892311096\n",
      "1.0380613803863525\n",
      "1.0229578018188477\n",
      "1.01418936252594\n",
      "0.9969003796577454\n",
      "0.9938576221466064\n",
      "1.032715082168579\n",
      "1.0153305530548096\n",
      "1.0691086053848267\n",
      "1.0656085014343262\n",
      "1.0851292610168457\n",
      "1.0429601669311523\n",
      "1.049396276473999\n",
      "1.0199451446533203\n",
      "1.078369140625\n",
      "1.0513325929641724\n",
      "1.0363465547561646\n"
     ]
    },
    {
     "name": "stderr",
     "output_type": "stream",
     "text": [
      " 23%|██▎       | 3558/15625 [00:36<02:05, 96.26it/s]"
     ]
    },
    {
     "name": "stdout",
     "output_type": "stream",
     "text": [
      "1.0477511882781982\n",
      "1.0807335376739502\n",
      "1.0204298496246338\n",
      "1.0217804908752441\n",
      "1.0000898838043213\n",
      "0.9852703213691711\n",
      "1.02683687210083\n",
      "1.001639723777771\n",
      "1.031265139579773\n",
      "1.0019261837005615\n",
      "1.0374846458435059\n",
      "1.0059748888015747\n",
      "1.0185346603393555\n",
      "1.0524661540985107\n",
      "0.9766570925712585\n",
      "1.0445739030838013\n",
      "0.9960004687309265\n",
      "1.0765514373779297\n",
      "1.0114322900772095\n"
     ]
    },
    {
     "name": "stderr",
     "output_type": "stream",
     "text": [
      " 23%|██▎       | 3578/15625 [00:36<02:13, 90.21it/s]"
     ]
    },
    {
     "name": "stdout",
     "output_type": "stream",
     "text": [
      "1.060462236404419\n",
      "1.0242397785186768\n",
      "1.0498713254928589\n",
      "1.0321130752563477\n",
      "1.0532163381576538\n",
      "1.056065559387207\n",
      "1.1031358242034912\n",
      "1.0534939765930176\n",
      "1.045878529548645\n",
      "1.0411136150360107\n",
      "1.0179688930511475\n",
      "1.0671813488006592\n",
      "1.1186697483062744\n",
      "1.0675954818725586\n",
      "1.033376932144165\n",
      "1.0491364002227783\n",
      "1.0177655220031738\n"
     ]
    },
    {
     "name": "stderr",
     "output_type": "stream",
     "text": [
      "\r",
      " 23%|██▎       | 3588/15625 [00:36<02:19, 86.58it/s]"
     ]
    },
    {
     "name": "stdout",
     "output_type": "stream",
     "text": [
      "1.0234296321868896\n",
      "1.0487016439437866\n",
      "1.0120843648910522\n",
      "1.0366134643554688\n",
      "1.0497909784317017\n",
      "1.0318204164505005\n",
      "1.0358389616012573\n",
      "1.0977489948272705\n",
      "1.0405018329620361\n",
      "1.01992666721344\n",
      "1.0395382642745972\n",
      "1.0961697101593018\n",
      "1.0618112087249756\n",
      "1.0421319007873535\n",
      "0.9554063677787781\n",
      "1.0484497547149658\n",
      "1.027260184288025\n",
      "1.0492792129516602\n"
     ]
    },
    {
     "name": "stderr",
     "output_type": "stream",
     "text": [
      " 23%|██▎       | 3609/15625 [00:36<02:08, 93.70it/s]"
     ]
    },
    {
     "name": "stdout",
     "output_type": "stream",
     "text": [
      "1.0862772464752197\n",
      "1.028527021408081\n",
      "1.0627458095550537\n",
      "1.0895402431488037\n",
      "1.0918784141540527\n",
      "1.0438019037246704\n",
      "1.0308575630187988\n",
      "1.0477640628814697\n",
      "1.0656161308288574\n",
      "1.0501010417938232\n",
      "1.052921175956726\n",
      "1.1127936840057373\n",
      "1.0261157751083374\n",
      "1.0465670824050903\n",
      "1.0815083980560303\n",
      "1.0627508163452148\n",
      "1.07749342918396\n",
      "1.0709269046783447\n",
      "1.0244722366333008\n",
      "1.0130528211593628\n",
      "1.0177748203277588\n",
      "1.0752073526382446\n"
     ]
    },
    {
     "name": "stderr",
     "output_type": "stream",
     "text": [
      " 23%|██▎       | 3631/15625 [00:37<02:00, 99.74it/s]"
     ]
    },
    {
     "name": "stdout",
     "output_type": "stream",
     "text": [
      "1.0012400150299072\n",
      "1.0541108846664429\n",
      "1.0677666664123535\n",
      "1.0204308032989502\n",
      "1.0869662761688232\n",
      "1.0084623098373413\n",
      "1.0250786542892456\n",
      "1.101493000984192\n",
      "0.9608103036880493\n",
      "1.0891213417053223\n",
      "1.0008347034454346\n",
      "1.024890422821045\n",
      "1.0707099437713623\n",
      "1.0238579511642456\n",
      "0.9840642809867859\n",
      "1.0313392877578735\n",
      "1.005372405052185\n",
      "1.0614084005355835\n",
      "1.0515912771224976\n",
      "1.0510470867156982\n",
      "1.066354513168335\n",
      "1.0921249389648438\n"
     ]
    },
    {
     "name": "stderr",
     "output_type": "stream",
     "text": [
      " 23%|██▎       | 3653/15625 [00:37<01:56, 102.67it/s]"
     ]
    },
    {
     "name": "stdout",
     "output_type": "stream",
     "text": [
      "1.0421946048736572\n",
      "0.9946902990341187\n",
      "1.051748275756836\n",
      "1.0512124300003052\n",
      "1.0913238525390625\n",
      "1.0403517484664917\n",
      "1.0073760747909546\n",
      "1.0013900995254517\n",
      "1.006230115890503\n",
      "1.0477063655853271\n",
      "1.0002480745315552\n",
      "1.0414690971374512\n",
      "1.047304391860962\n",
      "1.0770213603973389\n",
      "0.9902293086051941\n",
      "1.0356827974319458\n",
      "1.0020304918289185\n",
      "1.0259557962417603\n",
      "1.0131028890609741\n",
      "1.0330325365066528\n",
      "1.064113974571228\n"
     ]
    },
    {
     "name": "stderr",
     "output_type": "stream",
     "text": [
      " 24%|██▎       | 3674/15625 [00:37<02:11, 90.57it/s] "
     ]
    },
    {
     "name": "stdout",
     "output_type": "stream",
     "text": [
      "0.9829832315444946\n",
      "0.991300106048584\n",
      "1.0867230892181396\n",
      "1.0488587617874146\n",
      "1.0751192569732666\n",
      "0.9917965531349182\n",
      "1.0558747053146362\n",
      "1.105478286743164\n",
      "1.0490834712982178\n",
      "1.0578460693359375\n",
      "1.0270495414733887\n",
      "1.0144891738891602\n",
      "1.0349442958831787\n",
      "1.034557580947876\n",
      "1.0821768045425415\n",
      "1.0485045909881592\n",
      "1.073036551475525\n"
     ]
    },
    {
     "name": "stderr",
     "output_type": "stream",
     "text": [
      " 24%|██▎       | 3694/15625 [00:37<02:13, 89.56it/s]"
     ]
    },
    {
     "name": "stdout",
     "output_type": "stream",
     "text": [
      "1.0352333784103394\n",
      "1.0625091791152954\n",
      "1.099419116973877\n",
      "0.9471929669380188\n",
      "1.0368832349777222\n",
      "1.0644049644470215\n",
      "1.0784926414489746\n",
      "1.1079246997833252\n",
      "1.0272513628005981\n",
      "1.0864791870117188\n",
      "1.0232917070388794\n",
      "1.0123262405395508\n",
      "0.9877623915672302\n",
      "1.0608866214752197\n",
      "1.052488088607788\n",
      "0.9991581439971924\n",
      "1.0318130254745483\n"
     ]
    },
    {
     "name": "stderr",
     "output_type": "stream",
     "text": [
      "\r",
      " 24%|██▎       | 3704/15625 [00:37<02:23, 82.96it/s]"
     ]
    },
    {
     "name": "stdout",
     "output_type": "stream",
     "text": [
      "1.0479954481124878\n",
      "1.0402425527572632\n",
      "1.055606484413147\n",
      "1.0486221313476562\n",
      "1.0179710388183594\n",
      "1.0376633405685425\n",
      "1.002429723739624\n",
      "1.0297468900680542\n",
      "1.0318315029144287\n",
      "1.0448408126831055\n",
      "1.0636848211288452\n",
      "1.05153226852417\n",
      "1.0357974767684937\n",
      "1.030023217201233\n",
      "1.0505648851394653\n",
      "1.0283801555633545\n",
      "1.0459046363830566\n"
     ]
    },
    {
     "name": "stderr",
     "output_type": "stream",
     "text": [
      " 24%|██▍       | 3723/15625 [00:38<02:14, 88.25it/s]"
     ]
    },
    {
     "name": "stdout",
     "output_type": "stream",
     "text": [
      "1.0717447996139526\n",
      "1.0258538722991943\n",
      "1.0642063617706299\n",
      "1.0995806455612183\n",
      "1.029853343963623\n",
      "1.0442912578582764\n",
      "1.0274488925933838\n",
      "1.0214143991470337\n",
      "1.056265115737915\n",
      "1.0313225984573364\n",
      "1.0534350872039795\n",
      "1.0864301919937134\n",
      "1.100583553314209\n",
      "1.0379341840744019\n",
      "1.0869264602661133\n",
      "1.0776419639587402\n",
      "0.9926728010177612\n",
      "1.0763366222381592\n",
      "1.0398871898651123\n",
      "1.0559351444244385\n"
     ]
    },
    {
     "name": "stderr",
     "output_type": "stream",
     "text": [
      " 24%|██▍       | 3745/15625 [00:38<02:05, 94.44it/s]"
     ]
    },
    {
     "name": "stdout",
     "output_type": "stream",
     "text": [
      "1.073421597480774\n",
      "0.9879084825515747\n",
      "1.0432578325271606\n",
      "1.0540465116500854\n",
      "1.082107424736023\n",
      "1.034228801727295\n",
      "1.0317399501800537\n",
      "1.0941991806030273\n",
      "1.0853514671325684\n",
      "1.0433716773986816\n",
      "1.0451585054397583\n",
      "1.1082143783569336\n",
      "1.0706000328063965\n",
      "1.0622484683990479\n",
      "1.0401520729064941\n",
      "0.9834580421447754\n",
      "1.0758757591247559\n",
      "1.0314384698867798\n",
      "1.0465455055236816\n",
      "1.067323088645935\n",
      "1.0542021989822388\n"
     ]
    },
    {
     "name": "stderr",
     "output_type": "stream",
     "text": [
      " 24%|██▍       | 3765/15625 [00:38<02:03, 96.27it/s]"
     ]
    },
    {
     "name": "stdout",
     "output_type": "stream",
     "text": [
      "1.0752997398376465\n",
      "1.036082148551941\n",
      "0.9672840237617493\n",
      "1.0292500257492065\n",
      "1.1060419082641602\n",
      "1.1430184841156006\n",
      "1.0230528116226196\n",
      "0.9628186225891113\n",
      "1.0068461894989014\n",
      "0.960004985332489\n",
      "1.0649378299713135\n",
      "1.0733704566955566\n",
      "1.0731440782546997\n",
      "1.0378427505493164\n",
      "1.1186647415161133\n",
      "1.0629045963287354\n",
      "1.003540277481079\n",
      "1.0632033348083496\n",
      "1.0788370370864868\n",
      "1.0263007879257202\n"
     ]
    },
    {
     "name": "stderr",
     "output_type": "stream",
     "text": [
      " 24%|██▍       | 3785/15625 [00:38<02:01, 97.58it/s]"
     ]
    },
    {
     "name": "stdout",
     "output_type": "stream",
     "text": [
      "1.0858591794967651\n",
      "0.9963870644569397\n",
      "0.9982314109802246\n",
      "1.0506892204284668\n",
      "1.1078786849975586\n",
      "1.0900473594665527\n",
      "1.0448381900787354\n",
      "0.9895720481872559\n",
      "1.0355404615402222\n",
      "1.1047797203063965\n",
      "1.086205005645752\n",
      "1.0682437419891357\n",
      "1.0404267311096191\n",
      "1.032743215560913\n",
      "1.0257632732391357\n",
      "1.0167211294174194\n",
      "1.0966254472732544\n",
      "1.0584461688995361\n",
      "1.0636520385742188\n",
      "1.0309847593307495\n",
      "1.0139050483703613\n"
     ]
    },
    {
     "name": "stderr",
     "output_type": "stream",
     "text": [
      " 24%|██▍       | 3806/15625 [00:38<01:59, 98.93it/s]"
     ]
    },
    {
     "name": "stdout",
     "output_type": "stream",
     "text": [
      "1.0662658214569092\n",
      "1.0834169387817383\n",
      "1.0780956745147705\n",
      "1.0748257637023926\n",
      "1.03996741771698\n",
      "1.0585700273513794\n",
      "1.05894136428833\n",
      "1.0290716886520386\n",
      "1.023380994796753\n",
      "1.048449993133545\n",
      "1.0373436212539673\n",
      "1.063420057296753\n",
      "1.0968806743621826\n",
      "1.0129777193069458\n",
      "1.0833604335784912\n",
      "1.0611188411712646\n",
      "1.0511510372161865\n",
      "1.029860019683838\n",
      "1.041527271270752\n",
      "1.058066487312317\n",
      "1.0525639057159424\n"
     ]
    },
    {
     "name": "stderr",
     "output_type": "stream",
     "text": [
      " 24%|██▍       | 3826/15625 [00:39<01:59, 98.41it/s]"
     ]
    },
    {
     "name": "stdout",
     "output_type": "stream",
     "text": [
      "1.0567359924316406\n",
      "1.102738618850708\n",
      "1.0881997346878052\n",
      "1.0380370616912842\n",
      "1.0223033428192139\n",
      "0.9673645496368408\n",
      "1.0526927709579468\n",
      "1.0864813327789307\n",
      "1.056525468826294\n",
      "1.1004910469055176\n",
      "0.9989925622940063\n",
      "1.1068706512451172\n",
      "1.0363917350769043\n",
      "1.036971092224121\n",
      "1.0204657316207886\n",
      "1.0651602745056152\n",
      "1.0539970397949219\n",
      "0.998106837272644\n",
      "1.0603864192962646\n",
      "1.0116198062896729\n"
     ]
    },
    {
     "name": "stderr",
     "output_type": "stream",
     "text": [
      " 25%|██▍       | 3846/15625 [00:39<02:01, 96.63it/s]"
     ]
    },
    {
     "name": "stdout",
     "output_type": "stream",
     "text": [
      "1.0103771686553955\n",
      "1.072587013244629\n",
      "1.0663552284240723\n",
      "1.0102074146270752\n",
      "1.0176770687103271\n",
      "1.0474042892456055\n",
      "1.0560988187789917\n",
      "1.0314877033233643\n",
      "1.0733563899993896\n",
      "1.0099512338638306\n",
      "1.0075738430023193\n",
      "1.0076054334640503\n",
      "1.0334289073944092\n",
      "1.0406203269958496\n",
      "1.011276125907898\n",
      "1.091263771057129\n",
      "1.0126796960830688\n",
      "1.01691472530365\n",
      "1.0701768398284912\n",
      "1.068468451499939\n"
     ]
    },
    {
     "name": "stderr",
     "output_type": "stream",
     "text": [
      " 25%|██▍       | 3867/15625 [00:39<01:59, 98.26it/s]"
     ]
    },
    {
     "name": "stdout",
     "output_type": "stream",
     "text": [
      "1.032519817352295\n",
      "0.9911231994628906\n",
      "1.0544800758361816\n",
      "1.003065824508667\n",
      "1.054995059967041\n",
      "1.0312377214431763\n",
      "1.0842918157577515\n",
      "1.0196788311004639\n",
      "1.1022669076919556\n",
      "1.0216304063796997\n",
      "0.9846707582473755\n",
      "0.9907110333442688\n",
      "1.0655533075332642\n",
      "1.0164296627044678\n",
      "1.1000404357910156\n",
      "1.0161983966827393\n",
      "1.0365359783172607\n",
      "1.0324697494506836\n",
      "1.1450371742248535\n",
      "1.0726830959320068\n",
      "1.1062339544296265\n"
     ]
    },
    {
     "name": "stderr",
     "output_type": "stream",
     "text": [
      " 25%|██▍       | 3889/15625 [00:39<01:58, 99.43it/s]"
     ]
    },
    {
     "name": "stdout",
     "output_type": "stream",
     "text": [
      "1.027625322341919\n",
      "1.0347363948822021\n",
      "1.0770918130874634\n",
      "0.9824051856994629\n",
      "1.0371525287628174\n",
      "1.0229846239089966\n",
      "1.0216727256774902\n",
      "1.104200839996338\n",
      "1.0089890956878662\n",
      "1.0918300151824951\n",
      "1.1011242866516113\n",
      "1.0713306665420532\n",
      "0.9940887689590454\n",
      "1.0677804946899414\n",
      "1.016271710395813\n",
      "1.0565307140350342\n",
      "1.0564091205596924\n",
      "1.0742743015289307\n",
      "1.057481288909912\n",
      "1.072293758392334\n",
      "1.0499486923217773\n"
     ]
    },
    {
     "name": "stderr",
     "output_type": "stream",
     "text": [
      " 25%|██▌       | 3909/15625 [00:40<01:59, 98.28it/s]"
     ]
    },
    {
     "name": "stdout",
     "output_type": "stream",
     "text": [
      "1.0079638957977295\n",
      "1.0220861434936523\n",
      "1.0523682832717896\n",
      "1.0159231424331665\n",
      "1.0193371772766113\n",
      "1.0691540241241455\n",
      "1.0570756196975708\n",
      "1.0502842664718628\n",
      "1.012040615081787\n",
      "1.0651264190673828\n",
      "1.0377873182296753\n",
      "1.010084867477417\n",
      "1.0221006870269775\n",
      "1.0264896154403687\n",
      "1.0377957820892334\n",
      "1.1016002893447876\n",
      "1.059010624885559\n",
      "1.0388562679290771\n",
      "1.0476398468017578\n",
      "1.0849964618682861\n"
     ]
    },
    {
     "name": "stderr",
     "output_type": "stream",
     "text": [
      " 25%|██▌       | 3929/15625 [00:40<02:00, 97.27it/s]"
     ]
    },
    {
     "name": "stdout",
     "output_type": "stream",
     "text": [
      "1.0523817539215088\n",
      "1.0829684734344482\n",
      "1.017077922821045\n",
      "1.0016721487045288\n",
      "1.0394420623779297\n",
      "0.9870587587356567\n",
      "1.0674577951431274\n",
      "1.0232317447662354\n",
      "1.0534108877182007\n",
      "1.0848056077957153\n",
      "1.0120720863342285\n",
      "1.043982982635498\n",
      "1.0448893308639526\n",
      "0.9919421076774597\n",
      "1.017472267150879\n",
      "1.063187837600708\n",
      "1.0037060976028442\n",
      "1.057410478591919\n",
      "1.0475659370422363\n",
      "1.022437334060669\n"
     ]
    },
    {
     "name": "stderr",
     "output_type": "stream",
     "text": [
      " 25%|██▌       | 3949/15625 [00:40<02:10, 89.81it/s]"
     ]
    },
    {
     "name": "stdout",
     "output_type": "stream",
     "text": [
      "1.111119270324707\n",
      "1.0120666027069092\n",
      "1.0688825845718384\n",
      "1.0361058712005615\n",
      "0.9954040050506592\n",
      "1.0862679481506348\n",
      "1.0489304065704346\n",
      "1.0321325063705444\n",
      "1.0258386135101318\n",
      "1.0087456703186035\n",
      "1.0486412048339844\n",
      "0.9928008317947388\n",
      "1.059321641921997\n",
      "1.0602881908416748\n",
      "1.042279601097107\n",
      "0.9775791168212891\n"
     ]
    },
    {
     "name": "stderr",
     "output_type": "stream",
     "text": [
      " 25%|██▌       | 3969/15625 [00:40<02:07, 91.31it/s]"
     ]
    },
    {
     "name": "stdout",
     "output_type": "stream",
     "text": [
      "1.0490541458129883\n",
      "1.0309747457504272\n",
      "1.0324203968048096\n",
      "1.0373647212982178\n",
      "1.0352928638458252\n",
      "0.985600471496582\n",
      "1.073791742324829\n",
      "1.025803804397583\n",
      "1.025989055633545\n",
      "1.0052375793457031\n",
      "1.0268664360046387\n",
      "1.0482850074768066\n",
      "1.035717487335205\n",
      "1.0675647258758545\n",
      "1.0321353673934937\n",
      "1.0374031066894531\n",
      "1.0839043855667114\n",
      "1.0246734619140625\n",
      "1.0538601875305176\n",
      "1.074120283126831\n"
     ]
    },
    {
     "name": "stderr",
     "output_type": "stream",
     "text": [
      " 26%|██▌       | 3989/15625 [00:40<02:03, 94.20it/s]"
     ]
    },
    {
     "name": "stdout",
     "output_type": "stream",
     "text": [
      "1.0767900943756104\n",
      "1.0651657581329346\n",
      "1.0416582822799683\n",
      "1.0353666543960571\n",
      "1.0667004585266113\n",
      "1.0310032367706299\n",
      "0.9994418025016785\n",
      "1.017965316772461\n",
      "1.0701863765716553\n",
      "1.017117977142334\n",
      "1.0461323261260986\n",
      "1.0838608741760254\n",
      "1.0470746755599976\n",
      "0.9719970226287842\n",
      "1.076693058013916\n",
      "1.0362383127212524\n",
      "0.9992880821228027\n",
      "1.0928086042404175\n",
      "1.0713552236557007\n",
      "1.073209285736084\n"
     ]
    },
    {
     "name": "stderr",
     "output_type": "stream",
     "text": [
      " 26%|██▌       | 4009/15625 [00:41<02:00, 96.22it/s]"
     ]
    },
    {
     "name": "stdout",
     "output_type": "stream",
     "text": [
      "1.0285481214523315\n",
      "0.9834151268005371\n",
      "0.989549994468689\n",
      "1.0173006057739258\n",
      "1.0458509922027588\n",
      "1.0786840915679932\n",
      "1.0118465423583984\n",
      "1.0675032138824463\n",
      "0.9865136742591858\n",
      "1.0032844543457031\n",
      "1.0786489248275757\n",
      "1.0425139665603638\n",
      "1.1027657985687256\n",
      "1.002791404724121\n",
      "1.0183444023132324\n",
      "1.062304139137268\n",
      "1.0292150974273682\n",
      "1.009808897972107\n",
      "1.052814245223999\n",
      "1.083552598953247\n"
     ]
    },
    {
     "name": "stderr",
     "output_type": "stream",
     "text": [
      " 26%|██▌       | 4028/15625 [00:41<02:14, 86.08it/s]"
     ]
    },
    {
     "name": "stdout",
     "output_type": "stream",
     "text": [
      "1.0818016529083252\n",
      "1.0317713022232056\n",
      "1.043853521347046\n",
      "1.0497043132781982\n",
      "0.9876003861427307\n",
      "1.0904576778411865\n",
      "1.0284671783447266\n",
      "0.9877776503562927\n",
      "1.0312434434890747\n",
      "1.0665888786315918\n",
      "1.0282485485076904\n",
      "1.074957013130188\n",
      "0.985903263092041\n",
      "1.0337111949920654\n",
      "1.0583407878875732\n",
      "1.0764961242675781\n"
     ]
    },
    {
     "name": "stderr",
     "output_type": "stream",
     "text": [
      "\r",
      " 26%|██▌       | 4037/15625 [00:41<02:18, 83.83it/s]"
     ]
    },
    {
     "name": "stdout",
     "output_type": "stream",
     "text": [
      "1.0931625366210938\n",
      "1.1078002452850342\n",
      "1.1030278205871582\n",
      "1.0313596725463867\n",
      "1.0602422952651978\n",
      "1.0450633764266968\n",
      "0.9956175088882446\n",
      "1.0045192241668701\n",
      "1.0948001146316528\n",
      "1.1011624336242676\n",
      "1.0284297466278076\n",
      "1.047551155090332\n",
      "1.0389827489852905\n",
      "1.0691816806793213\n",
      "1.004194736480713\n",
      "1.0716501474380493\n",
      "1.0355982780456543\n"
     ]
    },
    {
     "name": "stderr",
     "output_type": "stream",
     "text": [
      " 26%|██▌       | 4064/15625 [00:41<02:14, 86.01it/s]"
     ]
    },
    {
     "name": "stdout",
     "output_type": "stream",
     "text": [
      "0.9974656701087952\n",
      "1.0105245113372803\n",
      "1.0311517715454102\n",
      "0.99289870262146\n",
      "1.0500012636184692\n",
      "1.0277105569839478\n",
      "1.0490072965621948\n",
      "1.0466647148132324\n",
      "1.063010811805725\n",
      "0.9849162101745605\n",
      "1.0664241313934326\n",
      "1.0867919921875\n",
      "1.0083789825439453\n",
      "1.0026246309280396\n",
      "1.0565134286880493\n",
      "1.0486301183700562\n",
      "1.0186493396759033\n",
      "0.9961133599281311\n"
     ]
    },
    {
     "name": "stderr",
     "output_type": "stream",
     "text": [
      " 26%|██▌       | 4082/15625 [00:41<02:13, 86.76it/s]"
     ]
    },
    {
     "name": "stdout",
     "output_type": "stream",
     "text": [
      "1.0372730493545532\n",
      "1.0518652200698853\n",
      "1.0192136764526367\n",
      "1.00351881980896\n",
      "1.0496814250946045\n",
      "1.0370991230010986\n",
      "1.0153772830963135\n",
      "1.045382022857666\n",
      "1.1037437915802002\n",
      "1.070314884185791\n",
      "1.1016361713409424\n",
      "1.0082390308380127\n",
      "1.056455135345459\n",
      "1.0463320016860962\n",
      "1.0534695386886597\n",
      "1.0136220455169678\n",
      "1.0178927183151245\n",
      "1.0686886310577393\n"
     ]
    },
    {
     "name": "stderr",
     "output_type": "stream",
     "text": [
      " 26%|██▌       | 4100/15625 [00:42<02:10, 88.14it/s]"
     ]
    },
    {
     "name": "stdout",
     "output_type": "stream",
     "text": [
      "1.069399356842041\n",
      "0.9866141676902771\n",
      "1.059645652770996\n",
      "1.0335798263549805\n",
      "0.9665942788124084\n",
      "1.058471441268921\n",
      "1.067395567893982\n",
      "1.0554988384246826\n",
      "1.024704098701477\n",
      "1.0593879222869873\n",
      "1.038982629776001\n",
      "1.0074779987335205\n",
      "1.0210623741149902\n",
      "1.1011019945144653\n",
      "1.0932044982910156\n",
      "1.0467158555984497\n",
      "1.0578995943069458\n",
      "1.0258735418319702\n",
      "1.022059440612793\n"
     ]
    },
    {
     "name": "stderr",
     "output_type": "stream",
     "text": [
      " 26%|██▋       | 4119/15625 [00:42<02:08, 89.31it/s]"
     ]
    },
    {
     "name": "stdout",
     "output_type": "stream",
     "text": [
      "1.0373079776763916\n",
      "1.0611366033554077\n",
      "0.9950956702232361\n",
      "1.099010944366455\n",
      "1.123902440071106\n",
      "1.0235545635223389\n",
      "1.0871379375457764\n",
      "1.0769544839859009\n",
      "1.015564203262329\n",
      "1.078958511352539\n",
      "1.045245885848999\n",
      "1.0947755575180054\n",
      "1.0150678157806396\n",
      "1.0204660892486572\n",
      "1.0667130947113037\n",
      "1.0185894966125488\n",
      "1.033229112625122\n",
      "0.9887443780899048\n",
      "1.0486650466918945\n"
     ]
    },
    {
     "name": "stderr",
     "output_type": "stream",
     "text": [
      " 26%|██▋       | 4138/15625 [00:42<02:07, 89.77it/s]"
     ]
    },
    {
     "name": "stdout",
     "output_type": "stream",
     "text": [
      "1.0541976690292358\n",
      "1.0299309492111206\n",
      "1.0157747268676758\n",
      "1.0348939895629883\n",
      "0.9775031208992004\n",
      "1.0568729639053345\n",
      "1.0827090740203857\n",
      "1.0346733331680298\n",
      "1.044283390045166\n",
      "1.0481537580490112\n",
      "1.0893549919128418\n",
      "1.005650520324707\n",
      "1.0831990242004395\n",
      "1.0157535076141357\n",
      "1.080329418182373\n",
      "1.04952073097229\n",
      "1.0382494926452637\n",
      "1.0440326929092407\n",
      "0.9936566352844238\n"
     ]
    },
    {
     "name": "stderr",
     "output_type": "stream",
     "text": [
      " 27%|██▋       | 4156/15625 [00:42<02:09, 88.81it/s]"
     ]
    },
    {
     "name": "stdout",
     "output_type": "stream",
     "text": [
      "1.0781066417694092\n",
      "1.0338377952575684\n",
      "1.0325459241867065\n",
      "1.0504018068313599\n",
      "1.0630974769592285\n",
      "1.0738153457641602\n",
      "1.0209851264953613\n",
      "1.061774730682373\n",
      "0.9993847012519836\n",
      "1.0751078128814697\n",
      "1.0054259300231934\n",
      "1.0992786884307861\n",
      "1.0895633697509766\n",
      "1.0230703353881836\n",
      "1.068657636642456\n",
      "1.0260167121887207\n",
      "1.0664637088775635\n",
      "1.0486161708831787\n"
     ]
    },
    {
     "name": "stderr",
     "output_type": "stream",
     "text": [
      " 27%|██▋       | 4174/15625 [00:42<02:08, 88.96it/s]"
     ]
    },
    {
     "name": "stdout",
     "output_type": "stream",
     "text": [
      "1.0530335903167725\n",
      "1.081723928451538\n",
      "1.077040433883667\n",
      "1.0399152040481567\n",
      "1.0285403728485107\n",
      "1.055887222290039\n",
      "1.0132181644439697\n",
      "1.01410710811615\n",
      "1.030157446861267\n",
      "1.03992760181427\n",
      "1.0636729001998901\n",
      "1.1004194021224976\n",
      "1.07716703414917\n",
      "1.086521029472351\n",
      "0.9943325519561768\n",
      "0.9787290096282959\n",
      "1.1063475608825684\n",
      "1.0602202415466309\n"
     ]
    },
    {
     "name": "stderr",
     "output_type": "stream",
     "text": [
      " 27%|██▋       | 4193/15625 [00:43<02:07, 89.75it/s]"
     ]
    },
    {
     "name": "stdout",
     "output_type": "stream",
     "text": [
      "1.0764023065567017\n",
      "1.0350229740142822\n",
      "1.0631083250045776\n",
      "1.0455338954925537\n",
      "1.0646674633026123\n",
      "1.0470354557037354\n",
      "1.0271580219268799\n",
      "1.0554349422454834\n",
      "1.0826692581176758\n",
      "1.0332589149475098\n",
      "1.0405442714691162\n",
      "1.013100504875183\n",
      "1.0959129333496094\n",
      "1.0224077701568604\n",
      "1.0106059312820435\n",
      "1.1094539165496826\n",
      "1.0465723276138306\n",
      "1.0446488857269287\n",
      "1.0408759117126465\n"
     ]
    },
    {
     "name": "stderr",
     "output_type": "stream",
     "text": [
      " 27%|██▋       | 4213/15625 [00:43<02:06, 90.50it/s]"
     ]
    },
    {
     "name": "stdout",
     "output_type": "stream",
     "text": [
      "1.019116997718811\n",
      "1.0447673797607422\n",
      "1.0543336868286133\n",
      "1.0046565532684326\n",
      "1.0275156497955322\n",
      "1.0452519655227661\n",
      "1.0789527893066406\n",
      "1.040266752243042\n",
      "0.993529200553894\n",
      "1.0787006616592407\n",
      "1.1099538803100586\n",
      "1.0769484043121338\n",
      "1.0925750732421875\n",
      "1.0459785461425781\n",
      "1.0070720911026\n",
      "1.0365004539489746\n",
      "1.0435864925384521\n",
      "0.9898249506950378\n",
      "1.0586477518081665\n"
     ]
    },
    {
     "name": "stderr",
     "output_type": "stream",
     "text": [
      "\r",
      " 27%|██▋       | 4223/15625 [00:43<02:06, 90.38it/s]"
     ]
    },
    {
     "name": "stdout",
     "output_type": "stream",
     "text": [
      "1.0137290954589844\n",
      "1.0798313617706299\n",
      "1.0137996673583984\n",
      "1.003656268119812\n",
      "1.0392403602600098\n",
      "1.039379358291626\n",
      "1.037153720855713\n",
      "1.0489721298217773\n",
      "1.0473699569702148\n",
      "1.0426219701766968\n",
      "0.9887239933013916\n",
      "1.0447895526885986\n",
      "1.0232937335968018\n",
      "1.0190593004226685\n",
      "1.074084997177124\n",
      "1.0488313436508179\n",
      "1.0264384746551514\n",
      "0.9792515635490417\n",
      "1.0032901763916016\n"
     ]
    },
    {
     "name": "stderr",
     "output_type": "stream",
     "text": [
      " 27%|██▋       | 4243/15625 [00:43<02:06, 89.93it/s]"
     ]
    },
    {
     "name": "stdout",
     "output_type": "stream",
     "text": [
      "0.9952197074890137\n",
      "1.0378371477127075\n",
      "0.9924044609069824\n",
      "1.0700150728225708\n",
      "1.0532310009002686\n",
      "1.1034362316131592\n",
      "1.115722894668579\n",
      "0.9899177551269531\n",
      "1.081125020980835\n",
      "1.0504913330078125\n",
      "1.036948323249817\n",
      "1.0146305561065674\n",
      "1.0243785381317139\n",
      "1.0574709177017212\n",
      "1.0041699409484863\n",
      "0.9994844794273376\n",
      "1.03634774684906\n",
      "1.0553584098815918\n",
      "1.0685656070709229\n"
     ]
    },
    {
     "name": "stderr",
     "output_type": "stream",
     "text": [
      " 27%|██▋       | 4262/15625 [00:43<02:06, 89.98it/s]"
     ]
    },
    {
     "name": "stdout",
     "output_type": "stream",
     "text": [
      "1.0039581060409546\n",
      "1.0918912887573242\n",
      "1.045269250869751\n",
      "1.1167888641357422\n",
      "1.0793635845184326\n",
      "1.0333832502365112\n",
      "1.061406135559082\n",
      "1.060937523841858\n",
      "1.0206477642059326\n",
      "1.040727138519287\n",
      "1.0141429901123047\n",
      "1.055918574333191\n",
      "1.0131115913391113\n",
      "1.0089449882507324\n",
      "0.982712984085083\n",
      "1.1176965236663818\n",
      "1.0173869132995605\n",
      "1.052095651626587\n",
      "1.0305886268615723\n"
     ]
    },
    {
     "name": "stderr",
     "output_type": "stream",
     "text": [
      " 27%|██▋       | 4280/15625 [00:44<02:06, 89.77it/s]"
     ]
    },
    {
     "name": "stdout",
     "output_type": "stream",
     "text": [
      "1.0147395133972168\n",
      "1.0458426475524902\n",
      "1.0000896453857422\n",
      "1.069577693939209\n",
      "1.0305055379867554\n",
      "1.0456820726394653\n",
      "0.9628334641456604\n",
      "1.0809390544891357\n",
      "1.0762913227081299\n",
      "0.9825925230979919\n",
      "1.038695216178894\n",
      "1.0447466373443604\n",
      "1.0085246562957764\n",
      "1.0191724300384521\n",
      "1.0062446594238281\n",
      "1.0274696350097656\n",
      "0.9966434836387634\n",
      "1.0551594495773315\n",
      "1.087353229522705\n"
     ]
    },
    {
     "name": "stderr",
     "output_type": "stream",
     "text": [
      " 28%|██▊       | 4299/15625 [00:44<02:06, 89.88it/s]"
     ]
    },
    {
     "name": "stdout",
     "output_type": "stream",
     "text": [
      "1.1130759716033936\n",
      "1.0046864748001099\n",
      "1.015446424484253\n",
      "1.0088129043579102\n",
      "1.0704425573349\n",
      "1.0759778022766113\n",
      "1.0430519580841064\n",
      "1.051866054534912\n",
      "1.0083361864089966\n",
      "1.0577133893966675\n",
      "1.040238380432129\n",
      "1.0007011890411377\n",
      "1.007235050201416\n",
      "0.9933024644851685\n",
      "1.0783659219741821\n",
      "1.0193963050842285\n",
      "1.0045889616012573\n",
      "1.0599241256713867\n",
      "1.0496723651885986\n"
     ]
    },
    {
     "name": "stderr",
     "output_type": "stream",
     "text": [
      " 28%|██▊       | 4318/15625 [00:44<02:06, 89.71it/s]"
     ]
    },
    {
     "name": "stdout",
     "output_type": "stream",
     "text": [
      "1.0869605541229248\n",
      "1.056182861328125\n",
      "1.062148094177246\n",
      "1.021636962890625\n",
      "1.0685436725616455\n",
      "1.0368754863739014\n",
      "1.0363118648529053\n",
      "1.0270646810531616\n",
      "1.0778117179870605\n",
      "1.0585503578186035\n",
      "1.0329716205596924\n",
      "1.0243427753448486\n",
      "1.030026912689209\n",
      "1.0672237873077393\n",
      "1.0307753086090088\n",
      "1.0801208019256592\n",
      "1.0172191858291626\n",
      "0.9960852861404419\n",
      "1.0343167781829834\n"
     ]
    },
    {
     "name": "stderr",
     "output_type": "stream",
     "text": [
      " 28%|██▊       | 4337/15625 [00:44<02:05, 90.03it/s]"
     ]
    },
    {
     "name": "stdout",
     "output_type": "stream",
     "text": [
      "1.0877368450164795\n",
      "0.9954078197479248\n",
      "1.027536153793335\n",
      "1.0234177112579346\n",
      "1.0389418601989746\n",
      "1.0502569675445557\n",
      "1.0414035320281982\n",
      "1.0655758380889893\n",
      "0.9994423389434814\n",
      "1.0015828609466553\n",
      "1.0521053075790405\n",
      "1.0155314207077026\n",
      "1.0068323612213135\n",
      "1.0336923599243164\n",
      "1.0485601425170898\n",
      "1.0920182466506958\n",
      "1.0689796209335327\n",
      "1.1231873035430908\n",
      "1.0185871124267578\n"
     ]
    },
    {
     "name": "stderr",
     "output_type": "stream",
     "text": [
      " 28%|██▊       | 4357/15625 [00:45<02:04, 90.41it/s]"
     ]
    },
    {
     "name": "stdout",
     "output_type": "stream",
     "text": [
      "1.0868191719055176\n",
      "1.0439558029174805\n",
      "1.035516381263733\n",
      "1.0150102376937866\n",
      "0.9875357747077942\n",
      "0.9966416358947754\n",
      "1.0568464994430542\n",
      "1.0253180265426636\n",
      "1.0240254402160645\n",
      "1.0612879991531372\n",
      "1.0337849855422974\n",
      "1.0607361793518066\n",
      "0.995033860206604\n",
      "1.025285005569458\n",
      "1.0075101852416992\n",
      "0.994751513004303\n",
      "1.001471757888794\n",
      "1.0650609731674194\n",
      "1.035392165184021\n"
     ]
    },
    {
     "name": "stderr",
     "output_type": "stream",
     "text": [
      " 28%|██▊       | 4377/15625 [00:45<02:03, 90.90it/s]"
     ]
    },
    {
     "name": "stdout",
     "output_type": "stream",
     "text": [
      "1.0544135570526123\n",
      "1.0720610618591309\n",
      "1.0570130348205566\n",
      "1.0562160015106201\n",
      "1.0704296827316284\n",
      "1.0864924192428589\n",
      "1.0516843795776367\n",
      "1.0400930643081665\n",
      "1.0020946264266968\n",
      "1.0451011657714844\n",
      "1.0894560813903809\n",
      "1.0921566486358643\n",
      "1.0136053562164307\n",
      "1.0275408029556274\n",
      "1.0495705604553223\n",
      "1.0956060886383057\n",
      "1.0730934143066406\n",
      "0.9747284650802612\n",
      "1.0641123056411743\n"
     ]
    },
    {
     "name": "stderr",
     "output_type": "stream",
     "text": [
      " 28%|██▊       | 4397/15625 [00:45<02:04, 90.35it/s]"
     ]
    },
    {
     "name": "stdout",
     "output_type": "stream",
     "text": [
      "0.9697355031967163\n",
      "1.0320401191711426\n",
      "0.9865723848342896\n",
      "1.0833094120025635\n",
      "1.0102050304412842\n",
      "1.0683081150054932\n",
      "1.03598952293396\n",
      "0.9917824864387512\n",
      "0.9981579780578613\n",
      "1.0518609285354614\n",
      "1.083383560180664\n",
      "1.014198899269104\n",
      "1.0257468223571777\n",
      "1.0562472343444824\n",
      "1.0521159172058105\n",
      "1.0689491033554077\n",
      "1.007859706878662\n",
      "1.028113603591919\n",
      "1.0842132568359375\n"
     ]
    },
    {
     "name": "stderr",
     "output_type": "stream",
     "text": [
      " 28%|██▊       | 4417/15625 [00:45<02:03, 90.42it/s]"
     ]
    },
    {
     "name": "stdout",
     "output_type": "stream",
     "text": [
      "1.0778840780258179\n",
      "1.049403429031372\n",
      "0.9747269153594971\n",
      "1.049657940864563\n",
      "1.0398828983306885\n",
      "1.0408823490142822\n",
      "0.9809689521789551\n",
      "1.0287442207336426\n",
      "1.0528268814086914\n",
      "1.0147844552993774\n",
      "1.0520747900009155\n",
      "1.0347154140472412\n",
      "1.0279546976089478\n",
      "1.0491538047790527\n",
      "1.052314281463623\n",
      "1.0318673849105835\n",
      "1.042572021484375\n",
      "1.0303330421447754\n",
      "1.0442984104156494\n"
     ]
    },
    {
     "name": "stderr",
     "output_type": "stream",
     "text": [
      " 28%|██▊       | 4437/15625 [00:45<02:03, 90.42it/s]"
     ]
    },
    {
     "name": "stdout",
     "output_type": "stream",
     "text": [
      "1.0154452323913574\n",
      "1.1301088333129883\n",
      "0.9832879304885864\n",
      "1.0221025943756104\n",
      "0.9993195533752441\n",
      "1.0495697259902954\n",
      "1.037922739982605\n",
      "1.0057177543640137\n",
      "1.042006492614746\n",
      "0.9740374088287354\n",
      "1.0240302085876465\n",
      "1.0346604585647583\n",
      "1.031339168548584\n",
      "1.090029001235962\n",
      "1.0558077096939087\n",
      "1.0390132665634155\n",
      "1.0597386360168457\n",
      "0.9965922236442566\n",
      "0.9905008673667908\n"
     ]
    },
    {
     "name": "stderr",
     "output_type": "stream",
     "text": [
      " 29%|██▊       | 4457/15625 [00:46<02:03, 90.64it/s]"
     ]
    },
    {
     "name": "stdout",
     "output_type": "stream",
     "text": [
      "1.022817611694336\n",
      "1.0360702276229858\n",
      "1.0540595054626465\n",
      "1.0197902917861938\n",
      "1.0226432085037231\n",
      "1.0392885208129883\n",
      "1.098809003829956\n",
      "1.029529094696045\n",
      "1.0926865339279175\n",
      "1.028590440750122\n",
      "1.0534967184066772\n",
      "1.0490700006484985\n",
      "1.0774182081222534\n",
      "1.0955674648284912\n",
      "1.0313668251037598\n",
      "1.0426533222198486\n",
      "1.039856195449829\n",
      "1.0697368383407593\n",
      "1.0617119073867798\n"
     ]
    },
    {
     "name": "stderr",
     "output_type": "stream",
     "text": [
      " 29%|██▊       | 4477/15625 [00:46<02:03, 90.14it/s]"
     ]
    },
    {
     "name": "stdout",
     "output_type": "stream",
     "text": [
      "1.0125293731689453\n",
      "1.0589261054992676\n",
      "0.9975337982177734\n",
      "1.0533477067947388\n",
      "1.0226377248764038\n",
      "0.9973564743995667\n",
      "1.0526306629180908\n",
      "1.0759367942810059\n",
      "1.0482499599456787\n",
      "1.0141521692276\n",
      "1.0501641035079956\n",
      "1.0366994142532349\n",
      "1.0204277038574219\n",
      "1.0538437366485596\n",
      "1.0342676639556885\n",
      "1.0470439195632935\n",
      "0.9928771257400513\n",
      "1.0120816230773926\n",
      "1.021512746810913\n"
     ]
    },
    {
     "name": "stderr",
     "output_type": "stream",
     "text": [
      " 29%|██▉       | 4496/15625 [00:46<02:03, 89.83it/s]"
     ]
    },
    {
     "name": "stdout",
     "output_type": "stream",
     "text": [
      "1.0614922046661377\n",
      "1.0052263736724854\n",
      "1.0344042778015137\n",
      "1.0983784198760986\n",
      "1.0674468278884888\n",
      "1.0105085372924805\n",
      "0.9787789583206177\n",
      "1.0061055421829224\n",
      "1.0313811302185059\n",
      "1.066758632659912\n",
      "1.0016858577728271\n",
      "0.9873138666152954\n",
      "1.0512125492095947\n",
      "1.029343605041504\n",
      "1.0714865922927856\n",
      "1.0244367122650146\n",
      "0.9936022162437439\n",
      "1.1145292520523071\n",
      "1.1172066926956177\n"
     ]
    },
    {
     "name": "stderr",
     "output_type": "stream",
     "text": [
      " 29%|██▉       | 4514/15625 [00:46<02:03, 89.87it/s]"
     ]
    },
    {
     "name": "stdout",
     "output_type": "stream",
     "text": [
      "1.035137414932251\n",
      "1.0797667503356934\n",
      "1.0859614610671997\n",
      "1.0581529140472412\n",
      "1.0257956981658936\n",
      "1.0239620208740234\n",
      "0.9990701675415039\n",
      "1.0798721313476562\n",
      "1.0309977531433105\n",
      "1.0531386137008667\n",
      "1.0342426300048828\n",
      "1.0326225757598877\n",
      "1.0690324306488037\n",
      "0.9969195127487183\n",
      "0.9696016311645508\n",
      "1.0312561988830566\n",
      "1.068533182144165\n",
      "1.0529701709747314\n",
      "1.0061752796173096\n"
     ]
    },
    {
     "name": "stderr",
     "output_type": "stream",
     "text": [
      " 29%|██▉       | 4533/15625 [00:46<02:02, 90.48it/s]"
     ]
    },
    {
     "name": "stdout",
     "output_type": "stream",
     "text": [
      "1.0443799495697021\n",
      "1.0127160549163818\n",
      "1.0003507137298584\n",
      "1.087281346321106\n",
      "1.0718142986297607\n",
      "1.0124311447143555\n",
      "1.0286887884140015\n",
      "1.0633268356323242\n",
      "1.1062567234039307\n",
      "1.0253446102142334\n",
      "1.0577926635742188\n",
      "1.0885202884674072\n",
      "1.0381580591201782\n",
      "0.9924353361129761\n",
      "1.0044196844100952\n",
      "1.080042839050293\n",
      "1.0019997358322144\n",
      "0.9892549514770508\n",
      "1.0659823417663574\n"
     ]
    },
    {
     "name": "stderr",
     "output_type": "stream",
     "text": [
      " 29%|██▉       | 4553/15625 [00:47<02:02, 90.71it/s]"
     ]
    },
    {
     "name": "stdout",
     "output_type": "stream",
     "text": [
      "0.9945626258850098\n",
      "0.9797366857528687\n",
      "1.0254268646240234\n",
      "1.0256413221359253\n",
      "0.9989743828773499\n",
      "1.0634971857070923\n",
      "1.0742424726486206\n",
      "1.0582177639007568\n",
      "1.0578058958053589\n",
      "1.0384471416473389\n",
      "1.038964033126831\n",
      "1.0243263244628906\n",
      "1.050704002380371\n",
      "1.0569791793823242\n",
      "1.0293824672698975\n",
      "1.027454137802124\n",
      "1.028759479522705\n",
      "1.0902314186096191\n",
      "1.0219473838806152\n"
     ]
    },
    {
     "name": "stderr",
     "output_type": "stream",
     "text": [
      " 29%|██▉       | 4573/15625 [00:47<02:01, 90.76it/s]"
     ]
    },
    {
     "name": "stdout",
     "output_type": "stream",
     "text": [
      "1.0287182331085205\n",
      "1.118403673171997\n",
      "0.995049238204956\n",
      "1.0629887580871582\n",
      "1.0853240489959717\n",
      "1.01345956325531\n",
      "1.0181751251220703\n",
      "1.041410207748413\n",
      "1.0958888530731201\n",
      "1.0303337574005127\n",
      "1.0817041397094727\n",
      "1.0457055568695068\n",
      "1.0322952270507812\n",
      "0.9737011194229126\n",
      "1.0994621515274048\n",
      "1.0720229148864746\n",
      "1.0897541046142578\n",
      "1.0488992929458618\n",
      "1.040191650390625\n"
     ]
    },
    {
     "name": "stderr",
     "output_type": "stream",
     "text": [
      "\r",
      " 29%|██▉       | 4583/15625 [00:47<02:02, 90.27it/s]"
     ]
    },
    {
     "name": "stdout",
     "output_type": "stream",
     "text": [
      "1.0392425060272217\n",
      "0.9980401992797852\n",
      "1.0623503923416138\n",
      "1.0698139667510986\n",
      "1.095036506652832\n",
      "1.059028148651123\n",
      "1.0790592432022095\n",
      "1.02328360080719\n",
      "1.0354588031768799\n",
      "1.0109498500823975\n",
      "1.0071451663970947\n",
      "1.0296756029129028\n",
      "1.0276728868484497\n",
      "1.0473051071166992\n",
      "1.0609040260314941\n",
      "1.004759430885315\n",
      "1.034863829612732\n",
      "1.0295710563659668\n",
      "1.0057578086853027\n"
     ]
    },
    {
     "name": "stderr",
     "output_type": "stream",
     "text": [
      " 29%|██▉       | 4603/15625 [00:47<02:01, 90.75it/s]"
     ]
    },
    {
     "name": "stdout",
     "output_type": "stream",
     "text": [
      "1.0651490688323975\n",
      "0.9757634401321411\n",
      "1.0404493808746338\n",
      "1.0874366760253906\n",
      "1.0403372049331665\n",
      "1.062836766242981\n",
      "1.0034503936767578\n",
      "1.0374901294708252\n",
      "1.0831372737884521\n",
      "1.0482717752456665\n",
      "1.0087279081344604\n",
      "1.0370092391967773\n",
      "1.0782246589660645\n",
      "1.0003520250320435\n",
      "1.028212070465088\n",
      "1.0388641357421875\n",
      "1.0169618129730225\n",
      "1.052297830581665\n",
      "1.0403966903686523\n"
     ]
    },
    {
     "name": "stderr",
     "output_type": "stream",
     "text": [
      " 30%|██▉       | 4623/15625 [00:47<02:13, 82.42it/s]"
     ]
    },
    {
     "name": "stdout",
     "output_type": "stream",
     "text": [
      "1.1095221042633057\n",
      "1.0246756076812744\n",
      "1.0858343839645386\n",
      "1.0755836963653564\n",
      "1.0062077045440674\n",
      "1.0271623134613037\n",
      "1.0528125762939453\n",
      "0.9767748117446899\n",
      "1.0200629234313965\n",
      "1.042043924331665\n",
      "1.0000133514404297\n",
      "1.0298906564712524\n",
      "1.0458285808563232\n",
      "1.0058058500289917\n",
      "1.0036015510559082\n"
     ]
    },
    {
     "name": "stderr",
     "output_type": "stream",
     "text": [
      " 30%|██▉       | 4641/15625 [00:48<02:17, 80.04it/s]"
     ]
    },
    {
     "name": "stdout",
     "output_type": "stream",
     "text": [
      "1.0238192081451416\n",
      "1.0610733032226562\n",
      "1.0836939811706543\n",
      "1.0318846702575684\n",
      "1.0146079063415527\n",
      "1.0838873386383057\n",
      "1.007139801979065\n",
      "1.0435547828674316\n",
      "1.0282899141311646\n",
      "1.0254604816436768\n",
      "1.0116937160491943\n",
      "0.9480607509613037\n",
      "1.0000815391540527\n",
      "1.0235918760299683\n",
      "1.0583221912384033\n",
      "1.0694425106048584\n"
     ]
    },
    {
     "name": "stderr",
     "output_type": "stream",
     "text": [
      " 30%|██▉       | 4659/15625 [00:48<02:11, 83.38it/s]"
     ]
    },
    {
     "name": "stdout",
     "output_type": "stream",
     "text": [
      "1.0004531145095825\n",
      "0.9733952283859253\n",
      "1.035214900970459\n",
      "1.0448343753814697\n",
      "1.0531044006347656\n",
      "1.0666582584381104\n",
      "1.0486505031585693\n",
      "0.9971039295196533\n",
      "1.0758113861083984\n",
      "0.9807572364807129\n",
      "1.0720930099487305\n",
      "1.0694496631622314\n",
      "1.0855967998504639\n",
      "1.038541316986084\n",
      "1.021933913230896\n",
      "1.1451938152313232\n",
      "0.9861993789672852\n",
      "1.0318472385406494\n"
     ]
    },
    {
     "name": "stderr",
     "output_type": "stream",
     "text": [
      " 30%|██▉       | 4677/15625 [00:48<02:07, 86.10it/s]"
     ]
    },
    {
     "name": "stdout",
     "output_type": "stream",
     "text": [
      "1.0297825336456299\n",
      "0.9899008274078369\n",
      "1.0690581798553467\n",
      "1.056565761566162\n",
      "0.9830575585365295\n",
      "1.0312786102294922\n",
      "1.0372912883758545\n",
      "1.016532063484192\n",
      "1.0135657787322998\n",
      "1.0530285835266113\n",
      "1.0357415676116943\n",
      "1.0092957019805908\n",
      "1.0725047588348389\n",
      "1.065551519393921\n",
      "1.0410077571868896\n",
      "1.0333774089813232\n",
      "1.057469129562378\n",
      "1.0374037027359009\n"
     ]
    },
    {
     "name": "stderr",
     "output_type": "stream",
     "text": [
      " 30%|███       | 4696/15625 [00:48<02:03, 88.26it/s]"
     ]
    },
    {
     "name": "stdout",
     "output_type": "stream",
     "text": [
      "1.0277748107910156\n",
      "1.0202765464782715\n",
      "1.0692005157470703\n",
      "1.0339760780334473\n",
      "1.0021145343780518\n",
      "1.0222229957580566\n",
      "0.9977552890777588\n",
      "1.0217790603637695\n",
      "1.0997036695480347\n",
      "1.0365545749664307\n",
      "1.0253627300262451\n",
      "1.0966205596923828\n",
      "0.9769150614738464\n",
      "1.0791614055633545\n",
      "1.0524766445159912\n",
      "1.0297518968582153\n",
      "1.0429308414459229\n",
      "1.0547446012496948\n",
      "0.9925339818000793\n"
     ]
    },
    {
     "name": "stderr",
     "output_type": "stream",
     "text": [
      " 30%|███       | 4716/15625 [00:49<02:01, 89.47it/s]"
     ]
    },
    {
     "name": "stdout",
     "output_type": "stream",
     "text": [
      "1.0588629245758057\n",
      "1.0914053916931152\n",
      "1.0676043033599854\n",
      "1.1193914413452148\n",
      "0.9898101091384888\n",
      "0.9980056285858154\n",
      "1.0281546115875244\n",
      "1.0522520542144775\n",
      "1.0505831241607666\n",
      "1.0582647323608398\n",
      "1.049254298210144\n",
      "1.0564937591552734\n",
      "1.020068645477295\n",
      "1.090948224067688\n",
      "1.0488834381103516\n",
      "1.1152986288070679\n",
      "0.9880846738815308\n",
      "1.0546234846115112\n",
      "1.0572624206542969\n"
     ]
    },
    {
     "name": "stderr",
     "output_type": "stream",
     "text": [
      " 30%|███       | 4736/15625 [00:49<02:00, 90.21it/s]"
     ]
    },
    {
     "name": "stdout",
     "output_type": "stream",
     "text": [
      "1.0409648418426514\n",
      "1.0870684385299683\n",
      "1.0376369953155518\n",
      "1.0466670989990234\n",
      "1.0060956478118896\n",
      "1.0510635375976562\n",
      "1.0192406177520752\n",
      "1.0321478843688965\n",
      "0.9983332753181458\n",
      "1.0621991157531738\n",
      "1.0068538188934326\n",
      "1.057909369468689\n",
      "1.0354723930358887\n",
      "1.0334601402282715\n",
      "1.0058097839355469\n",
      "1.057337999343872\n",
      "1.0344120264053345\n",
      "1.056788444519043\n",
      "1.0324991941452026\n"
     ]
    },
    {
     "name": "stderr",
     "output_type": "stream",
     "text": [
      "\r",
      " 30%|███       | 4746/15625 [00:49<02:00, 90.64it/s]"
     ]
    },
    {
     "name": "stdout",
     "output_type": "stream",
     "text": [
      "0.9745117425918579\n",
      "0.986952543258667\n",
      "1.0227444171905518\n",
      "1.0542216300964355\n",
      "1.0113028287887573\n",
      "1.0095919370651245\n",
      "1.043381929397583\n",
      "1.0511751174926758\n",
      "0.9971891641616821\n",
      "1.0545121431350708\n",
      "1.0199363231658936\n",
      "1.02268648147583\n",
      "1.0140427350997925\n",
      "1.0387892723083496\n",
      "1.048508644104004\n",
      "1.0075992345809937\n",
      "1.0273839235305786\n",
      "0.9674597978591919\n",
      "1.0243926048278809\n"
     ]
    },
    {
     "name": "stderr",
     "output_type": "stream",
     "text": [
      " 31%|███       | 4766/15625 [00:49<01:59, 90.95it/s]"
     ]
    },
    {
     "name": "stdout",
     "output_type": "stream",
     "text": [
      "1.0539615154266357\n",
      "1.0554509162902832\n",
      "1.097604513168335\n",
      "1.0157160758972168\n",
      "1.021944284439087\n",
      "1.014650583267212\n",
      "1.0860133171081543\n",
      "1.023159384727478\n",
      "1.0281517505645752\n",
      "1.006341576576233\n",
      "1.0547304153442383\n",
      "1.0443828105926514\n",
      "1.040752649307251\n",
      "1.0316673517227173\n",
      "1.0166949033737183\n",
      "1.0100555419921875\n",
      "0.9906673431396484\n",
      "1.091427206993103\n",
      "1.0622437000274658\n"
     ]
    },
    {
     "name": "stderr",
     "output_type": "stream",
     "text": [
      " 31%|███       | 4786/15625 [00:49<01:58, 91.56it/s]"
     ]
    },
    {
     "name": "stdout",
     "output_type": "stream",
     "text": [
      "1.0271950960159302\n",
      "1.029787540435791\n",
      "1.0579853057861328\n",
      "1.0002202987670898\n",
      "1.0051535367965698\n",
      "1.0701713562011719\n",
      "1.0491385459899902\n",
      "0.9920704960823059\n",
      "1.0219972133636475\n",
      "1.0307778120040894\n",
      "1.0753612518310547\n",
      "1.0138084888458252\n",
      "1.0276753902435303\n",
      "1.027997612953186\n",
      "1.0231952667236328\n",
      "1.036003828048706\n",
      "1.0351803302764893\n",
      "1.0924015045166016\n",
      "1.0032024383544922\n"
     ]
    },
    {
     "name": "stderr",
     "output_type": "stream",
     "text": [
      " 31%|███       | 4806/15625 [00:50<01:57, 91.88it/s]"
     ]
    },
    {
     "name": "stdout",
     "output_type": "stream",
     "text": [
      "1.0480530261993408\n",
      "0.9722714424133301\n",
      "1.0748649835586548\n",
      "1.0357273817062378\n",
      "1.018022060394287\n",
      "1.0433367490768433\n",
      "0.9599717855453491\n",
      "1.0489819049835205\n",
      "1.0330283641815186\n",
      "1.116877794265747\n",
      "1.0805270671844482\n",
      "1.0071165561676025\n",
      "1.0461549758911133\n",
      "0.9948859810829163\n",
      "1.0399796962738037\n",
      "1.0223145484924316\n",
      "0.9900839924812317\n",
      "1.0171433687210083\n",
      "0.9918138384819031\n"
     ]
    },
    {
     "name": "stderr",
     "output_type": "stream",
     "text": [
      " 31%|███       | 4826/15625 [00:50<01:57, 91.54it/s]"
     ]
    },
    {
     "name": "stdout",
     "output_type": "stream",
     "text": [
      "1.0648210048675537\n",
      "0.998595118522644\n",
      "1.0876456499099731\n",
      "1.0990686416625977\n",
      "1.0839793682098389\n",
      "1.0747013092041016\n",
      "1.1015098094940186\n",
      "1.0662360191345215\n",
      "0.9932931661605835\n",
      "1.068455696105957\n",
      "1.0559420585632324\n",
      "1.0524709224700928\n",
      "1.0599980354309082\n",
      "1.0107250213623047\n",
      "1.0225744247436523\n",
      "1.0132379531860352\n",
      "1.004206657409668\n",
      "1.0181248188018799\n",
      "1.0275428295135498\n"
     ]
    },
    {
     "name": "stderr",
     "output_type": "stream",
     "text": [
      " 31%|███       | 4846/15625 [00:50<01:58, 90.82it/s]"
     ]
    },
    {
     "name": "stdout",
     "output_type": "stream",
     "text": [
      "1.1010112762451172\n",
      "1.036769986152649\n",
      "1.0980918407440186\n",
      "1.0280359983444214\n",
      "0.9927589297294617\n",
      "1.0578291416168213\n",
      "0.9817609786987305\n",
      "1.0193836688995361\n",
      "0.9938822984695435\n",
      "1.0431607961654663\n",
      "1.0181145668029785\n",
      "1.0765905380249023\n",
      "1.0322871208190918\n",
      "1.0290898084640503\n",
      "1.0480458736419678\n",
      "1.0582199096679688\n",
      "1.0190073251724243\n",
      "0.982584536075592\n",
      "1.017961025238037\n"
     ]
    },
    {
     "name": "stderr",
     "output_type": "stream",
     "text": [
      " 31%|███       | 4866/15625 [00:50<01:58, 90.46it/s]"
     ]
    },
    {
     "name": "stdout",
     "output_type": "stream",
     "text": [
      "0.9983137249946594\n",
      "1.039681077003479\n",
      "1.0556544065475464\n",
      "1.0637261867523193\n",
      "1.0209462642669678\n",
      "1.0694524049758911\n",
      "1.0059471130371094\n",
      "1.0937364101409912\n",
      "0.9920403361320496\n",
      "1.0267887115478516\n",
      "1.0419185161590576\n",
      "1.0212095975875854\n",
      "1.0502063035964966\n",
      "1.0607757568359375\n",
      "1.027036428451538\n",
      "1.0109319686889648\n",
      "1.0713117122650146\n",
      "1.0123488903045654\n",
      "1.0427331924438477\n"
     ]
    },
    {
     "name": "stderr",
     "output_type": "stream",
     "text": [
      " 31%|███▏      | 4886/15625 [00:50<01:59, 90.19it/s]"
     ]
    },
    {
     "name": "stdout",
     "output_type": "stream",
     "text": [
      "1.0453927516937256\n",
      "1.003899097442627\n",
      "1.0382518768310547\n",
      "0.9731914401054382\n",
      "1.0434526205062866\n",
      "0.9908738732337952\n",
      "1.0171475410461426\n",
      "1.0004183053970337\n",
      "0.9719382524490356\n",
      "1.03989839553833\n",
      "0.9892055988311768\n",
      "1.0251983404159546\n",
      "1.0385866165161133\n",
      "0.9713326096534729\n",
      "1.0252145528793335\n",
      "1.0414329767227173\n",
      "0.9899954199790955\n",
      "1.0868782997131348\n",
      "1.0087542533874512\n"
     ]
    },
    {
     "name": "stderr",
     "output_type": "stream",
     "text": [
      " 31%|███▏      | 4906/15625 [00:51<01:58, 90.36it/s]"
     ]
    },
    {
     "name": "stdout",
     "output_type": "stream",
     "text": [
      "1.0541772842407227\n",
      "0.9752339124679565\n",
      "1.0271587371826172\n",
      "1.0605477094650269\n",
      "1.0594406127929688\n",
      "1.0061280727386475\n",
      "1.0186798572540283\n",
      "0.9929062128067017\n",
      "1.0249851942062378\n",
      "1.1140329837799072\n",
      "1.0304272174835205\n",
      "1.0039952993392944\n",
      "1.053210735321045\n",
      "1.032401204109192\n",
      "1.050163984298706\n",
      "1.081874132156372\n",
      "1.1116719245910645\n",
      "1.0113643407821655\n",
      "1.0464791059494019\n"
     ]
    },
    {
     "name": "stderr",
     "output_type": "stream",
     "text": [
      " 32%|███▏      | 4926/15625 [00:51<01:57, 90.76it/s]"
     ]
    },
    {
     "name": "stdout",
     "output_type": "stream",
     "text": [
      "0.9976532459259033\n",
      "1.0731191635131836\n",
      "1.0438969135284424\n",
      "1.0303142070770264\n",
      "1.091437578201294\n",
      "1.069059133529663\n",
      "1.074597954750061\n",
      "1.1060657501220703\n",
      "0.9867243766784668\n",
      "1.0806913375854492\n",
      "1.107729196548462\n",
      "1.0744843482971191\n",
      "1.0553852319717407\n",
      "1.056411862373352\n",
      "1.0622977018356323\n",
      "1.0164873600006104\n",
      "1.0225396156311035\n",
      "1.0745558738708496\n",
      "1.059875249862671\n"
     ]
    },
    {
     "name": "stderr",
     "output_type": "stream",
     "text": [
      "\r",
      " 32%|███▏      | 4936/15625 [00:51<01:57, 90.60it/s]"
     ]
    },
    {
     "name": "stdout",
     "output_type": "stream",
     "text": [
      "1.0657413005828857\n",
      "1.009791374206543\n",
      "1.0432944297790527\n",
      "1.0215204954147339\n",
      "1.0518574714660645\n",
      "0.99929279088974\n",
      "1.0129663944244385\n",
      "1.032590389251709\n",
      "1.008925199508667\n",
      "1.0738974809646606\n",
      "1.0381839275360107\n",
      "1.1093528270721436\n",
      "1.046544075012207\n",
      "1.0115107297897339\n",
      "1.0820070505142212\n",
      "1.087235927581787\n",
      "1.0595548152923584\n",
      "1.006912112236023\n",
      "0.9909559488296509\n"
     ]
    },
    {
     "name": "stderr",
     "output_type": "stream",
     "text": [
      " 32%|███▏      | 4956/15625 [00:51<01:57, 90.56it/s]"
     ]
    },
    {
     "name": "stdout",
     "output_type": "stream",
     "text": [
      "1.0019475221633911\n",
      "1.0449776649475098\n",
      "1.0484036207199097\n",
      "1.0123698711395264\n",
      "1.0581631660461426\n",
      "1.0268203020095825\n",
      "1.0522977113723755\n",
      "1.0091475248336792\n",
      "1.0123199224472046\n",
      "1.049520492553711\n",
      "1.0208477973937988\n",
      "1.00651216506958\n",
      "1.0304756164550781\n",
      "1.0625005960464478\n",
      "1.1025714874267578\n",
      "1.0320789813995361\n",
      "1.0673739910125732\n",
      "1.0433874130249023\n",
      "1.0412296056747437\n"
     ]
    },
    {
     "name": "stderr",
     "output_type": "stream",
     "text": [
      " 32%|███▏      | 4976/15625 [00:51<01:57, 90.47it/s]"
     ]
    },
    {
     "name": "stdout",
     "output_type": "stream",
     "text": [
      "1.0564765930175781\n",
      "1.0397377014160156\n",
      "1.035686731338501\n",
      "1.1014020442962646\n",
      "1.0692939758300781\n",
      "1.0487871170043945\n",
      "1.0520908832550049\n",
      "1.0878934860229492\n",
      "1.0497146844863892\n",
      "1.0018047094345093\n",
      "1.0370755195617676\n",
      "1.0402214527130127\n",
      "1.013068675994873\n",
      "1.0339723825454712\n",
      "1.058779001235962\n",
      "1.085176706314087\n",
      "1.0938459634780884\n",
      "1.0543432235717773\n",
      "1.0010428428649902\n"
     ]
    },
    {
     "name": "stderr",
     "output_type": "stream",
     "text": [
      " 32%|███▏      | 4996/15625 [00:52<01:57, 90.65it/s]"
     ]
    },
    {
     "name": "stdout",
     "output_type": "stream",
     "text": [
      "1.0078458786010742\n",
      "1.0229465961456299\n",
      "1.0274012088775635\n",
      "0.9582216739654541\n",
      "1.0848634243011475\n",
      "1.1013081073760986\n",
      "1.0364872217178345\n",
      "1.0298740863800049\n",
      "1.060153603553772\n",
      "1.0938819646835327\n",
      "1.058917760848999\n",
      "1.0989826917648315\n",
      "1.0904743671417236\n",
      "1.044777274131775\n",
      "1.049851894378662\n",
      "1.0702869892120361\n",
      "0.9763096570968628\n",
      "0.9853070974349976\n",
      "1.0757622718811035\n"
     ]
    },
    {
     "name": "stderr",
     "output_type": "stream",
     "text": [
      " 32%|███▏      | 5016/15625 [00:52<01:57, 90.05it/s]"
     ]
    },
    {
     "name": "stdout",
     "output_type": "stream",
     "text": [
      "1.0232081413269043\n",
      "1.1223340034484863\n",
      "1.038129210472107\n",
      "1.012132167816162\n",
      "1.0418496131896973\n",
      "1.0582048892974854\n",
      "1.0527163743972778\n",
      "1.0290578603744507\n",
      "1.0725923776626587\n",
      "1.0217082500457764\n",
      "1.1124038696289062\n",
      "1.0648725032806396\n",
      "1.0750858783721924\n",
      "1.0019062757492065\n",
      "1.034224510192871\n",
      "0.9999977350234985\n",
      "1.0499881505966187\n",
      "1.001255750656128\n"
     ]
    },
    {
     "name": "stderr",
     "output_type": "stream",
     "text": [
      " 32%|███▏      | 5035/15625 [00:52<01:58, 89.27it/s]"
     ]
    },
    {
     "name": "stdout",
     "output_type": "stream",
     "text": [
      "1.0540668964385986\n",
      "1.0235967636108398\n",
      "1.0210206508636475\n",
      "1.083569049835205\n",
      "1.0630877017974854\n",
      "1.04054594039917\n",
      "1.034208059310913\n",
      "1.0708701610565186\n",
      "0.9950796365737915\n",
      "1.1083933115005493\n",
      "1.0416594743728638\n",
      "1.0977559089660645\n",
      "1.0396785736083984\n",
      "1.0553627014160156\n",
      "1.060302734375\n",
      "1.0539692640304565\n",
      "1.0111603736877441\n",
      "1.041426181793213\n"
     ]
    },
    {
     "name": "stderr",
     "output_type": "stream",
     "text": [
      " 32%|███▏      | 5054/15625 [00:52<01:57, 89.69it/s]"
     ]
    },
    {
     "name": "stdout",
     "output_type": "stream",
     "text": [
      "0.9906319379806519\n",
      "1.0359947681427002\n",
      "1.0449855327606201\n",
      "1.0041899681091309\n",
      "1.0080008506774902\n",
      "1.078366756439209\n",
      "1.027207374572754\n",
      "1.0107513666152954\n",
      "0.981162428855896\n",
      "1.051798701286316\n",
      "0.9821926951408386\n",
      "0.9480644464492798\n",
      "1.0192279815673828\n",
      "1.0017470121383667\n",
      "1.0850857496261597\n",
      "1.0760669708251953\n",
      "1.0243762731552124\n",
      "0.9932959675788879\n",
      "1.0235838890075684\n"
     ]
    },
    {
     "name": "stderr",
     "output_type": "stream",
     "text": [
      " 32%|███▏      | 5074/15625 [00:53<01:56, 90.61it/s]"
     ]
    },
    {
     "name": "stdout",
     "output_type": "stream",
     "text": [
      "1.0092005729675293\n",
      "0.9765260219573975\n",
      "1.0615243911743164\n",
      "0.9754725694656372\n",
      "1.029106855392456\n",
      "1.0245378017425537\n",
      "0.9917606115341187\n",
      "1.0351426601409912\n",
      "1.062548279762268\n",
      "1.0071361064910889\n",
      "1.0105637311935425\n",
      "1.0286965370178223\n",
      "0.9961824417114258\n",
      "1.0363187789916992\n",
      "1.0781383514404297\n",
      "1.1097426414489746\n",
      "1.0101560354232788\n",
      "0.9961562156677246\n",
      "0.9889715909957886\n"
     ]
    },
    {
     "name": "stderr",
     "output_type": "stream",
     "text": [
      " 33%|███▎      | 5094/15625 [00:53<01:56, 90.66it/s]"
     ]
    },
    {
     "name": "stdout",
     "output_type": "stream",
     "text": [
      "1.0470296144485474\n",
      "0.9872552156448364\n",
      "1.008791446685791\n",
      "0.984551191329956\n",
      "1.0241475105285645\n",
      "0.9752623438835144\n",
      "1.0122594833374023\n",
      "1.0671838521957397\n",
      "1.0506691932678223\n",
      "1.0249192714691162\n",
      "1.0056509971618652\n",
      "1.0195560455322266\n",
      "1.0389904975891113\n",
      "1.025069236755371\n",
      "1.047003984451294\n",
      "1.0525736808776855\n",
      "1.044474482536316\n",
      "1.0500365495681763\n",
      "1.0524437427520752\n"
     ]
    },
    {
     "name": "stderr",
     "output_type": "stream",
     "text": [
      " 33%|███▎      | 5114/15625 [00:53<01:55, 91.03it/s]"
     ]
    },
    {
     "name": "stdout",
     "output_type": "stream",
     "text": [
      "1.0145459175109863\n",
      "1.0780972242355347\n",
      "0.9864175915718079\n",
      "0.9749835133552551\n",
      "0.9999633431434631\n",
      "0.9797067046165466\n",
      "1.0450644493103027\n",
      "1.0455152988433838\n",
      "1.0334112644195557\n",
      "1.0168052911758423\n",
      "1.0253140926361084\n",
      "1.0278127193450928\n",
      "1.0821542739868164\n",
      "1.0605496168136597\n",
      "1.0607235431671143\n",
      "1.0332785844802856\n",
      "0.9935395121574402\n",
      "0.9788394570350647\n",
      "1.0182147026062012\n"
     ]
    },
    {
     "name": "stderr",
     "output_type": "stream",
     "text": [
      "\r",
      " 33%|███▎      | 5124/15625 [00:53<01:54, 91.41it/s]"
     ]
    },
    {
     "name": "stdout",
     "output_type": "stream",
     "text": [
      "1.0043666362762451\n",
      "0.977091372013092\n",
      "1.0537654161453247\n",
      "0.9850198030471802\n",
      "0.9981441497802734\n",
      "1.0847605466842651\n",
      "1.010086178779602\n",
      "1.0466482639312744\n",
      "1.0741294622421265\n",
      "1.0776464939117432\n",
      "1.0295438766479492\n",
      "1.0316179990768433\n",
      "1.0182369947433472\n",
      "1.0652542114257812\n",
      "1.0485923290252686\n",
      "1.0217971801757812\n",
      "0.9901027679443359\n",
      "1.041492223739624\n",
      "1.0324409008026123\n"
     ]
    },
    {
     "name": "stderr",
     "output_type": "stream",
     "text": [
      " 33%|███▎      | 5144/15625 [00:53<01:53, 92.18it/s]"
     ]
    },
    {
     "name": "stdout",
     "output_type": "stream",
     "text": [
      "1.0182887315750122\n",
      "1.0128062963485718\n",
      "1.0133838653564453\n",
      "1.0728195905685425\n",
      "1.0080642700195312\n",
      "1.0723121166229248\n",
      "0.973456621170044\n",
      "1.018899917602539\n",
      "1.0181090831756592\n",
      "1.0685157775878906\n",
      "1.0839906930923462\n",
      "1.0539772510528564\n",
      "1.049821138381958\n",
      "1.0017222166061401\n",
      "1.0457494258880615\n",
      "1.017521858215332\n",
      "0.984162449836731\n",
      "1.0053762197494507\n",
      "1.0034091472625732\n"
     ]
    },
    {
     "name": "stderr",
     "output_type": "stream",
     "text": [
      " 33%|███▎      | 5164/15625 [00:53<01:53, 92.48it/s]"
     ]
    },
    {
     "name": "stdout",
     "output_type": "stream",
     "text": [
      "1.0410780906677246\n",
      "1.040461540222168\n",
      "1.030973196029663\n",
      "1.0426404476165771\n",
      "1.0719058513641357\n",
      "1.026102066040039\n",
      "1.0536867380142212\n",
      "1.0454810857772827\n",
      "1.0413973331451416\n",
      "1.0438615083694458\n",
      "1.0155986547470093\n",
      "1.0266728401184082\n",
      "1.0210964679718018\n",
      "1.0391435623168945\n",
      "1.0123114585876465\n",
      "0.9927902221679688\n",
      "1.0096685886383057\n",
      "1.0052311420440674\n",
      "0.9784115552902222\n"
     ]
    },
    {
     "name": "stderr",
     "output_type": "stream",
     "text": [
      " 33%|███▎      | 5184/15625 [00:54<01:54, 91.35it/s]"
     ]
    },
    {
     "name": "stdout",
     "output_type": "stream",
     "text": [
      "1.0616629123687744\n",
      "1.0641289949417114\n",
      "1.024603247642517\n",
      "1.1102252006530762\n",
      "1.07810640335083\n",
      "1.0325429439544678\n",
      "1.0414201021194458\n",
      "0.9697380065917969\n",
      "1.0180202722549438\n",
      "1.0521810054779053\n",
      "1.0280306339263916\n",
      "1.0698933601379395\n",
      "1.0388941764831543\n",
      "1.079062581062317\n",
      "1.0949394702911377\n",
      "1.0173484086990356\n",
      "0.9884986877441406\n",
      "1.0208673477172852\n",
      "1.0164110660552979\n"
     ]
    },
    {
     "name": "stderr",
     "output_type": "stream",
     "text": [
      " 33%|███▎      | 5204/15625 [00:54<01:55, 90.27it/s]"
     ]
    },
    {
     "name": "stdout",
     "output_type": "stream",
     "text": [
      "1.0671848058700562\n",
      "1.036264181137085\n",
      "1.011027216911316\n",
      "1.048222541809082\n",
      "0.969683051109314\n",
      "1.0482404232025146\n",
      "1.0610389709472656\n",
      "0.9913547039031982\n",
      "1.01292884349823\n",
      "0.988412618637085\n",
      "1.09909188747406\n",
      "1.0171728134155273\n",
      "1.019944429397583\n",
      "1.016990065574646\n",
      "1.0376149415969849\n",
      "1.0480177402496338\n",
      "1.0151172876358032\n",
      "1.0020911693572998\n"
     ]
    },
    {
     "name": "stderr",
     "output_type": "stream",
     "text": [
      " 33%|███▎      | 5224/15625 [00:54<01:55, 90.15it/s]"
     ]
    },
    {
     "name": "stdout",
     "output_type": "stream",
     "text": [
      "1.0892765522003174\n",
      "1.0133116245269775\n",
      "1.0058801174163818\n",
      "1.0478110313415527\n",
      "0.9767688512802124\n",
      "1.045863151550293\n",
      "0.9925230145454407\n",
      "1.0609012842178345\n",
      "1.0082409381866455\n",
      "1.0177228450775146\n",
      "1.0193920135498047\n",
      "1.0298569202423096\n",
      "1.118730068206787\n",
      "1.060795545578003\n",
      "1.0212934017181396\n",
      "1.061397671699524\n",
      "1.0506260395050049\n",
      "1.0225763320922852\n",
      "1.0220890045166016\n"
     ]
    },
    {
     "name": "stderr",
     "output_type": "stream",
     "text": [
      " 34%|███▎      | 5244/15625 [00:54<01:54, 90.89it/s]"
     ]
    },
    {
     "name": "stdout",
     "output_type": "stream",
     "text": [
      "1.0320273637771606\n",
      "1.0050530433654785\n",
      "1.0290218591690063\n",
      "1.067668080329895\n",
      "1.0193651914596558\n",
      "1.018237829208374\n",
      "1.0789916515350342\n",
      "1.0624701976776123\n",
      "0.98142409324646\n",
      "1.0786468982696533\n",
      "1.055012583732605\n",
      "0.9928561449050903\n",
      "1.0216312408447266\n",
      "1.0315032005310059\n",
      "1.0581134557724\n",
      "1.0075386762619019\n",
      "0.9799292087554932\n",
      "1.0332903861999512\n",
      "1.0497320890426636\n"
     ]
    },
    {
     "name": "stderr",
     "output_type": "stream",
     "text": [
      " 34%|███▎      | 5264/15625 [00:55<01:53, 90.97it/s]"
     ]
    },
    {
     "name": "stdout",
     "output_type": "stream",
     "text": [
      "1.0226519107818604\n",
      "1.0200979709625244\n",
      "0.9906697273254395\n",
      "1.114670753479004\n",
      "1.0355017185211182\n",
      "1.0118134021759033\n",
      "1.0401322841644287\n",
      "1.0974762439727783\n",
      "1.0528764724731445\n",
      "1.0199275016784668\n",
      "1.0117051601409912\n",
      "1.0499814748764038\n",
      "1.0407867431640625\n",
      "1.0887970924377441\n",
      "1.0717042684555054\n",
      "1.0850706100463867\n",
      "1.0038256645202637\n",
      "1.0712214708328247\n",
      "1.0962224006652832\n"
     ]
    },
    {
     "name": "stderr",
     "output_type": "stream",
     "text": [
      " 34%|███▍      | 5284/15625 [00:55<01:53, 91.16it/s]"
     ]
    },
    {
     "name": "stdout",
     "output_type": "stream",
     "text": [
      "1.0297669172286987\n",
      "1.018955945968628\n",
      "0.968611478805542\n",
      "1.091962218284607\n",
      "1.0163788795471191\n",
      "1.081388235092163\n",
      "1.0440070629119873\n",
      "1.0716928243637085\n",
      "1.056963562965393\n",
      "1.078826665878296\n",
      "1.0709140300750732\n",
      "0.9992588758468628\n",
      "1.1206393241882324\n",
      "1.0534107685089111\n",
      "1.0522414445877075\n",
      "0.9915165305137634\n",
      "1.0037927627563477\n",
      "1.0125164985656738\n",
      "0.9607126712799072\n"
     ]
    },
    {
     "name": "stderr",
     "output_type": "stream",
     "text": [
      "\r",
      " 34%|███▍      | 5294/15625 [00:55<01:53, 91.23it/s]"
     ]
    },
    {
     "name": "stdout",
     "output_type": "stream",
     "text": [
      "1.0370533466339111\n",
      "0.9757237434387207\n",
      "1.0007565021514893\n",
      "1.0777090787887573\n",
      "1.0440733432769775\n",
      "1.0077457427978516\n",
      "1.0623753070831299\n",
      "1.0735657215118408\n",
      "1.0397789478302002\n",
      "0.9965956211090088\n",
      "1.004577398300171\n",
      "1.0308786630630493\n",
      "0.9976552724838257\n",
      "1.0476715564727783\n",
      "0.9926263689994812\n",
      "1.0222924947738647\n",
      "1.0220085382461548\n",
      "1.0838576555252075\n",
      "0.9970558881759644\n"
     ]
    },
    {
     "name": "stderr",
     "output_type": "stream",
     "text": [
      " 34%|███▍      | 5314/15625 [00:55<01:53, 91.21it/s]"
     ]
    },
    {
     "name": "stdout",
     "output_type": "stream",
     "text": [
      "1.037419319152832\n",
      "1.0270440578460693\n",
      "0.998271107673645\n",
      "1.021454095840454\n",
      "1.0392534732818604\n",
      "1.0367169380187988\n",
      "1.0425418615341187\n",
      "1.0819177627563477\n",
      "1.0260086059570312\n",
      "1.089127540588379\n",
      "1.021411418914795\n",
      "0.984937846660614\n",
      "0.9780741333961487\n",
      "1.0907647609710693\n",
      "1.0058043003082275\n",
      "1.0038108825683594\n",
      "1.0657126903533936\n",
      "1.022452712059021\n",
      "0.9847822785377502\n"
     ]
    },
    {
     "name": "stderr",
     "output_type": "stream",
     "text": [
      " 34%|███▍      | 5334/15625 [00:55<01:53, 90.96it/s]"
     ]
    },
    {
     "name": "stdout",
     "output_type": "stream",
     "text": [
      "1.0382966995239258\n",
      "1.0272157192230225\n",
      "1.030357837677002\n",
      "1.0754485130310059\n",
      "1.0749855041503906\n",
      "1.0182636976242065\n",
      "0.9893395900726318\n",
      "0.994337797164917\n",
      "1.0992672443389893\n",
      "0.9340047836303711\n",
      "1.0370210409164429\n",
      "1.0250933170318604\n",
      "0.9875955581665039\n",
      "1.0106396675109863\n",
      "1.0084867477416992\n",
      "1.034752368927002\n",
      "1.0354464054107666\n",
      "1.021375060081482\n",
      "1.0397365093231201\n"
     ]
    },
    {
     "name": "stderr",
     "output_type": "stream",
     "text": [
      " 34%|███▍      | 5354/15625 [00:56<01:53, 90.72it/s]"
     ]
    },
    {
     "name": "stdout",
     "output_type": "stream",
     "text": [
      "0.9903873205184937\n",
      "1.077521562576294\n",
      "0.9714980125427246\n",
      "1.0403132438659668\n",
      "1.0372154712677002\n",
      "1.0372248888015747\n",
      "1.1118155717849731\n",
      "1.0601919889450073\n",
      "1.0627821683883667\n",
      "1.0571537017822266\n",
      "1.0626734495162964\n",
      "1.0700031518936157\n",
      "1.0621522665023804\n",
      "1.0448620319366455\n",
      "1.095564603805542\n",
      "0.979354739189148\n",
      "1.060093879699707\n",
      "1.0046552419662476\n",
      "0.983061671257019\n"
     ]
    },
    {
     "name": "stderr",
     "output_type": "stream",
     "text": [
      " 34%|███▍      | 5374/15625 [00:56<01:51, 91.54it/s]"
     ]
    },
    {
     "name": "stdout",
     "output_type": "stream",
     "text": [
      "1.0846295356750488\n",
      "1.051828145980835\n",
      "1.0120009183883667\n",
      "1.050357699394226\n",
      "1.0362588167190552\n",
      "1.1087374687194824\n",
      "1.0219894647598267\n",
      "0.9871335029602051\n",
      "1.028582215309143\n",
      "0.9933736324310303\n",
      "0.9876325130462646\n",
      "1.004957914352417\n",
      "0.9936121702194214\n",
      "1.0219621658325195\n",
      "1.0497485399246216\n",
      "0.9778485894203186\n",
      "1.1102430820465088\n",
      "1.0143235921859741\n",
      "0.9979439377784729\n"
     ]
    },
    {
     "name": "stderr",
     "output_type": "stream",
     "text": [
      " 35%|███▍      | 5394/15625 [00:56<01:51, 91.59it/s]"
     ]
    },
    {
     "name": "stdout",
     "output_type": "stream",
     "text": [
      "1.0735366344451904\n",
      "1.0431307554244995\n",
      "0.952252984046936\n",
      "1.0443456172943115\n",
      "1.0200380086898804\n",
      "1.0050125122070312\n",
      "1.017594575881958\n",
      "1.0617185831069946\n",
      "1.0291202068328857\n",
      "1.0642890930175781\n",
      "0.9976608753204346\n",
      "1.0622293949127197\n",
      "1.0379018783569336\n",
      "1.0471546649932861\n",
      "1.0593316555023193\n",
      "1.0609050989151\n",
      "1.0345463752746582\n",
      "1.0141865015029907\n",
      "1.0894043445587158\n"
     ]
    },
    {
     "name": "stderr",
     "output_type": "stream",
     "text": [
      " 35%|███▍      | 5414/15625 [00:56<01:52, 90.82it/s]"
     ]
    },
    {
     "name": "stdout",
     "output_type": "stream",
     "text": [
      "1.073460340499878\n",
      "1.0423519611358643\n",
      "1.0442084074020386\n",
      "1.0230602025985718\n",
      "1.035796880722046\n",
      "1.0389697551727295\n",
      "1.056260585784912\n",
      "1.164707899093628\n",
      "1.0248671770095825\n",
      "1.0976901054382324\n",
      "1.0635509490966797\n",
      "0.9547816514968872\n",
      "1.0102453231811523\n",
      "1.0510807037353516\n",
      "0.9931074976921082\n",
      "1.066693902015686\n",
      "1.0051313638687134\n",
      "0.993516206741333\n",
      "1.021871566772461\n"
     ]
    },
    {
     "name": "stderr",
     "output_type": "stream",
     "text": [
      " 35%|███▍      | 5434/15625 [00:56<01:52, 90.59it/s]"
     ]
    },
    {
     "name": "stdout",
     "output_type": "stream",
     "text": [
      "0.9845414161682129\n",
      "1.0044993162155151\n",
      "1.0069141387939453\n",
      "1.0726239681243896\n",
      "1.0288357734680176\n",
      "0.9976120591163635\n",
      "1.0013831853866577\n",
      "1.0452308654785156\n",
      "1.0190985202789307\n",
      "1.0137684345245361\n",
      "1.0157675743103027\n",
      "1.055141568183899\n",
      "1.0057481527328491\n",
      "1.0527068376541138\n",
      "1.0493580102920532\n",
      "1.0228768587112427\n",
      "1.033167839050293\n",
      "0.9784283638000488\n",
      "0.9990623593330383\n"
     ]
    },
    {
     "name": "stderr",
     "output_type": "stream",
     "text": [
      "\r",
      " 35%|███▍      | 5444/15625 [00:57<02:03, 82.24it/s]"
     ]
    },
    {
     "name": "stdout",
     "output_type": "stream",
     "text": [
      "1.0165221691131592\n",
      "1.0330617427825928\n",
      "1.0853276252746582\n",
      "0.9889670014381409\n",
      "1.0048927068710327\n",
      "0.9848161339759827\n",
      "1.0431256294250488\n",
      "1.0396876335144043\n",
      "1.0986096858978271\n",
      "1.0197134017944336\n",
      "1.0669609308242798\n",
      "1.007938265800476\n",
      "0.9876937866210938\n",
      "1.020211935043335\n"
     ]
    },
    {
     "name": "stderr",
     "output_type": "stream",
     "text": [
      " 35%|███▍      | 5463/15625 [00:57<01:59, 84.76it/s]"
     ]
    },
    {
     "name": "stdout",
     "output_type": "stream",
     "text": [
      "1.0361580848693848\n",
      "1.0584354400634766\n",
      "1.037386178970337\n",
      "1.03095281124115\n",
      "1.0643284320831299\n",
      "1.0880796909332275\n",
      "1.03826904296875\n",
      "1.0004050731658936\n",
      "1.0765777826309204\n",
      "1.0232125520706177\n",
      "1.0548917055130005\n",
      "1.066161870956421\n",
      "1.0907354354858398\n",
      "1.1012077331542969\n",
      "1.0242141485214233\n",
      "1.0464895963668823\n",
      "1.0355255603790283\n"
     ]
    },
    {
     "name": "stderr",
     "output_type": "stream",
     "text": [
      " 35%|███▌      | 5481/15625 [00:57<02:04, 81.37it/s]"
     ]
    },
    {
     "name": "stdout",
     "output_type": "stream",
     "text": [
      "1.0036895275115967\n",
      "1.0591849088668823\n",
      "1.045246958732605\n",
      "1.0366485118865967\n",
      "1.0630276203155518\n",
      "1.0186256170272827\n",
      "1.007010579109192\n",
      "1.0098884105682373\n",
      "1.0792582035064697\n",
      "0.9915722608566284\n",
      "1.071480631828308\n",
      "1.0559128522872925\n",
      "1.090407133102417\n",
      "1.0521490573883057\n",
      "1.0676935911178589\n",
      "1.0669790506362915\n",
      "1.024014949798584\n",
      "0.9800787568092346\n"
     ]
    },
    {
     "name": "stderr",
     "output_type": "stream",
     "text": [
      " 35%|███▌      | 5501/15625 [00:57<01:53, 89.01it/s]"
     ]
    },
    {
     "name": "stdout",
     "output_type": "stream",
     "text": [
      "1.0476086139678955\n",
      "1.0481388568878174\n",
      "1.0785735845565796\n",
      "1.0699775218963623\n",
      "1.015588641166687\n",
      "1.1079175472259521\n",
      "0.9848548173904419\n",
      "0.9998219013214111\n",
      "0.9803224802017212\n",
      "1.0236530303955078\n",
      "1.0684880018234253\n",
      "1.0519909858703613\n",
      "1.041857361793518\n",
      "1.0511789321899414\n",
      "0.9970652461051941\n",
      "1.0738122463226318\n",
      "1.072601079940796\n",
      "1.054753065109253\n",
      "1.0418705940246582\n",
      "1.004741907119751\n"
     ]
    },
    {
     "name": "stderr",
     "output_type": "stream",
     "text": [
      " 35%|███▌      | 5522/15625 [00:57<01:47, 93.96it/s]"
     ]
    },
    {
     "name": "stdout",
     "output_type": "stream",
     "text": [
      "1.0755478143692017\n",
      "1.0627598762512207\n",
      "0.9962834119796753\n",
      "1.0018502473831177\n",
      "0.9857045412063599\n",
      "1.0180025100708008\n",
      "1.0384671688079834\n",
      "1.0283331871032715\n",
      "0.9973281621932983\n",
      "1.0733391046524048\n",
      "1.0350865125656128\n",
      "1.033007025718689\n",
      "1.0706310272216797\n",
      "1.0943105220794678\n",
      "1.0644481182098389\n",
      "0.9769574403762817\n",
      "1.0654778480529785\n",
      "1.0928723812103271\n",
      "1.0105754137039185\n",
      "1.0366275310516357\n",
      "1.012328028678894\n"
     ]
    },
    {
     "name": "stderr",
     "output_type": "stream",
     "text": [
      " 35%|███▌      | 5542/15625 [00:58<01:44, 96.76it/s]"
     ]
    },
    {
     "name": "stdout",
     "output_type": "stream",
     "text": [
      "1.0642309188842773\n",
      "1.0710316896438599\n",
      "0.9889121651649475\n",
      "1.0473368167877197\n",
      "1.0129575729370117\n",
      "0.9885862469673157\n",
      "0.9855592250823975\n",
      "1.0178402662277222\n",
      "1.0546976327896118\n",
      "1.0400867462158203\n",
      "1.073472499847412\n",
      "1.0115889310836792\n",
      "1.0356647968292236\n",
      "1.0024539232254028\n",
      "1.0023586750030518\n",
      "1.0271823406219482\n",
      "1.0560240745544434\n",
      "1.0321226119995117\n",
      "1.0781183242797852\n",
      "1.0564552545547485\n",
      "1.0216801166534424\n"
     ]
    },
    {
     "name": "stderr",
     "output_type": "stream",
     "text": [
      " 36%|███▌      | 5563/15625 [00:58<01:41, 98.75it/s]"
     ]
    },
    {
     "name": "stdout",
     "output_type": "stream",
     "text": [
      "1.0355238914489746\n",
      "1.0553429126739502\n",
      "0.9542468786239624\n",
      "1.0666847229003906\n",
      "1.0265309810638428\n",
      "0.9793111681938171\n",
      "1.0775715112686157\n",
      "1.0373353958129883\n",
      "1.0206079483032227\n",
      "1.0333139896392822\n",
      "1.0202269554138184\n",
      "1.0723880529403687\n",
      "1.0352588891983032\n",
      "1.0229463577270508\n",
      "1.0306333303451538\n",
      "0.996026873588562\n",
      "1.0456795692443848\n",
      "1.077495813369751\n",
      "1.0172685384750366\n",
      "1.0260930061340332\n",
      "1.0044445991516113\n"
     ]
    },
    {
     "name": "stderr",
     "output_type": "stream",
     "text": [
      " 36%|███▌      | 5584/15625 [00:58<01:40, 99.76it/s]"
     ]
    },
    {
     "name": "stdout",
     "output_type": "stream",
     "text": [
      "1.072872519493103\n",
      "1.0819880962371826\n",
      "0.9592329263687134\n",
      "1.0374070405960083\n",
      "0.981284499168396\n",
      "1.0227532386779785\n",
      "1.064924716949463\n",
      "1.0623103380203247\n",
      "0.9833593368530273\n",
      "1.024670124053955\n",
      "1.0532877445220947\n",
      "1.0367858409881592\n",
      "1.000539779663086\n",
      "0.9705941081047058\n",
      "1.0036791563034058\n",
      "0.9977683424949646\n",
      "1.004425287246704\n",
      "1.007066249847412\n",
      "1.0560410022735596\n",
      "0.9690907001495361\n",
      "0.9793961644172668\n"
     ]
    },
    {
     "name": "stderr",
     "output_type": "stream",
     "text": [
      " 36%|███▌      | 5606/15625 [00:58<01:39, 100.97it/s]"
     ]
    },
    {
     "name": "stdout",
     "output_type": "stream",
     "text": [
      "1.0403902530670166\n",
      "1.0705640316009521\n",
      "1.0423427820205688\n",
      "1.0177600383758545\n",
      "1.0656163692474365\n",
      "0.9990975856781006\n",
      "1.0377368927001953\n",
      "1.0345985889434814\n",
      "1.0292210578918457\n",
      "1.0006012916564941\n",
      "1.0391595363616943\n",
      "1.024423599243164\n",
      "1.0693285465240479\n",
      "1.0432602167129517\n",
      "1.0450810194015503\n",
      "1.072808861732483\n",
      "1.0496021509170532\n",
      "1.065271258354187\n",
      "1.0032774209976196\n",
      "1.0348083972930908\n",
      "0.9778674244880676\n"
     ]
    },
    {
     "name": "stderr",
     "output_type": "stream",
     "text": [
      " 36%|███▌      | 5628/15625 [00:59<01:38, 100.99it/s]"
     ]
    },
    {
     "name": "stdout",
     "output_type": "stream",
     "text": [
      "0.9419025182723999\n",
      "1.0508918762207031\n",
      "0.9831878542900085\n",
      "1.022080898284912\n",
      "1.031484842300415\n",
      "1.0497632026672363\n",
      "1.0635240077972412\n",
      "1.0174280405044556\n",
      "1.0600368976593018\n",
      "1.017127275466919\n",
      "1.0251436233520508\n",
      "1.054033875465393\n",
      "1.0240776538848877\n",
      "0.9840292930603027\n",
      "1.0282316207885742\n",
      "1.0392920970916748\n",
      "1.084338665008545\n",
      "1.007936954498291\n",
      "1.0040299892425537\n",
      "1.0648744106292725\n",
      "1.0618155002593994\n"
     ]
    },
    {
     "name": "stderr",
     "output_type": "stream",
     "text": [
      " 36%|███▌      | 5650/15625 [00:59<01:39, 100.58it/s]"
     ]
    },
    {
     "name": "stdout",
     "output_type": "stream",
     "text": [
      "0.9923123121261597\n",
      "1.0752671957015991\n",
      "1.0777465105056763\n",
      "1.0548473596572876\n",
      "1.02187180519104\n",
      "1.0351375341415405\n",
      "1.065253734588623\n",
      "1.0157904624938965\n",
      "1.0570975542068481\n",
      "1.1255059242248535\n",
      "1.0367838144302368\n",
      "0.8951408863067627\n",
      "1.0407755374908447\n",
      "1.0208289623260498\n",
      "1.0501775741577148\n",
      "0.9783737063407898\n",
      "1.014963150024414\n",
      "1.0200542211532593\n",
      "0.9465349316596985\n",
      "1.069092035293579\n",
      "1.0578491687774658\n"
     ]
    },
    {
     "name": "stderr",
     "output_type": "stream",
     "text": [
      " 36%|███▋      | 5671/15625 [00:59<01:39, 99.79it/s] "
     ]
    },
    {
     "name": "stdout",
     "output_type": "stream",
     "text": [
      "1.0452531576156616\n",
      "1.0414080619812012\n",
      "1.0353354215621948\n",
      "0.9543473124504089\n",
      "1.0677075386047363\n",
      "1.0222415924072266\n",
      "1.0207563638687134\n",
      "1.0374716520309448\n",
      "1.062781810760498\n",
      "1.0617611408233643\n",
      "1.0875763893127441\n",
      "1.0799521207809448\n",
      "1.038132667541504\n",
      "1.0596580505371094\n",
      "1.000455617904663\n",
      "1.0001611709594727\n",
      "0.971477210521698\n",
      "1.0170273780822754\n",
      "1.021181583404541\n",
      "1.02144193649292\n"
     ]
    },
    {
     "name": "stderr",
     "output_type": "stream",
     "text": [
      " 36%|███▋      | 5691/15625 [00:59<01:39, 99.37it/s]"
     ]
    },
    {
     "name": "stdout",
     "output_type": "stream",
     "text": [
      "1.0164119005203247\n",
      "1.026087999343872\n",
      "1.0499074459075928\n",
      "1.0618634223937988\n",
      "1.0660691261291504\n",
      "1.073712944984436\n",
      "0.9881291389465332\n",
      "1.0353505611419678\n",
      "1.0589282512664795\n",
      "1.0436370372772217\n",
      "1.0537198781967163\n",
      "1.0452275276184082\n",
      "1.0717053413391113\n",
      "1.022789478302002\n",
      "0.9879966378211975\n",
      "1.0673511028289795\n",
      "1.004212737083435\n",
      "1.0186755657196045\n",
      "1.0422240495681763\n",
      "1.0984828472137451\n"
     ]
    },
    {
     "name": "stderr",
     "output_type": "stream",
     "text": [
      " 37%|███▋      | 5711/15625 [00:59<01:40, 99.11it/s]"
     ]
    },
    {
     "name": "stdout",
     "output_type": "stream",
     "text": [
      "1.056168556213379\n",
      "1.0121299028396606\n",
      "1.0352962017059326\n",
      "0.9639580249786377\n",
      "1.0441821813583374\n",
      "1.018375039100647\n",
      "1.0573041439056396\n",
      "1.040825605392456\n",
      "1.0915449857711792\n",
      "1.05646812915802\n",
      "0.9817925095558167\n",
      "1.0107662677764893\n",
      "1.0414186716079712\n",
      "1.0587913990020752\n",
      "1.0220797061920166\n",
      "1.0389437675476074\n",
      "1.0326721668243408\n",
      "1.0082327127456665\n",
      "1.0679503679275513\n",
      "1.0625934600830078\n"
     ]
    },
    {
     "name": "stderr",
     "output_type": "stream",
     "text": [
      " 37%|███▋      | 5733/15625 [01:00<01:38, 100.25it/s]"
     ]
    },
    {
     "name": "stdout",
     "output_type": "stream",
     "text": [
      "1.018668532371521\n",
      "0.9867841005325317\n",
      "1.0049115419387817\n",
      "1.0551598072052002\n",
      "1.0478041172027588\n",
      "1.0052366256713867\n",
      "1.0113577842712402\n",
      "0.9766073226928711\n",
      "1.0407171249389648\n",
      "0.9991402626037598\n",
      "1.0048863887786865\n",
      "1.0483589172363281\n",
      "0.9583044648170471\n",
      "1.0867596864700317\n",
      "1.061697006225586\n",
      "1.0063382387161255\n",
      "1.1028168201446533\n",
      "1.026343822479248\n",
      "1.0395132303237915\n",
      "0.9727616310119629\n",
      "1.0783720016479492\n"
     ]
    },
    {
     "name": "stderr",
     "output_type": "stream",
     "text": [
      "\r",
      " 37%|███▋      | 5744/15625 [01:00<01:38, 100.41it/s]"
     ]
    },
    {
     "name": "stdout",
     "output_type": "stream",
     "text": [
      "0.9734800457954407\n",
      "0.9887845516204834\n",
      "1.0481196641921997\n",
      "1.021898865699768\n",
      "1.014501690864563\n",
      "1.0062447786331177\n",
      "1.0288357734680176\n",
      "1.0376944541931152\n",
      "1.081531286239624\n",
      "1.0128099918365479\n",
      "1.0256884098052979\n",
      "1.0390242338180542\n",
      "1.0587595701217651\n",
      "0.9686863422393799\n",
      "1.024871826171875\n",
      "0.9795095324516296\n",
      "1.0421881675720215\n",
      "1.0061583518981934\n",
      "1.0256396532058716\n",
      "1.0231537818908691\n",
      "1.0783038139343262\n"
     ]
    },
    {
     "name": "stderr",
     "output_type": "stream",
     "text": [
      " 37%|███▋      | 5766/15625 [01:00<01:38, 100.50it/s]"
     ]
    },
    {
     "name": "stdout",
     "output_type": "stream",
     "text": [
      "1.0804598331451416\n",
      "1.001279592514038\n",
      "1.0618913173675537\n",
      "0.9853137135505676\n",
      "0.9948604106903076\n",
      "1.0489764213562012\n",
      "1.0436402559280396\n",
      "1.0001485347747803\n",
      "1.0434553623199463\n",
      "1.0316026210784912\n",
      "1.0385721921920776\n",
      "1.0181713104248047\n",
      "1.0584418773651123\n",
      "1.005414605140686\n",
      "1.0274022817611694\n",
      "1.022091031074524\n",
      "1.0666913986206055\n",
      "1.058349609375\n",
      "1.0315544605255127\n",
      "1.0090211629867554\n",
      "0.9874454736709595\n"
     ]
    },
    {
     "name": "stderr",
     "output_type": "stream",
     "text": [
      " 37%|███▋      | 5788/15625 [01:00<01:38, 100.29it/s]"
     ]
    },
    {
     "name": "stdout",
     "output_type": "stream",
     "text": [
      "0.9970054626464844\n",
      "1.0404276847839355\n",
      "1.1141040325164795\n",
      "0.9678661823272705\n",
      "1.0998224020004272\n",
      "1.0766011476516724\n",
      "0.9752839207649231\n",
      "1.0506956577301025\n",
      "1.0290179252624512\n",
      "1.046826958656311\n",
      "1.0239934921264648\n",
      "1.0978364944458008\n",
      "1.0212202072143555\n",
      "1.0005881786346436\n",
      "1.0035364627838135\n",
      "1.0098202228546143\n",
      "1.0636969804763794\n",
      "1.0830912590026855\n",
      "1.1182458400726318\n",
      "1.02400803565979\n",
      "1.0329159498214722\n"
     ]
    },
    {
     "name": "stderr",
     "output_type": "stream",
     "text": [
      " 37%|███▋      | 5809/15625 [01:00<01:38, 99.81it/s] "
     ]
    },
    {
     "name": "stdout",
     "output_type": "stream",
     "text": [
      "1.0279338359832764\n",
      "1.0099196434020996\n",
      "0.9347383379936218\n",
      "1.0144574642181396\n",
      "1.0186951160430908\n",
      "1.0006393194198608\n",
      "1.0436338186264038\n",
      "1.048910140991211\n",
      "1.026717185974121\n",
      "1.0655699968338013\n",
      "1.0601810216903687\n",
      "1.0361063480377197\n",
      "1.0323145389556885\n",
      "1.0169639587402344\n",
      "1.0432889461517334\n",
      "1.0628999471664429\n",
      "1.0108058452606201\n",
      "1.0502296686172485\n",
      "1.025670051574707\n",
      "1.0595252513885498\n",
      "1.0634090900421143\n"
     ]
    },
    {
     "name": "stderr",
     "output_type": "stream",
     "text": [
      " 37%|███▋      | 5830/15625 [01:01<01:38, 99.86it/s]"
     ]
    },
    {
     "name": "stdout",
     "output_type": "stream",
     "text": [
      "1.0195095539093018\n",
      "1.0543441772460938\n",
      "1.048609972000122\n",
      "1.0033971071243286\n",
      "1.0159684419631958\n",
      "1.1031681299209595\n",
      "1.03818941116333\n",
      "1.0936542749404907\n",
      "1.0732569694519043\n",
      "1.057295322418213\n",
      "1.0646164417266846\n",
      "1.0400631427764893\n",
      "1.0986251831054688\n",
      "1.0420010089874268\n",
      "1.0302917957305908\n",
      "0.9970610737800598\n",
      "1.0335490703582764\n",
      "1.0401160717010498\n",
      "1.047293782234192\n",
      "1.0023465156555176\n",
      "1.0231645107269287\n"
     ]
    },
    {
     "name": "stderr",
     "output_type": "stream",
     "text": [
      " 37%|███▋      | 5851/15625 [01:01<01:37, 100.34it/s]"
     ]
    },
    {
     "name": "stdout",
     "output_type": "stream",
     "text": [
      "1.0429582595825195\n",
      "1.0537292957305908\n",
      "1.0009136199951172\n",
      "1.027439832687378\n",
      "1.0584187507629395\n",
      "1.0362980365753174\n",
      "1.0177760124206543\n",
      "1.0397605895996094\n",
      "1.018705129623413\n",
      "1.0555696487426758\n",
      "1.0645663738250732\n",
      "0.9590930938720703\n",
      "1.0401029586791992\n",
      "1.0473618507385254\n",
      "1.107901930809021\n",
      "1.0471285581588745\n",
      "1.0905035734176636\n",
      "1.021453619003296\n",
      "1.0096818208694458\n",
      "1.053112506866455\n",
      "1.0970498323440552\n"
     ]
    },
    {
     "name": "stderr",
     "output_type": "stream",
     "text": [
      " 38%|███▊      | 5873/15625 [01:01<01:37, 100.53it/s]"
     ]
    },
    {
     "name": "stdout",
     "output_type": "stream",
     "text": [
      "0.9971150159835815\n",
      "1.0045697689056396\n",
      "1.0585408210754395\n",
      "1.060701847076416\n",
      "1.030138373374939\n",
      "1.0799862146377563\n",
      "0.9834122657775879\n",
      "1.0544978380203247\n",
      "1.0362588167190552\n",
      "1.1005401611328125\n",
      "1.0315412282943726\n",
      "1.011565923690796\n",
      "0.9759905338287354\n",
      "1.0309324264526367\n",
      "1.0551087856292725\n",
      "1.0202827453613281\n",
      "1.0233327150344849\n",
      "1.0473601818084717\n",
      "1.0520954132080078\n",
      "1.0578126907348633\n",
      "1.0395129919052124\n"
     ]
    },
    {
     "name": "stderr",
     "output_type": "stream",
     "text": [
      " 38%|███▊      | 5895/15625 [01:01<01:37, 100.20it/s]"
     ]
    },
    {
     "name": "stdout",
     "output_type": "stream",
     "text": [
      "1.0436233282089233\n",
      "0.9955809116363525\n",
      "1.0060360431671143\n",
      "0.9873424172401428\n",
      "1.0474880933761597\n",
      "1.0672376155853271\n",
      "1.011061668395996\n",
      "1.0146920680999756\n",
      "1.0473812818527222\n",
      "1.0560821294784546\n",
      "1.0112518072128296\n",
      "1.0158181190490723\n",
      "1.0274007320404053\n",
      "1.0043458938598633\n",
      "1.037001371383667\n",
      "1.0370436906814575\n",
      "0.9800708293914795\n",
      "1.0583620071411133\n",
      "1.052678108215332\n",
      "1.0323810577392578\n",
      "1.0383086204528809\n"
     ]
    },
    {
     "name": "stderr",
     "output_type": "stream",
     "text": [
      " 38%|███▊      | 5916/15625 [01:01<01:37, 99.47it/s] "
     ]
    },
    {
     "name": "stdout",
     "output_type": "stream",
     "text": [
      "0.9909873008728027\n",
      "0.9934002161026001\n",
      "0.9788712859153748\n",
      "1.003153681755066\n",
      "1.0799553394317627\n",
      "1.033907175064087\n",
      "1.0541326999664307\n",
      "0.9997053742408752\n",
      "1.0193943977355957\n",
      "0.9772809743881226\n",
      "1.0206308364868164\n",
      "1.0440341234207153\n",
      "1.029045581817627\n",
      "1.0431984663009644\n",
      "1.0548293590545654\n",
      "1.0092995166778564\n",
      "1.0016324520111084\n",
      "1.0588138103485107\n",
      "1.020296573638916\n",
      "1.0300610065460205\n"
     ]
    },
    {
     "name": "stderr",
     "output_type": "stream",
     "text": [
      " 38%|███▊      | 5937/15625 [01:02<01:37, 99.53it/s]"
     ]
    },
    {
     "name": "stdout",
     "output_type": "stream",
     "text": [
      "1.0445871353149414\n",
      "1.090703010559082\n",
      "0.9871584177017212\n",
      "1.0661916732788086\n",
      "1.051180362701416\n",
      "1.099009394645691\n",
      "1.0378693342208862\n",
      "1.0346806049346924\n",
      "1.0258362293243408\n",
      "1.0166585445404053\n",
      "0.9409724473953247\n",
      "0.9781817197799683\n",
      "1.0016802549362183\n",
      "1.0005757808685303\n",
      "1.0206066370010376\n",
      "1.0258607864379883\n",
      "0.9988282918930054\n",
      "1.0055363178253174\n",
      "1.0817211866378784\n",
      "1.0923032760620117\n",
      "1.0226601362228394\n"
     ]
    },
    {
     "name": "stderr",
     "output_type": "stream",
     "text": [
      " 38%|███▊      | 5958/15625 [01:02<01:36, 99.77it/s]"
     ]
    },
    {
     "name": "stdout",
     "output_type": "stream",
     "text": [
      "1.10222327709198\n",
      "1.024444580078125\n",
      "1.0424244403839111\n",
      "0.9878172874450684\n",
      "1.0496612787246704\n",
      "1.0106010437011719\n",
      "1.0455313920974731\n",
      "0.9760607481002808\n",
      "1.0295400619506836\n",
      "1.0370266437530518\n",
      "0.9838628172874451\n",
      "1.046194314956665\n",
      "1.0028363466262817\n",
      "1.067541241645813\n",
      "1.0382368564605713\n",
      "1.0091780424118042\n",
      "0.9973695278167725\n",
      "0.9908207654953003\n",
      "1.0478417873382568\n",
      "1.0471479892730713\n",
      "1.0130120515823364\n"
     ]
    },
    {
     "name": "stderr",
     "output_type": "stream",
     "text": [
      " 38%|███▊      | 5978/15625 [01:02<01:36, 99.71it/s]"
     ]
    },
    {
     "name": "stdout",
     "output_type": "stream",
     "text": [
      "1.0407756567001343\n",
      "0.9883447289466858\n",
      "0.9795770645141602\n",
      "0.9808628559112549\n",
      "1.018943428993225\n",
      "1.0061460733413696\n",
      "0.985145092010498\n",
      "1.0163733959197998\n",
      "1.0089837312698364\n",
      "1.054458498954773\n",
      "1.040212631225586\n",
      "1.0384362936019897\n",
      "0.9753552675247192\n",
      "1.044763207435608\n",
      "1.0291404724121094\n",
      "1.0183494091033936\n",
      "1.010361671447754\n",
      "1.020872950553894\n",
      "1.0461821556091309\n",
      "1.0031757354736328\n",
      "1.012883186340332\n"
     ]
    },
    {
     "name": "stderr",
     "output_type": "stream",
     "text": [
      " 38%|███▊      | 5998/15625 [01:02<01:36, 99.75it/s]"
     ]
    },
    {
     "name": "stdout",
     "output_type": "stream",
     "text": [
      "1.0865192413330078\n",
      "0.997896671295166\n",
      "0.9912930727005005\n",
      "0.9895071387290955\n",
      "1.0052951574325562\n",
      "1.0375397205352783\n",
      "1.071204423904419\n",
      "1.0168696641921997\n",
      "1.0181599855422974\n",
      "1.0712510347366333\n",
      "0.9277516603469849\n",
      "0.9957931637763977\n",
      "0.9763700366020203\n",
      "1.03477144241333\n",
      "1.0809791088104248\n",
      "1.0726399421691895\n",
      "1.06041419506073\n",
      "1.0354177951812744\n",
      "0.9935742616653442\n",
      "0.991796612739563\n",
      "1.0330901145935059\n"
     ]
    },
    {
     "name": "stderr",
     "output_type": "stream",
     "text": [
      " 39%|███▊      | 6018/15625 [01:02<01:36, 99.05it/s]"
     ]
    },
    {
     "name": "stdout",
     "output_type": "stream",
     "text": [
      "1.0302813053131104\n",
      "1.0366225242614746\n",
      "1.0269343852996826\n",
      "0.9964302778244019\n",
      "1.0440367460250854\n",
      "1.0144751071929932\n",
      "1.0081392526626587\n",
      "1.0075123310089111\n",
      "1.0050157308578491\n",
      "0.9999275207519531\n",
      "1.0448777675628662\n",
      "1.0868570804595947\n",
      "1.0339102745056152\n",
      "1.039555549621582\n",
      "1.0145015716552734\n",
      "0.9929880499839783\n",
      "1.072324514389038\n",
      "1.0543028116226196\n",
      "1.0097038745880127\n",
      "1.0948996543884277\n"
     ]
    },
    {
     "name": "stderr",
     "output_type": "stream",
     "text": [
      " 39%|███▊      | 6040/15625 [01:03<01:36, 99.75it/s]"
     ]
    },
    {
     "name": "stdout",
     "output_type": "stream",
     "text": [
      "1.0762604475021362\n",
      "1.033900260925293\n",
      "1.0183016061782837\n",
      "1.0292530059814453\n",
      "1.0432324409484863\n",
      "1.055361270904541\n",
      "1.0477561950683594\n",
      "1.001218318939209\n",
      "1.0085062980651855\n",
      "0.9974915981292725\n",
      "0.9925098419189453\n",
      "1.0024291276931763\n",
      "1.0510121583938599\n",
      "0.9673043489456177\n",
      "1.012610912322998\n",
      "1.085331678390503\n",
      "1.017600655555725\n",
      "1.008971929550171\n",
      "1.0899407863616943\n",
      "1.019506573677063\n",
      "1.0718249082565308\n"
     ]
    },
    {
     "name": "stderr",
     "output_type": "stream",
     "text": [
      " 39%|███▉      | 6061/15625 [01:03<01:35, 99.97it/s]"
     ]
    },
    {
     "name": "stdout",
     "output_type": "stream",
     "text": [
      "1.0342466831207275\n",
      "1.0226669311523438\n",
      "1.0434482097625732\n",
      "1.0229663848876953\n",
      "1.0419974327087402\n",
      "1.076416015625\n",
      "0.990953803062439\n",
      "0.9874679446220398\n",
      "0.989210844039917\n",
      "1.0579311847686768\n",
      "1.059688687324524\n",
      "1.041226863861084\n",
      "1.0641860961914062\n",
      "1.041102647781372\n",
      "1.0390408039093018\n",
      "0.9964771270751953\n",
      "1.0289424657821655\n",
      "1.053877353668213\n",
      "0.9718896150588989\n",
      "1.031768798828125\n",
      "0.9560136198997498\n"
     ]
    },
    {
     "name": "stderr",
     "output_type": "stream",
     "text": [
      " 39%|███▉      | 6081/15625 [01:03<01:35, 99.74it/s]"
     ]
    },
    {
     "name": "stdout",
     "output_type": "stream",
     "text": [
      "1.030569314956665\n",
      "1.0259888172149658\n",
      "1.0020267963409424\n",
      "0.9941899180412292\n",
      "1.0839014053344727\n",
      "1.0067620277404785\n",
      "0.9873226881027222\n",
      "1.0395176410675049\n",
      "1.0213592052459717\n",
      "0.9897860288619995\n",
      "1.008056640625\n",
      "1.0681654214859009\n",
      "1.046425223350525\n",
      "1.0929256677627563\n",
      "1.0574045181274414\n",
      "0.9937999844551086\n",
      "1.0557739734649658\n",
      "1.009884238243103\n",
      "1.0253061056137085\n",
      "1.0297679901123047\n"
     ]
    },
    {
     "name": "stderr",
     "output_type": "stream",
     "text": [
      " 39%|███▉      | 6101/15625 [01:03<01:47, 88.98it/s]"
     ]
    },
    {
     "name": "stdout",
     "output_type": "stream",
     "text": [
      "1.0691624879837036\n",
      "1.0450053215026855\n",
      "1.1008883714675903\n",
      "1.0204997062683105\n",
      "1.0394704341888428\n",
      "0.9682286977767944\n",
      "1.0211541652679443\n",
      "1.0259015560150146\n",
      "1.0869301557540894\n",
      "0.9724715948104858\n",
      "1.0208595991134644\n",
      "1.0885392427444458\n",
      "1.0269330739974976\n",
      "1.040961503982544\n",
      "1.0686142444610596\n",
      "1.1106529235839844\n"
     ]
    },
    {
     "name": "stderr",
     "output_type": "stream",
     "text": [
      " 39%|███▉      | 6121/15625 [01:04<01:48, 87.28it/s]"
     ]
    },
    {
     "name": "stdout",
     "output_type": "stream",
     "text": [
      "1.0303786993026733\n",
      "1.0680336952209473\n",
      "1.0263149738311768\n",
      "1.0210087299346924\n",
      "1.0978643894195557\n",
      "1.002375841140747\n",
      "1.0151878595352173\n",
      "1.0098212957382202\n",
      "1.0451830625534058\n",
      "1.0477702617645264\n",
      "0.990098237991333\n",
      "1.0303544998168945\n",
      "1.0348398685455322\n",
      "1.0100394487380981\n",
      "1.0167112350463867\n",
      "1.0543863773345947\n",
      "0.9908733367919922\n",
      "1.017225980758667\n"
     ]
    },
    {
     "name": "stderr",
     "output_type": "stream",
     "text": [
      "\r",
      " 39%|███▉      | 6130/15625 [01:04<01:58, 79.83it/s]"
     ]
    },
    {
     "name": "stdout",
     "output_type": "stream",
     "text": [
      "1.0334320068359375\n",
      "0.9934235215187073\n",
      "1.0446871519088745\n",
      "1.0097728967666626\n",
      "1.0204880237579346\n",
      "1.042109489440918\n",
      "1.0063745975494385\n",
      "0.9843454957008362\n",
      "1.031930685043335\n",
      "1.0706231594085693\n",
      "1.080843448638916\n",
      "1.0492477416992188\n",
      "1.0222408771514893\n",
      "1.0292339324951172\n",
      "1.0643467903137207\n",
      "0.9565110206604004\n"
     ]
    },
    {
     "name": "stderr",
     "output_type": "stream",
     "text": [
      " 39%|███▉      | 6149/15625 [01:04<01:49, 86.21it/s]"
     ]
    },
    {
     "name": "stdout",
     "output_type": "stream",
     "text": [
      "1.0193253755569458\n",
      "1.0167425870895386\n",
      "1.0116411447525024\n",
      "1.0292623043060303\n",
      "1.03864586353302\n",
      "1.016391396522522\n",
      "1.0295910835266113\n",
      "1.0432507991790771\n",
      "0.9817911982536316\n",
      "0.9915253520011902\n",
      "1.0602312088012695\n",
      "0.9799517393112183\n",
      "1.0318533182144165\n",
      "1.0772615671157837\n",
      "1.0598692893981934\n",
      "1.025132656097412\n",
      "1.0557736158370972\n",
      "1.0377006530761719\n",
      "0.9799125790596008\n",
      "1.044237732887268\n"
     ]
    },
    {
     "name": "stderr",
     "output_type": "stream",
     "text": [
      " 39%|███▉      | 6169/15625 [01:04<01:42, 92.41it/s]"
     ]
    },
    {
     "name": "stdout",
     "output_type": "stream",
     "text": [
      "0.9962673783302307\n",
      "1.0442513227462769\n",
      "1.1061376333236694\n",
      "1.0804541110992432\n",
      "1.0220073461532593\n",
      "1.0035988092422485\n",
      "1.0110278129577637\n",
      "1.0574772357940674\n",
      "0.9670147895812988\n",
      "1.0018123388290405\n",
      "1.0251519680023193\n",
      "1.0111278295516968\n",
      "1.0316723585128784\n",
      "1.0779857635498047\n",
      "1.0863837003707886\n",
      "1.055909514427185\n",
      "1.0711948871612549\n",
      "1.1245546340942383\n",
      "1.068612813949585\n",
      "1.0274749994277954\n",
      "1.0639880895614624\n"
     ]
    },
    {
     "name": "stderr",
     "output_type": "stream",
     "text": [
      " 40%|███▉      | 6189/15625 [01:04<01:52, 83.94it/s]"
     ]
    },
    {
     "name": "stdout",
     "output_type": "stream",
     "text": [
      "1.0387802124023438\n",
      "1.0265929698944092\n",
      "0.9932299256324768\n",
      "1.0212745666503906\n",
      "1.059225082397461\n",
      "1.0669554471969604\n",
      "1.0304487943649292\n",
      "1.0652583837509155\n",
      "1.086212396621704\n",
      "1.0760629177093506\n",
      "1.0096503496170044\n",
      "1.0194276571273804\n",
      "1.0235815048217773\n",
      "1.0400254726409912\n"
     ]
    },
    {
     "name": "stderr",
     "output_type": "stream",
     "text": [
      " 40%|███▉      | 6207/15625 [01:05<02:02, 76.73it/s]"
     ]
    },
    {
     "name": "stdout",
     "output_type": "stream",
     "text": [
      "1.0381340980529785\n",
      "0.968442440032959\n",
      "1.0164296627044678\n",
      "1.0290693044662476\n",
      "1.067215085029602\n",
      "0.9723109006881714\n",
      "1.0140042304992676\n",
      "1.0005440711975098\n",
      "1.1048774719238281\n",
      "1.0567781925201416\n",
      "1.0247633457183838\n",
      "1.0166312456130981\n",
      "1.100929856300354\n",
      "0.9702286124229431\n",
      "0.9903242588043213\n"
     ]
    },
    {
     "name": "stderr",
     "output_type": "stream",
     "text": [
      " 40%|███▉      | 6226/15625 [01:05<01:51, 84.60it/s]"
     ]
    },
    {
     "name": "stdout",
     "output_type": "stream",
     "text": [
      "1.0033185482025146\n",
      "1.0495538711547852\n",
      "1.0630959272384644\n",
      "1.0309715270996094\n",
      "1.0186619758605957\n",
      "1.0669944286346436\n",
      "1.0232887268066406\n",
      "1.0615310668945312\n",
      "1.0186347961425781\n",
      "1.0486162900924683\n",
      "1.0722007751464844\n",
      "1.0392343997955322\n",
      "1.0619251728057861\n",
      "1.059362530708313\n",
      "1.031679391860962\n",
      "1.0300347805023193\n",
      "1.027705192565918\n",
      "1.0132837295532227\n",
      "0.9639815092086792\n"
     ]
    },
    {
     "name": "stderr",
     "output_type": "stream",
     "text": [
      "\r",
      " 40%|███▉      | 6235/15625 [01:05<01:56, 80.53it/s]"
     ]
    },
    {
     "name": "stdout",
     "output_type": "stream",
     "text": [
      "1.0727534294128418\n",
      "1.0606746673583984\n",
      "1.101146936416626\n",
      "1.0614736080169678\n",
      "1.018900752067566\n",
      "1.0240669250488281\n",
      "1.0555832386016846\n",
      "1.0532159805297852\n",
      "1.0066026449203491\n",
      "1.0039546489715576\n",
      "1.0065240859985352\n",
      "1.02471923828125\n",
      "1.0190893411636353\n",
      "1.0458346605300903\n"
     ]
    },
    {
     "name": "stderr",
     "output_type": "stream",
     "text": [
      " 40%|████      | 6253/15625 [01:05<01:59, 78.32it/s]"
     ]
    },
    {
     "name": "stdout",
     "output_type": "stream",
     "text": [
      "1.0581495761871338\n",
      "1.0201106071472168\n",
      "0.9740588665008545\n",
      "1.069462776184082\n",
      "1.0879619121551514\n",
      "1.0263310670852661\n",
      "1.0438766479492188\n",
      "1.0990440845489502\n",
      "1.0647523403167725\n",
      "1.0601036548614502\n",
      "1.027282476425171\n",
      "0.9906872510910034\n",
      "0.9971327781677246\n",
      "1.0083179473876953\n",
      "1.0069732666015625\n",
      "1.0215814113616943\n",
      "1.0420074462890625\n"
     ]
    },
    {
     "name": "stderr",
     "output_type": "stream",
     "text": [
      " 40%|████      | 6274/15625 [01:05<01:44, 89.26it/s]"
     ]
    },
    {
     "name": "stdout",
     "output_type": "stream",
     "text": [
      "1.0224376916885376\n",
      "1.0716856718063354\n",
      "1.1259384155273438\n",
      "1.0320674180984497\n",
      "0.9827356934547424\n",
      "1.0151004791259766\n",
      "1.106593370437622\n",
      "1.0213077068328857\n",
      "1.1175774335861206\n",
      "1.0250087976455688\n",
      "1.0831785202026367\n",
      "1.0384294986724854\n",
      "1.076399326324463\n",
      "1.0353235006332397\n",
      "1.0572617053985596\n",
      "1.0995004177093506\n",
      "1.082853078842163\n",
      "1.0687448978424072\n",
      "1.0020534992218018\n",
      "1.1170463562011719\n",
      "0.9951865673065186\n"
     ]
    },
    {
     "name": "stderr",
     "output_type": "stream",
     "text": [
      " 40%|████      | 6296/15625 [01:06<01:36, 96.73it/s]"
     ]
    },
    {
     "name": "stdout",
     "output_type": "stream",
     "text": [
      "1.0288825035095215\n",
      "0.9917256832122803\n",
      "1.0016326904296875\n",
      "1.013723611831665\n",
      "0.9861949682235718\n",
      "1.0394880771636963\n",
      "1.0623226165771484\n",
      "1.0169732570648193\n",
      "0.9902792572975159\n",
      "1.0281574726104736\n",
      "1.055063009262085\n",
      "1.0502008199691772\n",
      "0.9727486371994019\n",
      "1.0219051837921143\n",
      "1.0530788898468018\n",
      "0.9930413961410522\n",
      "1.0500518083572388\n",
      "0.9868080615997314\n",
      "1.005886435508728\n",
      "1.0328855514526367\n",
      "1.0704176425933838\n"
     ]
    },
    {
     "name": "stderr",
     "output_type": "stream",
     "text": [
      " 40%|████      | 6318/15625 [01:06<01:32, 100.97it/s]"
     ]
    },
    {
     "name": "stdout",
     "output_type": "stream",
     "text": [
      "1.046588659286499\n",
      "1.0982978343963623\n",
      "1.0152441263198853\n",
      "1.060628890991211\n",
      "1.110235571861267\n",
      "1.0674142837524414\n",
      "1.0709348917007446\n",
      "1.0226130485534668\n",
      "1.027509093284607\n",
      "1.0341740846633911\n",
      "1.035427451133728\n",
      "1.0032131671905518\n",
      "1.0227408409118652\n",
      "0.9300724267959595\n",
      "1.0144879817962646\n",
      "1.0465826988220215\n",
      "1.0481653213500977\n",
      "1.0498653650283813\n",
      "0.9450185298919678\n",
      "0.9894663095474243\n",
      "1.0364925861358643\n",
      "1.0149447917938232\n"
     ]
    },
    {
     "name": "stderr",
     "output_type": "stream",
     "text": [
      " 41%|████      | 6340/15625 [01:06<01:29, 103.57it/s]"
     ]
    },
    {
     "name": "stdout",
     "output_type": "stream",
     "text": [
      "1.0528466701507568\n",
      "1.0257890224456787\n",
      "1.0370819568634033\n",
      "1.035658836364746\n",
      "1.0216484069824219\n",
      "1.1130692958831787\n",
      "0.9939513206481934\n",
      "1.0150130987167358\n",
      "1.0284851789474487\n",
      "1.071144938468933\n",
      "1.0236585140228271\n",
      "1.126749873161316\n",
      "1.00775146484375\n",
      "1.0445191860198975\n",
      "1.0169250965118408\n",
      "1.0942058563232422\n",
      "1.0608278512954712\n",
      "1.034599781036377\n",
      "1.010580062866211\n",
      "1.0903267860412598\n",
      "1.0621250867843628\n",
      "0.998200535774231\n"
     ]
    },
    {
     "name": "stderr",
     "output_type": "stream",
     "text": [
      " 41%|████      | 6362/15625 [01:06<01:29, 103.82it/s]"
     ]
    },
    {
     "name": "stdout",
     "output_type": "stream",
     "text": [
      "1.0302948951721191\n",
      "1.0890469551086426\n",
      "1.0302674770355225\n",
      "1.0060532093048096\n",
      "1.0409806966781616\n",
      "1.0818891525268555\n",
      "1.0712847709655762\n",
      "1.0338544845581055\n",
      "1.0294523239135742\n",
      "1.0287259817123413\n",
      "1.0959235429763794\n",
      "1.0668234825134277\n",
      "1.1255996227264404\n",
      "1.0915844440460205\n",
      "1.0437074899673462\n",
      "1.0115888118743896\n",
      "1.0697035789489746\n",
      "0.9895904064178467\n",
      "1.0446664094924927\n",
      "0.9956397414207458\n",
      "1.0038045644760132\n"
     ]
    },
    {
     "name": "stderr",
     "output_type": "stream",
     "text": [
      " 41%|████      | 6384/15625 [01:06<01:28, 104.28it/s]"
     ]
    },
    {
     "name": "stdout",
     "output_type": "stream",
     "text": [
      "1.0133033990859985\n",
      "1.0671379566192627\n",
      "1.0292456150054932\n",
      "1.0512967109680176\n",
      "1.087846040725708\n",
      "1.0276925563812256\n",
      "1.0428731441497803\n",
      "1.0367188453674316\n",
      "0.9495686292648315\n",
      "1.0448516607284546\n",
      "1.0197889804840088\n",
      "1.0030887126922607\n",
      "1.113041639328003\n",
      "1.0224019289016724\n",
      "1.0131700038909912\n",
      "1.0359654426574707\n",
      "1.0418694019317627\n",
      "0.9606531858444214\n",
      "1.0217268466949463\n",
      "0.9976297616958618\n",
      "1.0842608213424683\n",
      "1.0403635501861572\n"
     ]
    },
    {
     "name": "stderr",
     "output_type": "stream",
     "text": [
      " 41%|████      | 6406/15625 [01:07<01:28, 103.68it/s]"
     ]
    },
    {
     "name": "stdout",
     "output_type": "stream",
     "text": [
      "1.0510814189910889\n",
      "1.0087428092956543\n",
      "1.0591353178024292\n",
      "0.989456295967102\n",
      "1.018418788909912\n",
      "1.0608224868774414\n",
      "1.0846259593963623\n",
      "1.024633526802063\n",
      "1.044424295425415\n",
      "1.033019781112671\n",
      "1.074330449104309\n",
      "1.0335617065429688\n",
      "1.0469136238098145\n",
      "1.0762789249420166\n",
      "1.070419192314148\n",
      "1.0469567775726318\n",
      "1.0628182888031006\n",
      "1.0560722351074219\n",
      "1.0833828449249268\n",
      "1.0575865507125854\n",
      "1.0486197471618652\n"
     ]
    },
    {
     "name": "stderr",
     "output_type": "stream",
     "text": [
      "\r",
      " 41%|████      | 6417/15625 [01:07<01:39, 92.37it/s] "
     ]
    },
    {
     "name": "stdout",
     "output_type": "stream",
     "text": [
      "1.0838319063186646\n",
      "1.080278992652893\n",
      "1.0493497848510742\n",
      "1.008276104927063\n",
      "0.9932211637496948\n",
      "1.0317245721817017\n",
      "0.9983324408531189\n",
      "1.0307090282440186\n",
      "1.045217752456665\n",
      "0.9973987340927124\n",
      "0.983235776424408\n",
      "1.0113965272903442\n",
      "1.075671672821045\n",
      "1.0111596584320068\n",
      "1.0097739696502686\n"
     ]
    },
    {
     "name": "stderr",
     "output_type": "stream",
     "text": [
      " 41%|████      | 6437/15625 [01:07<01:40, 91.24it/s]"
     ]
    },
    {
     "name": "stdout",
     "output_type": "stream",
     "text": [
      "1.040016531944275\n",
      "1.0309169292449951\n",
      "1.0476106405258179\n",
      "1.0491085052490234\n",
      "1.057373046875\n",
      "1.0117018222808838\n",
      "0.9849562644958496\n",
      "1.0178163051605225\n",
      "0.979579508304596\n",
      "1.0098381042480469\n",
      "1.063179850578308\n",
      "0.9985339641571045\n",
      "1.0418565273284912\n",
      "1.0239943265914917\n",
      "1.0326755046844482\n",
      "1.0533937215805054\n",
      "1.0413569211959839\n",
      "1.0174472332000732\n",
      "1.04754638671875\n"
     ]
    },
    {
     "name": "stderr",
     "output_type": "stream",
     "text": [
      " 41%|████▏     | 6458/15625 [01:07<01:36, 95.40it/s]"
     ]
    },
    {
     "name": "stdout",
     "output_type": "stream",
     "text": [
      "1.0461599826812744\n",
      "1.0528383255004883\n",
      "1.043797254562378\n",
      "1.0556015968322754\n",
      "1.0308020114898682\n",
      "1.0115954875946045\n",
      "0.9868564605712891\n",
      "0.9694556593894958\n",
      "1.0882912874221802\n",
      "1.032997488975525\n",
      "1.0069022178649902\n",
      "1.0004316568374634\n",
      "0.9939028024673462\n",
      "1.0851147174835205\n",
      "1.0158287286758423\n",
      "1.0870593786239624\n",
      "1.0621261596679688\n",
      "1.0654771327972412\n",
      "1.009142518043518\n",
      "1.0406005382537842\n",
      "1.0680502653121948\n"
     ]
    },
    {
     "name": "stderr",
     "output_type": "stream",
     "text": [
      " 41%|████▏     | 6479/15625 [01:07<01:33, 97.67it/s]"
     ]
    },
    {
     "name": "stdout",
     "output_type": "stream",
     "text": [
      "1.0006803274154663\n",
      "0.9485793709754944\n",
      "0.9737221002578735\n",
      "1.0401315689086914\n",
      "1.0453119277954102\n",
      "1.0590676069259644\n",
      "0.9892870187759399\n",
      "1.0347274541854858\n",
      "1.0074641704559326\n",
      "1.0201371908187866\n",
      "1.0146331787109375\n",
      "1.0274784564971924\n",
      "1.0346221923828125\n",
      "1.0407993793487549\n",
      "1.0763592720031738\n",
      "1.0466234683990479\n",
      "1.0244824886322021\n",
      "1.0284349918365479\n",
      "1.0545332431793213\n",
      "1.0454390048980713\n",
      "1.0487086772918701\n"
     ]
    },
    {
     "name": "stderr",
     "output_type": "stream",
     "text": [
      " 42%|████▏     | 6501/15625 [01:08<01:31, 99.25it/s]"
     ]
    },
    {
     "name": "stdout",
     "output_type": "stream",
     "text": [
      "1.0656301975250244\n",
      "1.00258469581604\n",
      "1.072835922241211\n",
      "1.0509932041168213\n",
      "0.9939347505569458\n",
      "1.0406826734542847\n",
      "1.041790246963501\n",
      "1.0678476095199585\n",
      "0.9944025278091431\n",
      "1.0018746852874756\n",
      "1.0280327796936035\n",
      "0.9776284694671631\n",
      "1.046886920928955\n",
      "1.0101805925369263\n",
      "1.0673353672027588\n",
      "0.9885061979293823\n",
      "1.056330680847168\n",
      "1.0565276145935059\n",
      "1.0215359926223755\n",
      "1.1219778060913086\n",
      "1.0397359132766724\n"
     ]
    },
    {
     "name": "stderr",
     "output_type": "stream",
     "text": [
      " 42%|████▏     | 6523/15625 [01:08<01:30, 100.61it/s]"
     ]
    },
    {
     "name": "stdout",
     "output_type": "stream",
     "text": [
      "1.0385372638702393\n",
      "0.9826695919036865\n",
      "1.0050499439239502\n",
      "0.9197211265563965\n",
      "1.0566834211349487\n",
      "1.0246007442474365\n",
      "1.1384172439575195\n",
      "1.032318353652954\n",
      "1.0307368040084839\n",
      "1.0749852657318115\n",
      "1.0262686014175415\n",
      "1.010623574256897\n",
      "1.0165082216262817\n",
      "1.0405479669570923\n",
      "1.0950733423233032\n",
      "1.0438659191131592\n",
      "1.0539257526397705\n",
      "1.037898063659668\n",
      "1.018798589706421\n",
      "1.0026488304138184\n",
      "1.0245532989501953\n"
     ]
    },
    {
     "name": "stderr",
     "output_type": "stream",
     "text": [
      " 42%|████▏     | 6545/15625 [01:08<01:29, 101.33it/s]"
     ]
    },
    {
     "name": "stdout",
     "output_type": "stream",
     "text": [
      "1.0343613624572754\n",
      "1.0250275135040283\n",
      "1.043514370918274\n",
      "1.0229411125183105\n",
      "1.0475579500198364\n",
      "1.056430459022522\n",
      "1.0601277351379395\n",
      "1.0089952945709229\n",
      "1.0165060758590698\n",
      "1.0251811742782593\n",
      "1.0419288873672485\n",
      "1.0348480939865112\n",
      "1.087069034576416\n",
      "1.0349528789520264\n",
      "1.0369572639465332\n",
      "1.043186902999878\n",
      "0.9954277276992798\n",
      "0.9504876136779785\n",
      "1.050612449645996\n",
      "0.9985052943229675\n",
      "1.0146442651748657\n"
     ]
    },
    {
     "name": "stderr",
     "output_type": "stream",
     "text": [
      " 42%|████▏     | 6567/15625 [01:08<01:29, 101.50it/s]"
     ]
    },
    {
     "name": "stdout",
     "output_type": "stream",
     "text": [
      "1.017665147781372\n",
      "1.0772974491119385\n",
      "0.9820731282234192\n",
      "1.0292552709579468\n",
      "1.0361831188201904\n",
      "1.0404729843139648\n",
      "0.9962940216064453\n",
      "1.0330379009246826\n",
      "1.0996389389038086\n",
      "1.0435779094696045\n",
      "1.0591204166412354\n",
      "1.052760124206543\n",
      "0.9871959686279297\n",
      "1.0259017944335938\n",
      "1.0642857551574707\n",
      "0.9820694923400879\n",
      "0.9927116632461548\n",
      "1.0388305187225342\n",
      "0.977335512638092\n",
      "0.9785881042480469\n",
      "0.9860928654670715\n"
     ]
    },
    {
     "name": "stderr",
     "output_type": "stream",
     "text": [
      "\r",
      " 42%|████▏     | 6578/15625 [01:08<01:29, 100.91it/s]"
     ]
    },
    {
     "name": "stdout",
     "output_type": "stream",
     "text": [
      "1.0273489952087402\n",
      "1.0038106441497803\n",
      "0.9754005074501038\n",
      "1.0422250032424927\n",
      "1.0379596948623657\n",
      "1.0371752977371216\n",
      "1.0162105560302734\n",
      "1.0005605220794678\n",
      "1.0563545227050781\n",
      "1.0250587463378906\n",
      "0.9911091327667236\n",
      "1.0534775257110596\n",
      "0.9881261587142944\n",
      "1.0185506343841553\n",
      "0.962934136390686\n",
      "1.0479152202606201\n",
      "1.021092176437378\n",
      "0.9959762096405029\n",
      "1.0399575233459473\n",
      "0.9908513426780701\n",
      "0.9772146940231323\n"
     ]
    },
    {
     "name": "stderr",
     "output_type": "stream",
     "text": [
      " 42%|████▏     | 6600/15625 [01:09<01:29, 101.09it/s]"
     ]
    },
    {
     "name": "stdout",
     "output_type": "stream",
     "text": [
      "0.9956322908401489\n",
      "1.0281567573547363\n",
      "1.0087642669677734\n",
      "1.0191234350204468\n",
      "1.0463188886642456\n",
      "0.9995887875556946\n",
      "1.0292078256607056\n",
      "1.039276361465454\n",
      "1.0360382795333862\n",
      "1.0328254699707031\n",
      "1.0012520551681519\n",
      "1.0693774223327637\n",
      "0.9898065328598022\n",
      "1.040393590927124\n",
      "1.006036400794983\n",
      "1.0464625358581543\n",
      "1.109961748123169\n",
      "1.0192795991897583\n",
      "1.0318703651428223\n",
      "0.9887005686759949\n",
      "0.9826657772064209\n"
     ]
    },
    {
     "name": "stderr",
     "output_type": "stream",
     "text": [
      " 42%|████▏     | 6622/15625 [01:09<01:28, 101.97it/s]"
     ]
    },
    {
     "name": "stdout",
     "output_type": "stream",
     "text": [
      "1.0850728750228882\n",
      "1.1221016645431519\n",
      "1.0460467338562012\n",
      "1.0701748132705688\n",
      "1.0299088954925537\n",
      "1.0156997442245483\n",
      "1.0664498805999756\n",
      "1.051760196685791\n",
      "0.9994494318962097\n",
      "1.0044090747833252\n",
      "1.071244478225708\n",
      "1.0297255516052246\n",
      "1.0189881324768066\n",
      "1.051127552986145\n",
      "1.0361790657043457\n",
      "1.0435066223144531\n",
      "1.0831775665283203\n",
      "1.0483903884887695\n",
      "1.0154328346252441\n",
      "1.0267958641052246\n",
      "1.0523029565811157\n"
     ]
    },
    {
     "name": "stderr",
     "output_type": "stream",
     "text": [
      " 43%|████▎     | 6644/15625 [01:09<01:28, 102.01it/s]"
     ]
    },
    {
     "name": "stdout",
     "output_type": "stream",
     "text": [
      "1.0360206365585327\n",
      "1.0725150108337402\n",
      "1.0319507122039795\n",
      "1.0934654474258423\n",
      "0.998573362827301\n",
      "1.0021520853042603\n",
      "1.0626766681671143\n",
      "1.071429967880249\n",
      "1.109968662261963\n",
      "1.051891565322876\n",
      "1.0615071058273315\n",
      "1.0497870445251465\n",
      "1.1009200811386108\n",
      "1.0571966171264648\n",
      "1.0195834636688232\n",
      "1.0812474489212036\n",
      "1.0473397970199585\n",
      "1.093502163887024\n",
      "1.0279154777526855\n",
      "1.041340708732605\n",
      "1.0196387767791748\n"
     ]
    },
    {
     "name": "stderr",
     "output_type": "stream",
     "text": [
      " 43%|████▎     | 6666/15625 [01:09<01:28, 101.19it/s]"
     ]
    },
    {
     "name": "stdout",
     "output_type": "stream",
     "text": [
      "0.9986915588378906\n",
      "1.035057544708252\n",
      "1.0250024795532227\n",
      "1.0147281885147095\n",
      "1.0384620428085327\n",
      "1.0336273908615112\n",
      "1.0253347158432007\n",
      "1.0415291786193848\n",
      "1.0446064472198486\n",
      "1.0073127746582031\n",
      "0.9862620830535889\n",
      "1.000837802886963\n",
      "0.9970155954360962\n",
      "0.9536187648773193\n",
      "1.0188908576965332\n",
      "1.0309209823608398\n",
      "1.0112769603729248\n",
      "1.047660231590271\n",
      "1.055633783340454\n",
      "1.0990663766860962\n",
      "1.0503462553024292\n"
     ]
    },
    {
     "name": "stderr",
     "output_type": "stream",
     "text": [
      " 43%|████▎     | 6688/15625 [01:10<01:28, 101.48it/s]"
     ]
    },
    {
     "name": "stdout",
     "output_type": "stream",
     "text": [
      "1.0108062028884888\n",
      "0.9930500388145447\n",
      "0.9464148283004761\n",
      "0.9821243286132812\n",
      "0.9944212436676025\n",
      "1.0946781635284424\n",
      "1.071560025215149\n",
      "1.0544335842132568\n",
      "1.0461794137954712\n",
      "1.0717955827713013\n",
      "1.0178396701812744\n",
      "1.042922019958496\n",
      "1.0173145532608032\n",
      "1.0104516744613647\n",
      "1.0320221185684204\n",
      "1.0730634927749634\n",
      "1.044414758682251\n",
      "0.9873624444007874\n",
      "0.9939919114112854\n",
      "1.0623934268951416\n",
      "1.0431981086730957\n"
     ]
    },
    {
     "name": "stderr",
     "output_type": "stream",
     "text": [
      " 43%|████▎     | 6710/15625 [01:10<01:28, 100.61it/s]"
     ]
    },
    {
     "name": "stdout",
     "output_type": "stream",
     "text": [
      "1.0561742782592773\n",
      "1.0292772054672241\n",
      "1.067979335784912\n",
      "1.0103296041488647\n",
      "1.06179940700531\n",
      "1.0140244960784912\n",
      "0.9947786331176758\n",
      "1.0773451328277588\n",
      "1.0198297500610352\n",
      "1.0308936834335327\n",
      "0.9972327351570129\n",
      "1.058118462562561\n",
      "1.007899522781372\n",
      "1.055299997329712\n",
      "1.0051096677780151\n",
      "1.0889815092086792\n",
      "1.0228450298309326\n",
      "1.0412782430648804\n",
      "1.0074149370193481\n",
      "1.010583519935608\n",
      "1.045181393623352\n"
     ]
    },
    {
     "name": "stderr",
     "output_type": "stream",
     "text": [
      " 43%|████▎     | 6732/15625 [01:10<01:28, 100.06it/s]"
     ]
    },
    {
     "name": "stdout",
     "output_type": "stream",
     "text": [
      "0.997247576713562\n",
      "1.0458084344863892\n",
      "1.0965464115142822\n",
      "1.0323758125305176\n",
      "1.0201082229614258\n",
      "0.963778018951416\n",
      "0.9796186685562134\n",
      "1.0012681484222412\n",
      "0.9993516206741333\n",
      "1.0461037158966064\n",
      "1.023093819618225\n",
      "1.0303775072097778\n",
      "1.0584921836853027\n",
      "1.060734748840332\n",
      "1.0041656494140625\n",
      "1.016059160232544\n",
      "1.091543436050415\n",
      "1.037453055381775\n",
      "1.0225673913955688\n",
      "1.0970537662506104\n",
      "1.0377521514892578\n"
     ]
    },
    {
     "name": "stderr",
     "output_type": "stream",
     "text": [
      " 43%|████▎     | 6754/15625 [01:10<01:27, 101.54it/s]"
     ]
    },
    {
     "name": "stdout",
     "output_type": "stream",
     "text": [
      "1.0478100776672363\n",
      "1.0135037899017334\n",
      "1.0530129671096802\n",
      "1.048753023147583\n",
      "1.0378888845443726\n",
      "1.03169584274292\n",
      "1.0144846439361572\n",
      "1.0133352279663086\n",
      "1.0375010967254639\n",
      "0.9845907092094421\n",
      "1.0562227964401245\n",
      "1.0092902183532715\n",
      "1.004833459854126\n",
      "1.0443944931030273\n",
      "0.9726696610450745\n",
      "1.0407721996307373\n",
      "1.0306695699691772\n",
      "1.0080598592758179\n",
      "1.0265657901763916\n",
      "1.0061428546905518\n",
      "0.9599653482437134\n"
     ]
    },
    {
     "name": "stderr",
     "output_type": "stream",
     "text": [
      " 43%|████▎     | 6776/15625 [01:10<01:26, 101.91it/s]"
     ]
    },
    {
     "name": "stdout",
     "output_type": "stream",
     "text": [
      "1.0581190586090088\n",
      "1.0611424446105957\n",
      "1.0509971380233765\n",
      "1.0391790866851807\n",
      "1.0452160835266113\n",
      "1.0334727764129639\n",
      "1.0185620784759521\n",
      "1.1674445867538452\n",
      "1.0639058351516724\n",
      "1.050872564315796\n",
      "0.9738103151321411\n",
      "1.0784533023834229\n",
      "0.9982055425643921\n",
      "1.0565969944000244\n",
      "1.0703829526901245\n",
      "1.0217373371124268\n",
      "1.090149164199829\n",
      "1.0277183055877686\n",
      "1.0236799716949463\n",
      "1.0627996921539307\n",
      "0.9622377157211304\n"
     ]
    },
    {
     "name": "stderr",
     "output_type": "stream",
     "text": [
      " 44%|████▎     | 6798/15625 [01:11<01:26, 102.46it/s]"
     ]
    },
    {
     "name": "stdout",
     "output_type": "stream",
     "text": [
      "1.0267993211746216\n",
      "0.9912223815917969\n",
      "1.0402779579162598\n",
      "1.017759084701538\n",
      "1.0438050031661987\n",
      "1.0148123502731323\n",
      "1.0669338703155518\n",
      "1.0264413356781006\n",
      "0.9706980586051941\n",
      "1.0079818964004517\n",
      "0.9750248193740845\n",
      "0.9845356941223145\n",
      "1.0291610956192017\n",
      "1.0059149265289307\n",
      "1.0511705875396729\n",
      "0.9896754026412964\n",
      "1.0839323997497559\n",
      "1.029797077178955\n",
      "1.0876634120941162\n",
      "1.0610146522521973\n",
      "1.1047084331512451\n"
     ]
    },
    {
     "name": "stderr",
     "output_type": "stream",
     "text": [
      "\r",
      " 44%|████▎     | 6809/15625 [01:11<01:26, 102.25it/s]"
     ]
    },
    {
     "name": "stdout",
     "output_type": "stream",
     "text": [
      "0.9157124161720276\n",
      "1.066443920135498\n",
      "0.9963375329971313\n",
      "1.0185720920562744\n",
      "1.0785876512527466\n",
      "1.0544545650482178\n",
      "1.0378966331481934\n",
      "0.9897509217262268\n",
      "1.035484790802002\n",
      "1.001235008239746\n",
      "1.0335793495178223\n",
      "0.990278422832489\n",
      "1.0797240734100342\n",
      "1.0289881229400635\n",
      "1.0561881065368652\n",
      "1.0240068435668945\n",
      "1.062229871749878\n",
      "1.0432535409927368\n",
      "1.0290513038635254\n",
      "1.0182346105575562\n",
      "0.9695667624473572\n"
     ]
    },
    {
     "name": "stderr",
     "output_type": "stream",
     "text": [
      " 44%|████▎     | 6831/15625 [01:11<01:25, 102.44it/s]"
     ]
    },
    {
     "name": "stdout",
     "output_type": "stream",
     "text": [
      "1.0165934562683105\n",
      "1.0042893886566162\n",
      "1.033912181854248\n",
      "1.060258150100708\n",
      "1.0334125757217407\n",
      "0.9753039479255676\n",
      "1.0435444116592407\n",
      "1.03363037109375\n",
      "1.0070216655731201\n",
      "1.020393967628479\n",
      "1.0542391538619995\n",
      "1.0382349491119385\n",
      "0.9758038520812988\n",
      "1.03194260597229\n",
      "1.0296072959899902\n",
      "1.0544439554214478\n",
      "1.068562626838684\n",
      "0.9805154204368591\n",
      "1.0546518564224243\n",
      "1.0162529945373535\n",
      "1.0469036102294922\n"
     ]
    },
    {
     "name": "stderr",
     "output_type": "stream",
     "text": [
      " 44%|████▍     | 6853/15625 [01:11<01:25, 102.47it/s]"
     ]
    },
    {
     "name": "stdout",
     "output_type": "stream",
     "text": [
      "1.0180888175964355\n",
      "1.016519546508789\n",
      "1.0160350799560547\n",
      "1.010755181312561\n",
      "1.022029161453247\n",
      "1.0570716857910156\n",
      "1.0039994716644287\n",
      "1.059096097946167\n",
      "1.0356048345565796\n",
      "1.0448060035705566\n",
      "1.0229451656341553\n",
      "1.088188886642456\n",
      "1.0325555801391602\n",
      "0.9975951313972473\n",
      "1.0150840282440186\n",
      "1.0270335674285889\n",
      "0.9698748588562012\n",
      "1.047128677368164\n",
      "1.0286699533462524\n",
      "0.9960628151893616\n",
      "1.0510187149047852\n"
     ]
    },
    {
     "name": "stderr",
     "output_type": "stream",
     "text": [
      " 44%|████▍     | 6875/15625 [01:11<01:25, 101.85it/s]"
     ]
    },
    {
     "name": "stdout",
     "output_type": "stream",
     "text": [
      "1.0699213743209839\n",
      "1.0337321758270264\n",
      "1.0348265171051025\n",
      "1.0221847295761108\n",
      "1.0331413745880127\n",
      "1.0604236125946045\n",
      "1.0184993743896484\n",
      "1.0385692119598389\n",
      "1.045827865600586\n",
      "0.948840320110321\n",
      "1.0109992027282715\n",
      "1.0427486896514893\n",
      "0.9875226020812988\n",
      "0.9871454238891602\n",
      "1.0117400884628296\n",
      "0.9875132441520691\n",
      "1.039341926574707\n",
      "1.0504075288772583\n",
      "0.967419445514679\n",
      "1.009373426437378\n",
      "1.008223295211792\n"
     ]
    },
    {
     "name": "stderr",
     "output_type": "stream",
     "text": [
      " 44%|████▍     | 6897/15625 [01:12<01:25, 101.85it/s]"
     ]
    },
    {
     "name": "stdout",
     "output_type": "stream",
     "text": [
      "1.0511889457702637\n",
      "1.0220160484313965\n",
      "1.0326530933380127\n",
      "1.0089884996414185\n",
      "1.052513837814331\n",
      "1.0587553977966309\n",
      "0.9875834584236145\n",
      "1.0017108917236328\n",
      "1.060469150543213\n",
      "0.9985896348953247\n",
      "1.0461475849151611\n",
      "1.0674705505371094\n",
      "0.9725018739700317\n",
      "0.9844385981559753\n",
      "1.0449743270874023\n",
      "1.0408293008804321\n",
      "1.0314793586730957\n",
      "1.0517423152923584\n",
      "1.031376838684082\n",
      "0.9778188467025757\n",
      "0.9856067895889282\n"
     ]
    },
    {
     "name": "stderr",
     "output_type": "stream",
     "text": [
      " 44%|████▍     | 6919/15625 [01:12<01:25, 101.53it/s]"
     ]
    },
    {
     "name": "stdout",
     "output_type": "stream",
     "text": [
      "1.0689716339111328\n",
      "1.0542629957199097\n",
      "1.0065522193908691\n",
      "1.01606285572052\n",
      "1.0677093267440796\n",
      "1.0057843923568726\n",
      "1.0362675189971924\n",
      "1.0304229259490967\n",
      "0.9985027313232422\n",
      "1.0197124481201172\n",
      "1.0102245807647705\n",
      "1.027312994003296\n",
      "1.025521993637085\n",
      "1.0689260959625244\n",
      "1.0245962142944336\n",
      "1.0820553302764893\n",
      "1.0710084438323975\n",
      "1.0404019355773926\n",
      "1.047891616821289\n",
      "1.0165090560913086\n",
      "1.0366017818450928\n"
     ]
    },
    {
     "name": "stderr",
     "output_type": "stream",
     "text": [
      " 44%|████▍     | 6941/15625 [01:12<01:25, 101.99it/s]"
     ]
    },
    {
     "name": "stdout",
     "output_type": "stream",
     "text": [
      "0.9749390482902527\n",
      "1.042115330696106\n",
      "0.9890178442001343\n",
      "1.0339144468307495\n",
      "0.9753355979919434\n",
      "1.0361076593399048\n",
      "1.0561050176620483\n",
      "1.0580495595932007\n",
      "1.0529181957244873\n",
      "0.9957032203674316\n",
      "1.037710428237915\n",
      "1.0130053758621216\n",
      "1.0649573802947998\n",
      "0.9856928586959839\n",
      "0.9933818578720093\n",
      "1.0195544958114624\n",
      "0.9834047555923462\n",
      "1.0928442478179932\n",
      "1.0401813983917236\n",
      "1.014402151107788\n",
      "1.0341265201568604\n"
     ]
    },
    {
     "name": "stderr",
     "output_type": "stream",
     "text": [
      " 45%|████▍     | 6963/15625 [01:12<01:24, 102.78it/s]"
     ]
    },
    {
     "name": "stdout",
     "output_type": "stream",
     "text": [
      "1.0208746194839478\n",
      "0.9916875958442688\n",
      "1.0225157737731934\n",
      "1.0064704418182373\n",
      "1.0023894309997559\n",
      "1.0163893699645996\n",
      "0.9710851907730103\n",
      "0.9952349662780762\n",
      "1.0546011924743652\n",
      "1.032334566116333\n",
      "1.0301928520202637\n",
      "1.0221819877624512\n",
      "1.1006147861480713\n",
      "1.0038896799087524\n",
      "0.9999396800994873\n",
      "1.001701831817627\n",
      "1.0016465187072754\n",
      "1.020540475845337\n",
      "1.054980993270874\n",
      "1.0281577110290527\n",
      "0.9838827252388\n"
     ]
    },
    {
     "name": "stderr",
     "output_type": "stream",
     "text": [
      " 45%|████▍     | 6985/15625 [01:12<01:24, 102.33it/s]"
     ]
    },
    {
     "name": "stdout",
     "output_type": "stream",
     "text": [
      "1.0736749172210693\n",
      "1.0679357051849365\n",
      "1.039158582687378\n",
      "1.0237478017807007\n",
      "1.03928542137146\n",
      "1.0337505340576172\n",
      "1.0313336849212646\n",
      "1.065566062927246\n",
      "1.0388997793197632\n",
      "1.027646541595459\n",
      "0.981748104095459\n",
      "1.043867826461792\n",
      "1.001028060913086\n",
      "1.052075743675232\n",
      "1.0043270587921143\n",
      "1.0075504779815674\n",
      "1.0395666360855103\n",
      "1.051820158958435\n",
      "1.0774471759796143\n",
      "1.0399410724639893\n",
      "1.035441517829895\n"
     ]
    },
    {
     "name": "stderr",
     "output_type": "stream",
     "text": [
      " 45%|████▍     | 7007/15625 [01:13<01:23, 102.73it/s]"
     ]
    },
    {
     "name": "stdout",
     "output_type": "stream",
     "text": [
      "1.03425133228302\n",
      "0.9968835115432739\n",
      "1.0258708000183105\n",
      "1.0463788509368896\n",
      "1.0148911476135254\n",
      "1.044095754623413\n",
      "1.0093098878860474\n",
      "1.0179839134216309\n",
      "1.0211272239685059\n",
      "1.0459460020065308\n",
      "1.022578239440918\n",
      "1.0438320636749268\n",
      "0.9861551523208618\n",
      "1.019556999206543\n",
      "1.0837047100067139\n",
      "0.995451033115387\n",
      "0.9801290035247803\n",
      "1.0571849346160889\n",
      "1.0385754108428955\n",
      "1.0464465618133545\n",
      "1.084965705871582\n"
     ]
    },
    {
     "name": "stderr",
     "output_type": "stream",
     "text": [
      " 45%|████▍     | 7029/15625 [01:13<01:23, 103.35it/s]"
     ]
    },
    {
     "name": "stdout",
     "output_type": "stream",
     "text": [
      "1.0443153381347656\n",
      "1.0297255516052246\n",
      "0.9932663440704346\n",
      "1.021012306213379\n",
      "1.015358328819275\n",
      "1.0029997825622559\n",
      "1.026472568511963\n",
      "1.023674726486206\n",
      "0.9544442296028137\n",
      "1.061638355255127\n",
      "1.1057453155517578\n",
      "1.056089162826538\n",
      "1.0314743518829346\n",
      "1.0325894355773926\n",
      "1.008252739906311\n",
      "1.0163377523422241\n",
      "1.0334579944610596\n",
      "1.0568056106567383\n",
      "1.025174856185913\n",
      "1.051594853401184\n",
      "0.9923447966575623\n"
     ]
    },
    {
     "name": "stderr",
     "output_type": "stream",
     "text": [
      "\r",
      " 45%|████▌     | 7040/15625 [01:13<01:23, 103.28it/s]"
     ]
    },
    {
     "name": "stdout",
     "output_type": "stream",
     "text": [
      "1.0252903699874878\n",
      "1.0402660369873047\n",
      "1.0242490768432617\n",
      "1.0235782861709595\n",
      "1.0080111026763916\n",
      "1.027660846710205\n",
      "1.0261154174804688\n",
      "1.0178511142730713\n",
      "1.0066454410552979\n",
      "1.0290175676345825\n",
      "0.9782471656799316\n",
      "0.9974583387374878\n",
      "1.0322233438491821\n",
      "1.0269272327423096\n",
      "1.1269696950912476\n",
      "1.0193674564361572\n",
      "1.018385648727417\n",
      "1.0796263217926025\n",
      "0.9594123363494873\n",
      "1.065176248550415\n",
      "1.0089478492736816\n"
     ]
    },
    {
     "name": "stderr",
     "output_type": "stream",
     "text": [
      " 45%|████▌     | 7062/15625 [01:13<01:22, 103.34it/s]"
     ]
    },
    {
     "name": "stdout",
     "output_type": "stream",
     "text": [
      "1.024645447731018\n",
      "1.0268741846084595\n",
      "1.0588479042053223\n",
      "0.9822884202003479\n",
      "1.0226118564605713\n",
      "0.9997742176055908\n",
      "1.0041985511779785\n",
      "0.9992720484733582\n",
      "1.0249547958374023\n",
      "1.0366053581237793\n",
      "0.9964649081230164\n",
      "1.0409899950027466\n",
      "1.0013551712036133\n",
      "0.9861748814582825\n",
      "1.0548895597457886\n",
      "0.989165186882019\n",
      "1.1096668243408203\n",
      "0.9763616323471069\n",
      "1.019968032836914\n",
      "1.1001492738723755\n",
      "0.9508089423179626\n"
     ]
    },
    {
     "name": "stderr",
     "output_type": "stream",
     "text": [
      " 45%|████▌     | 7084/15625 [01:13<01:22, 102.98it/s]"
     ]
    },
    {
     "name": "stdout",
     "output_type": "stream",
     "text": [
      "1.0430364608764648\n",
      "0.9989584684371948\n",
      "1.0122995376586914\n",
      "0.9932156801223755\n",
      "1.0217328071594238\n",
      "1.06253981590271\n",
      "1.0298244953155518\n",
      "1.020145297050476\n",
      "0.9637116193771362\n",
      "0.9808714389801025\n",
      "1.0827717781066895\n",
      "1.0365731716156006\n",
      "1.0003629922866821\n",
      "1.0112663507461548\n",
      "1.007083773612976\n",
      "1.0569262504577637\n",
      "0.9907028079032898\n",
      "1.0419540405273438\n",
      "1.025137186050415\n",
      "0.9950787425041199\n",
      "1.0017194747924805\n"
     ]
    },
    {
     "name": "stderr",
     "output_type": "stream",
     "text": [
      " 45%|████▌     | 7106/15625 [01:14<01:22, 102.81it/s]"
     ]
    },
    {
     "name": "stdout",
     "output_type": "stream",
     "text": [
      "1.0176557302474976\n",
      "1.0082545280456543\n",
      "0.9954077005386353\n",
      "0.9817599058151245\n",
      "0.996658444404602\n",
      "1.05733323097229\n",
      "1.0088516473770142\n",
      "1.0527825355529785\n",
      "1.054636001586914\n",
      "1.0439319610595703\n",
      "1.1553125381469727\n",
      "0.9865573644638062\n",
      "1.0416285991668701\n",
      "1.0106035470962524\n",
      "1.0017136335372925\n",
      "0.9912165403366089\n",
      "0.9736918210983276\n",
      "1.0619516372680664\n",
      "1.0218334197998047\n",
      "0.9925733804702759\n",
      "1.0502450466156006\n"
     ]
    },
    {
     "name": "stderr",
     "output_type": "stream",
     "text": [
      " 46%|████▌     | 7127/15625 [01:14<01:36, 87.93it/s] "
     ]
    },
    {
     "name": "stdout",
     "output_type": "stream",
     "text": [
      "1.0096371173858643\n",
      "1.0834444761276245\n",
      "1.0826308727264404\n",
      "0.9701911807060242\n",
      "1.0013384819030762\n",
      "0.9984420537948608\n",
      "1.0137152671813965\n",
      "1.006378173828125\n",
      "1.002571940422058\n",
      "1.031650185585022\n",
      "1.0019415616989136\n",
      "1.0311627388000488\n",
      "1.1066151857376099\n",
      "0.9751894474029541\n",
      "1.026915431022644\n"
     ]
    },
    {
     "name": "stderr",
     "output_type": "stream",
     "text": [
      " 46%|████▌     | 7148/15625 [01:14<01:30, 93.58it/s]"
     ]
    },
    {
     "name": "stdout",
     "output_type": "stream",
     "text": [
      "1.0257377624511719\n",
      "1.0338560342788696\n",
      "1.043900966644287\n",
      "1.0488723516464233\n",
      "1.013553261756897\n",
      "1.0004233121871948\n",
      "1.0272328853607178\n",
      "1.0300301313400269\n",
      "1.0329458713531494\n",
      "1.0308113098144531\n",
      "0.9960504174232483\n",
      "1.0627682209014893\n",
      "1.0234453678131104\n",
      "0.9913548231124878\n",
      "1.0518569946289062\n",
      "1.0217912197113037\n",
      "1.092041015625\n",
      "0.9915449619293213\n",
      "1.0402106046676636\n",
      "1.0192168951034546\n",
      "1.0281691551208496\n"
     ]
    },
    {
     "name": "stderr",
     "output_type": "stream",
     "text": [
      " 46%|████▌     | 7170/15625 [01:14<01:26, 97.19it/s]"
     ]
    },
    {
     "name": "stdout",
     "output_type": "stream",
     "text": [
      "1.0881526470184326\n",
      "0.9811071157455444\n",
      "1.0689855813980103\n",
      "1.0398136377334595\n",
      "1.0671753883361816\n",
      "1.024400234222412\n",
      "1.036544680595398\n",
      "1.0570378303527832\n",
      "1.0257043838500977\n",
      "1.0249922275543213\n",
      "1.056925892829895\n",
      "1.0984691381454468\n",
      "0.9860197305679321\n",
      "1.0226337909698486\n",
      "1.0499634742736816\n",
      "1.0407259464263916\n",
      "0.9901717901229858\n",
      "1.0821266174316406\n",
      "1.0770847797393799\n",
      "1.0435097217559814\n",
      "1.0299115180969238\n"
     ]
    },
    {
     "name": "stderr",
     "output_type": "stream",
     "text": [
      "\r",
      " 46%|████▌     | 7181/15625 [01:14<01:26, 98.13it/s]"
     ]
    },
    {
     "name": "stdout",
     "output_type": "stream",
     "text": [
      "1.0225526094436646\n",
      "1.020308256149292\n",
      "1.0242385864257812\n",
      "1.0234031677246094\n",
      "1.0264153480529785\n",
      "1.0643863677978516\n",
      "1.0867884159088135\n",
      "1.0982736349105835\n",
      "0.96750807762146\n",
      "1.0262889862060547\n",
      "1.0543911457061768\n",
      "1.0082979202270508\n",
      "1.0233231782913208\n",
      "1.03263521194458\n",
      "1.031219482421875\n",
      "1.038243055343628\n",
      "0.9924222230911255\n",
      "1.0051864385604858\n",
      "1.0421645641326904\n",
      "1.0531201362609863\n",
      "1.006801962852478\n"
     ]
    },
    {
     "name": "stderr",
     "output_type": "stream",
     "text": [
      " 46%|████▌     | 7203/15625 [01:15<01:24, 99.92it/s]"
     ]
    },
    {
     "name": "stdout",
     "output_type": "stream",
     "text": [
      "1.0236624479293823\n",
      "1.0873159170150757\n",
      "1.022125244140625\n",
      "1.0146476030349731\n",
      "1.0500810146331787\n",
      "1.02437162399292\n",
      "1.007598638534546\n",
      "1.054368257522583\n",
      "1.0146621465682983\n",
      "1.0709710121154785\n",
      "1.0261365175247192\n",
      "1.0402791500091553\n",
      "1.0234298706054688\n",
      "0.9953593015670776\n",
      "1.000544548034668\n",
      "1.043299913406372\n",
      "1.044629454612732\n",
      "1.0258309841156006\n",
      "1.0251386165618896\n",
      "1.007420539855957\n",
      "1.0037167072296143\n"
     ]
    },
    {
     "name": "stderr",
     "output_type": "stream",
     "text": [
      " 46%|████▌     | 7225/15625 [01:15<01:23, 100.64it/s]"
     ]
    },
    {
     "name": "stdout",
     "output_type": "stream",
     "text": [
      "1.0379910469055176\n",
      "1.0396034717559814\n",
      "0.9973406791687012\n",
      "1.0472297668457031\n",
      "1.034250259399414\n",
      "1.0512531995773315\n",
      "1.030423641204834\n",
      "1.0544846057891846\n",
      "0.9915185570716858\n",
      "1.0497355461120605\n",
      "1.0328928232192993\n",
      "1.0358079671859741\n",
      "0.999416172504425\n",
      "1.037070631980896\n",
      "1.0140705108642578\n",
      "0.9939136505126953\n",
      "1.0507694482803345\n",
      "1.1095362901687622\n",
      "1.041089415550232\n",
      "1.0864765644073486\n",
      "1.0264288187026978\n"
     ]
    },
    {
     "name": "stderr",
     "output_type": "stream",
     "text": [
      " 46%|████▋     | 7247/15625 [01:15<01:22, 101.14it/s]"
     ]
    },
    {
     "name": "stdout",
     "output_type": "stream",
     "text": [
      "0.9606605172157288\n",
      "1.0159850120544434\n",
      "1.0387976169586182\n",
      "1.0040738582611084\n",
      "0.9896817207336426\n",
      "0.9744675755500793\n",
      "1.0299230813980103\n",
      "1.0513300895690918\n",
      "1.0364396572113037\n",
      "0.9791538715362549\n",
      "1.0077012777328491\n",
      "1.0186402797698975\n",
      "1.0470051765441895\n",
      "1.0040972232818604\n",
      "1.005062222480774\n",
      "1.0562586784362793\n",
      "1.0219004154205322\n",
      "1.042515754699707\n",
      "1.0137362480163574\n",
      "1.0049068927764893\n",
      "0.9871416687965393\n"
     ]
    },
    {
     "name": "stderr",
     "output_type": "stream",
     "text": [
      " 47%|████▋     | 7269/15625 [01:15<01:21, 101.93it/s]"
     ]
    },
    {
     "name": "stdout",
     "output_type": "stream",
     "text": [
      "1.0299913883209229\n",
      "1.0401748418807983\n",
      "1.0525829792022705\n",
      "1.0732650756835938\n",
      "1.0088379383087158\n",
      "1.0197439193725586\n",
      "1.0427963733673096\n",
      "1.0760648250579834\n",
      "1.0418819189071655\n",
      "1.03654146194458\n",
      "1.0286040306091309\n",
      "1.0622494220733643\n",
      "0.9971505403518677\n",
      "1.022435188293457\n",
      "1.012011170387268\n",
      "1.0062718391418457\n",
      "1.048133134841919\n",
      "1.0406757593154907\n",
      "1.003510594367981\n"
     ]
    },
    {
     "name": "stderr",
     "output_type": "stream",
     "text": [
      " 47%|████▋     | 7290/15625 [01:16<01:32, 89.79it/s] "
     ]
    },
    {
     "name": "stdout",
     "output_type": "stream",
     "text": [
      "1.0040472745895386\n",
      "1.0074872970581055\n",
      "1.028389811515808\n",
      "1.0649821758270264\n",
      "1.038285493850708\n",
      "1.0119569301605225\n",
      "0.9921149015426636\n",
      "1.0677196979522705\n",
      "1.0032315254211426\n",
      "1.0314950942993164\n",
      "1.0500686168670654\n",
      "1.0000882148742676\n",
      "1.0098702907562256\n",
      "0.9888730049133301\n",
      "1.0385774374008179\n",
      "1.11221182346344\n",
      "0.9955949783325195\n"
     ]
    },
    {
     "name": "stderr",
     "output_type": "stream",
     "text": [
      "\r",
      " 47%|████▋     | 7301/15625 [01:16<01:29, 92.92it/s]"
     ]
    },
    {
     "name": "stdout",
     "output_type": "stream",
     "text": [
      "1.0378837585449219\n",
      "1.0381563901901245\n",
      "0.9746556282043457\n",
      "1.1068849563598633\n",
      "1.0023391246795654\n",
      "0.9916240572929382\n",
      "1.0185840129852295\n",
      "0.9913429021835327\n",
      "1.0404431819915771\n",
      "1.094551920890808\n",
      "1.0348527431488037\n",
      "1.0649466514587402\n",
      "0.9631396532058716\n",
      "1.044000506401062\n",
      "1.084395408630371\n",
      "1.0432908535003662\n",
      "0.9882475733757019\n",
      "1.01100492477417\n",
      "1.032608985900879\n",
      "1.009348750114441\n",
      "0.9968328475952148\n"
     ]
    },
    {
     "name": "stderr",
     "output_type": "stream",
     "text": [
      " 47%|████▋     | 7323/15625 [01:16<01:25, 97.60it/s]"
     ]
    },
    {
     "name": "stdout",
     "output_type": "stream",
     "text": [
      "1.0405172109603882\n",
      "0.9624480605125427\n",
      "0.9922386407852173\n",
      "1.0252794027328491\n",
      "1.0496091842651367\n",
      "1.0372040271759033\n",
      "1.0770275592803955\n",
      "1.0318230390548706\n",
      "1.0415048599243164\n",
      "1.0455626249313354\n",
      "0.9999823570251465\n",
      "1.0454034805297852\n",
      "1.0176665782928467\n",
      "1.0350916385650635\n",
      "1.005561113357544\n",
      "1.028050422668457\n",
      "1.0038578510284424\n",
      "1.0823009014129639\n",
      "1.0040524005889893\n",
      "1.0306077003479004\n",
      "0.9890719652175903\n"
     ]
    },
    {
     "name": "stderr",
     "output_type": "stream",
     "text": [
      " 47%|████▋     | 7345/15625 [01:16<01:23, 99.70it/s]"
     ]
    },
    {
     "name": "stdout",
     "output_type": "stream",
     "text": [
      "1.0091702938079834\n",
      "1.0559483766555786\n",
      "0.9685474634170532\n",
      "0.9732871651649475\n",
      "0.9673463106155396\n",
      "1.0492174625396729\n",
      "1.0347073078155518\n",
      "1.0492631196975708\n",
      "0.9940090179443359\n",
      "1.016510009765625\n",
      "0.9998569488525391\n",
      "1.0188394784927368\n",
      "1.0212435722351074\n",
      "1.1085178852081299\n",
      "0.9734337329864502\n",
      "1.0590912103652954\n",
      "1.0092436075210571\n",
      "1.0918183326721191\n",
      "1.0168958902359009\n",
      "1.0266714096069336\n",
      "1.0091819763183594\n"
     ]
    },
    {
     "name": "stderr",
     "output_type": "stream",
     "text": [
      " 47%|████▋     | 7367/15625 [01:16<01:22, 100.43it/s]"
     ]
    },
    {
     "name": "stdout",
     "output_type": "stream",
     "text": [
      "1.008862018585205\n",
      "1.0164954662322998\n",
      "1.0132396221160889\n",
      "0.9953721761703491\n",
      "1.0650588274002075\n",
      "1.030103087425232\n",
      "1.008313775062561\n",
      "1.0604994297027588\n",
      "1.0707582235336304\n",
      "1.0606220960617065\n",
      "1.0798671245574951\n",
      "1.0072722434997559\n",
      "0.9751619100570679\n",
      "1.0294198989868164\n",
      "0.9884427785873413\n",
      "1.1018295288085938\n",
      "1.0770936012268066\n",
      "1.0087593793869019\n",
      "1.0826396942138672\n",
      "1.1044867038726807\n",
      "1.0547845363616943\n"
     ]
    },
    {
     "name": "stderr",
     "output_type": "stream",
     "text": [
      " 47%|████▋     | 7389/15625 [01:17<01:21, 101.14it/s]"
     ]
    },
    {
     "name": "stdout",
     "output_type": "stream",
     "text": [
      "1.0263655185699463\n",
      "1.0210556983947754\n",
      "0.9879072904586792\n",
      "1.034559965133667\n",
      "0.9759955406188965\n",
      "1.0080329179763794\n",
      "1.026163935661316\n",
      "0.9775881767272949\n",
      "1.058559536933899\n",
      "1.1440730094909668\n",
      "1.0280765295028687\n",
      "1.0297491550445557\n",
      "0.9944908618927002\n",
      "1.0198899507522583\n",
      "0.9627325534820557\n",
      "0.9924851059913635\n",
      "1.087830901145935\n",
      "1.0852994918823242\n",
      "1.0589735507965088\n",
      "1.0028014183044434\n",
      "1.042635202407837\n"
     ]
    },
    {
     "name": "stderr",
     "output_type": "stream",
     "text": [
      " 47%|████▋     | 7411/15625 [01:17<01:21, 101.09it/s]"
     ]
    },
    {
     "name": "stdout",
     "output_type": "stream",
     "text": [
      "1.0061488151550293\n",
      "1.0373618602752686\n",
      "1.000986933708191\n",
      "1.0365145206451416\n",
      "1.0172343254089355\n",
      "1.003286600112915\n",
      "1.0018973350524902\n",
      "0.990634560585022\n",
      "1.0437743663787842\n",
      "0.989890992641449\n",
      "0.9986153244972229\n",
      "0.9948505163192749\n",
      "0.969275712966919\n",
      "1.020594835281372\n",
      "1.0637940168380737\n",
      "1.051544189453125\n",
      "1.0345321893692017\n",
      "1.049781084060669\n",
      "1.005000352859497\n",
      "1.0399775505065918\n",
      "1.063448429107666\n"
     ]
    },
    {
     "name": "stderr",
     "output_type": "stream",
     "text": [
      " 48%|████▊     | 7433/15625 [01:17<01:20, 101.69it/s]"
     ]
    },
    {
     "name": "stdout",
     "output_type": "stream",
     "text": [
      "1.0152901411056519\n",
      "1.0574383735656738\n",
      "1.018329381942749\n",
      "0.9918167591094971\n",
      "1.059877872467041\n",
      "1.0408157110214233\n",
      "1.0356600284576416\n",
      "1.0125303268432617\n",
      "1.0412399768829346\n",
      "0.9852454662322998\n",
      "1.1116291284561157\n",
      "1.045004963874817\n",
      "0.9869420528411865\n",
      "1.013121247291565\n",
      "1.0546972751617432\n",
      "0.9986446499824524\n",
      "1.0463972091674805\n",
      "1.005246877670288\n",
      "1.0627715587615967\n",
      "1.0267884731292725\n",
      "1.023453712463379\n"
     ]
    },
    {
     "name": "stderr",
     "output_type": "stream",
     "text": [
      " 48%|████▊     | 7455/15625 [01:17<01:20, 101.79it/s]"
     ]
    },
    {
     "name": "stdout",
     "output_type": "stream",
     "text": [
      "1.0571472644805908\n",
      "1.034834623336792\n",
      "1.0850555896759033\n",
      "1.0402634143829346\n",
      "0.9989510774612427\n",
      "1.006988286972046\n",
      "1.0630648136138916\n",
      "1.0246871709823608\n",
      "0.991714358329773\n",
      "1.0203659534454346\n",
      "0.9918991923332214\n",
      "1.0917751789093018\n",
      "1.017266035079956\n",
      "1.0223886966705322\n",
      "0.9754015207290649\n",
      "1.0303654670715332\n",
      "1.0014269351959229\n",
      "1.003312110900879\n",
      "1.0481743812561035\n",
      "1.013197660446167\n",
      "1.1123592853546143\n"
     ]
    },
    {
     "name": "stderr",
     "output_type": "stream",
     "text": [
      " 48%|████▊     | 7477/15625 [01:17<01:20, 101.00it/s]"
     ]
    },
    {
     "name": "stdout",
     "output_type": "stream",
     "text": [
      "1.051027774810791\n",
      "1.070581078529358\n",
      "1.0731494426727295\n",
      "1.0718157291412354\n",
      "1.0529770851135254\n",
      "1.0129318237304688\n",
      "1.00595223903656\n",
      "0.9758001565933228\n",
      "0.9855265617370605\n",
      "1.0463001728057861\n",
      "0.984001100063324\n",
      "1.0227481126785278\n",
      "1.0088393688201904\n",
      "1.124129295349121\n",
      "1.0308926105499268\n",
      "1.0629918575286865\n",
      "0.9470137357711792\n",
      "1.0494897365570068\n",
      "1.0467040538787842\n",
      "0.9781441688537598\n",
      "1.0212163925170898\n"
     ]
    },
    {
     "name": "stderr",
     "output_type": "stream",
     "text": [
      " 48%|████▊     | 7499/15625 [01:18<01:21, 100.07it/s]"
     ]
    },
    {
     "name": "stdout",
     "output_type": "stream",
     "text": [
      "1.045457124710083\n",
      "1.0322538614273071\n",
      "1.0418702363967896\n",
      "1.051544427871704\n",
      "1.0720411539077759\n",
      "0.9811448454856873\n",
      "1.0842283964157104\n",
      "1.0629006624221802\n",
      "0.9644119739532471\n",
      "1.0230295658111572\n",
      "1.0362168550491333\n",
      "0.9561331272125244\n",
      "0.975655198097229\n",
      "0.9565563797950745\n",
      "1.0987499952316284\n",
      "0.9611122608184814\n",
      "1.0128812789916992\n",
      "1.014028787612915\n",
      "1.0595324039459229\n",
      "1.0081560611724854\n"
     ]
    },
    {
     "name": "stderr",
     "output_type": "stream",
     "text": [
      "\r",
      " 48%|████▊     | 7510/15625 [01:18<01:21, 100.07it/s]"
     ]
    },
    {
     "name": "stdout",
     "output_type": "stream",
     "text": [
      "1.0111205577850342\n",
      "1.00113844871521\n",
      "1.0265769958496094\n",
      "1.1083142757415771\n",
      "1.0780614614486694\n",
      "1.0581541061401367\n",
      "1.023581624031067\n",
      "1.0237510204315186\n",
      "1.059436559677124\n",
      "1.05171537399292\n",
      "1.0511047840118408\n",
      "1.0304372310638428\n",
      "0.9977269172668457\n",
      "1.0441246032714844\n",
      "1.046424150466919\n",
      "1.0676010847091675\n",
      "1.0242575407028198\n",
      "1.086839199066162\n",
      "1.0058306455612183\n",
      "1.058457851409912\n"
     ]
    },
    {
     "name": "stderr",
     "output_type": "stream",
     "text": [
      " 48%|████▊     | 7531/15625 [01:18<01:28, 91.53it/s] "
     ]
    },
    {
     "name": "stdout",
     "output_type": "stream",
     "text": [
      "1.0589964389801025\n",
      "0.9876924753189087\n",
      "1.0086474418640137\n",
      "0.9825350046157837\n",
      "1.0314321517944336\n",
      "1.0077868700027466\n",
      "1.0351797342300415\n",
      "0.9989001750946045\n",
      "1.0241451263427734\n",
      "1.079822301864624\n",
      "1.0175477266311646\n",
      "1.0217794179916382\n",
      "1.049896001815796\n",
      "1.046647071838379\n",
      "1.0518357753753662\n",
      "1.0235555171966553\n"
     ]
    },
    {
     "name": "stderr",
     "output_type": "stream",
     "text": [
      " 48%|████▊     | 7551/15625 [01:18<01:30, 88.74it/s]"
     ]
    },
    {
     "name": "stdout",
     "output_type": "stream",
     "text": [
      "0.9905564785003662\n",
      "1.041317105293274\n",
      "1.0459556579589844\n",
      "1.0010343790054321\n",
      "1.0303230285644531\n",
      "1.0424838066101074\n",
      "1.0092087984085083\n",
      "1.0095019340515137\n",
      "0.9969872832298279\n",
      "1.08382248878479\n",
      "1.0524694919586182\n",
      "1.028461217880249\n",
      "1.0540003776550293\n",
      "1.0416650772094727\n",
      "1.0741323232650757\n",
      "1.0377744436264038\n",
      "1.0897157192230225\n",
      "1.0602378845214844\n",
      "1.0270485877990723\n"
     ]
    },
    {
     "name": "stderr",
     "output_type": "stream",
     "text": [
      " 48%|████▊     | 7571/15625 [01:18<01:26, 93.06it/s]"
     ]
    },
    {
     "name": "stdout",
     "output_type": "stream",
     "text": [
      "1.008962869644165\n",
      "1.0192627906799316\n",
      "1.0207723379135132\n",
      "1.0426740646362305\n",
      "1.003706932067871\n",
      "1.0180662870407104\n",
      "1.0845249891281128\n",
      "0.9483280181884766\n",
      "1.011033058166504\n",
      "1.074526071548462\n",
      "1.0487122535705566\n",
      "0.9710631966590881\n",
      "1.0623970031738281\n",
      "1.0149757862091064\n",
      "1.0523176193237305\n",
      "1.037670612335205\n",
      "1.0840401649475098\n",
      "1.0366568565368652\n",
      "1.0171947479248047\n",
      "1.0852642059326172\n"
     ]
    },
    {
     "name": "stderr",
     "output_type": "stream",
     "text": [
      " 49%|████▊     | 7591/15625 [01:19<01:23, 95.84it/s]"
     ]
    },
    {
     "name": "stdout",
     "output_type": "stream",
     "text": [
      "1.0366967916488647\n",
      "1.0666214227676392\n",
      "0.9955419301986694\n",
      "1.0418446063995361\n",
      "1.0231938362121582\n",
      "1.050118088722229\n",
      "1.0051214694976807\n",
      "0.9833133220672607\n",
      "1.0564336776733398\n",
      "1.015017032623291\n",
      "1.037062406539917\n",
      "1.0171761512756348\n",
      "1.0524532794952393\n",
      "1.024956464767456\n",
      "0.9367105960845947\n",
      "0.9817101955413818\n",
      "1.0413978099822998\n",
      "0.9542779922485352\n",
      "1.087686538696289\n",
      "1.0244431495666504\n"
     ]
    },
    {
     "name": "stderr",
     "output_type": "stream",
     "text": [
      " 49%|████▊     | 7611/15625 [01:19<01:22, 96.94it/s]"
     ]
    },
    {
     "name": "stdout",
     "output_type": "stream",
     "text": [
      "1.0831820964813232\n",
      "0.9583706855773926\n",
      "1.0205540657043457\n",
      "1.025059700012207\n",
      "0.9880011081695557\n",
      "1.062180757522583\n",
      "1.048668384552002\n",
      "1.0447529554367065\n",
      "1.077643871307373\n",
      "1.0479505062103271\n",
      "1.072326421737671\n",
      "1.0101205110549927\n",
      "1.0587389469146729\n",
      "1.00286066532135\n",
      "1.0393344163894653\n",
      "1.0224443674087524\n",
      "1.0159802436828613\n",
      "0.9894711375236511\n",
      "1.0083595514297485\n",
      "1.0204668045043945\n"
     ]
    },
    {
     "name": "stderr",
     "output_type": "stream",
     "text": [
      " 49%|████▉     | 7631/15625 [01:19<01:22, 97.07it/s]"
     ]
    },
    {
     "name": "stdout",
     "output_type": "stream",
     "text": [
      "0.9965645670890808\n",
      "0.9905598759651184\n",
      "0.9806391000747681\n",
      "1.038893222808838\n",
      "1.0125858783721924\n",
      "1.0842463970184326\n",
      "0.9696894884109497\n",
      "1.037642002105713\n",
      "1.0598821640014648\n",
      "1.0121151208877563\n",
      "1.018604040145874\n",
      "1.0107967853546143\n",
      "1.0113945007324219\n",
      "1.0706015825271606\n",
      "1.0575194358825684\n",
      "1.0068118572235107\n",
      "1.0206665992736816\n",
      "1.0710655450820923\n",
      "1.0726332664489746\n",
      "1.0413005352020264\n"
     ]
    },
    {
     "name": "stderr",
     "output_type": "stream",
     "text": [
      " 49%|████▉     | 7651/15625 [01:19<01:21, 97.46it/s]"
     ]
    },
    {
     "name": "stdout",
     "output_type": "stream",
     "text": [
      "1.0529696941375732\n",
      "1.037548542022705\n",
      "1.0396299362182617\n",
      "1.0415890216827393\n",
      "0.9569236040115356\n",
      "1.0307458639144897\n",
      "1.041102409362793\n",
      "1.032487392425537\n",
      "1.0413475036621094\n",
      "0.9728357791900635\n",
      "0.9985677599906921\n",
      "1.0013465881347656\n",
      "1.0277506113052368\n",
      "1.0054417848587036\n",
      "1.0538465976715088\n",
      "1.0084482431411743\n",
      "1.0635586977005005\n",
      "1.0514005422592163\n",
      "1.014059066772461\n",
      "1.0506049394607544\n"
     ]
    },
    {
     "name": "stderr",
     "output_type": "stream",
     "text": [
      " 49%|████▉     | 7671/15625 [01:19<01:21, 97.70it/s]"
     ]
    },
    {
     "name": "stdout",
     "output_type": "stream",
     "text": [
      "1.0290753841400146\n",
      "0.993073046207428\n",
      "1.0326439142227173\n",
      "0.9857161045074463\n",
      "1.0721681118011475\n",
      "1.107258915901184\n",
      "1.0463666915893555\n",
      "1.0912041664123535\n",
      "1.0655453205108643\n",
      "1.0336487293243408\n",
      "0.9450173377990723\n",
      "1.0284926891326904\n",
      "1.0315642356872559\n",
      "1.0592827796936035\n",
      "1.0546128749847412\n",
      "1.0411150455474854\n",
      "0.9897974133491516\n",
      "1.0795934200286865\n",
      "1.0594630241394043\n",
      "1.0426732301712036\n"
     ]
    },
    {
     "name": "stderr",
     "output_type": "stream",
     "text": [
      " 49%|████▉     | 7691/15625 [01:20<01:21, 97.58it/s]"
     ]
    },
    {
     "name": "stdout",
     "output_type": "stream",
     "text": [
      "1.0113165378570557\n",
      "1.0202109813690186\n",
      "0.9828848838806152\n",
      "1.005382776260376\n",
      "0.9994385242462158\n",
      "1.0703086853027344\n",
      "1.0320227146148682\n",
      "0.9946805834770203\n",
      "0.9688484072685242\n",
      "1.0340584516525269\n",
      "0.9799085259437561\n",
      "1.0746033191680908\n",
      "1.0103846788406372\n",
      "0.9967520833015442\n",
      "1.0185537338256836\n",
      "1.0451686382293701\n",
      "1.02837336063385\n",
      "1.048897385597229\n",
      "1.0336074829101562\n",
      "0.9994654655456543\n"
     ]
    },
    {
     "name": "stderr",
     "output_type": "stream",
     "text": [
      " 49%|████▉     | 7711/15625 [01:20<01:20, 98.07it/s]"
     ]
    },
    {
     "name": "stdout",
     "output_type": "stream",
     "text": [
      "1.0148776769638062\n",
      "1.0044599771499634\n",
      "1.0991922616958618\n",
      "1.0469304323196411\n",
      "1.0314099788665771\n",
      "1.0206767320632935\n",
      "0.9577368497848511\n",
      "0.9906556606292725\n",
      "1.0774004459381104\n",
      "1.021134376525879\n",
      "1.0108256340026855\n",
      "1.0572402477264404\n",
      "0.9661402702331543\n",
      "1.0664420127868652\n",
      "1.0431758165359497\n",
      "1.0010850429534912\n",
      "1.018303394317627\n",
      "1.0188273191452026\n",
      "1.0562275648117065\n",
      "0.990722119808197\n"
     ]
    },
    {
     "name": "stderr",
     "output_type": "stream",
     "text": [
      " 49%|████▉     | 7732/15625 [01:20<01:19, 99.15it/s]"
     ]
    },
    {
     "name": "stdout",
     "output_type": "stream",
     "text": [
      "1.039677381515503\n",
      "1.0818227529525757\n",
      "0.9764877557754517\n",
      "0.9754183292388916\n",
      "1.0506610870361328\n",
      "1.0450302362442017\n",
      "1.0134695768356323\n",
      "0.9925848841667175\n",
      "0.998320996761322\n",
      "0.9952598810195923\n",
      "1.0027027130126953\n",
      "1.0175105333328247\n",
      "0.9712579846382141\n",
      "1.0258023738861084\n",
      "1.0559478998184204\n",
      "1.1002070903778076\n",
      "0.9993314743041992\n",
      "1.0203436613082886\n",
      "1.0282397270202637\n",
      "1.0427212715148926\n",
      "1.0805540084838867\n"
     ]
    },
    {
     "name": "stderr",
     "output_type": "stream",
     "text": [
      " 50%|████▉     | 7754/15625 [01:20<01:18, 99.93it/s]"
     ]
    },
    {
     "name": "stdout",
     "output_type": "stream",
     "text": [
      "1.0292439460754395\n",
      "1.0409619808197021\n",
      "1.0697059631347656\n",
      "1.031534194946289\n",
      "1.0237867832183838\n",
      "1.0767943859100342\n",
      "1.036763310432434\n",
      "1.0249536037445068\n",
      "0.96125328540802\n",
      "0.9518901109695435\n",
      "1.0400545597076416\n",
      "1.1225835084915161\n",
      "1.0380139350891113\n",
      "0.9993047118186951\n",
      "0.9801883101463318\n",
      "1.0486228466033936\n",
      "1.0968202352523804\n",
      "1.024834394454956\n",
      "1.079354166984558\n",
      "0.9867162704467773\n",
      "1.0524847507476807\n"
     ]
    },
    {
     "name": "stderr",
     "output_type": "stream",
     "text": [
      " 50%|████▉     | 7774/15625 [01:20<01:18, 99.59it/s]"
     ]
    },
    {
     "name": "stdout",
     "output_type": "stream",
     "text": [
      "1.0590863227844238\n",
      "0.9898694157600403\n",
      "1.0448505878448486\n",
      "1.009406566619873\n",
      "1.041952133178711\n",
      "1.0386760234832764\n",
      "0.9911484122276306\n",
      "1.0334659814834595\n",
      "0.9976686239242554\n",
      "1.0216394662857056\n",
      "1.005813717842102\n",
      "1.0124183893203735\n",
      "0.9450483322143555\n",
      "0.9960285425186157\n",
      "1.067802906036377\n",
      "0.9842931628227234\n",
      "1.001086950302124\n",
      "1.0130829811096191\n",
      "1.0704991817474365\n",
      "1.0430567264556885\n",
      "1.0875177383422852\n"
     ]
    },
    {
     "name": "stderr",
     "output_type": "stream",
     "text": [
      " 50%|████▉     | 7794/15625 [01:21<01:19, 98.46it/s]"
     ]
    },
    {
     "name": "stdout",
     "output_type": "stream",
     "text": [
      "1.0249388217926025\n",
      "1.049248456954956\n",
      "1.0237069129943848\n",
      "1.0654879808425903\n",
      "1.0611860752105713\n",
      "1.0932559967041016\n",
      "0.948214590549469\n",
      "1.0045274496078491\n",
      "1.0239026546478271\n",
      "1.0883729457855225\n",
      "1.0358941555023193\n",
      "1.0147652626037598\n",
      "1.0644381046295166\n",
      "1.002255916595459\n",
      "0.9978629946708679\n",
      "1.0182576179504395\n",
      "1.0254662036895752\n",
      "1.003170132637024\n",
      "1.020140290260315\n",
      "1.0053982734680176\n"
     ]
    },
    {
     "name": "stderr",
     "output_type": "stream",
     "text": [
      " 50%|█████     | 7814/15625 [01:21<01:20, 97.60it/s]"
     ]
    },
    {
     "name": "stdout",
     "output_type": "stream",
     "text": [
      "1.0082151889801025\n",
      "1.0033668279647827\n",
      "1.0109041929244995\n",
      "1.04201078414917\n",
      "1.0702732801437378\n",
      "1.0227891206741333\n",
      "1.0999577045440674\n",
      "1.0173711776733398\n",
      "1.0411467552185059\n",
      "1.0001730918884277\n",
      "0.9844499826431274\n",
      "1.0289726257324219\n",
      "1.0261437892913818\n",
      "1.0565404891967773\n",
      "0.9639629125595093\n",
      "0.9985296130180359\n",
      "1.0219706296920776\n",
      "1.0624266862869263\n",
      "0.9342860579490662\n",
      "1.0192878246307373\n"
     ]
    },
    {
     "name": "stderr",
     "output_type": "stream",
     "text": [
      " 50%|█████     | 7834/15625 [01:21<01:19, 97.86it/s]"
     ]
    },
    {
     "name": "stdout",
     "output_type": "stream",
     "text": [
      "0.9821778535842896\n",
      "0.9666616916656494\n",
      "1.0264084339141846\n",
      "0.9760645031929016\n",
      "1.0418528318405151\n",
      "1.0208678245544434\n",
      "1.0374629497528076\n",
      "1.0316392183303833\n",
      "1.0000815391540527\n",
      "1.0620018243789673\n",
      "0.9948026537895203\n",
      "1.0322986841201782\n",
      "0.9826083183288574\n",
      "1.0462573766708374\n",
      "1.0203444957733154\n",
      "1.04463529586792\n",
      "1.0145606994628906\n",
      "0.9826503992080688\n",
      "0.9853883981704712\n",
      "1.0300583839416504\n"
     ]
    },
    {
     "name": "stderr",
     "output_type": "stream",
     "text": [
      " 50%|█████     | 7854/15625 [01:21<01:18, 98.51it/s]"
     ]
    },
    {
     "name": "stdout",
     "output_type": "stream",
     "text": [
      "1.0086047649383545\n",
      "1.046478271484375\n",
      "1.0524506568908691\n",
      "1.0338504314422607\n",
      "1.0350728034973145\n",
      "1.027769684791565\n",
      "1.0082361698150635\n",
      "1.0681450366973877\n",
      "1.090691089630127\n",
      "1.080996036529541\n",
      "1.0697388648986816\n",
      "0.982842743396759\n",
      "0.9767211079597473\n",
      "0.9964304566383362\n",
      "1.0395346879959106\n",
      "1.0038084983825684\n",
      "1.0498075485229492\n",
      "1.0259170532226562\n",
      "1.0323362350463867\n",
      "1.0048649311065674\n",
      "1.0188829898834229\n"
     ]
    },
    {
     "name": "stderr",
     "output_type": "stream",
     "text": [
      " 50%|█████     | 7874/15625 [01:21<01:18, 98.94it/s]"
     ]
    },
    {
     "name": "stdout",
     "output_type": "stream",
     "text": [
      "0.960169792175293\n",
      "0.9935867786407471\n",
      "1.029754877090454\n",
      "1.002738118171692\n",
      "0.9865593314170837\n",
      "0.9813666343688965\n",
      "1.0400587320327759\n",
      "1.0335865020751953\n",
      "1.0256454944610596\n",
      "0.9935032725334167\n",
      "0.9983339309692383\n",
      "0.9957990646362305\n",
      "1.0418517589569092\n",
      "1.0295594930648804\n",
      "1.0690672397613525\n",
      "1.0717504024505615\n",
      "1.0339280366897583\n",
      "0.9719430208206177\n",
      "1.0101587772369385\n",
      "1.0464744567871094\n",
      "1.019812822341919\n"
     ]
    },
    {
     "name": "stderr",
     "output_type": "stream",
     "text": [
      " 51%|█████     | 7894/15625 [01:22<01:28, 87.39it/s]"
     ]
    },
    {
     "name": "stdout",
     "output_type": "stream",
     "text": [
      "1.0243771076202393\n",
      "0.9885855913162231\n",
      "1.0249552726745605\n",
      "1.0991575717926025\n",
      "1.0358842611312866\n",
      "0.9772840738296509\n",
      "1.023280143737793\n",
      "1.0147485733032227\n",
      "1.014819860458374\n",
      "0.9910557270050049\n",
      "0.986976146697998\n",
      "1.0161802768707275\n",
      "0.9711079597473145\n",
      "1.0785484313964844\n",
      "1.0009868144989014\n"
     ]
    },
    {
     "name": "stderr",
     "output_type": "stream",
     "text": [
      " 51%|█████     | 7914/15625 [01:22<01:23, 92.52it/s]"
     ]
    },
    {
     "name": "stdout",
     "output_type": "stream",
     "text": [
      "0.975511372089386\n",
      "1.0194735527038574\n",
      "1.036893606185913\n",
      "1.0209083557128906\n",
      "1.0413663387298584\n",
      "1.0033204555511475\n",
      "0.9679951071739197\n",
      "1.1110424995422363\n",
      "1.0068070888519287\n",
      "0.9682375192642212\n",
      "1.0619832277297974\n",
      "1.0209684371948242\n",
      "1.0530741214752197\n",
      "1.0515499114990234\n",
      "1.0086613893508911\n",
      "1.0266308784484863\n",
      "1.0412496328353882\n",
      "1.0349266529083252\n",
      "1.0194828510284424\n",
      "1.0427029132843018\n"
     ]
    },
    {
     "name": "stderr",
     "output_type": "stream",
     "text": [
      " 51%|█████     | 7934/15625 [01:22<01:20, 95.96it/s]"
     ]
    },
    {
     "name": "stdout",
     "output_type": "stream",
     "text": [
      "1.0332486629486084\n",
      "1.025529146194458\n",
      "1.055896282196045\n",
      "1.0712544918060303\n",
      "1.0452739000320435\n",
      "1.063232421875\n",
      "1.0189573764801025\n",
      "1.0256264209747314\n",
      "0.9945148229598999\n",
      "0.9849817752838135\n",
      "0.9993199110031128\n",
      "1.0231841802597046\n",
      "0.9673826098442078\n",
      "1.064542531967163\n",
      "1.041704773902893\n",
      "1.058597207069397\n",
      "1.0355584621429443\n",
      "1.0167841911315918\n",
      "1.0153731107711792\n",
      "1.0242981910705566\n"
     ]
    },
    {
     "name": "stderr",
     "output_type": "stream",
     "text": [
      " 51%|█████     | 7954/15625 [01:22<01:18, 97.60it/s]"
     ]
    },
    {
     "name": "stdout",
     "output_type": "stream",
     "text": [
      "1.041879415512085\n",
      "0.9853187799453735\n",
      "1.087850570678711\n",
      "1.0195473432540894\n",
      "1.0353784561157227\n",
      "1.0496587753295898\n",
      "1.005609154701233\n",
      "1.0260287523269653\n",
      "0.9782768487930298\n",
      "1.0273771286010742\n",
      "1.0692105293273926\n",
      "0.9641470909118652\n",
      "1.0360486507415771\n",
      "0.9991335868835449\n",
      "0.9863759875297546\n",
      "1.0167551040649414\n",
      "0.9804511070251465\n",
      "0.9900238513946533\n",
      "1.034703254699707\n",
      "1.062899112701416\n",
      "1.0616079568862915\n"
     ]
    },
    {
     "name": "stderr",
     "output_type": "stream",
     "text": [
      " 51%|█████     | 7974/15625 [01:23<01:17, 98.34it/s]"
     ]
    },
    {
     "name": "stdout",
     "output_type": "stream",
     "text": [
      "1.0228261947631836\n",
      "0.9822251796722412\n",
      "0.9643889665603638\n",
      "1.062807321548462\n",
      "1.009248971939087\n",
      "1.0509779453277588\n",
      "1.0318028926849365\n",
      "1.0713142156600952\n",
      "1.0097664594650269\n",
      "0.9687782526016235\n",
      "1.0174360275268555\n",
      "0.9904695749282837\n",
      "1.0148820877075195\n",
      "1.0197014808654785\n",
      "0.9700188040733337\n",
      "0.9891591668128967\n",
      "1.0645921230316162\n",
      "1.0151679515838623\n",
      "0.9989737272262573\n",
      "1.0081727504730225\n",
      "0.9656202793121338\n"
     ]
    },
    {
     "name": "stderr",
     "output_type": "stream",
     "text": [
      " 51%|█████     | 7994/15625 [01:23<01:17, 98.34it/s]"
     ]
    },
    {
     "name": "stdout",
     "output_type": "stream",
     "text": [
      "1.0113520622253418\n",
      "1.010742425918579\n",
      "1.0267951488494873\n",
      "1.0104849338531494\n",
      "1.0251286029815674\n",
      "1.0414986610412598\n",
      "0.969238817691803\n",
      "1.032341480255127\n",
      "1.0001444816589355\n",
      "1.0115995407104492\n",
      "1.0780246257781982\n",
      "0.9699407815933228\n",
      "1.037513017654419\n",
      "1.0053753852844238\n",
      "0.9534127712249756\n",
      "0.9665778875350952\n",
      "1.0619200468063354\n",
      "1.0004405975341797\n",
      "1.0428290367126465\n",
      "1.0724914073944092\n",
      "1.010633945465088\n"
     ]
    },
    {
     "name": "stderr",
     "output_type": "stream",
     "text": [
      " 51%|█████▏    | 8014/15625 [01:23<01:17, 98.53it/s]"
     ]
    },
    {
     "name": "stdout",
     "output_type": "stream",
     "text": [
      "1.018203616142273\n",
      "1.0100555419921875\n",
      "0.9913145899772644\n",
      "1.0009071826934814\n",
      "0.9594838619232178\n",
      "1.047195315361023\n",
      "1.0669300556182861\n",
      "1.05232572555542\n",
      "1.0497664213180542\n",
      "0.9624391794204712\n",
      "0.9821492433547974\n",
      "1.0233039855957031\n",
      "1.0620169639587402\n",
      "1.012180209159851\n",
      "1.0628567934036255\n",
      "1.0297785997390747\n",
      "1.0283538103103638\n",
      "1.0033882856369019\n",
      "0.9991129040718079\n",
      "1.03569757938385\n",
      "1.0077311992645264\n"
     ]
    },
    {
     "name": "stderr",
     "output_type": "stream",
     "text": [
      " 51%|█████▏    | 8034/15625 [01:23<01:17, 97.68it/s]"
     ]
    },
    {
     "name": "stdout",
     "output_type": "stream",
     "text": [
      "1.0683408975601196\n",
      "1.015602469444275\n",
      "1.0267802476882935\n",
      "1.0169802904129028\n",
      "1.091508388519287\n",
      "1.0418877601623535\n",
      "1.015861988067627\n",
      "1.027773380279541\n",
      "0.983400821685791\n",
      "1.0179935693740845\n",
      "1.0657951831817627\n",
      "1.0073477029800415\n",
      "1.0081021785736084\n",
      "0.9995036125183105\n",
      "1.027439832687378\n",
      "1.0696824789047241\n",
      "1.0131592750549316\n",
      "1.0061314105987549\n",
      "1.0450068712234497\n",
      "1.0195375680923462\n"
     ]
    },
    {
     "name": "stderr",
     "output_type": "stream",
     "text": [
      " 52%|█████▏    | 8055/15625 [01:23<01:16, 98.51it/s]"
     ]
    },
    {
     "name": "stdout",
     "output_type": "stream",
     "text": [
      "1.0304880142211914\n",
      "1.0070672035217285\n",
      "1.0050076246261597\n",
      "0.9826233983039856\n",
      "1.0200152397155762\n",
      "1.008324146270752\n",
      "0.9984277486801147\n",
      "0.9949473142623901\n",
      "0.9738690853118896\n",
      "0.9965000152587891\n",
      "1.0612187385559082\n",
      "1.0019164085388184\n",
      "0.9862472414970398\n",
      "1.0428649187088013\n",
      "1.0058295726776123\n",
      "1.001990795135498\n",
      "1.077451467514038\n",
      "1.0406157970428467\n",
      "1.0311837196350098\n",
      "0.996361494064331\n",
      "1.0359890460968018\n"
     ]
    },
    {
     "name": "stderr",
     "output_type": "stream",
     "text": [
      " 52%|█████▏    | 8077/15625 [01:24<01:15, 99.51it/s]"
     ]
    },
    {
     "name": "stdout",
     "output_type": "stream",
     "text": [
      "1.0257134437561035\n",
      "1.0088318586349487\n",
      "1.0211615562438965\n",
      "1.0368881225585938\n",
      "1.0500860214233398\n",
      "0.9768996238708496\n",
      "0.9653380513191223\n",
      "0.9542755484580994\n",
      "1.0401355028152466\n",
      "1.0339387655258179\n",
      "1.0158722400665283\n",
      "1.052957534790039\n",
      "1.0103764533996582\n",
      "1.025976300239563\n",
      "1.0042086839675903\n",
      "1.019370675086975\n",
      "1.0760074853897095\n",
      "1.0316147804260254\n",
      "1.015244722366333\n",
      "0.9899086952209473\n",
      "1.0420935153961182\n"
     ]
    },
    {
     "name": "stderr",
     "output_type": "stream",
     "text": [
      " 52%|█████▏    | 8098/15625 [01:24<01:15, 99.77it/s]"
     ]
    },
    {
     "name": "stdout",
     "output_type": "stream",
     "text": [
      "0.9947372674942017\n",
      "1.0406298637390137\n",
      "1.0757594108581543\n",
      "1.0321499109268188\n",
      "1.1092619895935059\n",
      "1.0244150161743164\n",
      "1.0288729667663574\n",
      "1.018863320350647\n",
      "1.0543031692504883\n",
      "1.0443493127822876\n",
      "0.9804632663726807\n",
      "0.9927723407745361\n",
      "0.9766771197319031\n",
      "1.0483908653259277\n",
      "1.0807392597198486\n",
      "1.0238878726959229\n",
      "0.991105318069458\n",
      "1.049543857574463\n",
      "0.9830419421195984\n",
      "0.9739237427711487\n",
      "1.0675694942474365\n"
     ]
    },
    {
     "name": "stderr",
     "output_type": "stream",
     "text": [
      " 52%|█████▏    | 8119/15625 [01:24<01:14, 100.61it/s]"
     ]
    },
    {
     "name": "stdout",
     "output_type": "stream",
     "text": [
      "1.0439728498458862\n",
      "1.0072686672210693\n",
      "1.0169672966003418\n",
      "1.0063143968582153\n",
      "1.0144065618515015\n",
      "1.0128016471862793\n",
      "0.9970451593399048\n",
      "1.0075843334197998\n",
      "1.011146068572998\n",
      "0.9915098547935486\n",
      "1.0715088844299316\n",
      "1.0008885860443115\n",
      "1.0444893836975098\n",
      "1.0438637733459473\n",
      "1.0535614490509033\n",
      "1.0344237089157104\n",
      "1.0683438777923584\n",
      "1.0668940544128418\n",
      "1.0429710149765015\n",
      "1.005620002746582\n",
      "1.0687906742095947\n"
     ]
    },
    {
     "name": "stderr",
     "output_type": "stream",
     "text": [
      "\r",
      " 52%|█████▏    | 8130/15625 [01:24<01:14, 100.71it/s]"
     ]
    },
    {
     "name": "stdout",
     "output_type": "stream",
     "text": [
      "1.0242702960968018\n",
      "0.9665544033050537\n",
      "1.0187968015670776\n",
      "1.0455652475357056\n",
      "1.0566678047180176\n",
      "1.014615535736084\n",
      "1.037676215171814\n",
      "0.9984586834907532\n",
      "1.0105469226837158\n",
      "1.0342272520065308\n",
      "1.067563772201538\n",
      "0.9874173998832703\n",
      "1.017824649810791\n",
      "0.9997373223304749\n",
      "1.0461766719818115\n",
      "1.014278769493103\n",
      "1.0033783912658691\n",
      "1.012732744216919\n"
     ]
    },
    {
     "name": "stderr",
     "output_type": "stream",
     "text": [
      " 52%|█████▏    | 8151/15625 [01:24<01:30, 82.64it/s] "
     ]
    },
    {
     "name": "stdout",
     "output_type": "stream",
     "text": [
      "1.0357377529144287\n",
      "1.0615596771240234\n",
      "0.9875261187553406\n",
      "1.0478644371032715\n",
      "1.0345031023025513\n",
      "1.0026373863220215\n",
      "1.0539188385009766\n",
      "0.9600755572319031\n",
      "0.9891412258148193\n",
      "1.022529125213623\n",
      "0.9966936111450195\n",
      "1.0342068672180176\n",
      "0.9892772436141968\n",
      "1.0237390995025635\n"
     ]
    },
    {
     "name": "stderr",
     "output_type": "stream",
     "text": [
      " 52%|█████▏    | 8171/15625 [01:25<01:24, 88.33it/s]"
     ]
    },
    {
     "name": "stdout",
     "output_type": "stream",
     "text": [
      "1.0423033237457275\n",
      "0.9769835472106934\n",
      "1.0037133693695068\n",
      "1.009231686592102\n",
      "0.9797111749649048\n",
      "1.0274255275726318\n",
      "0.9783244132995605\n",
      "1.0254547595977783\n",
      "1.0642147064208984\n",
      "1.0015780925750732\n",
      "0.96134352684021\n",
      "1.0364344120025635\n",
      "1.0350791215896606\n",
      "1.0662848949432373\n",
      "0.987575113773346\n",
      "1.0648113489151\n",
      "1.0505729913711548\n",
      "1.0170049667358398\n",
      "1.0098906755447388\n",
      "1.0021634101867676\n"
     ]
    },
    {
     "name": "stderr",
     "output_type": "stream",
     "text": [
      " 52%|█████▏    | 8193/15625 [01:25<01:18, 95.16it/s]"
     ]
    },
    {
     "name": "stdout",
     "output_type": "stream",
     "text": [
      "0.9606054425239563\n",
      "1.023429036140442\n",
      "0.9950486421585083\n",
      "1.0062439441680908\n",
      "1.0028635263442993\n",
      "0.9980039000511169\n",
      "1.0347082614898682\n",
      "1.028143048286438\n",
      "0.9663987755775452\n",
      "1.0539593696594238\n",
      "1.0807710886001587\n",
      "1.012178659439087\n",
      "1.0056324005126953\n",
      "1.0741338729858398\n",
      "0.9653173685073853\n",
      "0.96733558177948\n",
      "0.9578871726989746\n",
      "1.0031037330627441\n",
      "1.0778254270553589\n",
      "1.018927812576294\n",
      "1.0222816467285156\n"
     ]
    },
    {
     "name": "stderr",
     "output_type": "stream",
     "text": [
      " 53%|█████▎    | 8215/15625 [01:25<01:15, 98.64it/s]"
     ]
    },
    {
     "name": "stdout",
     "output_type": "stream",
     "text": [
      "0.9952223300933838\n",
      "0.9943865537643433\n",
      "0.9885365962982178\n",
      "0.9892815351486206\n",
      "1.0274401903152466\n",
      "1.014078140258789\n",
      "0.9819580316543579\n",
      "1.0273098945617676\n",
      "1.0237007141113281\n",
      "0.9876346588134766\n",
      "0.9965552687644958\n",
      "1.0339620113372803\n",
      "1.068463683128357\n",
      "1.0400301218032837\n",
      "1.0035526752471924\n",
      "1.0238806009292603\n",
      "1.016014575958252\n",
      "0.9883232116699219\n",
      "1.037752389907837\n",
      "1.0301251411437988\n",
      "1.042886734008789\n"
     ]
    },
    {
     "name": "stderr",
     "output_type": "stream",
     "text": [
      " 53%|█████▎    | 8237/15625 [01:25<01:14, 99.81it/s]"
     ]
    },
    {
     "name": "stdout",
     "output_type": "stream",
     "text": [
      "1.035288691520691\n",
      "1.0232126712799072\n",
      "1.0374948978424072\n",
      "1.040734052658081\n",
      "0.9692003130912781\n",
      "1.0219866037368774\n",
      "1.103990077972412\n",
      "0.9689193964004517\n",
      "0.9967119693756104\n",
      "1.0664266347885132\n",
      "1.049086570739746\n",
      "0.9776936173439026\n",
      "1.0013808012008667\n",
      "1.024608850479126\n",
      "0.9776787757873535\n",
      "1.0232948064804077\n",
      "1.1012966632843018\n",
      "1.0989083051681519\n",
      "1.0123395919799805\n",
      "1.0626649856567383\n",
      "1.042938232421875\n"
     ]
    },
    {
     "name": "stderr",
     "output_type": "stream",
     "text": [
      "\r",
      " 53%|█████▎    | 8248/15625 [01:25<01:13, 100.58it/s]"
     ]
    },
    {
     "name": "stdout",
     "output_type": "stream",
     "text": [
      "1.0582013130187988\n",
      "0.9686868190765381\n",
      "1.0935564041137695\n",
      "1.0330815315246582\n",
      "1.0161049365997314\n",
      "1.0320658683776855\n",
      "1.0736558437347412\n",
      "1.0276644229888916\n",
      "1.0126019716262817\n",
      "1.0274001359939575\n",
      "0.9710423946380615\n",
      "1.0169761180877686\n",
      "0.9824056625366211\n",
      "0.9747494459152222\n",
      "1.0874558687210083\n",
      "1.0391550064086914\n",
      "1.035994529724121\n",
      "0.9904451370239258\n",
      "1.0074946880340576\n",
      "1.031777262687683\n",
      "1.0051462650299072\n"
     ]
    },
    {
     "name": "stderr",
     "output_type": "stream",
     "text": [
      " 53%|█████▎    | 8270/15625 [01:26<01:12, 101.94it/s]"
     ]
    },
    {
     "name": "stdout",
     "output_type": "stream",
     "text": [
      "1.02334725856781\n",
      "1.0502209663391113\n",
      "0.993499755859375\n",
      "1.041945457458496\n",
      "1.0543478727340698\n",
      "1.0370025634765625\n",
      "1.0290296077728271\n",
      "1.05810546875\n",
      "1.0386592149734497\n",
      "1.043034553527832\n",
      "0.9765914082527161\n",
      "1.0344257354736328\n",
      "1.0540070533752441\n",
      "0.965054988861084\n",
      "1.0045297145843506\n",
      "1.024757742881775\n",
      "1.0133463144302368\n",
      "1.0729221105575562\n",
      "1.0352411270141602\n",
      "1.0805368423461914\n",
      "1.0565643310546875\n"
     ]
    },
    {
     "name": "stderr",
     "output_type": "stream",
     "text": [
      " 53%|█████▎    | 8292/15625 [01:26<01:11, 102.41it/s]"
     ]
    },
    {
     "name": "stdout",
     "output_type": "stream",
     "text": [
      "0.9876582622528076\n",
      "1.073573350906372\n",
      "1.0625245571136475\n",
      "1.0494999885559082\n",
      "1.0124526023864746\n",
      "1.0043613910675049\n",
      "1.0361683368682861\n",
      "1.0173060894012451\n",
      "1.04384183883667\n",
      "0.9907138347625732\n",
      "1.0009433031082153\n",
      "1.0417064428329468\n",
      "1.0024336576461792\n",
      "1.1085797548294067\n",
      "1.018314003944397\n",
      "1.0254623889923096\n",
      "1.0379252433776855\n",
      "1.0128263235092163\n",
      "0.969529390335083\n",
      "1.0986402034759521\n",
      "1.0584295988082886\n"
     ]
    },
    {
     "name": "stderr",
     "output_type": "stream",
     "text": [
      " 53%|█████▎    | 8314/15625 [01:26<01:11, 102.37it/s]"
     ]
    },
    {
     "name": "stdout",
     "output_type": "stream",
     "text": [
      "1.051210641860962\n",
      "1.0170555114746094\n",
      "0.9829957485198975\n",
      "1.0247052907943726\n",
      "1.0055772066116333\n",
      "1.0410871505737305\n",
      "0.9982688426971436\n",
      "1.044021725654602\n",
      "0.9960465431213379\n",
      "1.015899896621704\n",
      "1.0375765562057495\n",
      "1.0220868587493896\n",
      "1.068295955657959\n",
      "1.0568463802337646\n",
      "1.0139899253845215\n",
      "0.9592682719230652\n",
      "1.0662415027618408\n",
      "1.0595766305923462\n",
      "1.0112384557724\n",
      "1.009016752243042\n",
      "1.064552664756775\n"
     ]
    },
    {
     "name": "stderr",
     "output_type": "stream",
     "text": [
      " 53%|█████▎    | 8336/15625 [01:26<01:10, 103.15it/s]"
     ]
    },
    {
     "name": "stdout",
     "output_type": "stream",
     "text": [
      "1.016050100326538\n",
      "1.074399709701538\n",
      "1.0609660148620605\n",
      "1.0203464031219482\n",
      "0.9705734848976135\n",
      "0.9854603409767151\n",
      "1.0691118240356445\n",
      "0.9675699472427368\n",
      "1.083201289176941\n",
      "1.0405755043029785\n",
      "1.0669856071472168\n",
      "1.0438475608825684\n",
      "1.0370550155639648\n",
      "1.007718801498413\n",
      "1.0048089027404785\n",
      "1.0148875713348389\n",
      "1.008552074432373\n",
      "1.0503535270690918\n",
      "0.9700330495834351\n",
      "0.991315484046936\n",
      "0.9998889565467834\n"
     ]
    },
    {
     "name": "stderr",
     "output_type": "stream",
     "text": [
      " 53%|█████▎    | 8358/15625 [01:26<01:10, 102.85it/s]"
     ]
    },
    {
     "name": "stdout",
     "output_type": "stream",
     "text": [
      "0.9995054006576538\n",
      "1.009831428527832\n",
      "1.01163911819458\n",
      "1.0203408002853394\n",
      "1.0238189697265625\n",
      "1.0526154041290283\n",
      "0.9984687566757202\n",
      "0.9886091947555542\n",
      "1.062039852142334\n",
      "1.0548655986785889\n",
      "1.0578960180282593\n",
      "1.059327483177185\n",
      "1.013152003288269\n",
      "0.9775491952896118\n",
      "1.0275291204452515\n",
      "0.9918142557144165\n",
      "0.945050835609436\n",
      "1.053789734840393\n",
      "0.9855830669403076\n",
      "1.0135871171951294\n",
      "1.0809005498886108\n"
     ]
    },
    {
     "name": "stderr",
     "output_type": "stream",
     "text": [
      " 54%|█████▎    | 8380/15625 [01:27<01:10, 103.08it/s]"
     ]
    },
    {
     "name": "stdout",
     "output_type": "stream",
     "text": [
      "1.033622145652771\n",
      "1.0367907285690308\n",
      "1.0087621212005615\n",
      "1.0023066997528076\n",
      "1.088573694229126\n",
      "0.9898343682289124\n",
      "1.0197696685791016\n",
      "1.0023000240325928\n",
      "1.0037758350372314\n",
      "1.0193614959716797\n",
      "1.014700174331665\n",
      "0.9826962947845459\n",
      "1.0742418766021729\n",
      "0.9924410581588745\n",
      "1.0063096284866333\n",
      "0.9874564409255981\n",
      "1.0359058380126953\n",
      "1.0079232454299927\n",
      "1.0345500707626343\n",
      "1.0194556713104248\n",
      "1.0077588558197021\n"
     ]
    },
    {
     "name": "stderr",
     "output_type": "stream",
     "text": [
      " 54%|█████▍    | 8402/15625 [01:27<01:09, 103.28it/s]"
     ]
    },
    {
     "name": "stdout",
     "output_type": "stream",
     "text": [
      "1.0290238857269287\n",
      "1.0350804328918457\n",
      "1.0447022914886475\n",
      "0.996127188205719\n",
      "1.0450482368469238\n",
      "1.0360360145568848\n",
      "1.042879581451416\n",
      "1.009170413017273\n",
      "1.0003492832183838\n",
      "1.033488154411316\n",
      "1.0072717666625977\n",
      "1.0565378665924072\n",
      "1.0666651725769043\n",
      "1.014209508895874\n",
      "1.036630392074585\n",
      "1.0273091793060303\n",
      "1.0102051496505737\n",
      "1.014721155166626\n",
      "1.0207524299621582\n",
      "1.064450740814209\n",
      "1.0638694763183594\n"
     ]
    },
    {
     "name": "stderr",
     "output_type": "stream",
     "text": [
      " 54%|█████▍    | 8424/15625 [01:27<01:09, 103.41it/s]"
     ]
    },
    {
     "name": "stdout",
     "output_type": "stream",
     "text": [
      "0.9221782684326172\n",
      "1.0001897811889648\n",
      "1.0310659408569336\n",
      "1.0111671686172485\n",
      "0.9967142343521118\n",
      "0.9591773152351379\n",
      "1.0077561140060425\n",
      "1.0511380434036255\n",
      "1.0383195877075195\n",
      "0.9712375998497009\n",
      "1.0637767314910889\n",
      "1.0134416818618774\n",
      "1.0409834384918213\n",
      "1.0325732231140137\n",
      "0.9857476949691772\n",
      "0.9698615074157715\n",
      "1.0398316383361816\n",
      "1.09733247756958\n",
      "1.0066359043121338\n",
      "1.0020225048065186\n",
      "1.0394295454025269\n"
     ]
    },
    {
     "name": "stderr",
     "output_type": "stream",
     "text": [
      " 54%|█████▍    | 8446/15625 [01:27<01:09, 103.03it/s]"
     ]
    },
    {
     "name": "stdout",
     "output_type": "stream",
     "text": [
      "1.0176620483398438\n",
      "1.0484249591827393\n",
      "1.0339808464050293\n",
      "1.0173012018203735\n",
      "0.9965802431106567\n",
      "0.976703405380249\n",
      "0.9629433155059814\n",
      "0.9588010311126709\n",
      "1.0247701406478882\n",
      "1.0697652101516724\n",
      "1.0344144105911255\n",
      "0.9892599582672119\n",
      "1.071012020111084\n",
      "1.0072648525238037\n",
      "0.9639921188354492\n",
      "1.0026729106903076\n",
      "1.0855495929718018\n",
      "1.042099952697754\n",
      "1.0033093690872192\n",
      "1.0238704681396484\n",
      "0.995988130569458\n"
     ]
    },
    {
     "name": "stderr",
     "output_type": "stream",
     "text": [
      " 54%|█████▍    | 8468/15625 [01:28<01:09, 102.89it/s]"
     ]
    },
    {
     "name": "stdout",
     "output_type": "stream",
     "text": [
      "0.9983692765235901\n",
      "1.0310567617416382\n",
      "1.0711045265197754\n",
      "1.0156129598617554\n",
      "0.9684714078903198\n",
      "1.0033783912658691\n",
      "0.9986686110496521\n",
      "1.0139658451080322\n",
      "1.0451688766479492\n",
      "1.0465383529663086\n",
      "1.019770622253418\n",
      "1.0319809913635254\n",
      "0.9999850988388062\n",
      "1.0212233066558838\n",
      "0.9879581332206726\n",
      "1.0412402153015137\n",
      "0.9906110763549805\n",
      "0.9930654764175415\n",
      "1.039616346359253\n",
      "0.9969537854194641\n",
      "1.057649850845337\n"
     ]
    },
    {
     "name": "stderr",
     "output_type": "stream",
     "text": [
      "\r",
      " 54%|█████▍    | 8479/15625 [01:28<01:09, 102.35it/s]"
     ]
    },
    {
     "name": "stdout",
     "output_type": "stream",
     "text": [
      "1.021119236946106\n",
      "1.0340349674224854\n",
      "1.025792121887207\n",
      "0.9610670804977417\n",
      "1.0407352447509766\n",
      "1.0413837432861328\n",
      "1.0433942079544067\n",
      "1.002676248550415\n",
      "1.054203748703003\n",
      "0.9761180877685547\n",
      "1.0383288860321045\n",
      "1.0476704835891724\n",
      "1.0141208171844482\n",
      "1.0430328845977783\n",
      "1.0437560081481934\n",
      "1.0096429586410522\n",
      "0.999150276184082\n",
      "0.9588907361030579\n",
      "1.0397560596466064\n",
      "1.0373692512512207\n",
      "1.068778395652771\n"
     ]
    },
    {
     "name": "stderr",
     "output_type": "stream",
     "text": [
      " 54%|█████▍    | 8501/15625 [01:28<01:09, 102.07it/s]"
     ]
    },
    {
     "name": "stdout",
     "output_type": "stream",
     "text": [
      "1.1203237771987915\n",
      "1.0537182092666626\n",
      "1.0003505945205688\n",
      "1.0341262817382812\n",
      "1.0224740505218506\n",
      "1.070135235786438\n",
      "0.9558178186416626\n",
      "0.9594889879226685\n",
      "1.0236799716949463\n",
      "1.0163452625274658\n",
      "0.9869270920753479\n",
      "0.9920857548713684\n",
      "1.0703879594802856\n",
      "0.9937600493431091\n",
      "1.0225398540496826\n",
      "1.029442310333252\n",
      "1.0105171203613281\n",
      "1.0188877582550049\n",
      "0.9960017204284668\n",
      "1.022886037826538\n",
      "0.9982568621635437\n"
     ]
    },
    {
     "name": "stderr",
     "output_type": "stream",
     "text": [
      " 55%|█████▍    | 8523/15625 [01:28<01:09, 102.35it/s]"
     ]
    },
    {
     "name": "stdout",
     "output_type": "stream",
     "text": [
      "0.9892479777336121\n",
      "0.9507123231887817\n",
      "0.9606560468673706\n",
      "1.0300260782241821\n",
      "1.0425009727478027\n",
      "0.9986110329627991\n",
      "1.0211410522460938\n",
      "0.9968901872634888\n",
      "1.0233564376831055\n",
      "1.0667247772216797\n",
      "1.010802984237671\n",
      "1.0522992610931396\n",
      "0.9662734270095825\n",
      "1.0147438049316406\n",
      "1.025047779083252\n",
      "1.0001600980758667\n",
      "1.0633478164672852\n",
      "1.0809175968170166\n",
      "1.0203676223754883\n",
      "0.9901110529899597\n",
      "1.0308483839035034\n"
     ]
    },
    {
     "name": "stderr",
     "output_type": "stream",
     "text": [
      " 55%|█████▍    | 8545/15625 [01:28<01:08, 102.98it/s]"
     ]
    },
    {
     "name": "stdout",
     "output_type": "stream",
     "text": [
      "1.017470121383667\n",
      "1.0462112426757812\n",
      "1.0188037157058716\n",
      "1.0231080055236816\n",
      "1.0093917846679688\n",
      "0.9974669218063354\n",
      "1.020604133605957\n",
      "1.0023945569992065\n",
      "1.0533092021942139\n",
      "1.0343477725982666\n",
      "1.0227781534194946\n",
      "1.015892744064331\n",
      "0.9375888109207153\n",
      "1.0416364669799805\n",
      "1.0266258716583252\n",
      "1.0447241067886353\n",
      "1.0371065139770508\n",
      "0.9939014911651611\n",
      "0.9904876947402954\n",
      "1.0186325311660767\n",
      "1.0482513904571533\n"
     ]
    },
    {
     "name": "stderr",
     "output_type": "stream",
     "text": [
      " 55%|█████▍    | 8567/15625 [01:28<01:08, 102.82it/s]"
     ]
    },
    {
     "name": "stdout",
     "output_type": "stream",
     "text": [
      "1.0260343551635742\n",
      "0.9943201541900635\n",
      "1.0503182411193848\n",
      "1.0456031560897827\n",
      "1.0458638668060303\n",
      "1.0401839017868042\n",
      "0.9813106656074524\n",
      "1.0190834999084473\n",
      "1.0119520425796509\n",
      "1.0183403491973877\n",
      "1.0123586654663086\n",
      "1.0264785289764404\n",
      "0.9819484949111938\n",
      "1.0232034921646118\n",
      "1.0565178394317627\n",
      "1.0263206958770752\n",
      "1.0014322996139526\n",
      "1.0367791652679443\n",
      "1.029625654220581\n",
      "0.9986857175827026\n",
      "1.0369691848754883\n"
     ]
    },
    {
     "name": "stderr",
     "output_type": "stream",
     "text": [
      " 55%|█████▍    | 8589/15625 [01:29<01:08, 102.25it/s]"
     ]
    },
    {
     "name": "stdout",
     "output_type": "stream",
     "text": [
      "0.9863259792327881\n",
      "1.0481114387512207\n",
      "0.9844269752502441\n",
      "1.0094459056854248\n",
      "0.9951798319816589\n",
      "0.9590522646903992\n",
      "1.0732440948486328\n",
      "1.0133042335510254\n",
      "1.0312708616256714\n",
      "1.0688419342041016\n",
      "1.0103485584259033\n",
      "1.045422911643982\n",
      "0.9824548363685608\n",
      "0.9864287972450256\n",
      "0.9973734617233276\n",
      "1.0276494026184082\n",
      "1.0454695224761963\n",
      "1.0136665105819702\n",
      "1.0647804737091064\n",
      "0.9926124811172485\n",
      "1.0420929193496704\n"
     ]
    },
    {
     "name": "stderr",
     "output_type": "stream",
     "text": [
      " 55%|█████▌    | 8611/15625 [01:29<01:09, 101.00it/s]"
     ]
    },
    {
     "name": "stdout",
     "output_type": "stream",
     "text": [
      "1.0155212879180908\n",
      "1.0013514757156372\n",
      "1.0346360206604004\n",
      "1.030001163482666\n",
      "1.0836119651794434\n",
      "1.0819876194000244\n",
      "0.9450898170471191\n",
      "1.022179365158081\n",
      "1.0553290843963623\n",
      "1.0289212465286255\n",
      "0.9874980449676514\n",
      "1.046043038368225\n",
      "0.9465172290802002\n",
      "1.0179524421691895\n",
      "0.9933661818504333\n",
      "1.0427221059799194\n",
      "1.039477825164795\n",
      "1.0598292350769043\n",
      "1.0134027004241943\n",
      "1.1261374950408936\n",
      "0.9782195091247559\n"
     ]
    },
    {
     "name": "stderr",
     "output_type": "stream",
     "text": [
      " 55%|█████▌    | 8633/15625 [01:29<01:08, 101.45it/s]"
     ]
    },
    {
     "name": "stdout",
     "output_type": "stream",
     "text": [
      "1.0604982376098633\n",
      "1.0697628259658813\n",
      "1.0244817733764648\n",
      "1.0019115209579468\n",
      "1.044957160949707\n",
      "1.0062044858932495\n",
      "1.0394718647003174\n",
      "1.1036393642425537\n",
      "1.0202953815460205\n",
      "1.0567911863327026\n",
      "1.008296251296997\n",
      "0.9489452838897705\n",
      "1.0274207592010498\n",
      "1.023231863975525\n",
      "0.9712077379226685\n",
      "1.0085065364837646\n",
      "1.0519849061965942\n",
      "1.0209202766418457\n",
      "0.9585778117179871\n",
      "0.9394797682762146\n",
      "1.0808013677597046\n"
     ]
    },
    {
     "name": "stderr",
     "output_type": "stream",
     "text": [
      " 55%|█████▌    | 8655/15625 [01:29<01:08, 101.51it/s]"
     ]
    },
    {
     "name": "stdout",
     "output_type": "stream",
     "text": [
      "1.0175411701202393\n",
      "1.040050745010376\n",
      "1.0140926837921143\n",
      "1.019927740097046\n",
      "0.9869546294212341\n",
      "0.998749852180481\n",
      "0.9884389638900757\n",
      "1.0210132598876953\n",
      "1.054732322692871\n",
      "1.0002789497375488\n",
      "1.0163793563842773\n",
      "1.020674705505371\n",
      "0.9888843297958374\n",
      "1.0160229206085205\n",
      "1.026506781578064\n",
      "1.0587196350097656\n",
      "1.0440244674682617\n",
      "1.0382373332977295\n",
      "1.0526175498962402\n",
      "1.0968589782714844\n",
      "1.0853605270385742\n"
     ]
    },
    {
     "name": "stderr",
     "output_type": "stream",
     "text": [
      " 56%|█████▌    | 8677/15625 [01:30<01:08, 102.11it/s]"
     ]
    },
    {
     "name": "stdout",
     "output_type": "stream",
     "text": [
      "0.9807973504066467\n",
      "1.0273165702819824\n",
      "1.0278737545013428\n",
      "0.9882425665855408\n",
      "1.1090517044067383\n",
      "1.0238533020019531\n",
      "0.9648481607437134\n",
      "1.080322504043579\n",
      "1.0764113664627075\n",
      "1.056067705154419\n",
      "0.9793475866317749\n",
      "0.9990584850311279\n",
      "1.0554207563400269\n",
      "1.0035268068313599\n",
      "1.0047270059585571\n",
      "0.9743549227714539\n",
      "1.0125133991241455\n",
      "1.0463498830795288\n",
      "0.9673478007316589\n",
      "1.0150266885757446\n",
      "1.020573616027832\n"
     ]
    },
    {
     "name": "stderr",
     "output_type": "stream",
     "text": [
      " 56%|█████▌    | 8699/15625 [01:30<01:07, 101.89it/s]"
     ]
    },
    {
     "name": "stdout",
     "output_type": "stream",
     "text": [
      "1.0152608156204224\n",
      "1.0245234966278076\n",
      "1.007749319076538\n",
      "0.9983776807785034\n",
      "1.0146548748016357\n",
      "1.0511014461517334\n",
      "1.0318543910980225\n",
      "1.051867961883545\n",
      "0.9901094436645508\n",
      "1.0868215560913086\n",
      "1.0239067077636719\n",
      "1.0717480182647705\n",
      "1.0339384078979492\n",
      "0.9491188526153564\n",
      "1.0450633764266968\n",
      "1.047883152961731\n",
      "1.0258362293243408\n",
      "1.071491003036499\n",
      "1.0424811840057373\n",
      "1.0240533351898193\n",
      "1.0345544815063477\n"
     ]
    },
    {
     "name": "stderr",
     "output_type": "stream",
     "text": [
      "\r",
      " 56%|█████▌    | 8710/15625 [01:30<01:08, 101.63it/s]"
     ]
    },
    {
     "name": "stdout",
     "output_type": "stream",
     "text": [
      "1.0239205360412598\n",
      "1.0691373348236084\n",
      "1.0510808229446411\n",
      "1.0006695985794067\n",
      "0.9869028329849243\n",
      "1.0016663074493408\n",
      "1.048689365386963\n",
      "1.0143132209777832\n",
      "1.0368558168411255\n",
      "1.1007379293441772\n",
      "0.9749437570571899\n",
      "1.017014741897583\n",
      "1.046055555343628\n",
      "1.0324617624282837\n",
      "1.036240816116333\n",
      "0.9610445499420166\n",
      "1.0029147863388062\n",
      "0.9913290739059448\n",
      "1.0556626319885254\n",
      "1.0406121015548706\n",
      "1.0105361938476562\n"
     ]
    },
    {
     "name": "stderr",
     "output_type": "stream",
     "text": [
      " 56%|█████▌    | 8732/15625 [01:30<01:07, 101.68it/s]"
     ]
    },
    {
     "name": "stdout",
     "output_type": "stream",
     "text": [
      "1.0658845901489258\n",
      "1.0756417512893677\n",
      "1.020290732383728\n",
      "1.0376759767532349\n",
      "1.0343377590179443\n",
      "1.0423486232757568\n",
      "1.0660851001739502\n",
      "0.9941000938415527\n",
      "1.0685266256332397\n",
      "1.003549575805664\n",
      "1.0121941566467285\n",
      "0.9696940779685974\n",
      "1.0104682445526123\n",
      "1.0056666135787964\n",
      "1.0616660118103027\n",
      "1.020970106124878\n",
      "1.0065951347351074\n",
      "0.9393945336341858\n",
      "1.0296781063079834\n",
      "1.0034737586975098\n",
      "1.0339586734771729\n"
     ]
    },
    {
     "name": "stderr",
     "output_type": "stream",
     "text": [
      " 56%|█████▌    | 8754/15625 [01:30<01:07, 101.51it/s]"
     ]
    },
    {
     "name": "stdout",
     "output_type": "stream",
     "text": [
      "1.023113489151001\n",
      "0.9871101379394531\n",
      "1.0490143299102783\n",
      "1.0834628343582153\n",
      "1.030218482017517\n",
      "0.9995326995849609\n",
      "1.0078885555267334\n",
      "1.000547170639038\n",
      "1.0397191047668457\n",
      "1.0522669553756714\n",
      "1.0215036869049072\n",
      "1.103971242904663\n",
      "1.0168225765228271\n",
      "0.9923479557037354\n",
      "0.9768600463867188\n",
      "1.0890474319458008\n",
      "1.026404619216919\n",
      "1.0029346942901611\n",
      "1.0442602634429932\n",
      "1.0299408435821533\n",
      "1.0018861293792725\n"
     ]
    },
    {
     "name": "stderr",
     "output_type": "stream",
     "text": [
      " 56%|█████▌    | 8776/15625 [01:31<01:07, 101.89it/s]"
     ]
    },
    {
     "name": "stdout",
     "output_type": "stream",
     "text": [
      "1.0001554489135742\n",
      "1.033644437789917\n",
      "1.040906548500061\n",
      "0.9976141452789307\n",
      "1.0353052616119385\n",
      "1.0361069440841675\n",
      "1.032637357711792\n",
      "1.02345609664917\n",
      "0.9779595136642456\n",
      "1.0167322158813477\n",
      "1.0154114961624146\n",
      "0.9700542688369751\n",
      "1.0328748226165771\n",
      "1.03244149684906\n",
      "1.0204076766967773\n",
      "0.9826474785804749\n",
      "1.0559673309326172\n",
      "0.9786991477012634\n",
      "0.9970266222953796\n",
      "1.0762286186218262\n",
      "1.000715970993042\n"
     ]
    },
    {
     "name": "stderr",
     "output_type": "stream",
     "text": [
      " 56%|█████▋    | 8798/15625 [01:31<01:06, 102.42it/s]"
     ]
    },
    {
     "name": "stdout",
     "output_type": "stream",
     "text": [
      "1.044002652168274\n",
      "1.021756887435913\n",
      "1.0438711643218994\n",
      "1.0006582736968994\n",
      "1.0545860528945923\n",
      "0.9709275960922241\n",
      "0.9835768342018127\n",
      "1.0357975959777832\n",
      "1.0559585094451904\n",
      "1.0140268802642822\n",
      "1.0012876987457275\n",
      "1.0515109300613403\n",
      "1.0533398389816284\n",
      "0.9903126955032349\n",
      "1.0502328872680664\n",
      "1.004595160484314\n",
      "1.0051078796386719\n",
      "0.9906028509140015\n",
      "1.0693289041519165\n",
      "0.9977473020553589\n",
      "1.0058513879776\n"
     ]
    },
    {
     "name": "stderr",
     "output_type": "stream",
     "text": [
      " 56%|█████▋    | 8820/15625 [01:31<01:06, 102.88it/s]"
     ]
    },
    {
     "name": "stdout",
     "output_type": "stream",
     "text": [
      "1.0040175914764404\n",
      "1.0471608638763428\n",
      "1.0012913942337036\n",
      "0.9817548990249634\n",
      "1.0275318622589111\n",
      "1.0485577583312988\n",
      "1.0086153745651245\n",
      "1.0642600059509277\n",
      "1.0403201580047607\n",
      "1.022298812866211\n",
      "0.9711257219314575\n",
      "1.0152524709701538\n",
      "1.046207070350647\n",
      "1.0405778884887695\n",
      "1.0470242500305176\n",
      "1.0141191482543945\n",
      "1.0133475065231323\n",
      "1.073418140411377\n",
      "1.0284385681152344\n",
      "1.056386947631836\n",
      "1.0443158149719238\n"
     ]
    },
    {
     "name": "stderr",
     "output_type": "stream",
     "text": [
      " 57%|█████▋    | 8842/15625 [01:31<01:05, 103.35it/s]"
     ]
    },
    {
     "name": "stdout",
     "output_type": "stream",
     "text": [
      "1.0276737213134766\n",
      "0.9714914560317993\n",
      "1.0391817092895508\n",
      "0.9899768829345703\n",
      "0.9438449740409851\n",
      "1.0067716836929321\n",
      "1.0529625415802002\n",
      "1.0452995300292969\n",
      "0.9926177263259888\n",
      "1.0413932800292969\n",
      "0.9880999326705933\n",
      "1.0534720420837402\n",
      "1.0489659309387207\n",
      "0.9677912592887878\n",
      "1.022634744644165\n",
      "1.0306769609451294\n",
      "1.097322702407837\n",
      "1.0255560874938965\n",
      "1.0294063091278076\n",
      "0.9874963760375977\n",
      "1.0042119026184082\n"
     ]
    },
    {
     "name": "stderr",
     "output_type": "stream",
     "text": [
      " 57%|█████▋    | 8864/15625 [01:31<01:05, 103.07it/s]"
     ]
    },
    {
     "name": "stdout",
     "output_type": "stream",
     "text": [
      "1.0511401891708374\n",
      "0.9981374740600586\n",
      "1.0131452083587646\n",
      "0.9877727031707764\n",
      "1.0529721975326538\n",
      "1.0184245109558105\n",
      "1.040367603302002\n",
      "1.048740267753601\n",
      "0.995766282081604\n",
      "1.0243544578552246\n",
      "0.9886175394058228\n",
      "1.0279812812805176\n",
      "0.9976029992103577\n",
      "1.0345547199249268\n",
      "0.9685971736907959\n",
      "0.9921954274177551\n",
      "1.0423012971878052\n",
      "1.050163984298706\n",
      "0.952526330947876\n",
      "1.0174767971038818\n",
      "1.0752923488616943\n"
     ]
    },
    {
     "name": "stderr",
     "output_type": "stream",
     "text": [
      "\r",
      " 57%|█████▋    | 8875/15625 [01:32<01:05, 102.83it/s]"
     ]
    },
    {
     "name": "stdout",
     "output_type": "stream",
     "text": [
      "1.0455482006072998\n",
      "1.0391895771026611\n",
      "0.9642004370689392\n",
      "1.0443755388259888\n",
      "1.0282845497131348\n",
      "1.0155361890792847\n",
      "0.975488007068634\n",
      "0.977757453918457\n",
      "1.0705578327178955\n",
      "1.036327600479126\n",
      "1.0081273317337036\n",
      "1.004891276359558\n",
      "1.0051517486572266\n",
      "1.1068456172943115\n",
      "0.9693818688392639\n",
      "1.0344271659851074\n",
      "1.0761773586273193\n",
      "1.0476665496826172\n",
      "1.0720609426498413\n"
     ]
    },
    {
     "name": "stderr",
     "output_type": "stream",
     "text": [
      " 57%|█████▋    | 8896/15625 [01:32<01:15, 89.37it/s] "
     ]
    },
    {
     "name": "stdout",
     "output_type": "stream",
     "text": [
      "1.047121524810791\n",
      "1.0266311168670654\n",
      "0.993705153465271\n",
      "1.020214557647705\n",
      "1.0566301345825195\n",
      "1.0255937576293945\n",
      "1.0124844312667847\n",
      "1.0671675205230713\n",
      "1.0234770774841309\n",
      "0.9901032447814941\n",
      "1.0731168985366821\n",
      "1.0168533325195312\n",
      "0.9794617295265198\n",
      "1.0619696378707886\n",
      "0.9950124025344849\n",
      "1.0481586456298828\n",
      "1.0869691371917725\n",
      "1.0104519128799438\n"
     ]
    },
    {
     "name": "stderr",
     "output_type": "stream",
     "text": [
      " 57%|█████▋    | 8917/15625 [01:32<01:10, 95.23it/s]"
     ]
    },
    {
     "name": "stdout",
     "output_type": "stream",
     "text": [
      "1.0001418590545654\n",
      "0.9741480350494385\n",
      "0.9759707450866699\n",
      "1.0176498889923096\n",
      "1.03999662399292\n",
      "0.9829205274581909\n",
      "1.039557933807373\n",
      "0.9464409351348877\n",
      "1.073747158050537\n",
      "1.0351654291152954\n",
      "1.0844477415084839\n",
      "1.0646791458129883\n",
      "0.978967547416687\n",
      "1.0224978923797607\n",
      "1.025511622428894\n",
      "1.0548784732818604\n",
      "1.0754075050354004\n",
      "1.0215470790863037\n",
      "1.0048296451568604\n",
      "1.0461208820343018\n",
      "1.0714294910430908\n",
      "1.1200613975524902\n"
     ]
    },
    {
     "name": "stderr",
     "output_type": "stream",
     "text": [
      " 57%|█████▋    | 8939/15625 [01:32<01:06, 99.98it/s]"
     ]
    },
    {
     "name": "stdout",
     "output_type": "stream",
     "text": [
      "1.0265119075775146\n",
      "1.0323662757873535\n",
      "1.1020169258117676\n",
      "1.041483759880066\n",
      "1.0142391920089722\n",
      "1.043482780456543\n",
      "0.9942534565925598\n",
      "0.937619686126709\n",
      "1.0689518451690674\n",
      "1.0070916414260864\n",
      "1.017212152481079\n",
      "0.9944807291030884\n",
      "1.076066017150879\n",
      "0.9972809553146362\n",
      "1.033488154411316\n",
      "1.0429129600524902\n",
      "1.0182151794433594\n",
      "0.9946948289871216\n",
      "1.0872944593429565\n",
      "1.005570888519287\n",
      "1.0409748554229736\n",
      "0.9876682758331299\n"
     ]
    },
    {
     "name": "stderr",
     "output_type": "stream",
     "text": [
      " 57%|█████▋    | 8961/15625 [01:32<01:05, 102.48it/s]"
     ]
    },
    {
     "name": "stdout",
     "output_type": "stream",
     "text": [
      "1.0443682670593262\n",
      "1.0265791416168213\n",
      "1.0531549453735352\n",
      "0.9970674514770508\n",
      "1.0046076774597168\n",
      "1.0575106143951416\n",
      "0.972250759601593\n",
      "0.9999849796295166\n",
      "1.039059042930603\n",
      "1.0204905271530151\n",
      "1.0387437343597412\n",
      "1.039804458618164\n",
      "1.014753818511963\n",
      "0.9953351020812988\n",
      "0.9914294481277466\n",
      "1.0959019660949707\n",
      "1.017441987991333\n",
      "1.0504590272903442\n",
      "1.0610696077346802\n",
      "1.0147075653076172\n",
      "1.0782344341278076\n",
      "1.0271100997924805\n"
     ]
    },
    {
     "name": "stderr",
     "output_type": "stream",
     "text": [
      " 57%|█████▋    | 8983/15625 [01:33<01:04, 103.26it/s]"
     ]
    },
    {
     "name": "stdout",
     "output_type": "stream",
     "text": [
      "1.0581462383270264\n",
      "1.0264596939086914\n",
      "1.0674386024475098\n",
      "1.0217983722686768\n",
      "0.9800268411636353\n",
      "1.0364954471588135\n",
      "0.9854040145874023\n",
      "1.0489733219146729\n",
      "1.0599037408828735\n",
      "1.0392887592315674\n",
      "0.9400704503059387\n",
      "0.9904616475105286\n",
      "1.0831401348114014\n",
      "1.0805221796035767\n",
      "1.0606844425201416\n",
      "1.0150227546691895\n",
      "1.0490450859069824\n",
      "1.0247325897216797\n",
      "1.0005772113800049\n",
      "1.0195035934448242\n",
      "0.981885552406311\n"
     ]
    },
    {
     "name": "stderr",
     "output_type": "stream",
     "text": [
      " 58%|█████▊    | 9005/15625 [01:33<01:03, 103.91it/s]"
     ]
    },
    {
     "name": "stdout",
     "output_type": "stream",
     "text": [
      "1.017162799835205\n",
      "1.0473320484161377\n",
      "1.0147769451141357\n",
      "0.9974380731582642\n",
      "1.0630614757537842\n",
      "0.956183671951294\n",
      "1.0083552598953247\n",
      "1.022944688796997\n",
      "1.0550251007080078\n",
      "1.0247507095336914\n",
      "0.9809222221374512\n",
      "1.0641852617263794\n",
      "1.0702680349349976\n",
      "0.984154224395752\n",
      "1.0273727178573608\n",
      "1.1096162796020508\n",
      "0.9986208081245422\n",
      "1.0228177309036255\n",
      "1.0694940090179443\n",
      "0.9890583753585815\n",
      "0.9981006383895874\n"
     ]
    },
    {
     "name": "stderr",
     "output_type": "stream",
     "text": [
      " 58%|█████▊    | 9026/15625 [01:33<01:08, 96.55it/s] "
     ]
    },
    {
     "name": "stdout",
     "output_type": "stream",
     "text": [
      "1.0024096965789795\n",
      "1.0032284259796143\n",
      "1.0694689750671387\n",
      "1.0448428392410278\n",
      "1.0467529296875\n",
      "1.0101802349090576\n",
      "0.9954562187194824\n",
      "1.0142507553100586\n",
      "1.0665009021759033\n",
      "1.0002866983413696\n",
      "1.0708351135253906\n",
      "1.021007776260376\n",
      "1.0299890041351318\n",
      "0.9978915452957153\n",
      "0.9993696212768555\n",
      "1.0407994985580444\n",
      "1.063503623008728\n",
      "1.0502803325653076\n"
     ]
    },
    {
     "name": "stderr",
     "output_type": "stream",
     "text": [
      " 58%|█████▊    | 9048/15625 [01:33<01:05, 99.66it/s]"
     ]
    },
    {
     "name": "stdout",
     "output_type": "stream",
     "text": [
      "1.0286924839019775\n",
      "1.0032800436019897\n",
      "1.003333330154419\n",
      "1.0210094451904297\n",
      "1.0540655851364136\n",
      "1.0352715253829956\n",
      "0.9629295468330383\n",
      "0.9948246479034424\n",
      "1.0621484518051147\n",
      "1.0072767734527588\n",
      "0.9868903756141663\n",
      "1.0278455018997192\n",
      "1.024147868156433\n",
      "1.002516746520996\n",
      "1.0488667488098145\n",
      "0.9914875626564026\n",
      "1.0785925388336182\n",
      "1.051390528678894\n",
      "1.0572233200073242\n",
      "0.9853427410125732\n",
      "1.0373573303222656\n"
     ]
    },
    {
     "name": "stderr",
     "output_type": "stream",
     "text": [
      " 58%|█████▊    | 9070/15625 [01:33<01:04, 100.86it/s]"
     ]
    },
    {
     "name": "stdout",
     "output_type": "stream",
     "text": [
      "1.0171624422073364\n",
      "1.037514090538025\n",
      "1.0027375221252441\n",
      "0.9884318113327026\n",
      "1.0147476196289062\n",
      "1.0298173427581787\n",
      "0.9944196343421936\n",
      "1.0093272924423218\n",
      "1.0654901266098022\n",
      "1.0653321743011475\n",
      "1.0153053998947144\n",
      "1.0843286514282227\n",
      "1.0993895530700684\n",
      "1.0410051345825195\n",
      "1.0178236961364746\n",
      "1.0429236888885498\n",
      "1.0305192470550537\n",
      "1.0245530605316162\n",
      "1.031564712524414\n",
      "1.0565612316131592\n",
      "0.9901423454284668\n"
     ]
    },
    {
     "name": "stderr",
     "output_type": "stream",
     "text": [
      " 58%|█████▊    | 9092/15625 [01:34<01:04, 101.22it/s]"
     ]
    },
    {
     "name": "stdout",
     "output_type": "stream",
     "text": [
      "1.0590311288833618\n",
      "1.0592706203460693\n",
      "1.005876064300537\n",
      "1.02082359790802\n",
      "0.9893201589584351\n",
      "1.0312504768371582\n",
      "1.037045955657959\n",
      "0.9844570159912109\n",
      "1.0370603799819946\n",
      "1.0763249397277832\n",
      "1.0137187242507935\n",
      "0.9747294187545776\n",
      "0.9995229244232178\n",
      "0.9821761846542358\n",
      "1.051830768585205\n",
      "1.0770736932754517\n",
      "1.0111207962036133\n",
      "0.9925193190574646\n",
      "1.029253363609314\n",
      "1.0601038932800293\n",
      "1.0589241981506348\n"
     ]
    },
    {
     "name": "stderr",
     "output_type": "stream",
     "text": [
      " 58%|█████▊    | 9114/15625 [01:34<01:04, 101.15it/s]"
     ]
    },
    {
     "name": "stdout",
     "output_type": "stream",
     "text": [
      "1.0232746601104736\n",
      "1.0134942531585693\n",
      "1.0482323169708252\n",
      "1.0554957389831543\n",
      "1.013948678970337\n",
      "1.072746992111206\n",
      "1.030519962310791\n",
      "0.9753786325454712\n",
      "0.9853808283805847\n",
      "1.0326365232467651\n",
      "1.0534523725509644\n",
      "0.9805853962898254\n",
      "1.0107554197311401\n",
      "0.9956703186035156\n",
      "1.0817410945892334\n",
      "1.0508657693862915\n",
      "1.103978157043457\n",
      "1.0066624879837036\n",
      "0.9388753771781921\n",
      "0.9850314259529114\n",
      "1.0064876079559326\n"
     ]
    },
    {
     "name": "stderr",
     "output_type": "stream",
     "text": [
      "\r",
      " 58%|█████▊    | 9125/15625 [01:34<01:04, 101.54it/s]"
     ]
    },
    {
     "name": "stdout",
     "output_type": "stream",
     "text": [
      "1.0666086673736572\n",
      "1.0294318199157715\n",
      "1.0003421306610107\n",
      "1.020558476448059\n",
      "1.047192096710205\n",
      "1.0372244119644165\n",
      "0.9835019111633301\n",
      "1.028085708618164\n",
      "0.9890508651733398\n",
      "0.9851961731910706\n",
      "1.0005192756652832\n",
      "1.025658130645752\n",
      "0.9924295544624329\n",
      "1.0014824867248535\n",
      "0.9788099527359009\n",
      "1.0318708419799805\n",
      "1.0218920707702637\n",
      "1.058914303779602\n",
      "1.021409034729004\n",
      "0.9812668561935425\n",
      "1.0104358196258545\n"
     ]
    },
    {
     "name": "stderr",
     "output_type": "stream",
     "text": [
      " 59%|█████▊    | 9147/15625 [01:34<01:03, 102.21it/s]"
     ]
    },
    {
     "name": "stdout",
     "output_type": "stream",
     "text": [
      "1.041448950767517\n",
      "0.9878952503204346\n",
      "1.0052461624145508\n",
      "1.0349006652832031\n",
      "1.026226282119751\n",
      "1.043317437171936\n",
      "0.9896328449249268\n",
      "1.0600254535675049\n",
      "0.9844827651977539\n",
      "1.0272529125213623\n",
      "0.9818730354309082\n",
      "0.9903289675712585\n",
      "0.9718367457389832\n",
      "1.0546455383300781\n",
      "1.0507711172103882\n",
      "0.9259107112884521\n",
      "1.0152308940887451\n",
      "1.0839195251464844\n",
      "1.0129903554916382\n",
      "1.0488576889038086\n",
      "1.0473742485046387\n"
     ]
    },
    {
     "name": "stderr",
     "output_type": "stream",
     "text": [
      " 59%|█████▊    | 9169/15625 [01:34<01:02, 102.76it/s]"
     ]
    },
    {
     "name": "stdout",
     "output_type": "stream",
     "text": [
      "1.0282721519470215\n",
      "1.026757001876831\n",
      "1.0453804731369019\n",
      "0.9966380000114441\n",
      "1.038480520248413\n",
      "1.0519181489944458\n",
      "0.9865410327911377\n",
      "0.9956530928611755\n",
      "1.0081822872161865\n",
      "1.0360978841781616\n",
      "0.9630424976348877\n",
      "1.0938868522644043\n",
      "1.0300261974334717\n",
      "1.0212302207946777\n",
      "1.0106335878372192\n",
      "1.019784688949585\n",
      "1.032435417175293\n",
      "1.070060133934021\n",
      "1.0267887115478516\n",
      "1.0307167768478394\n",
      "1.0067713260650635\n"
     ]
    },
    {
     "name": "stderr",
     "output_type": "stream",
     "text": [
      " 59%|█████▉    | 9191/15625 [01:35<01:02, 102.63it/s]"
     ]
    },
    {
     "name": "stdout",
     "output_type": "stream",
     "text": [
      "1.0464470386505127\n",
      "0.9991363286972046\n",
      "1.0232659578323364\n",
      "1.0143835544586182\n",
      "1.1414034366607666\n",
      "1.011960744857788\n",
      "0.988118588924408\n",
      "1.0387663841247559\n",
      "1.0440860986709595\n",
      "1.0075342655181885\n",
      "0.9978699684143066\n",
      "1.0410170555114746\n",
      "1.0362979173660278\n",
      "1.0390938520431519\n",
      "1.0527217388153076\n",
      "0.9898437261581421\n",
      "0.975770115852356\n",
      "1.0539984703063965\n",
      "1.0133750438690186\n",
      "1.0148175954818726\n",
      "1.042435646057129\n"
     ]
    },
    {
     "name": "stderr",
     "output_type": "stream",
     "text": [
      " 59%|█████▉    | 9213/15625 [01:35<01:02, 102.21it/s]"
     ]
    },
    {
     "name": "stdout",
     "output_type": "stream",
     "text": [
      "1.051557183265686\n",
      "0.9783051609992981\n",
      "1.001401424407959\n",
      "1.0220255851745605\n",
      "0.9865289926528931\n",
      "1.0203653573989868\n",
      "1.0304625034332275\n",
      "1.0273616313934326\n",
      "0.9505150318145752\n",
      "0.9579041004180908\n",
      "1.0233941078186035\n",
      "0.9859087467193604\n",
      "1.057854413986206\n",
      "0.9551331996917725\n",
      "1.0716243982315063\n",
      "0.9979040026664734\n",
      "1.031544804573059\n",
      "1.0772507190704346\n",
      "1.0163257122039795\n",
      "1.0234624147415161\n",
      "0.9848855137825012\n"
     ]
    },
    {
     "name": "stderr",
     "output_type": "stream",
     "text": [
      " 59%|█████▉    | 9235/15625 [01:35<01:02, 101.99it/s]"
     ]
    },
    {
     "name": "stdout",
     "output_type": "stream",
     "text": [
      "0.9591553211212158\n",
      "1.0476391315460205\n",
      "1.0144120454788208\n",
      "1.0316773653030396\n",
      "1.049342155456543\n",
      "1.0330989360809326\n",
      "0.973745584487915\n",
      "0.9768973588943481\n",
      "1.0313801765441895\n",
      "1.0682275295257568\n",
      "1.0431580543518066\n",
      "1.0229170322418213\n",
      "1.0620416402816772\n",
      "0.9811506271362305\n",
      "1.0007543563842773\n",
      "1.0114773511886597\n",
      "1.0563406944274902\n",
      "1.0182745456695557\n",
      "1.0286099910736084\n",
      "1.012494444847107\n",
      "0.9831032752990723\n"
     ]
    },
    {
     "name": "stderr",
     "output_type": "stream",
     "text": [
      " 59%|█████▉    | 9257/15625 [01:35<01:01, 102.77it/s]"
     ]
    },
    {
     "name": "stdout",
     "output_type": "stream",
     "text": [
      "0.9908124208450317\n",
      "0.942333459854126\n",
      "1.0808556079864502\n",
      "1.043892502784729\n",
      "1.014723539352417\n",
      "1.0481969118118286\n",
      "1.06661057472229\n",
      "0.9751284718513489\n",
      "1.0099682807922363\n",
      "1.0536060333251953\n",
      "1.072389841079712\n",
      "1.0729538202285767\n",
      "1.0185261964797974\n",
      "1.0165177583694458\n",
      "1.0286812782287598\n",
      "1.006995439529419\n",
      "1.0563373565673828\n",
      "1.0475413799285889\n",
      "1.0644229650497437\n",
      "1.0317714214324951\n",
      "1.0193238258361816\n",
      "0.9925907850265503\n"
     ]
    },
    {
     "name": "stderr",
     "output_type": "stream",
     "text": [
      " 59%|█████▉    | 9279/15625 [01:36<01:01, 103.47it/s]"
     ]
    },
    {
     "name": "stdout",
     "output_type": "stream",
     "text": [
      "1.0022153854370117\n",
      "1.0356616973876953\n",
      "0.9371923208236694\n",
      "1.012707233428955\n",
      "1.0751703977584839\n",
      "1.0732553005218506\n",
      "1.0250294208526611\n",
      "1.0060606002807617\n",
      "0.9808348417282104\n",
      "1.0352890491485596\n",
      "1.0814369916915894\n",
      "0.9555699825286865\n",
      "0.9749112129211426\n",
      "1.0314809083938599\n",
      "1.020933985710144\n",
      "1.0348222255706787\n",
      "1.0090221166610718\n",
      "1.048219919204712\n",
      "1.0589523315429688\n",
      "1.0010391473770142\n",
      "1.033589243888855\n"
     ]
    },
    {
     "name": "stderr",
     "output_type": "stream",
     "text": [
      " 60%|█████▉    | 9301/15625 [01:36<01:01, 103.11it/s]"
     ]
    },
    {
     "name": "stdout",
     "output_type": "stream",
     "text": [
      "0.9492438435554504\n",
      "0.9995696544647217\n",
      "1.006821632385254\n",
      "0.98390793800354\n",
      "0.9753686189651489\n",
      "1.0443394184112549\n",
      "0.9705750346183777\n",
      "1.049773931503296\n",
      "1.0230172872543335\n",
      "1.0079565048217773\n",
      "0.9902082681655884\n",
      "0.9699678421020508\n",
      "0.9929684400558472\n",
      "1.0538840293884277\n",
      "1.0971709489822388\n",
      "1.0687899589538574\n",
      "1.0607936382293701\n",
      "1.041727066040039\n",
      "0.9701071381568909\n",
      "0.9956885576248169\n",
      "1.0677317380905151\n"
     ]
    },
    {
     "name": "stderr",
     "output_type": "stream",
     "text": [
      " 60%|█████▉    | 9323/15625 [01:36<01:01, 102.94it/s]"
     ]
    },
    {
     "name": "stdout",
     "output_type": "stream",
     "text": [
      "1.020082712173462\n",
      "0.98511803150177\n",
      "1.0660462379455566\n",
      "1.0064902305603027\n",
      "1.0198633670806885\n",
      "0.9825665950775146\n",
      "1.029546856880188\n",
      "1.0092666149139404\n",
      "0.9989293217658997\n",
      "1.0277047157287598\n",
      "1.0153555870056152\n",
      "0.9449416399002075\n",
      "1.0016076564788818\n",
      "1.0209351778030396\n",
      "1.0089738368988037\n",
      "1.04777193069458\n",
      "0.9885446429252625\n",
      "1.055741548538208\n",
      "1.1087899208068848\n",
      "1.0211029052734375\n",
      "1.06789231300354\n"
     ]
    },
    {
     "name": "stderr",
     "output_type": "stream",
     "text": [
      " 60%|█████▉    | 9345/15625 [01:36<01:01, 102.66it/s]"
     ]
    },
    {
     "name": "stdout",
     "output_type": "stream",
     "text": [
      "1.003816843032837\n",
      "0.9950680732727051\n",
      "0.9582245349884033\n",
      "1.0912201404571533\n",
      "1.0391364097595215\n",
      "1.0763821601867676\n",
      "1.0351121425628662\n",
      "0.9950589537620544\n",
      "1.0393058061599731\n",
      "0.9691929221153259\n",
      "1.0024311542510986\n",
      "0.979243278503418\n",
      "0.9900926351547241\n",
      "0.9898805022239685\n",
      "1.0427042245864868\n",
      "0.9475632905960083\n",
      "1.0556631088256836\n",
      "1.0329132080078125\n",
      "1.012535810470581\n",
      "1.018322229385376\n",
      "1.0327852964401245\n"
     ]
    },
    {
     "name": "stderr",
     "output_type": "stream",
     "text": [
      " 60%|█████▉    | 9367/15625 [01:36<01:00, 103.06it/s]"
     ]
    },
    {
     "name": "stdout",
     "output_type": "stream",
     "text": [
      "1.0099363327026367\n",
      "0.9877464771270752\n",
      "0.9479498863220215\n",
      "1.018109917640686\n",
      "1.0226707458496094\n",
      "0.990397036075592\n",
      "0.9623427391052246\n",
      "0.9658163785934448\n",
      "1.0790588855743408\n",
      "0.9783006906509399\n",
      "0.9690876603126526\n",
      "1.0842869281768799\n",
      "1.0241150856018066\n",
      "1.0170495510101318\n",
      "1.0230138301849365\n",
      "0.9652227163314819\n",
      "1.0077240467071533\n",
      "1.0286705493927002\n",
      "1.014634609222412\n",
      "1.0347973108291626\n",
      "1.0060759782791138\n"
     ]
    },
    {
     "name": "stderr",
     "output_type": "stream",
     "text": [
      "\r",
      " 60%|██████    | 9378/15625 [01:36<01:00, 103.03it/s]"
     ]
    },
    {
     "name": "stdout",
     "output_type": "stream",
     "text": [
      "1.0345622301101685\n",
      "1.0648539066314697\n",
      "1.0289607048034668\n",
      "1.039534568786621\n",
      "1.0378694534301758\n",
      "1.0060549974441528\n",
      "1.0275671482086182\n",
      "1.0629736185073853\n",
      "1.0077669620513916\n",
      "0.995189905166626\n",
      "1.0758980512619019\n",
      "0.9703975319862366\n",
      "0.9862973093986511\n",
      "1.0816564559936523\n",
      "1.0897572040557861\n",
      "1.015084147453308\n",
      "1.0482604503631592\n",
      "1.0246052742004395\n",
      "1.0277336835861206\n",
      "0.9543375968933105\n",
      "0.9819102883338928\n"
     ]
    },
    {
     "name": "stderr",
     "output_type": "stream",
     "text": [
      " 60%|██████    | 9400/15625 [01:37<01:00, 102.33it/s]"
     ]
    },
    {
     "name": "stdout",
     "output_type": "stream",
     "text": [
      "1.0022772550582886\n",
      "1.02939772605896\n",
      "1.0249316692352295\n",
      "0.9505016803741455\n",
      "1.0429519414901733\n",
      "1.0308758020401\n",
      "0.9971526861190796\n",
      "1.0271995067596436\n",
      "0.9616538286209106\n",
      "1.0080403089523315\n",
      "0.9709106087684631\n",
      "1.0688248872756958\n",
      "1.0147595405578613\n",
      "1.0465232133865356\n",
      "0.9655420184135437\n",
      "1.0079586505889893\n",
      "0.9809192419052124\n",
      "0.9914287328720093\n",
      "1.0150786638259888\n",
      "1.0070527791976929\n",
      "1.0330126285552979\n"
     ]
    },
    {
     "name": "stderr",
     "output_type": "stream",
     "text": [
      " 60%|██████    | 9422/15625 [01:37<01:00, 101.90it/s]"
     ]
    },
    {
     "name": "stdout",
     "output_type": "stream",
     "text": [
      "1.0996509790420532\n",
      "1.0600968599319458\n",
      "0.9897185564041138\n",
      "1.0336978435516357\n",
      "1.0228066444396973\n",
      "0.9969769716262817\n",
      "1.0344364643096924\n",
      "1.055297613143921\n",
      "0.9940297603607178\n",
      "1.0511858463287354\n",
      "0.996423602104187\n",
      "1.0552345514297485\n",
      "1.0256949663162231\n",
      "0.9926109910011292\n",
      "0.9842177629470825\n",
      "1.0370721817016602\n",
      "0.9879270792007446\n",
      "1.0154473781585693\n",
      "1.1044414043426514\n",
      "0.9931819438934326\n",
      "0.9902366995811462\n"
     ]
    },
    {
     "name": "stderr",
     "output_type": "stream",
     "text": [
      " 60%|██████    | 9444/15625 [01:37<01:00, 101.73it/s]"
     ]
    },
    {
     "name": "stdout",
     "output_type": "stream",
     "text": [
      "1.0734844207763672\n",
      "1.0368006229400635\n",
      "1.0484529733657837\n",
      "1.0123859643936157\n",
      "1.0402799844741821\n",
      "1.0630521774291992\n",
      "1.0410387516021729\n",
      "1.0521750450134277\n",
      "0.9982911944389343\n",
      "1.054523229598999\n",
      "1.0632951259613037\n",
      "0.9905850291252136\n",
      "1.0270262956619263\n",
      "1.0077036619186401\n",
      "1.04409921169281\n",
      "1.0255893468856812\n",
      "1.034523606300354\n",
      "0.9971567392349243\n",
      "0.9927622675895691\n",
      "1.0596027374267578\n",
      "1.0009105205535889\n"
     ]
    },
    {
     "name": "stderr",
     "output_type": "stream",
     "text": [
      " 61%|██████    | 9466/15625 [01:37<01:00, 101.55it/s]"
     ]
    },
    {
     "name": "stdout",
     "output_type": "stream",
     "text": [
      "1.0647587776184082\n",
      "1.0234507322311401\n",
      "1.036974549293518\n",
      "1.0517677068710327\n",
      "1.007474422454834\n",
      "1.0340228080749512\n",
      "1.0686886310577393\n",
      "0.9728450179100037\n",
      "0.9653832912445068\n",
      "0.992010235786438\n",
      "0.9697200059890747\n",
      "1.0478827953338623\n",
      "1.087838888168335\n",
      "0.9707320928573608\n",
      "1.052062749862671\n",
      "0.989937424659729\n",
      "1.0153621435165405\n",
      "1.009221076965332\n",
      "1.0143991708755493\n",
      "0.975146472454071\n",
      "1.0821388959884644\n"
     ]
    },
    {
     "name": "stderr",
     "output_type": "stream",
     "text": [
      " 61%|██████    | 9488/15625 [01:38<01:00, 101.74it/s]"
     ]
    },
    {
     "name": "stdout",
     "output_type": "stream",
     "text": [
      "1.033597469329834\n",
      "0.9852136969566345\n",
      "0.9860544800758362\n",
      "1.0434002876281738\n",
      "1.0342018604278564\n",
      "0.9662481546401978\n",
      "1.0557130575180054\n",
      "1.0043312311172485\n",
      "0.9892122745513916\n",
      "1.0316725969314575\n",
      "0.9799389839172363\n",
      "1.014836072921753\n",
      "1.0490713119506836\n",
      "0.9846220016479492\n",
      "0.9820250272750854\n",
      "1.0465731620788574\n",
      "0.9926589727401733\n",
      "1.0384490489959717\n",
      "1.0557763576507568\n",
      "1.055334448814392\n",
      "1.0550861358642578\n"
     ]
    },
    {
     "name": "stderr",
     "output_type": "stream",
     "text": [
      " 61%|██████    | 9510/15625 [01:38<00:59, 101.95it/s]"
     ]
    },
    {
     "name": "stdout",
     "output_type": "stream",
     "text": [
      "0.9521582126617432\n",
      "1.0168027877807617\n",
      "1.0840611457824707\n",
      "0.9697500467300415\n",
      "0.9971685409545898\n",
      "0.9375208616256714\n",
      "1.067123532295227\n",
      "1.0311607122421265\n",
      "1.0541903972625732\n",
      "1.0502427816390991\n",
      "1.007238507270813\n",
      "1.0031499862670898\n",
      "1.0865949392318726\n",
      "1.0176100730895996\n",
      "1.005921721458435\n",
      "0.986784815788269\n",
      "1.0384854078292847\n",
      "1.0027358531951904\n",
      "0.9816200137138367\n",
      "1.0284931659698486\n",
      "1.0202124118804932\n"
     ]
    },
    {
     "name": "stderr",
     "output_type": "stream",
     "text": [
      " 61%|██████    | 9532/15625 [01:38<00:59, 102.02it/s]"
     ]
    },
    {
     "name": "stdout",
     "output_type": "stream",
     "text": [
      "1.0219557285308838\n",
      "1.0355371236801147\n",
      "1.032368540763855\n",
      "0.9900414943695068\n",
      "0.9868216514587402\n",
      "1.0739413499832153\n",
      "1.0112855434417725\n",
      "0.9750691652297974\n",
      "0.9788098931312561\n",
      "1.0234663486480713\n",
      "1.0217821598052979\n",
      "1.010702133178711\n",
      "0.9846208691596985\n",
      "1.0088673830032349\n",
      "1.0806939601898193\n",
      "0.9940653443336487\n",
      "0.9992722272872925\n",
      "1.070317268371582\n",
      "1.0857688188552856\n",
      "1.0392043590545654\n",
      "0.9797426462173462\n"
     ]
    },
    {
     "name": "stderr",
     "output_type": "stream",
     "text": [
      " 61%|██████    | 9554/15625 [01:38<00:59, 102.36it/s]"
     ]
    },
    {
     "name": "stdout",
     "output_type": "stream",
     "text": [
      "1.011206030845642\n",
      "0.9879773259162903\n",
      "1.0313208103179932\n",
      "0.9801013469696045\n",
      "0.9498879313468933\n",
      "1.0297284126281738\n",
      "1.0234019756317139\n",
      "1.0014376640319824\n",
      "1.000292181968689\n",
      "1.061076283454895\n",
      "1.017907738685608\n",
      "1.0404644012451172\n",
      "1.0067007541656494\n",
      "0.9791092872619629\n",
      "1.0356829166412354\n",
      "1.017280101776123\n",
      "1.0090217590332031\n",
      "1.0516687631607056\n",
      "1.0552105903625488\n",
      "1.046126127243042\n",
      "1.0340282917022705\n"
     ]
    },
    {
     "name": "stderr",
     "output_type": "stream",
     "text": [
      " 61%|██████▏   | 9576/15625 [01:38<00:58, 103.13it/s]"
     ]
    },
    {
     "name": "stdout",
     "output_type": "stream",
     "text": [
      "1.0838240385055542\n",
      "1.0071728229522705\n",
      "1.0579679012298584\n",
      "1.0656216144561768\n",
      "0.9976034164428711\n",
      "0.9834555387496948\n",
      "0.953612208366394\n",
      "0.9762080907821655\n",
      "1.0756202936172485\n",
      "0.9919583201408386\n",
      "1.0607497692108154\n",
      "1.0459179878234863\n",
      "1.000515103340149\n",
      "1.0307729244232178\n",
      "1.0007295608520508\n",
      "0.9970322847366333\n",
      "1.1097371578216553\n",
      "0.9948771595954895\n",
      "1.0208088159561157\n",
      "1.0310711860656738\n",
      "1.0457313060760498\n"
     ]
    },
    {
     "name": "stderr",
     "output_type": "stream",
     "text": [
      " 61%|██████▏   | 9598/15625 [01:39<00:58, 103.07it/s]"
     ]
    },
    {
     "name": "stdout",
     "output_type": "stream",
     "text": [
      "1.0400599241256714\n",
      "1.0337975025177002\n",
      "1.0547914505004883\n",
      "1.0194461345672607\n",
      "0.9924954175949097\n",
      "1.0286571979522705\n",
      "1.0300744771957397\n",
      "1.0146245956420898\n",
      "0.9425055980682373\n",
      "1.0617129802703857\n",
      "1.0134015083312988\n",
      "0.9830062389373779\n",
      "1.021275520324707\n",
      "1.0589797496795654\n",
      "0.9941362142562866\n",
      "1.0137085914611816\n",
      "1.1029706001281738\n",
      "1.0119800567626953\n",
      "1.0379219055175781\n",
      "1.068568468093872\n",
      "0.9912381172180176\n"
     ]
    },
    {
     "name": "stderr",
     "output_type": "stream",
     "text": [
      "\r",
      " 61%|██████▏   | 9609/15625 [01:39<00:58, 102.18it/s]"
     ]
    },
    {
     "name": "stdout",
     "output_type": "stream",
     "text": [
      "0.9828623533248901\n",
      "1.0502970218658447\n",
      "0.9777243733406067\n",
      "1.05278742313385\n",
      "1.0338859558105469\n",
      "1.0482852458953857\n",
      "1.1013158559799194\n",
      "0.9445818066596985\n",
      "1.0306156873703003\n",
      "0.9989566802978516\n",
      "1.001234531402588\n",
      "0.9725438356399536\n",
      "0.9934042692184448\n",
      "1.0928905010223389\n",
      "0.9642878770828247\n",
      "1.0037870407104492\n",
      "1.041690468788147\n",
      "1.0908117294311523\n",
      "0.99662184715271\n",
      "1.029369831085205\n",
      "1.0400454998016357\n"
     ]
    },
    {
     "name": "stderr",
     "output_type": "stream",
     "text": [
      " 62%|██████▏   | 9631/15625 [01:39<00:58, 102.27it/s]"
     ]
    },
    {
     "name": "stdout",
     "output_type": "stream",
     "text": [
      "0.9742745757102966\n",
      "1.0673511028289795\n",
      "1.035718560218811\n",
      "1.0286369323730469\n",
      "1.0929327011108398\n",
      "1.059066891670227\n",
      "1.0327649116516113\n",
      "1.019301176071167\n",
      "1.0280920267105103\n",
      "0.9954508543014526\n",
      "1.0370419025421143\n",
      "1.0457468032836914\n",
      "1.0248079299926758\n",
      "1.001700758934021\n",
      "1.0198135375976562\n",
      "1.0342228412628174\n",
      "1.0657057762145996\n",
      "0.9878756403923035\n",
      "1.0079548358917236\n",
      "1.0064291954040527\n",
      "1.0263645648956299\n"
     ]
    },
    {
     "name": "stderr",
     "output_type": "stream",
     "text": [
      " 62%|██████▏   | 9653/15625 [01:39<00:58, 102.55it/s]"
     ]
    },
    {
     "name": "stdout",
     "output_type": "stream",
     "text": [
      "1.0102767944335938\n",
      "1.0335793495178223\n",
      "1.0467097759246826\n",
      "1.0082435607910156\n",
      "1.057594895362854\n",
      "1.0109063386917114\n",
      "0.9791070818901062\n",
      "1.013598918914795\n",
      "1.0314643383026123\n",
      "0.9841126203536987\n",
      "1.0156869888305664\n",
      "1.0045156478881836\n",
      "1.0194404125213623\n",
      "0.9858638048171997\n",
      "1.0441246032714844\n",
      "1.0426032543182373\n",
      "1.028721570968628\n",
      "1.0397530794143677\n",
      "1.046093225479126\n",
      "1.042799472808838\n",
      "0.9995754957199097\n"
     ]
    },
    {
     "name": "stderr",
     "output_type": "stream",
     "text": [
      " 62%|██████▏   | 9675/15625 [01:39<00:57, 102.69it/s]"
     ]
    },
    {
     "name": "stdout",
     "output_type": "stream",
     "text": [
      "1.0675075054168701\n",
      "1.039771556854248\n",
      "1.0445044040679932\n",
      "1.0424913167953491\n",
      "1.0604336261749268\n",
      "1.1029713153839111\n",
      "1.024964451789856\n",
      "0.9860587120056152\n",
      "1.0315234661102295\n",
      "0.9985780715942383\n",
      "1.031846523284912\n",
      "0.9559831619262695\n",
      "0.9961014986038208\n",
      "0.994356632232666\n",
      "1.0591552257537842\n",
      "1.0010759830474854\n",
      "1.064176082611084\n",
      "1.0327664613723755\n",
      "0.9821792840957642\n",
      "1.017066240310669\n",
      "0.9996652603149414\n"
     ]
    },
    {
     "name": "stderr",
     "output_type": "stream",
     "text": [
      " 62%|██████▏   | 9697/15625 [01:40<00:57, 103.17it/s]"
     ]
    },
    {
     "name": "stdout",
     "output_type": "stream",
     "text": [
      "1.0775282382965088\n",
      "1.0159624814987183\n",
      "1.024275779724121\n",
      "0.9982970356941223\n",
      "1.0074303150177002\n",
      "1.037118911743164\n",
      "1.0667593479156494\n",
      "0.9791582822799683\n",
      "0.9514653086662292\n",
      "1.0276635885238647\n",
      "0.9676316380500793\n",
      "1.0521626472473145\n",
      "0.9781254529953003\n",
      "1.0161784887313843\n",
      "1.046472191810608\n",
      "1.0182087421417236\n",
      "0.989439845085144\n",
      "1.0006765127182007\n",
      "0.9658743143081665\n",
      "0.9996657371520996\n",
      "1.0265791416168213\n"
     ]
    },
    {
     "name": "stderr",
     "output_type": "stream",
     "text": [
      " 62%|██████▏   | 9719/15625 [01:40<00:57, 102.90it/s]"
     ]
    },
    {
     "name": "stdout",
     "output_type": "stream",
     "text": [
      "1.0439550876617432\n",
      "1.0708222389221191\n",
      "1.0176966190338135\n",
      "1.0403931140899658\n",
      "0.9774258136749268\n",
      "1.0293500423431396\n",
      "1.0109549760818481\n",
      "1.0125102996826172\n",
      "0.9776270389556885\n",
      "0.9458253979682922\n",
      "0.949762225151062\n",
      "1.0443148612976074\n",
      "0.9793009161949158\n",
      "1.0307722091674805\n",
      "0.9906662702560425\n",
      "1.0399974584579468\n",
      "1.0307196378707886\n",
      "1.073655128479004\n",
      "1.000671625137329\n",
      "1.0324878692626953\n",
      "1.0572185516357422\n"
     ]
    },
    {
     "name": "stderr",
     "output_type": "stream",
     "text": [
      " 62%|██████▏   | 9741/15625 [01:40<00:57, 102.81it/s]"
     ]
    },
    {
     "name": "stdout",
     "output_type": "stream",
     "text": [
      "0.9715524911880493\n",
      "1.0327879190444946\n",
      "1.0574434995651245\n",
      "1.0298936367034912\n",
      "1.033071517944336\n",
      "1.0249085426330566\n",
      "0.9984793066978455\n",
      "1.0055766105651855\n",
      "1.0038821697235107\n",
      "1.0224272012710571\n",
      "0.9794206619262695\n",
      "0.9918781518936157\n",
      "0.9303287267684937\n",
      "1.0067851543426514\n",
      "0.975102424621582\n",
      "0.9878019094467163\n",
      "1.0141732692718506\n",
      "1.026757001876831\n",
      "1.0281823873519897\n",
      "0.9883818626403809\n",
      "1.1225597858428955\n"
     ]
    },
    {
     "name": "stderr",
     "output_type": "stream",
     "text": [
      " 62%|██████▏   | 9763/15625 [01:40<00:56, 103.01it/s]"
     ]
    },
    {
     "name": "stdout",
     "output_type": "stream",
     "text": [
      "1.0096665620803833\n",
      "1.0097447633743286\n",
      "1.0182569026947021\n",
      "1.0315158367156982\n",
      "1.0681183338165283\n",
      "1.0061705112457275\n",
      "1.0039994716644287\n",
      "1.0356088876724243\n",
      "0.9660641551017761\n",
      "1.0255582332611084\n",
      "1.0545217990875244\n",
      "1.0175836086273193\n",
      "1.0131733417510986\n",
      "1.0239801406860352\n",
      "1.0335962772369385\n",
      "0.9883429408073425\n",
      "1.12118661403656\n",
      "1.0492112636566162\n",
      "1.0146656036376953\n",
      "1.023851990699768\n"
     ]
    },
    {
     "name": "stderr",
     "output_type": "stream",
     "text": [
      "\r",
      " 63%|██████▎   | 9774/15625 [01:40<01:04, 90.61it/s] "
     ]
    },
    {
     "name": "stdout",
     "output_type": "stream",
     "text": [
      "1.0587619543075562\n",
      "0.9621037840843201\n",
      "1.0223140716552734\n",
      "1.0361292362213135\n",
      "1.0168306827545166\n",
      "0.9422495365142822\n",
      "1.0077708959579468\n",
      "0.9801267385482788\n",
      "0.9752214550971985\n",
      "1.0390419960021973\n",
      "0.9886250495910645\n",
      "1.0597641468048096\n",
      "0.9999513030052185\n",
      "0.9446446299552917\n",
      "1.0231223106384277\n",
      "0.9875762462615967\n",
      "1.0426825284957886\n",
      "0.9574066400527954\n"
     ]
    },
    {
     "name": "stderr",
     "output_type": "stream",
     "text": [
      " 63%|██████▎   | 9795/15625 [01:41<01:01, 94.99it/s]"
     ]
    },
    {
     "name": "stdout",
     "output_type": "stream",
     "text": [
      "0.9968424439430237\n",
      "1.068181037902832\n",
      "1.0408059358596802\n",
      "1.0054919719696045\n",
      "1.0294471979141235\n",
      "0.9733748435974121\n",
      "0.9877274036407471\n",
      "1.0301285982131958\n",
      "1.0676848888397217\n",
      "1.0298271179199219\n",
      "1.0387444496154785\n",
      "1.0363898277282715\n",
      "0.9782600998878479\n",
      "1.0229862928390503\n",
      "1.0348540544509888\n",
      "0.9725755453109741\n",
      "1.013577938079834\n",
      "0.999122142791748\n",
      "1.0263105630874634\n",
      "1.0090399980545044\n",
      "1.0779130458831787\n"
     ]
    },
    {
     "name": "stderr",
     "output_type": "stream",
     "text": [
      " 63%|██████▎   | 9817/15625 [01:41<00:58, 99.67it/s]"
     ]
    },
    {
     "name": "stdout",
     "output_type": "stream",
     "text": [
      "1.0657538175582886\n",
      "1.010002613067627\n",
      "0.9807001352310181\n",
      "1.0132592916488647\n",
      "1.0155669450759888\n",
      "1.0408990383148193\n",
      "1.0380613803863525\n",
      "0.9908491373062134\n",
      "1.005468726158142\n",
      "1.0250911712646484\n",
      "1.0045549869537354\n",
      "1.0080010890960693\n",
      "1.0556612014770508\n",
      "0.9947831034660339\n",
      "1.0123717784881592\n",
      "1.0424590110778809\n",
      "1.0882189273834229\n",
      "1.0652172565460205\n",
      "1.0540249347686768\n",
      "1.0441386699676514\n",
      "0.9801650047302246\n",
      "1.1042523384094238\n"
     ]
    },
    {
     "name": "stderr",
     "output_type": "stream",
     "text": [
      " 63%|██████▎   | 9839/15625 [01:41<00:56, 101.62it/s]"
     ]
    },
    {
     "name": "stdout",
     "output_type": "stream",
     "text": [
      "1.0521979331970215\n",
      "1.0436484813690186\n",
      "1.0366778373718262\n",
      "1.0070099830627441\n",
      "1.0416247844696045\n",
      "0.981751024723053\n",
      "0.9881746768951416\n",
      "1.0383318662643433\n",
      "1.0528380870819092\n",
      "1.0256407260894775\n",
      "1.0802805423736572\n",
      "1.018381953239441\n",
      "1.0346800088882446\n",
      "0.9202398061752319\n",
      "1.0103564262390137\n",
      "1.0121253728866577\n",
      "1.0469589233398438\n",
      "1.0218358039855957\n",
      "1.0186526775360107\n",
      "1.0759278535842896\n",
      "1.020717740058899\n",
      "1.0389186143875122\n"
     ]
    },
    {
     "name": "stderr",
     "output_type": "stream",
     "text": [
      " 63%|██████▎   | 9861/15625 [01:41<00:55, 103.76it/s]"
     ]
    },
    {
     "name": "stdout",
     "output_type": "stream",
     "text": [
      "1.0100226402282715\n",
      "1.0289746522903442\n",
      "1.01642906665802\n",
      "0.9691870212554932\n",
      "1.0396206378936768\n",
      "1.0258750915527344\n",
      "1.0203871726989746\n",
      "0.9989351034164429\n",
      "1.0920696258544922\n",
      "1.004761815071106\n",
      "0.9993579387664795\n",
      "1.0324668884277344\n",
      "1.0985608100891113\n",
      "1.0338873863220215\n",
      "1.0479815006256104\n",
      "1.0099903345108032\n",
      "0.9958646297454834\n",
      "1.0620243549346924\n",
      "1.0702805519104004\n",
      "1.0301544666290283\n",
      "0.9676810503005981\n",
      "1.0395735502243042\n"
     ]
    },
    {
     "name": "stderr",
     "output_type": "stream",
     "text": [
      " 63%|██████▎   | 9883/15625 [01:41<00:54, 104.53it/s]"
     ]
    },
    {
     "name": "stdout",
     "output_type": "stream",
     "text": [
      "1.01494300365448\n",
      "1.0212763547897339\n",
      "1.0165834426879883\n",
      "1.0100948810577393\n",
      "0.9900200366973877\n",
      "0.9827109575271606\n",
      "0.9826261401176453\n",
      "0.9130445718765259\n",
      "1.0334968566894531\n",
      "1.055017352104187\n",
      "1.0587326288223267\n",
      "1.010861873626709\n",
      "1.0583181381225586\n",
      "1.0244226455688477\n",
      "1.0010582208633423\n",
      "0.9478766322135925\n",
      "0.9986295104026794\n",
      "0.9637649059295654\n",
      "1.023650050163269\n",
      "1.0215970277786255\n",
      "1.0395187139511108\n",
      "1.0089085102081299\n"
     ]
    },
    {
     "name": "stderr",
     "output_type": "stream",
     "text": [
      " 63%|██████▎   | 9905/15625 [01:42<00:54, 104.23it/s]"
     ]
    },
    {
     "name": "stdout",
     "output_type": "stream",
     "text": [
      "1.0090680122375488\n",
      "1.02219820022583\n",
      "1.000877857208252\n",
      "0.9682192206382751\n",
      "1.0090899467468262\n",
      "1.019268274307251\n",
      "1.06748366355896\n",
      "0.9746149778366089\n",
      "1.0361902713775635\n",
      "1.089281678199768\n",
      "0.9770965576171875\n",
      "0.9608674049377441\n",
      "1.0735344886779785\n",
      "0.9980568885803223\n",
      "1.0395350456237793\n",
      "1.0077979564666748\n",
      "1.0123071670532227\n",
      "1.013726830482483\n",
      "0.9914337396621704\n",
      "1.0404701232910156\n"
     ]
    },
    {
     "name": "stderr",
     "output_type": "stream",
     "text": [
      " 64%|██████▎   | 9926/15625 [01:42<00:58, 97.49it/s] "
     ]
    },
    {
     "name": "stdout",
     "output_type": "stream",
     "text": [
      "1.0426286458969116\n",
      "1.0364933013916016\n",
      "1.0027145147323608\n",
      "1.0098953247070312\n",
      "1.0025956630706787\n",
      "0.949066162109375\n",
      "1.015965461730957\n",
      "1.0077704191207886\n",
      "1.001124382019043\n",
      "1.0259523391723633\n",
      "1.0133384466171265\n",
      "1.000775933265686\n",
      "1.055319905281067\n",
      "1.036553144454956\n",
      "1.0213820934295654\n",
      "1.02931547164917\n",
      "1.043059229850769\n",
      "1.0088813304901123\n",
      "1.0195555686950684\n",
      "0.9581151008605957\n"
     ]
    },
    {
     "name": "stderr",
     "output_type": "stream",
     "text": [
      " 64%|██████▎   | 9946/15625 [01:42<00:57, 98.11it/s]"
     ]
    },
    {
     "name": "stdout",
     "output_type": "stream",
     "text": [
      "1.0505331754684448\n",
      "1.0199072360992432\n",
      "1.0245959758758545\n",
      "0.9590603113174438\n",
      "1.0131008625030518\n",
      "1.0201358795166016\n",
      "1.0806491374969482\n",
      "0.9878010749816895\n",
      "1.0010168552398682\n",
      "0.9977508187294006\n",
      "1.04707670211792\n",
      "1.0350823402404785\n",
      "0.956290066242218\n",
      "0.9487656354904175\n",
      "1.0492002964019775\n",
      "0.9936915040016174\n",
      "1.0394095182418823\n",
      "1.0296131372451782\n",
      "0.964392364025116\n",
      "0.962247371673584\n"
     ]
    },
    {
     "name": "stderr",
     "output_type": "stream",
     "text": [
      " 64%|██████▍   | 9967/15625 [01:42<00:57, 99.17it/s]"
     ]
    },
    {
     "name": "stdout",
     "output_type": "stream",
     "text": [
      "1.0685425996780396\n",
      "0.9871962070465088\n",
      "1.0611863136291504\n",
      "1.0668692588806152\n",
      "0.9639219641685486\n",
      "0.9708206653594971\n",
      "1.0218497514724731\n",
      "0.9860068559646606\n",
      "1.0517240762710571\n",
      "1.0311627388000488\n",
      "0.9794620275497437\n",
      "0.984875500202179\n",
      "1.071454644203186\n",
      "1.040112018585205\n",
      "0.9942772388458252\n",
      "1.0335752964019775\n",
      "0.9788337349891663\n",
      "0.9487941861152649\n",
      "1.0402976274490356\n",
      "1.0304677486419678\n",
      "1.0440231561660767\n"
     ]
    },
    {
     "name": "stderr",
     "output_type": "stream",
     "text": [
      " 64%|██████▍   | 9989/15625 [01:43<00:56, 100.04it/s]"
     ]
    },
    {
     "name": "stdout",
     "output_type": "stream",
     "text": [
      "1.0252139568328857\n",
      "1.0281879901885986\n",
      "1.0348817110061646\n",
      "1.0313230752944946\n",
      "1.0216970443725586\n",
      "0.9771292209625244\n",
      "0.9953073859214783\n",
      "0.9999005794525146\n",
      "1.0481181144714355\n",
      "0.9988198280334473\n",
      "1.0292041301727295\n",
      "1.0354783535003662\n",
      "0.9676594138145447\n",
      "0.939420223236084\n",
      "1.005078911781311\n",
      "1.0153175592422485\n",
      "1.0171116590499878\n",
      "1.0518841743469238\n",
      "1.0682806968688965\n",
      "1.0142130851745605\n",
      "1.0048457384109497\n"
     ]
    },
    {
     "name": "stderr",
     "output_type": "stream",
     "text": [
      " 64%|██████▍   | 10011/15625 [01:43<00:55, 100.35it/s]"
     ]
    },
    {
     "name": "stdout",
     "output_type": "stream",
     "text": [
      "0.9793856739997864\n",
      "0.9541916847229004\n",
      "1.0726916790008545\n",
      "0.9837402701377869\n",
      "1.0082802772521973\n",
      "0.9945470094680786\n",
      "1.037734866142273\n",
      "0.9998714923858643\n",
      "1.1038353443145752\n",
      "1.0308547019958496\n",
      "1.0643086433410645\n",
      "1.1434910297393799\n",
      "1.0342888832092285\n",
      "0.9965524077415466\n",
      "1.0264619588851929\n",
      "1.0220985412597656\n",
      "1.0046839714050293\n",
      "0.9716599583625793\n",
      "1.0751099586486816\n",
      "1.034292459487915\n",
      "1.0426005125045776\n"
     ]
    },
    {
     "name": "stderr",
     "output_type": "stream",
     "text": [
      " 64%|██████▍   | 10033/15625 [01:43<00:55, 100.63it/s]"
     ]
    },
    {
     "name": "stdout",
     "output_type": "stream",
     "text": [
      "1.033294916152954\n",
      "1.0442684888839722\n",
      "1.0325798988342285\n",
      "0.9936180114746094\n",
      "1.0469191074371338\n",
      "1.0532280206680298\n",
      "1.0360249280929565\n",
      "1.0150572061538696\n",
      "1.0303676128387451\n",
      "1.050980806350708\n",
      "1.0380009412765503\n",
      "1.0454052686691284\n",
      "0.9866963624954224\n",
      "1.0027658939361572\n",
      "0.9844244718551636\n",
      "1.0042219161987305\n",
      "1.0500867366790771\n",
      "1.045832633972168\n",
      "1.0334510803222656\n",
      "1.025768756866455\n",
      "1.028874158859253\n"
     ]
    },
    {
     "name": "stderr",
     "output_type": "stream",
     "text": [
      " 64%|██████▍   | 10055/15625 [01:43<00:55, 101.21it/s]"
     ]
    },
    {
     "name": "stdout",
     "output_type": "stream",
     "text": [
      "0.9880414009094238\n",
      "1.045595645904541\n",
      "1.0422792434692383\n",
      "1.0496748685836792\n",
      "1.0041754245758057\n",
      "1.1252727508544922\n",
      "1.037158489227295\n",
      "1.0122896432876587\n",
      "0.9703055620193481\n",
      "0.9925769567489624\n",
      "1.0348906517028809\n",
      "1.0496717691421509\n",
      "1.031869888305664\n",
      "0.9869592785835266\n",
      "0.9839798212051392\n",
      "1.0163533687591553\n",
      "1.0026148557662964\n",
      "1.0292515754699707\n",
      "0.9901950359344482\n",
      "1.0186913013458252\n",
      "0.9406043291091919\n"
     ]
    },
    {
     "name": "stderr",
     "output_type": "stream",
     "text": [
      " 64%|██████▍   | 10077/15625 [01:43<00:55, 100.70it/s]"
     ]
    },
    {
     "name": "stdout",
     "output_type": "stream",
     "text": [
      "1.0239177942276\n",
      "0.9992954730987549\n",
      "1.0026617050170898\n",
      "1.0029582977294922\n",
      "1.045210361480713\n",
      "1.0131769180297852\n",
      "1.009771466255188\n",
      "1.0162547826766968\n",
      "0.9991570711135864\n",
      "1.0515460968017578\n",
      "1.017834186553955\n",
      "1.0474827289581299\n",
      "1.010960340499878\n",
      "0.9884004592895508\n",
      "1.0163558721542358\n",
      "0.9742656350135803\n",
      "0.9936011433601379\n",
      "1.0159883499145508\n",
      "1.0347568988800049\n",
      "1.0198390483856201\n",
      "0.9832965135574341\n"
     ]
    },
    {
     "name": "stderr",
     "output_type": "stream",
     "text": [
      "\r",
      " 65%|██████▍   | 10088/15625 [01:44<00:55, 100.14it/s]"
     ]
    },
    {
     "name": "stdout",
     "output_type": "stream",
     "text": [
      "0.9166066646575928\n",
      "1.0606906414031982\n",
      "1.0221577882766724\n",
      "1.04909348487854\n",
      "1.081190824508667\n",
      "1.0418829917907715\n",
      "1.0330678224563599\n",
      "0.969321608543396\n",
      "1.0246896743774414\n",
      "1.0023794174194336\n",
      "0.9562767744064331\n",
      "1.0295612812042236\n",
      "0.999237596988678\n",
      "0.9442007541656494\n",
      "1.033247947692871\n",
      "1.0259895324707031\n",
      "1.0001994371414185\n",
      "1.00724458694458\n",
      "1.0286965370178223\n",
      "1.0464940071105957\n",
      "1.0163023471832275\n"
     ]
    },
    {
     "name": "stderr",
     "output_type": "stream",
     "text": [
      " 65%|██████▍   | 10110/15625 [01:44<00:54, 100.44it/s]"
     ]
    },
    {
     "name": "stdout",
     "output_type": "stream",
     "text": [
      "1.086744785308838\n",
      "1.0459675788879395\n",
      "1.0425233840942383\n",
      "1.0431064367294312\n",
      "0.9916723966598511\n",
      "1.0271670818328857\n",
      "0.9900635480880737\n",
      "1.011046290397644\n",
      "0.9720360040664673\n",
      "1.012892246246338\n",
      "0.9745315313339233\n",
      "1.0046107769012451\n",
      "1.055649757385254\n",
      "1.023703694343567\n",
      "1.010865569114685\n",
      "1.0518189668655396\n",
      "1.0348200798034668\n",
      "1.0309680700302124\n",
      "1.02581787109375\n",
      "1.0074150562286377\n",
      "1.0821207761764526\n"
     ]
    },
    {
     "name": "stderr",
     "output_type": "stream",
     "text": [
      " 65%|██████▍   | 10132/15625 [01:44<00:54, 101.08it/s]"
     ]
    },
    {
     "name": "stdout",
     "output_type": "stream",
     "text": [
      "1.0197919607162476\n",
      "1.014591932296753\n",
      "0.9911098480224609\n",
      "1.0434935092926025\n",
      "1.065077781677246\n",
      "0.9921007752418518\n",
      "0.9958954453468323\n",
      "1.0651109218597412\n",
      "0.9787682890892029\n",
      "0.997657835483551\n",
      "1.0198692083358765\n",
      "0.9681519269943237\n",
      "1.0524110794067383\n",
      "1.0103356838226318\n",
      "1.0009092092514038\n",
      "1.0160114765167236\n",
      "1.0008206367492676\n",
      "1.0260488986968994\n",
      "0.9928439855575562\n",
      "1.0342416763305664\n",
      "0.9953931570053101\n"
     ]
    },
    {
     "name": "stderr",
     "output_type": "stream",
     "text": [
      " 65%|██████▍   | 10154/15625 [01:44<00:53, 101.70it/s]"
     ]
    },
    {
     "name": "stdout",
     "output_type": "stream",
     "text": [
      "1.0323069095611572\n",
      "0.9895498752593994\n",
      "1.0577597618103027\n",
      "0.9459638595581055\n",
      "1.034968614578247\n",
      "0.9884560704231262\n",
      "1.0532130002975464\n",
      "0.9849399924278259\n",
      "0.9736665487289429\n",
      "1.0457983016967773\n",
      "1.0530266761779785\n",
      "1.018846035003662\n",
      "1.0162684917449951\n",
      "1.0002951622009277\n",
      "0.9999676942825317\n",
      "0.9998778700828552\n",
      "1.0148391723632812\n",
      "1.0808038711547852\n",
      "1.049498200416565\n",
      "1.2387480735778809\n",
      "1.0605993270874023\n"
     ]
    },
    {
     "name": "stderr",
     "output_type": "stream",
     "text": [
      " 65%|██████▌   | 10176/15625 [01:44<00:53, 102.30it/s]"
     ]
    },
    {
     "name": "stdout",
     "output_type": "stream",
     "text": [
      "1.0679399967193604\n",
      "1.0394954681396484\n",
      "1.014662504196167\n",
      "0.9773024320602417\n",
      "0.9469081163406372\n",
      "1.028183937072754\n",
      "0.985505223274231\n",
      "1.0340797901153564\n",
      "1.0274384021759033\n",
      "1.0726139545440674\n",
      "1.0054962635040283\n",
      "0.9862128496170044\n",
      "1.0432019233703613\n",
      "0.9837513566017151\n",
      "1.000538945198059\n",
      "1.0002069473266602\n",
      "0.9810056090354919\n",
      "1.1380128860473633\n",
      "0.9792559146881104\n",
      "1.0320250988006592\n",
      "0.9968830347061157\n"
     ]
    },
    {
     "name": "stderr",
     "output_type": "stream",
     "text": [
      " 65%|██████▌   | 10198/15625 [01:45<00:52, 102.55it/s]"
     ]
    },
    {
     "name": "stdout",
     "output_type": "stream",
     "text": [
      "1.1007156372070312\n",
      "1.0264487266540527\n",
      "0.9534575343132019\n",
      "0.992495059967041\n",
      "1.043703556060791\n",
      "1.0358628034591675\n",
      "1.019661784172058\n",
      "1.052403450012207\n",
      "1.004211664199829\n",
      "1.0355467796325684\n",
      "1.013939619064331\n",
      "0.9754355549812317\n",
      "1.050475835800171\n",
      "1.0020618438720703\n",
      "1.013617992401123\n",
      "1.0598950386047363\n",
      "1.0260567665100098\n",
      "1.0125025510787964\n",
      "1.035405158996582\n",
      "1.0388004779815674\n",
      "1.0483283996582031\n"
     ]
    },
    {
     "name": "stderr",
     "output_type": "stream",
     "text": [
      " 65%|██████▌   | 10220/15625 [01:45<00:52, 102.48it/s]"
     ]
    },
    {
     "name": "stdout",
     "output_type": "stream",
     "text": [
      "1.0046768188476562\n",
      "1.0054781436920166\n",
      "0.9669371843338013\n",
      "1.093738079071045\n",
      "1.0488719940185547\n",
      "1.0708632469177246\n",
      "1.0063526630401611\n",
      "1.0318045616149902\n",
      "1.0161819458007812\n",
      "1.0774846076965332\n",
      "1.0234148502349854\n",
      "1.0884313583374023\n",
      "1.017103910446167\n",
      "0.9878849387168884\n",
      "1.0089385509490967\n",
      "1.0260519981384277\n",
      "1.0375981330871582\n",
      "1.010447382926941\n",
      "1.0025638341903687\n",
      "0.9961597323417664\n",
      "1.0234953165054321\n"
     ]
    },
    {
     "name": "stderr",
     "output_type": "stream",
     "text": [
      " 66%|██████▌   | 10242/15625 [01:45<00:52, 101.97it/s]"
     ]
    },
    {
     "name": "stdout",
     "output_type": "stream",
     "text": [
      "1.041402816772461\n",
      "0.931978166103363\n",
      "1.0559144020080566\n",
      "1.0751941204071045\n",
      "0.9731649160385132\n",
      "0.9686421155929565\n",
      "0.9962999820709229\n",
      "0.9964611530303955\n",
      "0.9772598743438721\n",
      "1.068422794342041\n",
      "0.968657374382019\n",
      "1.0568796396255493\n",
      "0.9989368915557861\n",
      "0.9815759658813477\n",
      "1.0082948207855225\n",
      "1.073338270187378\n",
      "1.0124348402023315\n",
      "0.9906283617019653\n",
      "1.0763988494873047\n",
      "1.0368249416351318\n",
      "1.069785237312317\n"
     ]
    },
    {
     "name": "stderr",
     "output_type": "stream",
     "text": [
      " 66%|██████▌   | 10264/15625 [01:45<00:52, 102.35it/s]"
     ]
    },
    {
     "name": "stdout",
     "output_type": "stream",
     "text": [
      "1.0274815559387207\n",
      "1.0042062997817993\n",
      "0.9508763551712036\n",
      "0.9864064455032349\n",
      "0.9755029082298279\n",
      "0.9914519190788269\n",
      "1.0360604524612427\n",
      "0.969126284122467\n",
      "1.0354466438293457\n",
      "0.9661611318588257\n",
      "1.0256192684173584\n",
      "1.000077724456787\n",
      "0.9646159410476685\n",
      "1.0815166234970093\n",
      "1.0936514139175415\n",
      "1.0240660905838013\n",
      "1.0350561141967773\n",
      "1.0472493171691895\n",
      "1.0508729219436646\n",
      "1.0345845222473145\n",
      "1.0052404403686523\n"
     ]
    },
    {
     "name": "stderr",
     "output_type": "stream",
     "text": [
      " 66%|██████▌   | 10286/15625 [01:45<00:52, 102.14it/s]"
     ]
    },
    {
     "name": "stdout",
     "output_type": "stream",
     "text": [
      "0.9981301426887512\n",
      "1.0123953819274902\n",
      "0.9950170516967773\n",
      "0.9902414083480835\n",
      "1.0564842224121094\n",
      "0.9805477261543274\n",
      "0.958788275718689\n",
      "1.1654390096664429\n",
      "1.0399320125579834\n",
      "1.0430630445480347\n",
      "1.0380412340164185\n",
      "1.0747346878051758\n",
      "1.0204055309295654\n",
      "1.0544073581695557\n",
      "0.9818091988563538\n",
      "1.0041431188583374\n",
      "1.0140008926391602\n",
      "1.0040638446807861\n",
      "0.9854377508163452\n",
      "1.0464584827423096\n",
      "1.0053951740264893\n"
     ]
    },
    {
     "name": "stderr",
     "output_type": "stream",
     "text": [
      " 66%|██████▌   | 10308/15625 [01:46<00:51, 102.33it/s]"
     ]
    },
    {
     "name": "stdout",
     "output_type": "stream",
     "text": [
      "0.9849970936775208\n",
      "1.0307024717330933\n",
      "1.0536093711853027\n",
      "1.0399068593978882\n",
      "1.0034277439117432\n",
      "1.0076851844787598\n",
      "1.0191370248794556\n",
      "0.9924717545509338\n",
      "1.0379741191864014\n",
      "1.0081884860992432\n",
      "1.0298974514007568\n",
      "1.1778225898742676\n",
      "1.0811156034469604\n",
      "1.059830665588379\n",
      "1.0387825965881348\n",
      "1.0092566013336182\n",
      "0.9619868993759155\n",
      "1.051499605178833\n",
      "1.0131151676177979\n",
      "1.0171912908554077\n",
      "0.9882485866546631\n"
     ]
    },
    {
     "name": "stderr",
     "output_type": "stream",
     "text": [
      " 66%|██████▌   | 10330/15625 [01:46<00:51, 102.73it/s]"
     ]
    },
    {
     "name": "stdout",
     "output_type": "stream",
     "text": [
      "1.040279746055603\n",
      "1.0661053657531738\n",
      "0.9622310400009155\n",
      "0.9770717620849609\n",
      "1.0318275690078735\n",
      "0.9837613701820374\n",
      "1.0269238948822021\n",
      "0.972769021987915\n",
      "0.9867769479751587\n",
      "0.9955750703811646\n",
      "0.9934566020965576\n",
      "1.0236403942108154\n",
      "0.9970316290855408\n",
      "1.0321489572525024\n",
      "1.0902481079101562\n",
      "0.9762874841690063\n",
      "0.956741452217102\n",
      "0.9800910353660583\n",
      "1.0307652950286865\n",
      "1.0549769401550293\n",
      "1.0045809745788574\n"
     ]
    },
    {
     "name": "stderr",
     "output_type": "stream",
     "text": [
      "\r",
      " 66%|██████▌   | 10341/15625 [01:46<00:51, 102.53it/s]"
     ]
    },
    {
     "name": "stdout",
     "output_type": "stream",
     "text": [
      "0.9319378137588501\n",
      "1.0562183856964111\n",
      "1.089746356010437\n",
      "1.0528056621551514\n",
      "1.0337599515914917\n",
      "1.0615321397781372\n",
      "1.0409133434295654\n",
      "1.076685905456543\n",
      "1.0154578685760498\n",
      "1.042182207107544\n",
      "0.9825007319450378\n",
      "1.0240609645843506\n",
      "0.9892045855522156\n",
      "0.9742825031280518\n",
      "0.9722693562507629\n",
      "0.9714316129684448\n",
      "0.9589328765869141\n",
      "0.9742456078529358\n",
      "1.0367611646652222\n",
      "1.0163627862930298\n",
      "1.0378472805023193\n"
     ]
    },
    {
     "name": "stderr",
     "output_type": "stream",
     "text": [
      " 66%|██████▋   | 10362/15625 [01:46<00:58, 90.74it/s] "
     ]
    },
    {
     "name": "stdout",
     "output_type": "stream",
     "text": [
      "1.0043647289276123\n",
      "0.9526310563087463\n",
      "0.9854638576507568\n",
      "1.0348063707351685\n",
      "1.0869226455688477\n",
      "1.069636583328247\n",
      "1.0156093835830688\n",
      "1.0145642757415771\n",
      "0.9983901977539062\n",
      "1.1104421615600586\n",
      "1.047954797744751\n",
      "1.0292468070983887\n",
      "1.0249630212783813\n",
      "1.050868272781372\n",
      "0.9891473054885864\n"
     ]
    },
    {
     "name": "stderr",
     "output_type": "stream",
     "text": [
      " 66%|██████▋   | 10382/15625 [01:46<01:00, 86.76it/s]"
     ]
    },
    {
     "name": "stdout",
     "output_type": "stream",
     "text": [
      "1.0313563346862793\n",
      "1.0570142269134521\n",
      "1.0366978645324707\n",
      "0.9645316004753113\n",
      "1.0562548637390137\n",
      "1.057546615600586\n",
      "1.0112903118133545\n",
      "0.9542250633239746\n",
      "1.0134994983673096\n",
      "0.9743882417678833\n",
      "1.0480632781982422\n",
      "1.0172333717346191\n",
      "1.0019874572753906\n",
      "0.9985529780387878\n",
      "1.1952564716339111\n",
      "1.0430541038513184\n",
      "0.9969303607940674\n",
      "0.9768036007881165\n",
      "1.0552005767822266\n"
     ]
    },
    {
     "name": "stderr",
     "output_type": "stream",
     "text": [
      " 67%|██████▋   | 10404/15625 [01:47<00:55, 93.89it/s]"
     ]
    },
    {
     "name": "stdout",
     "output_type": "stream",
     "text": [
      "1.0150022506713867\n",
      "1.040510892868042\n",
      "0.9978554844856262\n",
      "1.0906389951705933\n",
      "0.9402071833610535\n",
      "1.0334224700927734\n",
      "1.012988567352295\n",
      "1.0287199020385742\n",
      "1.0665886402130127\n",
      "0.9988692402839661\n",
      "0.9927383661270142\n",
      "1.0827120542526245\n",
      "0.9999557733535767\n",
      "0.9493430852890015\n",
      "1.0091651678085327\n",
      "1.0901358127593994\n",
      "0.9675194025039673\n",
      "1.0532724857330322\n",
      "1.0451046228408813\n",
      "1.010846734046936\n",
      "1.0793064832687378\n"
     ]
    },
    {
     "name": "stderr",
     "output_type": "stream",
     "text": [
      " 67%|██████▋   | 10426/15625 [01:47<00:52, 98.15it/s]"
     ]
    },
    {
     "name": "stdout",
     "output_type": "stream",
     "text": [
      "1.0773990154266357\n",
      "0.9886608123779297\n",
      "1.0084201097488403\n",
      "1.0499475002288818\n",
      "0.9875078201293945\n",
      "1.0015095472335815\n",
      "0.9733582735061646\n",
      "1.0296807289123535\n",
      "1.0043054819107056\n",
      "0.9849364161491394\n",
      "0.9856632947921753\n",
      "1.0374294519424438\n",
      "1.0223445892333984\n",
      "1.0861310958862305\n",
      "1.049814224243164\n",
      "1.017183780670166\n",
      "1.0305454730987549\n",
      "1.0753268003463745\n",
      "0.9807156920433044\n",
      "1.0186915397644043\n",
      "1.028439998626709\n"
     ]
    },
    {
     "name": "stderr",
     "output_type": "stream",
     "text": [
      " 67%|██████▋   | 10448/15625 [01:47<00:51, 100.78it/s]"
     ]
    },
    {
     "name": "stdout",
     "output_type": "stream",
     "text": [
      "1.081899642944336\n",
      "1.0670318603515625\n",
      "1.0534873008728027\n",
      "1.0021941661834717\n",
      "1.0054895877838135\n",
      "1.0516974925994873\n",
      "0.9516934156417847\n",
      "0.971437394618988\n",
      "1.0334646701812744\n",
      "0.9918335676193237\n",
      "1.031470775604248\n",
      "0.9819858074188232\n",
      "1.0679941177368164\n",
      "1.079822063446045\n",
      "1.0204187631607056\n",
      "1.0020999908447266\n",
      "0.9551757574081421\n",
      "1.041783094406128\n",
      "1.0610582828521729\n",
      "0.9619472622871399\n",
      "1.0591373443603516\n"
     ]
    },
    {
     "name": "stderr",
     "output_type": "stream",
     "text": [
      "\r",
      " 67%|██████▋   | 10459/15625 [01:47<00:50, 101.62it/s]"
     ]
    },
    {
     "name": "stdout",
     "output_type": "stream",
     "text": [
      "1.0331037044525146\n",
      "1.037361741065979\n",
      "1.0395312309265137\n",
      "1.001572847366333\n",
      "0.9856336116790771\n",
      "1.064192771911621\n",
      "1.085801601409912\n",
      "0.9791604280471802\n",
      "1.0256744623184204\n",
      "1.01806640625\n",
      "1.031245470046997\n",
      "1.012327790260315\n",
      "0.9739809036254883\n",
      "1.050114631652832\n",
      "1.017085075378418\n",
      "1.0335094928741455\n",
      "1.0088287591934204\n",
      "0.9420217275619507\n",
      "1.0605518817901611\n",
      "1.054640531539917\n",
      "0.9966453313827515\n"
     ]
    },
    {
     "name": "stderr",
     "output_type": "stream",
     "text": [
      " 67%|██████▋   | 10481/15625 [01:47<00:50, 102.54it/s]"
     ]
    },
    {
     "name": "stdout",
     "output_type": "stream",
     "text": [
      "0.9876757264137268\n",
      "1.061563491821289\n",
      "0.9722214937210083\n",
      "1.0198012590408325\n",
      "1.0514978170394897\n",
      "1.064071536064148\n",
      "1.0244873762130737\n",
      "1.0357232093811035\n",
      "0.9830725193023682\n",
      "1.0594393014907837\n",
      "1.032730221748352\n",
      "0.9970335960388184\n",
      "0.9742472767829895\n",
      "1.09526789188385\n",
      "1.0927189588546753\n",
      "1.0066375732421875\n",
      "1.0066015720367432\n",
      "1.027065634727478\n",
      "1.0176535844802856\n",
      "1.0131683349609375\n",
      "1.029541254043579\n"
     ]
    },
    {
     "name": "stderr",
     "output_type": "stream",
     "text": [
      " 67%|██████▋   | 10503/15625 [01:48<00:50, 102.44it/s]"
     ]
    },
    {
     "name": "stdout",
     "output_type": "stream",
     "text": [
      "0.960749626159668\n",
      "1.0783753395080566\n",
      "1.0508601665496826\n",
      "1.0498367547988892\n",
      "1.0122959613800049\n",
      "1.0342334508895874\n",
      "1.0531805753707886\n",
      "0.9512341022491455\n",
      "1.0016348361968994\n",
      "1.0604159832000732\n",
      "1.0260400772094727\n",
      "1.0035336017608643\n",
      "0.9687613844871521\n",
      "1.0571837425231934\n",
      "1.0357239246368408\n",
      "0.9888498783111572\n",
      "1.0223735570907593\n",
      "1.0981006622314453\n",
      "0.9497354626655579\n",
      "1.0305957794189453\n",
      "0.996890664100647\n"
     ]
    },
    {
     "name": "stderr",
     "output_type": "stream",
     "text": [
      " 67%|██████▋   | 10525/15625 [01:48<00:49, 102.80it/s]"
     ]
    },
    {
     "name": "stdout",
     "output_type": "stream",
     "text": [
      "0.9964244961738586\n",
      "1.0143487453460693\n",
      "1.041467308998108\n",
      "1.0002621412277222\n",
      "1.022486686706543\n",
      "1.0614347457885742\n",
      "1.0120079517364502\n",
      "1.0927443504333496\n",
      "1.011549711227417\n",
      "0.9981513023376465\n",
      "0.9913260340690613\n",
      "1.0189197063446045\n",
      "0.9897854924201965\n",
      "1.0184247493743896\n",
      "1.0415263175964355\n",
      "1.0225688219070435\n",
      "1.0823123455047607\n",
      "1.0315649509429932\n",
      "1.000484585762024\n",
      "1.0183563232421875\n",
      "1.0266048908233643\n"
     ]
    },
    {
     "name": "stderr",
     "output_type": "stream",
     "text": [
      " 68%|██████▊   | 10547/15625 [01:48<00:49, 102.33it/s]"
     ]
    },
    {
     "name": "stdout",
     "output_type": "stream",
     "text": [
      "1.013819932937622\n",
      "1.0307607650756836\n",
      "1.0768821239471436\n",
      "0.981888473033905\n",
      "0.9696771502494812\n",
      "1.0525689125061035\n",
      "1.0240037441253662\n",
      "1.00644052028656\n",
      "0.9731650352478027\n",
      "1.0552399158477783\n",
      "1.1254773139953613\n",
      "1.0053796768188477\n",
      "1.009277105331421\n",
      "1.0445728302001953\n",
      "1.0753079652786255\n",
      "0.9850776195526123\n",
      "1.0314642190933228\n",
      "1.048254132270813\n",
      "1.0063401460647583\n",
      "0.968660295009613\n",
      "1.0061246156692505\n"
     ]
    },
    {
     "name": "stderr",
     "output_type": "stream",
     "text": [
      " 68%|██████▊   | 10569/15625 [01:48<00:49, 102.25it/s]"
     ]
    },
    {
     "name": "stdout",
     "output_type": "stream",
     "text": [
      "1.0934906005859375\n",
      "0.9977746605873108\n",
      "1.0305652618408203\n",
      "0.9948195219039917\n",
      "1.0248762369155884\n",
      "1.0136947631835938\n",
      "1.012750506401062\n",
      "1.0343317985534668\n",
      "1.0471270084381104\n",
      "1.032679796218872\n",
      "1.0083101987838745\n",
      "1.0432558059692383\n",
      "0.9767667055130005\n",
      "0.9610918164253235\n",
      "1.0117113590240479\n",
      "1.034130334854126\n",
      "1.0382654666900635\n",
      "0.9967476725578308\n",
      "1.034500002861023\n",
      "1.0176420211791992\n",
      "1.039116382598877\n"
     ]
    },
    {
     "name": "stderr",
     "output_type": "stream",
     "text": [
      " 68%|██████▊   | 10591/15625 [01:49<00:49, 101.71it/s]"
     ]
    },
    {
     "name": "stdout",
     "output_type": "stream",
     "text": [
      "1.0032904148101807\n",
      "0.9890352487564087\n",
      "0.9850805401802063\n",
      "0.9910001754760742\n",
      "0.9786876440048218\n",
      "1.0748114585876465\n",
      "0.9847203493118286\n",
      "1.010134220123291\n",
      "0.9924100637435913\n",
      "0.9731426239013672\n",
      "1.068239688873291\n",
      "1.0150309801101685\n",
      "1.0071477890014648\n",
      "0.9726419448852539\n",
      "1.0726311206817627\n",
      "0.9489591717720032\n",
      "1.0318412780761719\n",
      "1.0148282051086426\n",
      "1.031595230102539\n",
      "0.9668525457382202\n",
      "0.9959511756896973\n"
     ]
    },
    {
     "name": "stderr",
     "output_type": "stream",
     "text": [
      " 68%|██████▊   | 10613/15625 [01:49<00:49, 102.02it/s]"
     ]
    },
    {
     "name": "stdout",
     "output_type": "stream",
     "text": [
      "1.0026687383651733\n",
      "1.0145297050476074\n",
      "1.0013365745544434\n",
      "1.0463531017303467\n",
      "1.0521092414855957\n",
      "0.9873773455619812\n",
      "1.0846874713897705\n",
      "0.9952134490013123\n",
      "1.0095685720443726\n",
      "1.0153815746307373\n",
      "1.00380277633667\n",
      "1.0152077674865723\n",
      "1.0518718957901\n",
      "1.0728814601898193\n",
      "1.0501561164855957\n",
      "0.9798901081085205\n",
      "1.0277668237686157\n",
      "0.9866740703582764\n",
      "1.0006439685821533\n",
      "1.0223102569580078\n",
      "1.0169936418533325\n"
     ]
    },
    {
     "name": "stderr",
     "output_type": "stream",
     "text": [
      " 68%|██████▊   | 10635/15625 [01:49<00:48, 102.27it/s]"
     ]
    },
    {
     "name": "stdout",
     "output_type": "stream",
     "text": [
      "0.9769244194030762\n",
      "1.0648956298828125\n",
      "1.0181626081466675\n",
      "1.033315896987915\n",
      "0.9922230243682861\n",
      "1.0501766204833984\n",
      "1.0077354907989502\n",
      "1.0396945476531982\n",
      "1.0493710041046143\n",
      "1.0472437143325806\n",
      "1.0051586627960205\n",
      "1.0129886865615845\n",
      "0.9536641836166382\n",
      "0.9084502458572388\n",
      "1.0531747341156006\n",
      "1.0561137199401855\n",
      "1.0442818403244019\n",
      "1.0323913097381592\n",
      "1.0457762479782104\n",
      "1.0236046314239502\n",
      "0.9861444234848022\n"
     ]
    },
    {
     "name": "stderr",
     "output_type": "stream",
     "text": [
      " 68%|██████▊   | 10657/15625 [01:49<00:48, 102.40it/s]"
     ]
    },
    {
     "name": "stdout",
     "output_type": "stream",
     "text": [
      "1.041645884513855\n",
      "1.0334826707839966\n",
      "0.9939548373222351\n",
      "0.9789837598800659\n",
      "1.0205168724060059\n",
      "0.9885672926902771\n",
      "1.0723944902420044\n",
      "1.0088863372802734\n",
      "1.0192136764526367\n",
      "1.002623438835144\n",
      "0.979133129119873\n",
      "1.0418956279754639\n",
      "1.0164589881896973\n",
      "0.98174649477005\n",
      "1.0106078386306763\n",
      "0.9983675479888916\n",
      "1.0536434650421143\n",
      "1.0546364784240723\n",
      "0.9700550436973572\n",
      "0.9509268403053284\n",
      "0.9792760014533997\n"
     ]
    },
    {
     "name": "stderr",
     "output_type": "stream",
     "text": [
      " 68%|██████▊   | 10679/15625 [01:49<00:48, 102.65it/s]"
     ]
    },
    {
     "name": "stdout",
     "output_type": "stream",
     "text": [
      "1.0258657932281494\n",
      "1.052744746208191\n",
      "1.0150461196899414\n",
      "0.9994444847106934\n",
      "1.0160555839538574\n",
      "0.984016478061676\n",
      "1.0201295614242554\n",
      "1.0938465595245361\n",
      "1.0353202819824219\n",
      "0.9763745069503784\n",
      "0.980010986328125\n",
      "0.9674269556999207\n",
      "1.0401684045791626\n",
      "0.988051176071167\n",
      "0.9877609014511108\n",
      "1.0666476488113403\n",
      "1.0525643825531006\n",
      "1.0270605087280273\n",
      "1.0263363122940063\n",
      "1.050816535949707\n",
      "1.0655218362808228\n"
     ]
    },
    {
     "name": "stderr",
     "output_type": "stream",
     "text": [
      "\r",
      " 68%|██████▊   | 10690/15625 [01:49<00:48, 102.34it/s]"
     ]
    },
    {
     "name": "stdout",
     "output_type": "stream",
     "text": [
      "1.0065481662750244\n",
      "1.022688627243042\n",
      "1.045501470565796\n",
      "1.0345981121063232\n",
      "0.9945371747016907\n",
      "0.9757925271987915\n",
      "1.0368977785110474\n",
      "0.9998815059661865\n",
      "0.9956859350204468\n",
      "1.051720380783081\n",
      "1.034205675125122\n",
      "1.0063199996948242\n",
      "0.9880357980728149\n",
      "1.0881789922714233\n",
      "1.0415784120559692\n",
      "1.0623159408569336\n",
      "1.0024663209915161\n",
      "1.0197522640228271\n",
      "1.0337426662445068\n",
      "1.0585567951202393\n",
      "0.9880552291870117\n"
     ]
    },
    {
     "name": "stderr",
     "output_type": "stream",
     "text": [
      " 69%|██████▊   | 10712/15625 [01:50<00:48, 101.50it/s]"
     ]
    },
    {
     "name": "stdout",
     "output_type": "stream",
     "text": [
      "1.0198534727096558\n",
      "1.082904577255249\n",
      "1.0136375427246094\n",
      "1.0073119401931763\n",
      "1.0033459663391113\n",
      "0.93857741355896\n",
      "0.9944716691970825\n",
      "1.035380244255066\n",
      "0.9947913885116577\n",
      "0.9713963270187378\n",
      "0.9746085405349731\n",
      "1.076575517654419\n",
      "0.989595890045166\n",
      "1.0385620594024658\n",
      "1.0557138919830322\n",
      "1.0270419120788574\n",
      "1.0360220670700073\n",
      "1.0876832008361816\n",
      "1.0552774667739868\n",
      "0.969024658203125\n",
      "0.9986067414283752\n"
     ]
    },
    {
     "name": "stderr",
     "output_type": "stream",
     "text": [
      " 69%|██████▊   | 10734/15625 [01:50<00:47, 101.95it/s]"
     ]
    },
    {
     "name": "stdout",
     "output_type": "stream",
     "text": [
      "0.9899675846099854\n",
      "1.019885540008545\n",
      "1.0572491884231567\n",
      "1.0071641206741333\n",
      "1.0349681377410889\n",
      "1.0488520860671997\n",
      "1.0522401332855225\n",
      "0.9642226099967957\n",
      "0.9961088299751282\n",
      "0.9868834018707275\n",
      "1.0338435173034668\n",
      "0.9926788210868835\n",
      "1.0538110733032227\n",
      "1.0680718421936035\n",
      "1.0174269676208496\n",
      "1.0062583684921265\n",
      "1.026536226272583\n",
      "1.0260565280914307\n",
      "0.9675844311714172\n",
      "1.072634220123291\n",
      "1.090463399887085\n"
     ]
    },
    {
     "name": "stderr",
     "output_type": "stream",
     "text": [
      " 69%|██████▉   | 10756/15625 [01:50<00:47, 102.56it/s]"
     ]
    },
    {
     "name": "stdout",
     "output_type": "stream",
     "text": [
      "0.9882535934448242\n",
      "1.0160048007965088\n",
      "1.0216560363769531\n",
      "0.9622970819473267\n",
      "1.0325545072555542\n",
      "0.9684436321258545\n",
      "0.9974046945571899\n",
      "0.9948508739471436\n",
      "1.052304983139038\n",
      "1.0077937841415405\n",
      "1.0267283916473389\n",
      "1.0306768417358398\n",
      "1.051822304725647\n",
      "1.0312442779541016\n",
      "1.0602173805236816\n",
      "0.9983507394790649\n",
      "0.9778570532798767\n",
      "1.0031729936599731\n",
      "1.0140838623046875\n",
      "1.0634342432022095\n",
      "1.0728442668914795\n"
     ]
    },
    {
     "name": "stderr",
     "output_type": "stream",
     "text": [
      " 69%|██████▉   | 10778/15625 [01:50<00:47, 101.78it/s]"
     ]
    },
    {
     "name": "stdout",
     "output_type": "stream",
     "text": [
      "0.9736514091491699\n",
      "0.9774348735809326\n",
      "0.968863844871521\n",
      "1.0876275300979614\n",
      "1.0139358043670654\n",
      "0.9923413395881653\n",
      "1.023419737815857\n",
      "1.0240628719329834\n",
      "1.1101927757263184\n",
      "1.0239198207855225\n",
      "0.9825268387794495\n",
      "1.08561372756958\n",
      "0.9905375242233276\n",
      "0.9958576560020447\n",
      "1.0353753566741943\n",
      "0.9837974309921265\n",
      "1.0078939199447632\n",
      "1.0121262073516846\n",
      "1.020941972732544\n",
      "1.03688383102417\n",
      "1.0586988925933838\n"
     ]
    },
    {
     "name": "stderr",
     "output_type": "stream",
     "text": [
      " 69%|██████▉   | 10800/15625 [01:51<00:47, 101.73it/s]"
     ]
    },
    {
     "name": "stdout",
     "output_type": "stream",
     "text": [
      "0.9711288213729858\n",
      "0.9858314990997314\n",
      "1.0198948383331299\n",
      "1.0315918922424316\n",
      "1.047201156616211\n",
      "1.0004467964172363\n",
      "1.0080667734146118\n",
      "1.0074546337127686\n",
      "0.9850250482559204\n",
      "1.0816199779510498\n",
      "0.9915508031845093\n",
      "0.9976971745491028\n",
      "0.9866169691085815\n",
      "1.0354300737380981\n",
      "0.9939746856689453\n",
      "1.0372843742370605\n",
      "1.0881861448287964\n",
      "1.0370473861694336\n",
      "1.3483104705810547\n",
      "0.9082961082458496\n",
      "1.0227129459381104\n"
     ]
    },
    {
     "name": "stderr",
     "output_type": "stream",
     "text": [
      " 69%|██████▉   | 10822/15625 [01:51<00:47, 101.58it/s]"
     ]
    },
    {
     "name": "stdout",
     "output_type": "stream",
     "text": [
      "1.0625650882720947\n",
      "0.9657033681869507\n",
      "1.0135979652404785\n",
      "1.1312412023544312\n",
      "1.0434939861297607\n",
      "1.067274808883667\n",
      "0.9524573683738708\n",
      "1.005220651626587\n",
      "1.0280463695526123\n",
      "0.9971628189086914\n",
      "0.9937839508056641\n",
      "0.9879172444343567\n",
      "1.0605027675628662\n",
      "0.9499359130859375\n",
      "0.9396673440933228\n",
      "0.9842779040336609\n",
      "1.0316158533096313\n",
      "1.0150779485702515\n",
      "1.0424014329910278\n",
      "1.03013277053833\n",
      "0.9931607246398926\n"
     ]
    },
    {
     "name": "stderr",
     "output_type": "stream",
     "text": [
      " 69%|██████▉   | 10844/15625 [01:51<00:46, 101.82it/s]"
     ]
    },
    {
     "name": "stdout",
     "output_type": "stream",
     "text": [
      "1.0589451789855957\n",
      "1.0324105024337769\n",
      "1.0578594207763672\n",
      "1.0576362609863281\n",
      "1.0885365009307861\n",
      "1.0197049379348755\n",
      "1.0474483966827393\n",
      "1.0641224384307861\n",
      "1.0445102453231812\n",
      "0.9943181276321411\n",
      "1.0109753608703613\n",
      "1.0534863471984863\n",
      "1.0150425434112549\n",
      "1.074709415435791\n",
      "0.9830886125564575\n",
      "1.0189470052719116\n",
      "1.0289359092712402\n",
      "1.0197051763534546\n",
      "1.022902011871338\n",
      "1.054918646812439\n",
      "0.9785662889480591\n"
     ]
    },
    {
     "name": "stderr",
     "output_type": "stream",
     "text": [
      " 70%|██████▉   | 10866/15625 [01:51<00:46, 101.85it/s]"
     ]
    },
    {
     "name": "stdout",
     "output_type": "stream",
     "text": [
      "1.0905404090881348\n",
      "1.0860050916671753\n",
      "0.9787721037864685\n",
      "1.079174518585205\n",
      "0.9863081574440002\n",
      "0.9865744113922119\n",
      "1.06100332736969\n",
      "1.0145289897918701\n",
      "1.0092551708221436\n",
      "1.0719143152236938\n",
      "0.9734516143798828\n",
      "0.9862068891525269\n",
      "1.0782719850540161\n",
      "0.9967969059944153\n",
      "1.0323009490966797\n",
      "0.9587324261665344\n",
      "1.051288366317749\n",
      "1.0280120372772217\n",
      "1.0313917398452759\n",
      "1.0427350997924805\n",
      "1.0056350231170654\n"
     ]
    },
    {
     "name": "stderr",
     "output_type": "stream",
     "text": [
      " 70%|██████▉   | 10888/15625 [01:51<00:46, 102.21it/s]"
     ]
    },
    {
     "name": "stdout",
     "output_type": "stream",
     "text": [
      "1.0230953693389893\n",
      "1.0382370948791504\n",
      "0.9769707918167114\n",
      "1.0086219310760498\n",
      "0.9911602139472961\n",
      "1.0250046253204346\n",
      "0.985499382019043\n",
      "0.9400472640991211\n",
      "1.0633405447006226\n",
      "0.9962403774261475\n",
      "0.9796409010887146\n",
      "1.0430338382720947\n",
      "1.0905205011367798\n",
      "0.9533544778823853\n",
      "0.9967923164367676\n",
      "1.0590405464172363\n",
      "1.0169792175292969\n",
      "0.9859283566474915\n",
      "1.063575267791748\n",
      "0.9561358094215393\n",
      "1.0223135948181152\n"
     ]
    },
    {
     "name": "stderr",
     "output_type": "stream",
     "text": [
      " 70%|██████▉   | 10910/15625 [01:52<00:46, 102.03it/s]"
     ]
    },
    {
     "name": "stdout",
     "output_type": "stream",
     "text": [
      "1.0047340393066406\n",
      "0.9600582122802734\n",
      "0.9871569275856018\n",
      "0.9968160390853882\n",
      "0.9795386791229248\n",
      "0.96761155128479\n",
      "1.0143001079559326\n",
      "0.9926632046699524\n",
      "1.0458645820617676\n",
      "1.0385822057724\n",
      "1.0609599351882935\n",
      "1.0341405868530273\n",
      "1.002624273300171\n",
      "0.9778884649276733\n",
      "1.0499323606491089\n",
      "0.9680300354957581\n",
      "1.0141090154647827\n",
      "1.0359681844711304\n",
      "0.9636896848678589\n",
      "1.0202590227127075\n",
      "1.0070619583129883\n"
     ]
    },
    {
     "name": "stderr",
     "output_type": "stream",
     "text": [
      "\r",
      " 70%|██████▉   | 10921/15625 [01:52<00:46, 101.70it/s]"
     ]
    },
    {
     "name": "stdout",
     "output_type": "stream",
     "text": [
      "1.0323210954666138\n",
      "1.018774151802063\n",
      "1.0371577739715576\n",
      "1.0173810720443726\n",
      "1.036162257194519\n",
      "1.0811004638671875\n",
      "1.020798921585083\n",
      "1.0034667253494263\n",
      "0.968913197517395\n",
      "0.966513991355896\n",
      "1.0547871589660645\n",
      "1.0307526588439941\n",
      "0.9882756471633911\n",
      "0.9961997270584106\n",
      "1.0454750061035156\n",
      "0.9627811312675476\n",
      "1.0395011901855469\n",
      "1.0533902645111084\n",
      "1.0388362407684326\n",
      "1.0425126552581787\n",
      "1.002838373184204\n"
     ]
    },
    {
     "name": "stderr",
     "output_type": "stream",
     "text": [
      " 70%|███████   | 10943/15625 [01:52<00:45, 102.06it/s]"
     ]
    },
    {
     "name": "stdout",
     "output_type": "stream",
     "text": [
      "0.9892328381538391\n",
      "0.9634546041488647\n",
      "1.0697554349899292\n",
      "0.9882767200469971\n",
      "1.0208516120910645\n",
      "1.0733388662338257\n",
      "0.999055027961731\n",
      "1.0620975494384766\n",
      "1.0412677526474\n",
      "0.9831613898277283\n",
      "1.0000367164611816\n",
      "0.996671736240387\n",
      "1.0265533924102783\n",
      "0.9780193567276001\n",
      "0.9928174614906311\n",
      "0.9966313242912292\n",
      "1.012824535369873\n",
      "0.9737581610679626\n",
      "1.0221376419067383\n",
      "1.0197505950927734\n",
      "1.0077717304229736\n"
     ]
    },
    {
     "name": "stderr",
     "output_type": "stream",
     "text": [
      " 70%|███████   | 10965/15625 [01:52<00:45, 102.37it/s]"
     ]
    },
    {
     "name": "stdout",
     "output_type": "stream",
     "text": [
      "1.0181199312210083\n",
      "1.0345590114593506\n",
      "1.0484814643859863\n",
      "1.0083601474761963\n",
      "1.035759449005127\n",
      "1.0118067264556885\n",
      "1.052419662475586\n",
      "1.0121196508407593\n",
      "0.9621421098709106\n",
      "1.0547815561294556\n",
      "1.1447248458862305\n",
      "1.0222150087356567\n",
      "1.0181092023849487\n",
      "1.0266807079315186\n",
      "1.0157601833343506\n",
      "1.0398372411727905\n",
      "0.9751036167144775\n",
      "1.0107389688491821\n",
      "0.9569845199584961\n",
      "1.0241187810897827\n",
      "1.059770107269287\n"
     ]
    },
    {
     "name": "stderr",
     "output_type": "stream",
     "text": [
      " 70%|███████   | 10987/15625 [01:52<00:45, 101.96it/s]"
     ]
    },
    {
     "name": "stdout",
     "output_type": "stream",
     "text": [
      "1.0196746587753296\n",
      "1.0256825685501099\n",
      "1.0683822631835938\n",
      "1.0281586647033691\n",
      "1.0071216821670532\n",
      "1.0675674676895142\n",
      "1.0643887519836426\n",
      "0.982840359210968\n",
      "0.9861305356025696\n",
      "1.0336995124816895\n",
      "1.059746265411377\n",
      "1.043367862701416\n",
      "0.9993511438369751\n",
      "1.0255521535873413\n",
      "1.0472723245620728\n",
      "1.026092767715454\n",
      "1.005779504776001\n",
      "0.97359299659729\n",
      "1.0060185194015503\n",
      "0.9787729978561401\n",
      "1.0259809494018555\n"
     ]
    },
    {
     "name": "stderr",
     "output_type": "stream",
     "text": [
      " 70%|███████   | 11009/15625 [01:53<00:44, 102.71it/s]"
     ]
    },
    {
     "name": "stdout",
     "output_type": "stream",
     "text": [
      "1.1005089282989502\n",
      "1.0369272232055664\n",
      "1.004131555557251\n",
      "1.0228970050811768\n",
      "1.0086820125579834\n",
      "1.0548224449157715\n",
      "1.0003032684326172\n",
      "1.1135094165802002\n",
      "1.041759967803955\n",
      "1.022073745727539\n",
      "1.0530693531036377\n",
      "0.9565044045448303\n",
      "1.0480302572250366\n",
      "1.027145266532898\n",
      "0.9512392282485962\n",
      "1.0269920825958252\n",
      "1.0041862726211548\n",
      "0.9643354415893555\n",
      "0.9961608052253723\n",
      "1.0141135454177856\n",
      "1.0380326509475708\n"
     ]
    },
    {
     "name": "stderr",
     "output_type": "stream",
     "text": [
      " 71%|███████   | 11031/15625 [01:53<00:44, 102.70it/s]"
     ]
    },
    {
     "name": "stdout",
     "output_type": "stream",
     "text": [
      "0.992642879486084\n",
      "1.0523005723953247\n",
      "1.0834674835205078\n",
      "1.0272893905639648\n",
      "0.9448719620704651\n",
      "0.9904738068580627\n",
      "1.0730493068695068\n",
      "1.0626883506774902\n",
      "1.0389368534088135\n",
      "1.0109977722167969\n",
      "0.9629905223846436\n",
      "1.016710638999939\n",
      "1.0093426704406738\n",
      "1.002705693244934\n",
      "1.00514554977417\n",
      "1.0923492908477783\n",
      "1.0399858951568604\n",
      "1.0533735752105713\n",
      "0.9521405696868896\n",
      "1.0422661304473877\n",
      "1.0273419618606567\n"
     ]
    },
    {
     "name": "stderr",
     "output_type": "stream",
     "text": [
      " 71%|███████   | 11053/15625 [01:53<00:44, 102.67it/s]"
     ]
    },
    {
     "name": "stdout",
     "output_type": "stream",
     "text": [
      "1.0312155485153198\n",
      "1.0396537780761719\n",
      "1.0308680534362793\n",
      "1.0178327560424805\n",
      "1.0250887870788574\n",
      "1.0017733573913574\n",
      "0.9738744497299194\n",
      "1.042531132698059\n",
      "1.0120651721954346\n",
      "1.0057469606399536\n",
      "1.0521759986877441\n",
      "1.0307338237762451\n",
      "1.0064268112182617\n",
      "1.0517643690109253\n",
      "1.010456919670105\n",
      "1.0519919395446777\n",
      "1.012894630432129\n",
      "0.9901421070098877\n",
      "1.0160080194473267\n",
      "1.0617637634277344\n",
      "0.916306734085083\n"
     ]
    },
    {
     "name": "stderr",
     "output_type": "stream",
     "text": [
      " 71%|███████   | 11075/15625 [01:53<00:44, 102.19it/s]"
     ]
    },
    {
     "name": "stdout",
     "output_type": "stream",
     "text": [
      "1.0111665725708008\n",
      "1.0208351612091064\n",
      "1.020326852798462\n",
      "1.0583620071411133\n",
      "0.9769691824913025\n",
      "1.022091269493103\n",
      "1.0084394216537476\n",
      "1.0332928895950317\n",
      "1.0058972835540771\n",
      "1.0377333164215088\n",
      "0.9659563899040222\n",
      "0.9890255928039551\n",
      "1.015058159828186\n",
      "1.0082567930221558\n",
      "0.9643592238426208\n",
      "0.9584164619445801\n",
      "0.9924625158309937\n",
      "1.0652923583984375\n",
      "1.050992488861084\n",
      "1.018689513206482\n",
      "0.9599555730819702\n"
     ]
    },
    {
     "name": "stderr",
     "output_type": "stream",
     "text": [
      " 71%|███████   | 11097/15625 [01:53<00:43, 102.92it/s]"
     ]
    },
    {
     "name": "stdout",
     "output_type": "stream",
     "text": [
      "1.0458526611328125\n",
      "0.9946067333221436\n",
      "1.0340745449066162\n",
      "0.9615375995635986\n",
      "0.9962710738182068\n",
      "1.0926414728164673\n",
      "1.0120887756347656\n",
      "1.0113415718078613\n",
      "0.9274652004241943\n",
      "1.0399647951126099\n",
      "1.0580847263336182\n",
      "1.0411686897277832\n",
      "1.027233362197876\n",
      "1.0855976343154907\n",
      "1.0639495849609375\n",
      "1.0428032875061035\n",
      "1.0053176879882812\n",
      "1.0388596057891846\n",
      "1.140218734741211\n",
      "1.0098451375961304\n",
      "0.979315459728241\n"
     ]
    },
    {
     "name": "stderr",
     "output_type": "stream",
     "text": [
      " 71%|███████   | 11119/15625 [01:54<00:43, 103.06it/s]"
     ]
    },
    {
     "name": "stdout",
     "output_type": "stream",
     "text": [
      "0.9679309725761414\n",
      "1.0228766202926636\n",
      "0.9957075119018555\n",
      "1.0479512214660645\n",
      "1.0332822799682617\n",
      "1.0315157175064087\n",
      "1.0418412685394287\n",
      "0.984833836555481\n",
      "1.024376392364502\n",
      "1.0812615156173706\n",
      "1.04854416847229\n",
      "0.9861889481544495\n",
      "1.0496482849121094\n",
      "1.0858709812164307\n",
      "0.9916412234306335\n",
      "1.0220379829406738\n",
      "1.0142499208450317\n",
      "1.0088900327682495\n",
      "1.0558010339736938\n",
      "1.0198750495910645\n",
      "0.927008867263794\n"
     ]
    },
    {
     "name": "stderr",
     "output_type": "stream",
     "text": [
      " 71%|███████▏  | 11141/15625 [01:54<00:43, 103.39it/s]"
     ]
    },
    {
     "name": "stdout",
     "output_type": "stream",
     "text": [
      "1.0628821849822998\n",
      "0.9871383905410767\n",
      "1.1071593761444092\n",
      "1.0227547883987427\n",
      "0.9937697649002075\n",
      "0.9860374927520752\n",
      "0.9668659567832947\n",
      "1.0207092761993408\n",
      "0.9966819286346436\n",
      "0.9607874155044556\n",
      "0.9814344644546509\n",
      "1.0203125476837158\n",
      "1.0314662456512451\n",
      "1.0723426342010498\n",
      "1.0483014583587646\n",
      "0.9837232828140259\n",
      "0.9757118225097656\n",
      "0.9632429480552673\n",
      "1.0001195669174194\n",
      "0.989914059638977\n",
      "1.0532605648040771\n"
     ]
    },
    {
     "name": "stderr",
     "output_type": "stream",
     "text": [
      "\r",
      " 71%|███████▏  | 11152/15625 [01:54<00:43, 102.81it/s]"
     ]
    },
    {
     "name": "stdout",
     "output_type": "stream",
     "text": [
      "1.030456304550171\n",
      "1.0474660396575928\n",
      "0.9983644485473633\n",
      "0.9731168746948242\n",
      "0.9760487675666809\n",
      "1.061929702758789\n",
      "0.9642648100852966\n",
      "0.9991626739501953\n",
      "1.0463035106658936\n",
      "1.0102880001068115\n",
      "1.0466454029083252\n",
      "1.0052640438079834\n",
      "1.006892442703247\n",
      "0.9934208989143372\n",
      "0.9766461849212646\n",
      "1.0601608753204346\n",
      "0.9790691137313843\n",
      "1.0063667297363281\n",
      "1.017855167388916\n",
      "1.0486637353897095\n",
      "1.0467119216918945\n"
     ]
    },
    {
     "name": "stderr",
     "output_type": "stream",
     "text": [
      " 72%|███████▏  | 11174/15625 [01:54<00:43, 102.37it/s]"
     ]
    },
    {
     "name": "stdout",
     "output_type": "stream",
     "text": [
      "1.034900188446045\n",
      "0.9784377217292786\n",
      "1.0097320079803467\n",
      "1.0060222148895264\n",
      "1.0085395574569702\n",
      "1.0798790454864502\n",
      "0.9822146892547607\n",
      "1.1140401363372803\n",
      "0.9322305917739868\n",
      "1.0296630859375\n",
      "1.0251494646072388\n",
      "1.060943603515625\n",
      "1.0352929830551147\n",
      "0.9861205816268921\n",
      "0.9664261341094971\n",
      "1.0440832376480103\n",
      "1.0484745502471924\n",
      "0.9772271513938904\n",
      "1.0155308246612549\n",
      "1.0101995468139648\n",
      "1.0108726024627686\n"
     ]
    },
    {
     "name": "stderr",
     "output_type": "stream",
     "text": [
      " 72%|███████▏  | 11196/15625 [01:54<00:43, 102.16it/s]"
     ]
    },
    {
     "name": "stdout",
     "output_type": "stream",
     "text": [
      "1.0504279136657715\n",
      "0.9906494617462158\n",
      "1.0097110271453857\n",
      "1.0142872333526611\n",
      "0.955438494682312\n",
      "1.029493808746338\n",
      "1.0342211723327637\n",
      "1.035320520401001\n",
      "0.991250216960907\n",
      "0.9626836180686951\n",
      "1.0491241216659546\n",
      "1.0378577709197998\n",
      "1.0840328931808472\n",
      "1.0582187175750732\n",
      "1.0525709390640259\n",
      "1.0118920803070068\n",
      "1.062593698501587\n",
      "1.0028934478759766\n",
      "0.9891175031661987\n",
      "0.9703962206840515\n",
      "1.0371735095977783\n"
     ]
    },
    {
     "name": "stderr",
     "output_type": "stream",
     "text": [
      " 72%|███████▏  | 11218/15625 [01:55<00:43, 102.11it/s]"
     ]
    },
    {
     "name": "stdout",
     "output_type": "stream",
     "text": [
      "1.124187707901001\n",
      "1.0286595821380615\n",
      "1.0188522338867188\n",
      "1.0690174102783203\n",
      "0.9963697195053101\n",
      "1.0216119289398193\n",
      "0.9865376949310303\n",
      "0.9971358776092529\n",
      "1.0645081996917725\n",
      "1.054565668106079\n",
      "1.0595920085906982\n",
      "0.9868707656860352\n",
      "1.0722874402999878\n",
      "1.1063995361328125\n",
      "1.062635898590088\n",
      "0.9872641563415527\n",
      "1.0412806272506714\n",
      "0.9770051836967468\n",
      "0.9730972051620483\n",
      "1.0164215564727783\n",
      "1.064729928970337\n"
     ]
    },
    {
     "name": "stderr",
     "output_type": "stream",
     "text": [
      " 72%|███████▏  | 11240/15625 [01:55<00:42, 102.17it/s]"
     ]
    },
    {
     "name": "stdout",
     "output_type": "stream",
     "text": [
      "1.0251272916793823\n",
      "1.0114655494689941\n",
      "1.012345552444458\n",
      "0.9788099527359009\n",
      "1.0271482467651367\n",
      "1.0002621412277222\n",
      "0.9462138414382935\n",
      "1.0478665828704834\n",
      "1.128960132598877\n",
      "0.9979662299156189\n",
      "1.0147342681884766\n",
      "1.0085511207580566\n",
      "1.0733346939086914\n",
      "1.0055030584335327\n",
      "0.9927634596824646\n",
      "1.0079983472824097\n",
      "1.0676097869873047\n",
      "0.9386078119277954\n",
      "1.0286622047424316\n",
      "0.9629207849502563\n",
      "1.0000187158584595\n"
     ]
    },
    {
     "name": "stderr",
     "output_type": "stream",
     "text": [
      " 72%|███████▏  | 11262/15625 [01:55<00:42, 102.24it/s]"
     ]
    },
    {
     "name": "stdout",
     "output_type": "stream",
     "text": [
      "1.044362187385559\n",
      "0.9947788119316101\n",
      "0.9821351170539856\n",
      "1.0137699842453003\n",
      "1.0086873769760132\n",
      "1.0488064289093018\n",
      "1.0121691226959229\n",
      "1.041684627532959\n",
      "0.9437945485115051\n",
      "1.0513637065887451\n",
      "1.0409772396087646\n",
      "0.9862127304077148\n",
      "1.0591752529144287\n",
      "1.0433716773986816\n",
      "0.9819170832633972\n",
      "0.9631798267364502\n",
      "1.0097324848175049\n",
      "1.0370335578918457\n",
      "1.0001646280288696\n",
      "1.0550556182861328\n",
      "1.0078706741333008\n"
     ]
    },
    {
     "name": "stderr",
     "output_type": "stream",
     "text": [
      " 72%|███████▏  | 11284/15625 [01:55<00:42, 102.66it/s]"
     ]
    },
    {
     "name": "stdout",
     "output_type": "stream",
     "text": [
      "1.0196024179458618\n",
      "1.017134189605713\n",
      "0.9930646419525146\n",
      "0.9825258851051331\n",
      "1.0191624164581299\n",
      "1.0720932483673096\n",
      "1.0543172359466553\n",
      "1.0225777626037598\n",
      "0.9954890012741089\n",
      "1.0387797355651855\n",
      "1.024345874786377\n",
      "1.0150634050369263\n",
      "0.9916678071022034\n",
      "1.044964075088501\n",
      "1.0117233991622925\n",
      "1.022696614265442\n",
      "1.023397445678711\n",
      "1.0332136154174805\n",
      "0.9546524286270142\n",
      "1.0480289459228516\n",
      "0.9633985161781311\n"
     ]
    },
    {
     "name": "stderr",
     "output_type": "stream",
     "text": [
      " 72%|███████▏  | 11306/15625 [01:56<00:41, 102.86it/s]"
     ]
    },
    {
     "name": "stdout",
     "output_type": "stream",
     "text": [
      "1.0350499153137207\n",
      "1.0104751586914062\n",
      "1.0196202993392944\n",
      "0.974545955657959\n",
      "1.0050156116485596\n",
      "1.0536251068115234\n",
      "0.9903090596199036\n",
      "1.0090522766113281\n",
      "0.9600517749786377\n",
      "0.981340229511261\n",
      "1.0343120098114014\n",
      "1.0656700134277344\n",
      "1.0161837339401245\n",
      "1.0101659297943115\n",
      "1.056565761566162\n",
      "1.0106281042099\n",
      "1.07052743434906\n",
      "1.049580454826355\n",
      "0.992500901222229\n",
      "0.9843423366546631\n",
      "0.9565647840499878\n"
     ]
    },
    {
     "name": "stderr",
     "output_type": "stream",
     "text": [
      " 72%|███████▏  | 11328/15625 [01:56<00:41, 102.88it/s]"
     ]
    },
    {
     "name": "stdout",
     "output_type": "stream",
     "text": [
      "1.0098040103912354\n",
      "1.035155177116394\n",
      "0.9299846887588501\n",
      "1.0015285015106201\n",
      "1.043230414390564\n",
      "1.017203450202942\n",
      "1.0400431156158447\n",
      "1.0957715511322021\n",
      "0.9895375967025757\n",
      "0.9595605731010437\n",
      "0.9860539436340332\n",
      "1.06277334690094\n",
      "1.018761396408081\n",
      "1.0025783777236938\n",
      "0.9896978735923767\n",
      "0.9844642281532288\n",
      "1.0284799337387085\n",
      "1.0058482885360718\n",
      "1.0365111827850342\n",
      "0.9671767950057983\n",
      "1.0001096725463867\n"
     ]
    },
    {
     "name": "stderr",
     "output_type": "stream",
     "text": [
      " 73%|███████▎  | 11350/15625 [01:56<00:41, 103.18it/s]"
     ]
    },
    {
     "name": "stdout",
     "output_type": "stream",
     "text": [
      "0.9662511348724365\n",
      "1.0142383575439453\n",
      "1.0374432802200317\n",
      "1.0670338869094849\n",
      "1.0140037536621094\n",
      "1.0475893020629883\n",
      "1.0502744913101196\n",
      "1.0459539890289307\n",
      "1.0308361053466797\n",
      "1.0028424263000488\n",
      "0.9793161749839783\n",
      "0.9778721332550049\n",
      "1.0247175693511963\n",
      "1.040635347366333\n",
      "1.002784013748169\n",
      "0.9756023287773132\n",
      "1.0694228410720825\n",
      "0.9790089130401611\n",
      "1.0218323469161987\n",
      "1.0185109376907349\n",
      "0.9921890497207642\n"
     ]
    },
    {
     "name": "stderr",
     "output_type": "stream",
     "text": [
      " 73%|███████▎  | 11372/15625 [01:56<00:40, 103.92it/s]"
     ]
    },
    {
     "name": "stdout",
     "output_type": "stream",
     "text": [
      "0.9709096550941467\n",
      "0.954519510269165\n",
      "0.9767228364944458\n",
      "1.0613572597503662\n",
      "1.0047158002853394\n",
      "1.0246455669403076\n",
      "0.9724180102348328\n",
      "0.9833447933197021\n",
      "0.9892870187759399\n",
      "0.9718904495239258\n",
      "0.9853675961494446\n",
      "1.0206135511398315\n",
      "1.0579332113265991\n",
      "1.0494593381881714\n",
      "0.9676641225814819\n",
      "1.0201613903045654\n",
      "1.0178937911987305\n",
      "1.0462303161621094\n",
      "0.9913752675056458\n",
      "1.0174601078033447\n",
      "1.005265712738037\n",
      "0.9297478795051575\n"
     ]
    },
    {
     "name": "stderr",
     "output_type": "stream",
     "text": [
      " 73%|███████▎  | 11394/15625 [01:56<00:40, 103.61it/s]"
     ]
    },
    {
     "name": "stdout",
     "output_type": "stream",
     "text": [
      "1.0918099880218506\n",
      "1.027718424797058\n",
      "1.0627437829971313\n",
      "1.0128648281097412\n",
      "0.9962407350540161\n",
      "0.9497630596160889\n",
      "1.096811056137085\n",
      "0.9890040755271912\n",
      "0.9771857261657715\n",
      "1.0444464683532715\n",
      "1.0219154357910156\n",
      "1.1134746074676514\n",
      "1.045153260231018\n",
      "0.9742832183837891\n",
      "1.0379433631896973\n",
      "1.0379301309585571\n",
      "0.9838259220123291\n",
      "0.9794790148735046\n",
      "1.0667164325714111\n",
      "0.9014443159103394\n",
      "0.977137565612793\n"
     ]
    },
    {
     "name": "stderr",
     "output_type": "stream",
     "text": [
      "\r",
      " 73%|███████▎  | 11405/15625 [01:56<00:40, 103.44it/s]"
     ]
    },
    {
     "name": "stdout",
     "output_type": "stream",
     "text": [
      "0.9972246885299683\n",
      "0.965288519859314\n",
      "1.0338401794433594\n",
      "0.9660247564315796\n",
      "1.0065617561340332\n",
      "0.9816832542419434\n",
      "1.0282062292099\n",
      "1.0213581323623657\n",
      "0.992306649684906\n",
      "0.9806682467460632\n",
      "1.0284911394119263\n",
      "0.9970730543136597\n",
      "1.0256026983261108\n",
      "1.0436031818389893\n",
      "1.000445008277893\n",
      "0.9991673231124878\n",
      "0.9736911058425903\n",
      "0.986473798751831\n",
      "1.0094468593597412\n",
      "1.0359218120574951\n",
      "0.996120810508728\n"
     ]
    },
    {
     "name": "stderr",
     "output_type": "stream",
     "text": [
      " 73%|███████▎  | 11427/15625 [01:57<00:40, 103.06it/s]"
     ]
    },
    {
     "name": "stdout",
     "output_type": "stream",
     "text": [
      "1.0576484203338623\n",
      "1.0446178913116455\n",
      "0.9605650305747986\n",
      "0.9557377696037292\n",
      "1.0087406635284424\n",
      "1.0770291090011597\n",
      "1.0071494579315186\n",
      "0.9900953769683838\n",
      "1.0023722648620605\n",
      "1.005645513534546\n",
      "1.0315876007080078\n",
      "1.0334808826446533\n",
      "1.024533748626709\n",
      "0.9729297161102295\n",
      "1.06001877784729\n",
      "0.9620661735534668\n",
      "1.0090714693069458\n",
      "1.0030250549316406\n",
      "1.0289690494537354\n",
      "1.0372414588928223\n",
      "0.9963809847831726\n"
     ]
    },
    {
     "name": "stderr",
     "output_type": "stream",
     "text": [
      " 73%|███████▎  | 11449/15625 [01:57<00:40, 103.31it/s]"
     ]
    },
    {
     "name": "stdout",
     "output_type": "stream",
     "text": [
      "1.0288963317871094\n",
      "1.0334935188293457\n",
      "1.0692126750946045\n",
      "1.0259490013122559\n",
      "1.0288159847259521\n",
      "0.9939872026443481\n",
      "1.0568379163742065\n",
      "0.9778652191162109\n",
      "1.1451148986816406\n",
      "1.0386412143707275\n",
      "1.0959175825119019\n",
      "1.0417780876159668\n",
      "1.0589755773544312\n",
      "0.997400164604187\n",
      "0.9990848302841187\n",
      "1.025542974472046\n",
      "0.9869766235351562\n",
      "1.0092499256134033\n",
      "1.1079387664794922\n",
      "1.0205843448638916\n",
      "1.045532464981079\n"
     ]
    },
    {
     "name": "stderr",
     "output_type": "stream",
     "text": [
      " 73%|███████▎  | 11471/15625 [01:57<00:40, 103.58it/s]"
     ]
    },
    {
     "name": "stdout",
     "output_type": "stream",
     "text": [
      "1.048828363418579\n",
      "1.0127828121185303\n",
      "0.9595062136650085\n",
      "1.038980484008789\n",
      "0.9928119778633118\n",
      "1.041668176651001\n",
      "0.9933292269706726\n",
      "1.0102680921554565\n",
      "1.0310883522033691\n",
      "0.9660911560058594\n",
      "0.9959717988967896\n",
      "1.035178780555725\n",
      "0.9643617272377014\n",
      "1.0022786855697632\n",
      "0.9886859655380249\n",
      "1.0410645008087158\n",
      "1.0034918785095215\n",
      "1.0432062149047852\n",
      "1.0503538846969604\n",
      "0.9948775768280029\n",
      "1.0116673707962036\n"
     ]
    },
    {
     "name": "stderr",
     "output_type": "stream",
     "text": [
      " 74%|███████▎  | 11493/15625 [01:57<00:40, 102.31it/s]"
     ]
    },
    {
     "name": "stdout",
     "output_type": "stream",
     "text": [
      "1.0407586097717285\n",
      "1.0248486995697021\n",
      "0.9959232807159424\n",
      "1.0130987167358398\n",
      "1.0091891288757324\n",
      "1.0217909812927246\n",
      "0.9917576313018799\n",
      "0.9685696959495544\n",
      "1.0313396453857422\n",
      "1.095031976699829\n",
      "0.9959206581115723\n",
      "1.002379298210144\n",
      "1.0704896450042725\n",
      "0.9888993501663208\n",
      "1.0202840566635132\n",
      "1.0622504949569702\n",
      "0.9936277866363525\n",
      "0.9961027503013611\n",
      "1.0133121013641357\n",
      "1.0278809070587158\n",
      "0.9901707172393799\n"
     ]
    },
    {
     "name": "stderr",
     "output_type": "stream",
     "text": [
      " 74%|███████▎  | 11515/15625 [01:58<00:40, 102.22it/s]"
     ]
    },
    {
     "name": "stdout",
     "output_type": "stream",
     "text": [
      "1.0517370700836182\n",
      "1.0339945554733276\n",
      "1.1111376285552979\n",
      "1.015474796295166\n",
      "1.0279757976531982\n",
      "1.0063459873199463\n",
      "0.9934287071228027\n",
      "1.0258212089538574\n",
      "0.9872708916664124\n",
      "0.9959128499031067\n",
      "1.045579433441162\n",
      "1.0753408670425415\n",
      "1.0464527606964111\n",
      "1.00177800655365\n",
      "0.993668794631958\n",
      "0.9436235427856445\n",
      "1.0224616527557373\n",
      "1.0209455490112305\n",
      "1.013337254524231\n",
      "1.0183439254760742\n",
      "1.0207738876342773\n"
     ]
    },
    {
     "name": "stderr",
     "output_type": "stream",
     "text": [
      " 74%|███████▍  | 11537/15625 [01:58<00:39, 102.47it/s]"
     ]
    },
    {
     "name": "stdout",
     "output_type": "stream",
     "text": [
      "1.0360151529312134\n",
      "1.0524266958236694\n",
      "1.0289654731750488\n",
      "1.0323481559753418\n",
      "1.019423246383667\n",
      "0.9917482137680054\n",
      "1.0653728246688843\n",
      "1.084452748298645\n",
      "0.9887686371803284\n",
      "1.076336145401001\n",
      "0.9987350702285767\n",
      "1.021740436553955\n",
      "1.0124621391296387\n",
      "1.0165925025939941\n",
      "1.0819441080093384\n",
      "1.0386102199554443\n",
      "1.0101203918457031\n",
      "1.0008481740951538\n",
      "1.047886610031128\n",
      "1.0014293193817139\n",
      "1.0035159587860107\n"
     ]
    },
    {
     "name": "stderr",
     "output_type": "stream",
     "text": [
      " 74%|███████▍  | 11559/15625 [01:58<00:39, 102.59it/s]"
     ]
    },
    {
     "name": "stdout",
     "output_type": "stream",
     "text": [
      "0.9913768172264099\n",
      "1.0361310243606567\n",
      "0.9815295338630676\n",
      "1.0213041305541992\n",
      "1.043663740158081\n",
      "1.0795531272888184\n",
      "0.971644401550293\n",
      "0.9757099151611328\n",
      "0.9842203855514526\n",
      "1.0489745140075684\n",
      "1.0502402782440186\n",
      "0.9446278810501099\n",
      "0.9947491884231567\n",
      "1.0408976078033447\n",
      "0.9897686243057251\n",
      "1.008330225944519\n",
      "1.071498155593872\n",
      "0.9865954518318176\n",
      "1.056710124015808\n",
      "1.019748330116272\n",
      "0.9732338190078735\n"
     ]
    },
    {
     "name": "stderr",
     "output_type": "stream",
     "text": [
      " 74%|███████▍  | 11581/15625 [01:58<00:39, 101.93it/s]"
     ]
    },
    {
     "name": "stdout",
     "output_type": "stream",
     "text": [
      "1.0444958209991455\n",
      "0.9834799766540527\n",
      "1.0120948553085327\n",
      "0.9762574434280396\n",
      "1.0419092178344727\n",
      "1.054132342338562\n",
      "1.0229542255401611\n",
      "0.9767094850540161\n",
      "1.0180518627166748\n",
      "0.9900206923484802\n",
      "0.9778757095336914\n",
      "0.9927816390991211\n",
      "1.0028135776519775\n",
      "0.9770768880844116\n",
      "0.9759502410888672\n",
      "1.0085389614105225\n",
      "1.0329704284667969\n",
      "1.0490977764129639\n",
      "1.0383892059326172\n",
      "1.0007312297821045\n",
      "1.0051850080490112\n"
     ]
    },
    {
     "name": "stderr",
     "output_type": "stream",
     "text": [
      " 74%|███████▍  | 11603/15625 [01:58<00:39, 101.47it/s]"
     ]
    },
    {
     "name": "stdout",
     "output_type": "stream",
     "text": [
      "1.025886058807373\n",
      "1.0168025493621826\n",
      "1.0182294845581055\n",
      "0.9880515933036804\n",
      "0.9954430460929871\n",
      "1.0569539070129395\n",
      "1.0773086547851562\n",
      "1.0146987438201904\n",
      "1.021795630455017\n",
      "1.076448917388916\n",
      "1.0065622329711914\n",
      "1.0325896739959717\n",
      "1.0324219465255737\n",
      "1.028717041015625\n",
      "1.1856446266174316\n",
      "0.9892355799674988\n",
      "0.9705143570899963\n",
      "1.002956509590149\n",
      "0.9971020221710205\n",
      "1.035857915878296\n",
      "1.0405316352844238\n"
     ]
    },
    {
     "name": "stderr",
     "output_type": "stream",
     "text": [
      " 74%|███████▍  | 11625/15625 [01:59<00:39, 102.05it/s]"
     ]
    },
    {
     "name": "stdout",
     "output_type": "stream",
     "text": [
      "0.9496707320213318\n",
      "0.9811697006225586\n",
      "1.003835916519165\n",
      "1.058246374130249\n",
      "1.0531518459320068\n",
      "0.9585031270980835\n",
      "0.9452114105224609\n",
      "1.0137568712234497\n",
      "1.019320011138916\n",
      "0.9038941264152527\n",
      "0.9710590839385986\n",
      "0.9670112729072571\n",
      "0.9682466387748718\n",
      "1.0340633392333984\n",
      "0.9978345632553101\n",
      "1.0336507558822632\n",
      "1.0232716798782349\n",
      "1.0599291324615479\n",
      "1.0302503108978271\n",
      "0.9765751361846924\n",
      "1.0126712322235107\n"
     ]
    },
    {
     "name": "stderr",
     "output_type": "stream",
     "text": [
      "\r",
      " 74%|███████▍  | 11636/15625 [01:59<00:39, 102.20it/s]"
     ]
    },
    {
     "name": "stdout",
     "output_type": "stream",
     "text": [
      "1.0434882640838623\n",
      "0.9901965856552124\n",
      "1.0108391046524048\n",
      "0.9890676736831665\n",
      "1.0298242568969727\n",
      "1.0305194854736328\n",
      "1.0583515167236328\n",
      "1.0646156072616577\n",
      "1.1005282402038574\n",
      "0.9400482177734375\n",
      "1.0386953353881836\n",
      "1.0027121305465698\n",
      "1.003037691116333\n",
      "0.993518054485321\n",
      "0.9707395434379578\n",
      "1.03302001953125\n",
      "1.0391736030578613\n",
      "1.0264617204666138\n",
      "1.0253188610076904\n",
      "1.026781678199768\n",
      "1.0234978199005127\n"
     ]
    },
    {
     "name": "stderr",
     "output_type": "stream",
     "text": [
      " 75%|███████▍  | 11658/15625 [01:59<00:38, 102.37it/s]"
     ]
    },
    {
     "name": "stdout",
     "output_type": "stream",
     "text": [
      "1.0252901315689087\n",
      "1.0613172054290771\n",
      "0.973852813243866\n",
      "0.9375403523445129\n",
      "1.0121991634368896\n",
      "0.9720298051834106\n",
      "1.046838641166687\n",
      "1.0347806215286255\n",
      "1.0424764156341553\n",
      "1.0159187316894531\n",
      "1.004267692565918\n",
      "1.0456030368804932\n",
      "1.034379005432129\n",
      "0.9556490182876587\n",
      "1.036346435546875\n",
      "0.9919527769088745\n",
      "0.9403976202011108\n",
      "1.1304470300674438\n",
      "1.01265287399292\n",
      "1.0348272323608398\n",
      "1.0375959873199463\n"
     ]
    },
    {
     "name": "stderr",
     "output_type": "stream",
     "text": [
      " 75%|███████▍  | 11680/15625 [01:59<00:38, 102.32it/s]"
     ]
    },
    {
     "name": "stdout",
     "output_type": "stream",
     "text": [
      "0.9845540523529053\n",
      "1.0078113079071045\n",
      "0.9908708333969116\n",
      "1.0079342126846313\n",
      "1.029714822769165\n",
      "0.9922101497650146\n",
      "0.9803160429000854\n",
      "0.9618092179298401\n",
      "1.0025674104690552\n",
      "1.024216890335083\n",
      "1.0188122987747192\n",
      "1.053348422050476\n",
      "1.0027134418487549\n",
      "0.9608420133590698\n",
      "1.094024896621704\n",
      "1.046512246131897\n",
      "0.9619891047477722\n",
      "1.0246176719665527\n",
      "1.0536242723464966\n",
      "0.9867647886276245\n",
      "1.0577046871185303\n"
     ]
    },
    {
     "name": "stderr",
     "output_type": "stream",
     "text": [
      " 75%|███████▍  | 11702/15625 [01:59<00:38, 103.24it/s]"
     ]
    },
    {
     "name": "stdout",
     "output_type": "stream",
     "text": [
      "1.0287623405456543\n",
      "1.0205106735229492\n",
      "1.0363457202911377\n",
      "0.9955707788467407\n",
      "1.0130072832107544\n",
      "1.0349464416503906\n",
      "1.0581181049346924\n",
      "1.0015701055526733\n",
      "1.0634667873382568\n",
      "0.9984102249145508\n",
      "0.9397642016410828\n",
      "0.9761439561843872\n",
      "0.9990938901901245\n",
      "0.9861444234848022\n",
      "1.0264520645141602\n",
      "0.9952740669250488\n",
      "1.0404857397079468\n",
      "1.0156019926071167\n",
      "1.049710988998413\n",
      "1.0339008569717407\n",
      "1.0165390968322754\n"
     ]
    },
    {
     "name": "stderr",
     "output_type": "stream",
     "text": [
      " 75%|███████▌  | 11724/15625 [02:00<00:37, 102.81it/s]"
     ]
    },
    {
     "name": "stdout",
     "output_type": "stream",
     "text": [
      "0.9623734354972839\n",
      "1.0901050567626953\n",
      "0.9859707355499268\n",
      "1.0277186632156372\n",
      "1.0220141410827637\n",
      "0.9873688817024231\n",
      "1.0596041679382324\n",
      "0.9721493124961853\n",
      "0.9976612329483032\n",
      "1.0124363899230957\n",
      "1.0436677932739258\n",
      "0.9921169877052307\n",
      "1.0512386560440063\n",
      "1.0591230392456055\n",
      "1.1864562034606934\n",
      "1.0091989040374756\n",
      "0.9753749966621399\n",
      "0.9431892037391663\n",
      "0.9963139891624451\n",
      "1.0585012435913086\n",
      "0.9533330798149109\n"
     ]
    },
    {
     "name": "stderr",
     "output_type": "stream",
     "text": [
      " 75%|███████▌  | 11746/15625 [02:00<00:38, 101.10it/s]"
     ]
    },
    {
     "name": "stdout",
     "output_type": "stream",
     "text": [
      "1.026723861694336\n",
      "1.036724328994751\n",
      "1.0354912281036377\n",
      "0.9992437958717346\n",
      "0.9591549038887024\n",
      "1.02596914768219\n",
      "1.0409353971481323\n",
      "1.012951374053955\n",
      "1.0630981922149658\n",
      "1.0165255069732666\n",
      "0.983211874961853\n",
      "1.0356416702270508\n",
      "1.0519572496414185\n",
      "1.0067315101623535\n",
      "0.9898357391357422\n",
      "0.9829579591751099\n",
      "0.9649192690849304\n",
      "0.9775733947753906\n",
      "0.9955185651779175\n",
      "1.1601877212524414\n"
     ]
    },
    {
     "name": "stderr",
     "output_type": "stream",
     "text": [
      " 75%|███████▌  | 11767/15625 [02:00<00:38, 99.29it/s] "
     ]
    },
    {
     "name": "stdout",
     "output_type": "stream",
     "text": [
      "1.0438995361328125\n",
      "0.988557755947113\n",
      "1.0308935642242432\n",
      "0.9721331596374512\n",
      "1.0237582921981812\n",
      "1.02274489402771\n",
      "0.9749624729156494\n",
      "0.9928900599479675\n",
      "0.9923946857452393\n",
      "1.0137428045272827\n",
      "0.9953213930130005\n",
      "1.0180208683013916\n",
      "1.076416254043579\n",
      "0.957908034324646\n",
      "1.0566073656082153\n",
      "0.9896371960639954\n",
      "0.9732615351676941\n",
      "1.0318877696990967\n",
      "1.0191078186035156\n",
      "1.0676453113555908\n"
     ]
    },
    {
     "name": "stderr",
     "output_type": "stream",
     "text": [
      " 75%|███████▌  | 11789/15625 [02:00<00:39, 97.46it/s]"
     ]
    },
    {
     "name": "stdout",
     "output_type": "stream",
     "text": [
      "0.9992982149124146\n",
      "1.0366872549057007\n",
      "0.9693533182144165\n",
      "1.0295478105545044\n",
      "1.0298800468444824\n",
      "1.0686824321746826\n",
      "1.0036885738372803\n",
      "1.0539629459381104\n",
      "0.9940377473831177\n",
      "1.0094172954559326\n",
      "1.043976068496704\n",
      "0.9691177010536194\n",
      "0.9800674915313721\n",
      "1.0006691217422485\n",
      "1.0315495729446411\n",
      "0.9635324478149414\n",
      "0.9952198266983032\n",
      "1.0152709484100342\n",
      "1.0610687732696533\n"
     ]
    },
    {
     "name": "stderr",
     "output_type": "stream",
     "text": [
      "\r",
      " 76%|███████▌  | 11799/15625 [02:00<00:44, 86.74it/s]"
     ]
    },
    {
     "name": "stdout",
     "output_type": "stream",
     "text": [
      "1.065141201019287\n",
      "0.9766906499862671\n",
      "1.0791962146759033\n",
      "1.0260899066925049\n",
      "0.9853500723838806\n",
      "1.008979082107544\n",
      "0.9999257326126099\n",
      "0.9752480387687683\n",
      "1.106070637702942\n",
      "1.0196553468704224\n",
      "1.0415136814117432\n",
      "1.0657649040222168\n",
      "0.9830663800239563\n",
      "0.9881757497787476\n",
      "1.0524680614471436\n",
      "0.9990774393081665\n"
     ]
    },
    {
     "name": "stderr",
     "output_type": "stream",
     "text": [
      " 76%|███████▌  | 11820/15625 [02:01<00:41, 91.52it/s]"
     ]
    },
    {
     "name": "stdout",
     "output_type": "stream",
     "text": [
      "1.0731523036956787\n",
      "1.020803689956665\n",
      "1.037033200263977\n",
      "1.018585205078125\n",
      "1.1168594360351562\n",
      "0.9644902944564819\n",
      "1.0039281845092773\n",
      "0.9852614402770996\n",
      "1.0297620296478271\n",
      "1.0043834447860718\n",
      "0.9537982940673828\n",
      "1.0027248859405518\n",
      "1.0073761940002441\n",
      "1.0149643421173096\n",
      "0.9594665765762329\n",
      "1.0924925804138184\n",
      "0.9811766147613525\n",
      "1.0066554546356201\n",
      "1.0228304862976074\n",
      "1.0602974891662598\n",
      "0.9875572919845581\n"
     ]
    },
    {
     "name": "stderr",
     "output_type": "stream",
     "text": [
      " 76%|███████▌  | 11841/15625 [02:01<00:39, 96.01it/s]"
     ]
    },
    {
     "name": "stdout",
     "output_type": "stream",
     "text": [
      "1.0075623989105225\n",
      "1.0352072715759277\n",
      "1.0052149295806885\n",
      "0.9941554069519043\n",
      "1.001389503479004\n",
      "1.0653918981552124\n",
      "0.9709018468856812\n",
      "1.0116113424301147\n",
      "1.0194904804229736\n",
      "1.056307315826416\n",
      "0.9973517656326294\n",
      "0.9682756662368774\n",
      "1.0756127834320068\n",
      "0.9574646949768066\n",
      "0.9763064384460449\n",
      "1.0057151317596436\n",
      "0.990540623664856\n",
      "0.9741633534431458\n",
      "0.9729354381561279\n",
      "0.9705693125724792\n",
      "1.0208357572555542\n"
     ]
    },
    {
     "name": "stderr",
     "output_type": "stream",
     "text": [
      " 76%|███████▌  | 11863/15625 [02:01<00:37, 99.36it/s]"
     ]
    },
    {
     "name": "stdout",
     "output_type": "stream",
     "text": [
      "0.9196071028709412\n",
      "1.0352014303207397\n",
      "1.02498459815979\n",
      "1.0527268648147583\n",
      "1.0786194801330566\n",
      "1.031934142112732\n",
      "1.03439199924469\n",
      "1.0386406183242798\n",
      "1.0719311237335205\n",
      "1.0390408039093018\n",
      "1.0060679912567139\n",
      "1.0161817073822021\n",
      "0.9780431985855103\n",
      "1.0637292861938477\n",
      "1.0428459644317627\n",
      "0.9872070550918579\n",
      "1.0453861951828003\n",
      "1.0167109966278076\n",
      "0.9786226749420166\n",
      "1.0432512760162354\n",
      "1.0268388986587524\n"
     ]
    },
    {
     "name": "stderr",
     "output_type": "stream",
     "text": [
      " 76%|███████▌  | 11885/15625 [02:01<00:37, 99.87it/s]"
     ]
    },
    {
     "name": "stdout",
     "output_type": "stream",
     "text": [
      "1.0250773429870605\n",
      "0.9788853526115417\n",
      "0.9727010726928711\n",
      "1.0031756162643433\n",
      "1.0303950309753418\n",
      "0.9908032417297363\n",
      "0.9914789199829102\n",
      "1.0709433555603027\n",
      "1.0041823387145996\n",
      "1.0172700881958008\n",
      "0.9992446899414062\n",
      "1.0351978540420532\n",
      "1.048678994178772\n",
      "1.0473822355270386\n",
      "1.0033236742019653\n",
      "0.9747457504272461\n",
      "1.051892638206482\n",
      "1.0544965267181396\n",
      "1.021173357963562\n",
      "1.0475621223449707\n",
      "0.9466884136199951\n"
     ]
    },
    {
     "name": "stderr",
     "output_type": "stream",
     "text": [
      " 76%|███████▌  | 11906/15625 [02:01<00:37, 99.21it/s]"
     ]
    },
    {
     "name": "stdout",
     "output_type": "stream",
     "text": [
      "1.0435631275177002\n",
      "1.0296385288238525\n",
      "1.0160636901855469\n",
      "1.0276201963424683\n",
      "1.0231573581695557\n",
      "1.0275120735168457\n",
      "1.029622197151184\n",
      "0.9810789823532104\n",
      "1.2189124822616577\n",
      "1.0243744850158691\n",
      "1.0056674480438232\n",
      "0.99238121509552\n",
      "1.0266475677490234\n",
      "1.0393469333648682\n",
      "0.9784523248672485\n",
      "1.018951177597046\n",
      "1.0314518213272095\n",
      "0.9577550888061523\n",
      "0.9602647423744202\n",
      "1.002549648284912\n"
     ]
    },
    {
     "name": "stderr",
     "output_type": "stream",
     "text": [
      " 76%|███████▋  | 11926/15625 [02:02<00:37, 99.25it/s]"
     ]
    },
    {
     "name": "stdout",
     "output_type": "stream",
     "text": [
      "0.9929924607276917\n",
      "1.0134553909301758\n",
      "1.0107932090759277\n",
      "1.0093069076538086\n",
      "1.0062856674194336\n",
      "1.0023813247680664\n",
      "1.0310471057891846\n",
      "1.0051374435424805\n",
      "1.0185545682907104\n",
      "0.9703847765922546\n",
      "1.0139321088790894\n",
      "0.9738941192626953\n",
      "1.008518934249878\n",
      "1.022495150566101\n",
      "1.0001931190490723\n",
      "0.9821944832801819\n",
      "1.0127668380737305\n",
      "1.0337073802947998\n",
      "1.0152850151062012\n",
      "1.0584241151809692\n",
      "1.0097975730895996\n"
     ]
    },
    {
     "name": "stderr",
     "output_type": "stream",
     "text": [
      " 76%|███████▋  | 11948/15625 [02:02<00:36, 100.11it/s]"
     ]
    },
    {
     "name": "stdout",
     "output_type": "stream",
     "text": [
      "1.003433108329773\n",
      "1.0877714157104492\n",
      "1.0079505443572998\n",
      "1.0601348876953125\n",
      "0.9876382946968079\n",
      "1.053712010383606\n",
      "0.9403168559074402\n",
      "1.0149824619293213\n",
      "1.0028598308563232\n",
      "0.9854198694229126\n",
      "0.9944002628326416\n",
      "0.9938464760780334\n",
      "1.0176804065704346\n",
      "1.0287810564041138\n",
      "1.0072758197784424\n",
      "1.036737322807312\n",
      "1.0497069358825684\n",
      "0.9903762340545654\n",
      "1.023869276046753\n",
      "1.0144493579864502\n",
      "1.0131690502166748\n"
     ]
    },
    {
     "name": "stderr",
     "output_type": "stream",
     "text": [
      " 77%|███████▋  | 11970/15625 [02:02<00:36, 100.17it/s]"
     ]
    },
    {
     "name": "stdout",
     "output_type": "stream",
     "text": [
      "1.0459485054016113\n",
      "1.0378882884979248\n",
      "1.0617064237594604\n",
      "1.0143760442733765\n",
      "0.9686418175697327\n",
      "1.0167758464813232\n",
      "1.0747706890106201\n",
      "1.0815000534057617\n",
      "0.9993787407875061\n",
      "0.9707610607147217\n",
      "0.9863461852073669\n",
      "1.0588843822479248\n",
      "0.9815347194671631\n",
      "0.9993040561676025\n",
      "0.9531329870223999\n",
      "0.9944543838500977\n",
      "1.0118796825408936\n",
      "1.0577077865600586\n",
      "1.0047242641448975\n",
      "1.0688645839691162\n",
      "1.0092978477478027\n"
     ]
    },
    {
     "name": "stderr",
     "output_type": "stream",
     "text": [
      " 77%|███████▋  | 11992/15625 [02:02<00:36, 100.52it/s]"
     ]
    },
    {
     "name": "stdout",
     "output_type": "stream",
     "text": [
      "1.0113792419433594\n",
      "1.023558497428894\n",
      "0.9601041674613953\n",
      "0.998221218585968\n",
      "0.9563877582550049\n",
      "0.9950066208839417\n",
      "1.0055465698242188\n",
      "0.9794224500656128\n",
      "1.002385139465332\n",
      "1.1040983200073242\n",
      "1.0062155723571777\n",
      "1.0167484283447266\n",
      "1.0586720705032349\n",
      "1.0268917083740234\n",
      "1.0295252799987793\n",
      "1.0066360235214233\n",
      "1.0415730476379395\n",
      "0.9671172499656677\n",
      "1.0243664979934692\n",
      "1.0073975324630737\n",
      "0.9802857637405396\n"
     ]
    },
    {
     "name": "stderr",
     "output_type": "stream",
     "text": [
      " 77%|███████▋  | 12014/15625 [02:03<00:35, 100.84it/s]"
     ]
    },
    {
     "name": "stdout",
     "output_type": "stream",
     "text": [
      "1.0450425148010254\n",
      "1.0478166341781616\n",
      "1.0166047811508179\n",
      "1.0572062730789185\n",
      "1.0800137519836426\n",
      "0.9964722394943237\n",
      "1.0042282342910767\n",
      "1.001020908355713\n",
      "1.0488361120224\n",
      "1.0299291610717773\n",
      "1.11875319480896\n",
      "1.0484333038330078\n",
      "0.9641984105110168\n",
      "0.9887569546699524\n",
      "0.9999723434448242\n",
      "0.9764120578765869\n",
      "1.0451421737670898\n",
      "0.9928379058837891\n",
      "0.9941790103912354\n",
      "0.9824004173278809\n",
      "0.9803110361099243\n"
     ]
    },
    {
     "name": "stderr",
     "output_type": "stream",
     "text": [
      "\r",
      " 77%|███████▋  | 12025/15625 [02:03<00:35, 100.65it/s]"
     ]
    },
    {
     "name": "stdout",
     "output_type": "stream",
     "text": [
      "1.0754234790802002\n",
      "0.9608356952667236\n",
      "0.9632579684257507\n",
      "1.0255680084228516\n",
      "1.0398361682891846\n",
      "1.0059425830841064\n",
      "0.98826003074646\n",
      "1.0104018449783325\n",
      "0.9730044007301331\n",
      "1.0430850982666016\n",
      "1.0234696865081787\n",
      "1.0505313873291016\n",
      "0.981889009475708\n",
      "0.975165843963623\n",
      "1.0221493244171143\n",
      "0.9536222219467163\n",
      "0.9541100263595581\n",
      "0.9594894647598267\n",
      "1.0373257398605347\n",
      "0.970757007598877\n",
      "0.9949465990066528\n"
     ]
    },
    {
     "name": "stderr",
     "output_type": "stream",
     "text": [
      " 77%|███████▋  | 12047/15625 [02:03<00:35, 100.62it/s]"
     ]
    },
    {
     "name": "stdout",
     "output_type": "stream",
     "text": [
      "1.027251958847046\n",
      "1.001326322555542\n",
      "0.9741573333740234\n",
      "0.974173367023468\n",
      "1.0377123355865479\n",
      "1.0129647254943848\n",
      "1.0146608352661133\n",
      "0.9937182068824768\n",
      "1.0121052265167236\n",
      "0.9896341562271118\n",
      "1.0080599784851074\n",
      "0.9934564828872681\n",
      "0.9558303952217102\n",
      "1.0089905261993408\n",
      "1.0683318376541138\n",
      "0.9721640348434448\n",
      "0.9167523384094238\n",
      "0.9697582721710205\n",
      "0.9615291953086853\n",
      "1.027353286743164\n",
      "1.0012025833129883\n"
     ]
    },
    {
     "name": "stderr",
     "output_type": "stream",
     "text": [
      " 77%|███████▋  | 12069/15625 [02:03<00:35, 100.18it/s]"
     ]
    },
    {
     "name": "stdout",
     "output_type": "stream",
     "text": [
      "1.0422804355621338\n",
      "1.0780665874481201\n",
      "1.0633759498596191\n",
      "1.041751742362976\n",
      "0.9731872081756592\n",
      "1.0124664306640625\n",
      "1.022432804107666\n",
      "0.9887842535972595\n",
      "0.987217903137207\n",
      "0.9688876867294312\n",
      "1.029316782951355\n",
      "1.0592567920684814\n",
      "1.0050352811813354\n",
      "1.0241401195526123\n",
      "1.0471563339233398\n",
      "1.0472445487976074\n",
      "1.0257747173309326\n",
      "1.0077369213104248\n",
      "1.030163049697876\n",
      "0.9973905086517334\n",
      "1.053973913192749\n"
     ]
    },
    {
     "name": "stderr",
     "output_type": "stream",
     "text": [
      " 77%|███████▋  | 12091/15625 [02:03<00:35, 100.51it/s]"
     ]
    },
    {
     "name": "stdout",
     "output_type": "stream",
     "text": [
      "1.0282261371612549\n",
      "1.0382874011993408\n",
      "1.0588010549545288\n",
      "1.0005130767822266\n",
      "1.0507245063781738\n",
      "0.9917806386947632\n",
      "0.9991585612297058\n",
      "1.0152491331100464\n",
      "0.9941311478614807\n",
      "1.0472455024719238\n",
      "1.0089902877807617\n",
      "1.0297658443450928\n",
      "0.9780747890472412\n",
      "1.0090017318725586\n",
      "0.9986540675163269\n",
      "0.9806168079376221\n",
      "1.0435707569122314\n",
      "0.994260311126709\n",
      "0.9544172286987305\n",
      "1.0295703411102295\n",
      "0.9464151859283447\n"
     ]
    },
    {
     "name": "stderr",
     "output_type": "stream",
     "text": [
      " 78%|███████▊  | 12113/15625 [02:04<00:34, 100.86it/s]"
     ]
    },
    {
     "name": "stdout",
     "output_type": "stream",
     "text": [
      "0.9914917349815369\n",
      "0.9841986298561096\n",
      "1.0317749977111816\n",
      "0.994377851486206\n",
      "1.007112741470337\n",
      "1.0021227598190308\n",
      "0.9690916538238525\n",
      "0.9555330276489258\n",
      "0.986779510974884\n",
      "1.0262269973754883\n",
      "1.043576717376709\n",
      "1.0093779563903809\n",
      "1.043348789215088\n",
      "1.070827603340149\n",
      "0.9982216358184814\n",
      "1.0064610242843628\n",
      "1.0407700538635254\n",
      "0.953019917011261\n",
      "1.032374382019043\n",
      "1.0476741790771484\n",
      "0.9726629853248596\n"
     ]
    },
    {
     "name": "stderr",
     "output_type": "stream",
     "text": [
      " 78%|███████▊  | 12135/15625 [02:04<00:34, 100.80it/s]"
     ]
    },
    {
     "name": "stdout",
     "output_type": "stream",
     "text": [
      "0.9683409929275513\n",
      "1.0089941024780273\n",
      "1.0078034400939941\n",
      "0.9884617924690247\n",
      "0.9472119808197021\n",
      "0.9972759485244751\n",
      "1.0054271221160889\n",
      "1.0185019969940186\n",
      "1.0027523040771484\n",
      "1.0276265144348145\n",
      "1.0044357776641846\n",
      "1.0253267288208008\n",
      "1.0129283666610718\n",
      "0.9917606115341187\n",
      "1.028791904449463\n",
      "0.9739949703216553\n",
      "0.9410097002983093\n",
      "1.032268762588501\n",
      "0.9820295572280884\n",
      "1.0197689533233643\n",
      "0.9887062907218933\n"
     ]
    },
    {
     "name": "stderr",
     "output_type": "stream",
     "text": [
      " 78%|███████▊  | 12157/15625 [02:04<00:34, 101.15it/s]"
     ]
    },
    {
     "name": "stdout",
     "output_type": "stream",
     "text": [
      "1.0373523235321045\n",
      "0.985184907913208\n",
      "1.0333235263824463\n",
      "1.0110857486724854\n",
      "1.0005314350128174\n",
      "1.0103589296340942\n",
      "0.9614238142967224\n",
      "0.9568659067153931\n",
      "1.034093976020813\n",
      "0.9934629797935486\n",
      "0.9457143545150757\n",
      "1.0228097438812256\n",
      "0.9551916122436523\n",
      "1.0051634311676025\n",
      "1.0782625675201416\n",
      "1.0426983833312988\n",
      "1.0218141078948975\n",
      "1.0384113788604736\n",
      "1.0860154628753662\n",
      "1.014936923980713\n",
      "1.0160949230194092\n"
     ]
    },
    {
     "name": "stderr",
     "output_type": "stream",
     "text": [
      " 78%|███████▊  | 12179/15625 [02:04<00:34, 101.07it/s]"
     ]
    },
    {
     "name": "stdout",
     "output_type": "stream",
     "text": [
      "0.9997965693473816\n",
      "1.0406866073608398\n",
      "0.9819033145904541\n",
      "1.031807541847229\n",
      "0.9534268975257874\n",
      "1.0466448068618774\n",
      "1.068197250366211\n",
      "0.9888878464698792\n",
      "1.036176323890686\n",
      "0.9494139552116394\n",
      "1.039945363998413\n",
      "0.983668327331543\n",
      "1.075548529624939\n",
      "1.0181394815444946\n",
      "1.0111156702041626\n",
      "1.0657143592834473\n",
      "0.9894148111343384\n",
      "0.9921355247497559\n",
      "0.9756225347518921\n",
      "0.991194486618042\n",
      "1.028587818145752\n"
     ]
    },
    {
     "name": "stderr",
     "output_type": "stream",
     "text": [
      " 78%|███████▊  | 12201/15625 [02:04<00:33, 101.18it/s]"
     ]
    },
    {
     "name": "stdout",
     "output_type": "stream",
     "text": [
      "1.043860673904419\n",
      "1.0354137420654297\n",
      "0.9792040586471558\n",
      "1.0078494548797607\n",
      "0.9919963479042053\n",
      "1.0249968767166138\n",
      "1.0285325050354004\n",
      "1.0457459688186646\n",
      "1.0160894393920898\n",
      "1.0249255895614624\n",
      "1.0119614601135254\n",
      "1.0215427875518799\n",
      "1.0557568073272705\n",
      "1.0271565914154053\n",
      "0.9329192042350769\n",
      "1.0239027738571167\n",
      "1.0108251571655273\n",
      "1.0233428478240967\n",
      "0.975588858127594\n",
      "1.0104247331619263\n",
      "0.9817115068435669\n"
     ]
    },
    {
     "name": "stderr",
     "output_type": "stream",
     "text": [
      " 78%|███████▊  | 12223/15625 [02:05<00:33, 101.05it/s]"
     ]
    },
    {
     "name": "stdout",
     "output_type": "stream",
     "text": [
      "0.9675676822662354\n",
      "1.0007383823394775\n",
      "1.0299004316329956\n",
      "1.0444974899291992\n",
      "1.0033788681030273\n",
      "0.9897030591964722\n",
      "1.0085322856903076\n",
      "0.9976791143417358\n",
      "1.0255759954452515\n",
      "1.015474796295166\n",
      "1.0316152572631836\n",
      "1.0344420671463013\n",
      "0.9925357103347778\n",
      "1.0061562061309814\n",
      "1.0352352857589722\n",
      "0.9895012378692627\n",
      "1.0029387474060059\n",
      "0.9970024824142456\n",
      "0.9595496654510498\n",
      "1.0309367179870605\n",
      "0.9993136525154114\n"
     ]
    },
    {
     "name": "stderr",
     "output_type": "stream",
     "text": [
      " 78%|███████▊  | 12245/15625 [02:05<00:33, 100.89it/s]"
     ]
    },
    {
     "name": "stdout",
     "output_type": "stream",
     "text": [
      "1.0585644245147705\n",
      "1.0881189107894897\n",
      "0.988123893737793\n",
      "1.0167460441589355\n",
      "1.021227240562439\n",
      "1.075181245803833\n",
      "1.071083903312683\n",
      "1.01413893699646\n",
      "1.0558750629425049\n",
      "1.0374199151992798\n",
      "1.0159465074539185\n",
      "0.9595180749893188\n",
      "1.008940577507019\n",
      "0.98594731092453\n",
      "0.9903521537780762\n",
      "1.0532870292663574\n",
      "1.0359625816345215\n",
      "0.9979842901229858\n",
      "1.0945398807525635\n",
      "1.0132626295089722\n",
      "0.9686066508293152\n"
     ]
    },
    {
     "name": "stderr",
     "output_type": "stream",
     "text": [
      "\r",
      " 78%|███████▊  | 12256/15625 [02:05<00:33, 100.62it/s]"
     ]
    },
    {
     "name": "stdout",
     "output_type": "stream",
     "text": [
      "0.9851239919662476\n",
      "1.0471878051757812\n",
      "1.0252405405044556\n",
      "1.0471833944320679\n",
      "1.0255385637283325\n",
      "1.0296227931976318\n",
      "0.9945599436759949\n",
      "0.9639585018157959\n",
      "1.0029652118682861\n",
      "1.0020116567611694\n",
      "0.9894445538520813\n",
      "1.0129860639572144\n",
      "0.9776601791381836\n",
      "1.045088768005371\n",
      "0.9705030918121338\n",
      "1.0443035364151\n",
      "1.014973521232605\n",
      "0.9784868955612183\n",
      "1.0676400661468506\n",
      "0.9990739226341248\n",
      "1.0801405906677246\n"
     ]
    },
    {
     "name": "stderr",
     "output_type": "stream",
     "text": [
      " 79%|███████▊  | 12278/15625 [02:05<00:33, 100.89it/s]"
     ]
    },
    {
     "name": "stdout",
     "output_type": "stream",
     "text": [
      "0.9696733355522156\n",
      "1.0334808826446533\n",
      "1.0366374254226685\n",
      "1.0124760866165161\n",
      "0.9875669479370117\n",
      "0.9685897827148438\n",
      "0.9878093004226685\n",
      "1.054335117340088\n",
      "1.024763822555542\n",
      "1.0431578159332275\n",
      "1.0118415355682373\n",
      "1.0564281940460205\n",
      "1.0199251174926758\n",
      "1.0208353996276855\n",
      "1.029855489730835\n",
      "1.0306798219680786\n",
      "1.0005896091461182\n",
      "0.9481279253959656\n",
      "1.016689419746399\n",
      "0.9747335314750671\n",
      "1.0532808303833008\n"
     ]
    },
    {
     "name": "stderr",
     "output_type": "stream",
     "text": [
      " 79%|███████▊  | 12300/15625 [02:05<00:32, 101.13it/s]"
     ]
    },
    {
     "name": "stdout",
     "output_type": "stream",
     "text": [
      "1.0464544296264648\n",
      "1.0453102588653564\n",
      "0.995395302772522\n",
      "1.0478668212890625\n",
      "1.0279935598373413\n",
      "1.0055421590805054\n",
      "0.9900312423706055\n",
      "1.0426158905029297\n",
      "1.007934808731079\n",
      "1.0584152936935425\n",
      "1.0773738622665405\n",
      "1.0153040885925293\n",
      "1.0081310272216797\n",
      "0.9992935657501221\n",
      "0.9764854311943054\n",
      "1.0070345401763916\n",
      "0.9928237199783325\n",
      "0.9978758692741394\n",
      "1.0633578300476074\n",
      "1.0148537158966064\n",
      "1.0007801055908203\n"
     ]
    },
    {
     "name": "stderr",
     "output_type": "stream",
     "text": [
      " 79%|███████▉  | 12322/15625 [02:06<00:32, 102.06it/s]"
     ]
    },
    {
     "name": "stdout",
     "output_type": "stream",
     "text": [
      "0.9714003801345825\n",
      "0.9965175986289978\n",
      "0.9883742332458496\n",
      "0.9766618609428406\n",
      "1.0290172100067139\n",
      "0.999535858631134\n",
      "1.0015759468078613\n",
      "1.0140577554702759\n",
      "1.0604585409164429\n",
      "1.0052740573883057\n",
      "1.0415849685668945\n",
      "1.0271096229553223\n",
      "0.9966702461242676\n",
      "1.034714937210083\n",
      "1.0091978311538696\n",
      "0.952495813369751\n",
      "1.028233528137207\n",
      "1.0137577056884766\n",
      "0.9388161897659302\n",
      "1.0325713157653809\n",
      "1.011995553970337\n"
     ]
    },
    {
     "name": "stderr",
     "output_type": "stream",
     "text": [
      " 79%|███████▉  | 12344/15625 [02:06<00:32, 102.24it/s]"
     ]
    },
    {
     "name": "stdout",
     "output_type": "stream",
     "text": [
      "0.9944552779197693\n",
      "1.033233404159546\n",
      "1.0604991912841797\n",
      "1.0317251682281494\n",
      "1.0070489645004272\n",
      "1.0073480606079102\n",
      "0.9981440901756287\n",
      "1.0129820108413696\n",
      "0.9529829621315002\n",
      "0.994654655456543\n",
      "0.9378648996353149\n",
      "1.0014097690582275\n",
      "0.9862014651298523\n",
      "1.0100324153900146\n",
      "0.9790552258491516\n",
      "1.0366955995559692\n",
      "1.005235195159912\n",
      "1.0047905445098877\n",
      "0.9641085863113403\n",
      "1.0181896686553955\n",
      "1.0018975734710693\n"
     ]
    },
    {
     "name": "stderr",
     "output_type": "stream",
     "text": [
      " 79%|███████▉  | 12366/15625 [02:06<00:32, 101.36it/s]"
     ]
    },
    {
     "name": "stdout",
     "output_type": "stream",
     "text": [
      "1.0138916969299316\n",
      "0.9529544711112976\n",
      "0.9874900579452515\n",
      "0.9948083758354187\n",
      "1.0091278553009033\n",
      "1.0303255319595337\n",
      "0.9828970432281494\n",
      "0.9518208503723145\n",
      "1.0668758153915405\n",
      "1.0520435571670532\n",
      "1.0115432739257812\n",
      "1.0126800537109375\n",
      "1.0722627639770508\n",
      "0.9800869226455688\n",
      "0.9797643423080444\n",
      "1.0259634256362915\n",
      "1.0341005325317383\n",
      "1.030428409576416\n",
      "0.972670316696167\n",
      "1.060263752937317\n",
      "0.948188841342926\n"
     ]
    },
    {
     "name": "stderr",
     "output_type": "stream",
     "text": [
      " 79%|███████▉  | 12388/15625 [02:06<00:32, 101.10it/s]"
     ]
    },
    {
     "name": "stdout",
     "output_type": "stream",
     "text": [
      "0.9660435914993286\n",
      "1.0008587837219238\n",
      "1.0374157428741455\n",
      "1.0205533504486084\n",
      "0.9105535745620728\n",
      "1.0189495086669922\n",
      "1.002690315246582\n",
      "0.9815859794616699\n",
      "0.9907623529434204\n",
      "1.0140228271484375\n",
      "1.0261032581329346\n",
      "1.0061116218566895\n",
      "0.9793934226036072\n",
      "0.9634420871734619\n",
      "1.0067790746688843\n",
      "0.9450393915176392\n",
      "1.037245512008667\n",
      "0.9835110902786255\n",
      "1.0128767490386963\n",
      "0.9897937774658203\n",
      "0.9710519909858704\n"
     ]
    },
    {
     "name": "stderr",
     "output_type": "stream",
     "text": [
      " 79%|███████▉  | 12410/15625 [02:06<00:31, 102.11it/s]"
     ]
    },
    {
     "name": "stdout",
     "output_type": "stream",
     "text": [
      "1.0171705484390259\n",
      "0.9842405319213867\n",
      "1.0250047445297241\n",
      "1.0237094163894653\n",
      "1.0092425346374512\n",
      "0.967548131942749\n",
      "1.0445374250411987\n",
      "1.0385634899139404\n",
      "1.0384154319763184\n",
      "1.0800747871398926\n",
      "1.0184009075164795\n",
      "0.973047137260437\n",
      "1.045727014541626\n",
      "1.020953893661499\n",
      "0.9481892585754395\n",
      "1.1026990413665771\n",
      "0.9736416339874268\n",
      "1.0172057151794434\n",
      "0.9848381280899048\n",
      "1.0366615056991577\n",
      "1.0043219327926636\n"
     ]
    },
    {
     "name": "stderr",
     "output_type": "stream",
     "text": [
      " 80%|███████▉  | 12432/15625 [02:07<00:31, 102.26it/s]"
     ]
    },
    {
     "name": "stdout",
     "output_type": "stream",
     "text": [
      "1.0786759853363037\n",
      "1.0544495582580566\n",
      "0.976949155330658\n",
      "1.0238853693008423\n",
      "1.0073943138122559\n",
      "1.016289472579956\n",
      "1.003077745437622\n",
      "1.0298476219177246\n",
      "0.9561893939971924\n",
      "1.0151726007461548\n",
      "1.0454548597335815\n",
      "0.9949080348014832\n",
      "0.9920419454574585\n",
      "1.0234854221343994\n",
      "0.9908384680747986\n",
      "1.0185015201568604\n",
      "1.0396902561187744\n",
      "0.9359545111656189\n",
      "1.0546157360076904\n",
      "1.0662689208984375\n",
      "1.0185387134552002\n"
     ]
    },
    {
     "name": "stderr",
     "output_type": "stream",
     "text": [
      " 80%|███████▉  | 12454/15625 [02:07<00:31, 99.34it/s] "
     ]
    },
    {
     "name": "stdout",
     "output_type": "stream",
     "text": [
      "0.9764367938041687\n",
      "1.0450820922851562\n",
      "0.983788013458252\n",
      "1.0187079906463623\n",
      "1.0116512775421143\n",
      "1.012149691581726\n",
      "1.0477845668792725\n",
      "1.0134329795837402\n",
      "1.0325403213500977\n",
      "1.0640103816986084\n",
      "0.9779176712036133\n",
      "1.0355663299560547\n",
      "1.040179967880249\n",
      "0.9593884348869324\n",
      "1.0042362213134766\n",
      "0.9899266362190247\n",
      "0.9988679885864258\n",
      "0.9935050010681152\n",
      "1.0309433937072754\n",
      "0.9647043943405151\n"
     ]
    },
    {
     "name": "stderr",
     "output_type": "stream",
     "text": [
      "\r",
      " 80%|███████▉  | 12464/15625 [02:07<00:35, 89.02it/s]"
     ]
    },
    {
     "name": "stdout",
     "output_type": "stream",
     "text": [
      "0.9696932435035706\n",
      "1.039689540863037\n",
      "1.0768961906433105\n",
      "1.0219979286193848\n",
      "0.9527404308319092\n",
      "1.0158330202102661\n",
      "1.0333638191223145\n",
      "0.9760001301765442\n",
      "1.1053757667541504\n",
      "0.9947248697280884\n",
      "0.9926671385765076\n",
      "0.9820127487182617\n",
      "0.9698784351348877\n",
      "1.0325496196746826\n",
      "1.004042387008667\n",
      "1.0072953701019287\n"
     ]
    },
    {
     "name": "stderr",
     "output_type": "stream",
     "text": [
      " 80%|███████▉  | 12483/15625 [02:07<00:37, 83.03it/s]"
     ]
    },
    {
     "name": "stdout",
     "output_type": "stream",
     "text": [
      "0.9456517100334167\n",
      "0.979295015335083\n",
      "0.9707292914390564\n",
      "1.0350430011749268\n",
      "1.0634942054748535\n",
      "1.0056335926055908\n",
      "1.0941189527511597\n",
      "0.9784520864486694\n",
      "0.9373849630355835\n",
      "0.9807109832763672\n",
      "1.046203851699829\n",
      "1.048252820968628\n",
      "1.009765625\n",
      "0.992364764213562\n",
      "0.9510853290557861\n",
      "1.0023638010025024\n"
     ]
    },
    {
     "name": "stderr",
     "output_type": "stream",
     "text": [
      " 80%|████████  | 12504/15625 [02:08<00:34, 91.22it/s]"
     ]
    },
    {
     "name": "stdout",
     "output_type": "stream",
     "text": [
      "1.0131912231445312\n",
      "1.0501387119293213\n",
      "1.069093942642212\n",
      "0.9949564933776855\n",
      "1.0247989892959595\n",
      "0.9847102761268616\n",
      "1.0163785219192505\n",
      "1.0274431705474854\n",
      "1.0120346546173096\n",
      "1.0335206985473633\n",
      "0.9520242214202881\n",
      "1.017878770828247\n",
      "1.04945969581604\n",
      "0.9746755361557007\n",
      "0.9637527465820312\n",
      "0.975753903388977\n",
      "1.001926302909851\n",
      "1.0596072673797607\n",
      "0.9849043488502502\n",
      "0.9867212772369385\n",
      "1.0204229354858398\n"
     ]
    },
    {
     "name": "stderr",
     "output_type": "stream",
     "text": [
      " 80%|████████  | 12526/15625 [02:08<00:32, 96.35it/s]"
     ]
    },
    {
     "name": "stdout",
     "output_type": "stream",
     "text": [
      "1.0314881801605225\n",
      "1.0073413848876953\n",
      "1.0061054229736328\n",
      "1.0624170303344727\n",
      "0.9862690567970276\n",
      "1.0010619163513184\n",
      "1.0486130714416504\n",
      "0.9660539627075195\n",
      "1.005928635597229\n",
      "1.0084699392318726\n",
      "1.069082498550415\n",
      "1.0110280513763428\n",
      "1.0647830963134766\n",
      "1.0190649032592773\n",
      "0.9554954767227173\n",
      "0.9677175283432007\n",
      "0.9840417504310608\n",
      "1.001425862312317\n",
      "1.0179150104522705\n",
      "0.9925059080123901\n",
      "1.0444141626358032\n"
     ]
    },
    {
     "name": "stderr",
     "output_type": "stream",
     "text": [
      " 80%|████████  | 12548/15625 [02:08<00:31, 98.10it/s]"
     ]
    },
    {
     "name": "stdout",
     "output_type": "stream",
     "text": [
      "1.0306824445724487\n",
      "1.0255165100097656\n",
      "0.9911459684371948\n",
      "1.0099809169769287\n",
      "0.9997713565826416\n",
      "1.0144773721694946\n",
      "0.9503382444381714\n",
      "1.002805233001709\n",
      "1.006443738937378\n",
      "1.0694160461425781\n",
      "1.024680495262146\n",
      "1.0145317316055298\n",
      "1.0488431453704834\n",
      "0.9687824249267578\n",
      "1.0193744897842407\n",
      "1.036112904548645\n",
      "1.0325791835784912\n",
      "0.9657602906227112\n",
      "0.9741427898406982\n",
      "1.0199090242385864\n",
      "1.0256626605987549\n"
     ]
    },
    {
     "name": "stderr",
     "output_type": "stream",
     "text": [
      " 80%|████████  | 12570/15625 [02:08<00:30, 99.98it/s]"
     ]
    },
    {
     "name": "stdout",
     "output_type": "stream",
     "text": [
      "0.9930354356765747\n",
      "1.0561150312423706\n",
      "0.9705154895782471\n",
      "1.0364892482757568\n",
      "0.9468737840652466\n",
      "1.032642126083374\n",
      "1.0753281116485596\n",
      "1.0378119945526123\n",
      "0.994857132434845\n",
      "1.0287092924118042\n",
      "0.9674004912376404\n",
      "1.031076431274414\n",
      "0.9900492429733276\n",
      "0.9446071982383728\n",
      "0.9822482466697693\n",
      "1.0058904886245728\n",
      "0.9880843162536621\n",
      "1.0072038173675537\n",
      "1.0412659645080566\n",
      "1.0148383378982544\n",
      "0.9895426034927368\n"
     ]
    },
    {
     "name": "stderr",
     "output_type": "stream",
     "text": [
      "\r",
      " 81%|████████  | 12581/15625 [02:08<00:30, 100.44it/s]"
     ]
    },
    {
     "name": "stdout",
     "output_type": "stream",
     "text": [
      "1.051397442817688\n",
      "1.012970209121704\n",
      "1.0005747079849243\n",
      "1.0274007320404053\n",
      "1.0383172035217285\n",
      "1.024686336517334\n",
      "1.052539587020874\n",
      "1.0049468278884888\n",
      "0.9404677152633667\n",
      "0.9972653985023499\n",
      "1.0151430368423462\n",
      "1.0085028409957886\n",
      "1.0077195167541504\n",
      "1.0017088651657104\n",
      "0.9662346243858337\n",
      "1.0511654615402222\n",
      "0.9952471256256104\n",
      "0.9651942253112793\n",
      "0.9951283931732178\n",
      "1.044266700744629\n",
      "0.9707235097885132\n"
     ]
    },
    {
     "name": "stderr",
     "output_type": "stream",
     "text": [
      " 81%|████████  | 12603/15625 [02:08<00:30, 100.47it/s]"
     ]
    },
    {
     "name": "stdout",
     "output_type": "stream",
     "text": [
      "1.0761234760284424\n",
      "1.0218164920806885\n",
      "1.002607822418213\n",
      "0.9852660894393921\n",
      "0.9844322204589844\n",
      "1.015951156616211\n",
      "0.9996638298034668\n",
      "1.054140329360962\n",
      "0.9430028200149536\n",
      "1.0032240152359009\n",
      "0.9843911528587341\n",
      "1.0269019603729248\n",
      "1.0361007452011108\n",
      "1.0517030954360962\n",
      "1.003291130065918\n",
      "1.0219403505325317\n",
      "0.9702754020690918\n",
      "0.9619284868240356\n",
      "1.0055420398712158\n",
      "0.9106478691101074\n",
      "1.0038907527923584\n"
     ]
    },
    {
     "name": "stderr",
     "output_type": "stream",
     "text": [
      " 81%|████████  | 12625/15625 [02:09<00:30, 99.93it/s] "
     ]
    },
    {
     "name": "stdout",
     "output_type": "stream",
     "text": [
      "0.9892073273658752\n",
      "0.9976819753646851\n",
      "1.0587339401245117\n",
      "0.9936635494232178\n",
      "0.9825664162635803\n",
      "0.9934656023979187\n",
      "1.0193132162094116\n",
      "1.0403214693069458\n",
      "0.9806766510009766\n",
      "0.9752082228660583\n",
      "0.9514486789703369\n",
      "1.0539593696594238\n",
      "1.0444462299346924\n",
      "1.0054588317871094\n",
      "1.061719298362732\n",
      "0.977012038230896\n",
      "1.0049448013305664\n",
      "1.0327844619750977\n",
      "1.041956901550293\n",
      "1.0487927198410034\n",
      "1.0173076391220093\n"
     ]
    },
    {
     "name": "stderr",
     "output_type": "stream",
     "text": [
      " 81%|████████  | 12645/15625 [02:09<00:29, 99.59it/s]"
     ]
    },
    {
     "name": "stdout",
     "output_type": "stream",
     "text": [
      "1.0194340944290161\n",
      "1.0921015739440918\n",
      "1.0161685943603516\n",
      "0.983413815498352\n",
      "1.0145143270492554\n",
      "1.036017894744873\n",
      "1.0430067777633667\n",
      "0.9514923095703125\n",
      "1.028101921081543\n",
      "1.0028363466262817\n",
      "1.015259027481079\n",
      "1.0384106636047363\n",
      "1.0442571640014648\n",
      "1.0066537857055664\n",
      "0.9786888360977173\n",
      "1.0076396465301514\n",
      "1.0120056867599487\n",
      "0.9485156536102295\n",
      "1.007596731185913\n",
      "0.9988189935684204\n",
      "1.0392274856567383\n"
     ]
    },
    {
     "name": "stderr",
     "output_type": "stream",
     "text": [
      " 81%|████████  | 12666/15625 [02:09<00:29, 99.59it/s]"
     ]
    },
    {
     "name": "stdout",
     "output_type": "stream",
     "text": [
      "0.9716825485229492\n",
      "0.9468579292297363\n",
      "0.9702173471450806\n",
      "0.918372631072998\n",
      "0.9829009175300598\n",
      "1.0126546621322632\n",
      "0.9996631145477295\n",
      "1.0073307752609253\n",
      "1.0450685024261475\n",
      "1.0526397228240967\n",
      "0.9914302825927734\n",
      "1.0745642185211182\n",
      "1.0012708902359009\n",
      "0.9820365309715271\n",
      "0.9885808229446411\n",
      "1.0036202669143677\n",
      "0.9770209789276123\n",
      "1.0360914468765259\n",
      "1.0043909549713135\n",
      "0.9704455733299255\n",
      "0.9781020283699036\n"
     ]
    },
    {
     "name": "stderr",
     "output_type": "stream",
     "text": [
      " 81%|████████  | 12686/15625 [02:09<00:29, 99.34it/s]"
     ]
    },
    {
     "name": "stdout",
     "output_type": "stream",
     "text": [
      "1.0458024740219116\n",
      "1.0838077068328857\n",
      "1.0172852277755737\n",
      "1.0313595533370972\n",
      "1.0110199451446533\n",
      "0.9653977155685425\n",
      "1.0058326721191406\n",
      "1.0064170360565186\n",
      "1.0619206428527832\n",
      "1.0187761783599854\n",
      "1.0007970333099365\n",
      "0.9850102663040161\n",
      "1.0811920166015625\n",
      "0.9440388679504395\n",
      "0.9941277503967285\n",
      "0.9902448654174805\n",
      "1.0263607501983643\n",
      "0.9908440709114075\n",
      "1.00984787940979\n",
      "0.9388582110404968\n",
      "1.0059853792190552\n"
     ]
    },
    {
     "name": "stderr",
     "output_type": "stream",
     "text": [
      " 81%|████████▏ | 12707/15625 [02:10<00:29, 99.87it/s]"
     ]
    },
    {
     "name": "stdout",
     "output_type": "stream",
     "text": [
      "1.0369551181793213\n",
      "0.9922812581062317\n",
      "1.0663552284240723\n",
      "1.0546550750732422\n",
      "1.0033583641052246\n",
      "0.9792240858078003\n",
      "0.9899240732192993\n",
      "1.0496044158935547\n",
      "0.9945401549339294\n",
      "1.0235503911972046\n",
      "0.9981657862663269\n",
      "1.0074288845062256\n",
      "0.9963327646255493\n",
      "1.015122413635254\n",
      "0.9931788444519043\n",
      "1.0435024499893188\n",
      "0.9762452244758606\n",
      "1.0623373985290527\n",
      "1.043793797492981\n",
      "1.007173776626587\n",
      "0.9848275184631348\n"
     ]
    },
    {
     "name": "stderr",
     "output_type": "stream",
     "text": [
      " 81%|████████▏ | 12729/15625 [02:10<00:28, 99.99it/s]"
     ]
    },
    {
     "name": "stdout",
     "output_type": "stream",
     "text": [
      "1.0469788312911987\n",
      "1.008443832397461\n",
      "1.006966471672058\n",
      "1.0199024677276611\n",
      "1.0292201042175293\n",
      "1.0180667638778687\n",
      "0.984198808670044\n",
      "1.0177316665649414\n",
      "1.0124868154525757\n",
      "1.0512866973876953\n",
      "0.9885920882225037\n",
      "1.0529146194458008\n",
      "0.9763112664222717\n",
      "0.9917409420013428\n",
      "1.034576177597046\n",
      "0.9884195327758789\n",
      "1.0631061792373657\n",
      "1.0110902786254883\n",
      "0.9489943385124207\n",
      "1.0089432001113892\n",
      "0.9953972697257996\n"
     ]
    },
    {
     "name": "stderr",
     "output_type": "stream",
     "text": [
      " 82%|████████▏ | 12751/15625 [02:10<00:28, 100.20it/s]"
     ]
    },
    {
     "name": "stdout",
     "output_type": "stream",
     "text": [
      "1.0098927021026611\n",
      "1.0033390522003174\n",
      "0.975429892539978\n",
      "1.0473544597625732\n",
      "0.9811995029449463\n",
      "1.0312856435775757\n",
      "1.014278531074524\n",
      "0.9807974100112915\n",
      "0.9736471176147461\n",
      "0.985359251499176\n",
      "1.022330641746521\n",
      "1.020574927330017\n",
      "1.0255874395370483\n",
      "1.0335676670074463\n",
      "0.9950949549674988\n",
      "1.0406219959259033\n",
      "1.066514492034912\n",
      "1.0641074180603027\n",
      "1.0403969287872314\n",
      "1.0323333740234375\n",
      "1.0376501083374023\n"
     ]
    },
    {
     "name": "stderr",
     "output_type": "stream",
     "text": [
      " 82%|████████▏ | 12772/15625 [02:10<00:28, 99.58it/s] "
     ]
    },
    {
     "name": "stdout",
     "output_type": "stream",
     "text": [
      "0.9890624284744263\n",
      "1.0046241283416748\n",
      "1.0196398496627808\n",
      "0.9734470248222351\n",
      "0.9328376054763794\n",
      "1.0068317651748657\n",
      "0.999733567237854\n",
      "1.100935935974121\n",
      "1.0825543403625488\n",
      "1.0545244216918945\n",
      "1.0614526271820068\n",
      "0.9574006795883179\n",
      "1.0523459911346436\n",
      "1.0340263843536377\n",
      "1.0347694158554077\n",
      "0.9882889986038208\n",
      "0.9953612089157104\n",
      "1.0143780708312988\n",
      "1.004035472869873\n",
      "1.0830574035644531\n"
     ]
    },
    {
     "name": "stderr",
     "output_type": "stream",
     "text": [
      " 82%|████████▏ | 12792/15625 [02:10<00:28, 99.29it/s]"
     ]
    },
    {
     "name": "stdout",
     "output_type": "stream",
     "text": [
      "1.0239330530166626\n",
      "1.0575125217437744\n",
      "1.0497996807098389\n",
      "0.9731643199920654\n",
      "0.9628885984420776\n",
      "1.0128278732299805\n",
      "0.9992836713790894\n",
      "1.014941692352295\n",
      "1.045318603515625\n",
      "0.9995781779289246\n",
      "1.0227363109588623\n",
      "1.0466370582580566\n",
      "0.9828013181686401\n",
      "1.0308140516281128\n",
      "1.034360647201538\n",
      "1.0821924209594727\n",
      "1.069547414779663\n",
      "1.005577802658081\n",
      "1.0047653913497925\n",
      "1.0062124729156494\n",
      "0.9994089603424072\n"
     ]
    },
    {
     "name": "stderr",
     "output_type": "stream",
     "text": [
      " 82%|████████▏ | 12812/15625 [02:11<00:28, 99.37it/s]"
     ]
    },
    {
     "name": "stdout",
     "output_type": "stream",
     "text": [
      "0.9791808128356934\n",
      "1.0090281963348389\n",
      "1.0629003047943115\n",
      "1.0186448097229004\n",
      "1.0020925998687744\n",
      "1.018802285194397\n",
      "0.9901976585388184\n",
      "1.046515703201294\n",
      "1.0045747756958008\n",
      "1.0068150758743286\n",
      "1.0424216985702515\n",
      "1.0488247871398926\n",
      "0.9496285915374756\n",
      "0.977454423904419\n",
      "1.0066660642623901\n",
      "1.0355784893035889\n",
      "0.9987333416938782\n",
      "0.952233076095581\n",
      "0.9532327651977539\n",
      "1.006345510482788\n",
      "1.0304155349731445\n"
     ]
    },
    {
     "name": "stderr",
     "output_type": "stream",
     "text": [
      " 82%|████████▏ | 12832/15625 [02:11<00:28, 98.13it/s]"
     ]
    },
    {
     "name": "stdout",
     "output_type": "stream",
     "text": [
      "1.0071930885314941\n",
      "0.9622422456741333\n",
      "1.0259037017822266\n",
      "1.0153822898864746\n",
      "1.0088589191436768\n",
      "1.004996657371521\n",
      "0.9743772745132446\n",
      "1.0453848838806152\n",
      "1.0380525588989258\n",
      "0.9783321022987366\n",
      "1.0296318531036377\n",
      "0.9774190187454224\n",
      "1.0219883918762207\n",
      "0.9755550622940063\n",
      "1.0670244693756104\n",
      "1.0503358840942383\n",
      "1.0599710941314697\n",
      "0.9910233616828918\n",
      "1.0228209495544434\n",
      "1.0531878471374512\n",
      "1.0193394422531128\n"
     ]
    },
    {
     "name": "stderr",
     "output_type": "stream",
     "text": [
      " 82%|████████▏ | 12862/15625 [02:11<00:28, 98.19it/s]"
     ]
    },
    {
     "name": "stdout",
     "output_type": "stream",
     "text": [
      "1.0376893281936646\n",
      "1.0239269733428955\n",
      "1.0194072723388672\n",
      "1.0068223476409912\n",
      "0.9788421988487244\n",
      "1.0296604633331299\n",
      "1.0521117448806763\n",
      "0.9683958292007446\n",
      "0.9995343685150146\n",
      "1.0162012577056885\n",
      "1.05073881149292\n",
      "1.0239644050598145\n",
      "1.050027847290039\n",
      "1.038496732711792\n",
      "1.0567076206207275\n",
      "0.9978352189064026\n",
      "1.064500331878662\n",
      "0.9971930980682373\n",
      "1.019988775253296\n",
      "0.9946939945220947\n"
     ]
    },
    {
     "name": "stderr",
     "output_type": "stream",
     "text": [
      " 82%|████████▏ | 12882/15625 [02:11<00:27, 98.21it/s]"
     ]
    },
    {
     "name": "stdout",
     "output_type": "stream",
     "text": [
      "1.0373966693878174\n",
      "1.017268419265747\n",
      "0.9817494750022888\n",
      "1.0453195571899414\n",
      "1.0824615955352783\n",
      "0.9962803721427917\n",
      "1.0175260305404663\n",
      "1.0118740797042847\n",
      "1.0096195936203003\n",
      "0.9982146620750427\n",
      "1.023740530014038\n",
      "1.0366313457489014\n",
      "0.9868730306625366\n",
      "0.9743365049362183\n",
      "0.9789741039276123\n",
      "0.9934853911399841\n",
      "1.0428030490875244\n",
      "1.050106406211853\n",
      "1.0304858684539795\n",
      "1.0441358089447021\n"
     ]
    },
    {
     "name": "stderr",
     "output_type": "stream",
     "text": [
      " 83%|████████▎ | 12902/15625 [02:12<00:27, 98.83it/s]"
     ]
    },
    {
     "name": "stdout",
     "output_type": "stream",
     "text": [
      "1.0277348756790161\n",
      "0.9702658653259277\n",
      "1.0268969535827637\n",
      "1.0362281799316406\n",
      "1.0576666593551636\n",
      "1.0355716943740845\n",
      "1.0259335041046143\n",
      "1.0510965585708618\n",
      "0.9826947450637817\n",
      "1.0562671422958374\n",
      "1.0257892608642578\n",
      "0.981476902961731\n",
      "1.0595169067382812\n",
      "0.9829854369163513\n",
      "0.9766075611114502\n",
      "0.9655691385269165\n",
      "1.0314409732818604\n",
      "1.0146377086639404\n",
      "0.9927610754966736\n",
      "1.0381338596343994\n",
      "1.0383095741271973\n"
     ]
    },
    {
     "name": "stderr",
     "output_type": "stream",
     "text": [
      " 83%|████████▎ | 12922/15625 [02:12<00:27, 98.07it/s]"
     ]
    },
    {
     "name": "stdout",
     "output_type": "stream",
     "text": [
      "1.0338867902755737\n",
      "0.9959869384765625\n",
      "0.9782823324203491\n",
      "0.9945216774940491\n",
      "0.982014000415802\n",
      "1.094037652015686\n",
      "0.9372668266296387\n",
      "1.024354338645935\n",
      "0.9888694286346436\n",
      "1.0443499088287354\n",
      "1.0368733406066895\n",
      "0.9389628171920776\n",
      "0.9957619905471802\n",
      "1.0565345287322998\n",
      "1.0328090190887451\n",
      "0.9907037615776062\n",
      "1.055649757385254\n",
      "0.9307278394699097\n",
      "1.0277024507522583\n",
      "0.9880160093307495\n"
     ]
    },
    {
     "name": "stderr",
     "output_type": "stream",
     "text": [
      " 83%|████████▎ | 12942/15625 [02:12<00:27, 98.57it/s]"
     ]
    },
    {
     "name": "stdout",
     "output_type": "stream",
     "text": [
      "0.9196733832359314\n",
      "1.0088679790496826\n",
      "0.9775547981262207\n",
      "1.0608587265014648\n",
      "1.0147409439086914\n",
      "1.0436618328094482\n",
      "0.9756309390068054\n",
      "1.0151028633117676\n",
      "0.9338060617446899\n",
      "1.0039021968841553\n",
      "0.9863243699073792\n",
      "1.0162837505340576\n",
      "1.039635419845581\n",
      "1.0046734809875488\n",
      "0.9884235858917236\n",
      "0.9933130741119385\n",
      "1.0383720397949219\n",
      "0.9809695482254028\n",
      "1.0433837175369263\n",
      "0.9656978845596313\n",
      "1.040181040763855\n"
     ]
    },
    {
     "name": "stderr",
     "output_type": "stream",
     "text": [
      "\r",
      " 83%|████████▎ | 12947/15625 [02:12<00:27, 97.66it/s]"
     ]
    },
    {
     "name": "stdout",
     "output_type": "stream",
     "text": [
      "1.072588562965393\n",
      "1.009782075881958\n",
      "0.9603712558746338\n",
      "1.0443304777145386\n"
     ]
    },
    {
     "name": "stderr",
     "output_type": "stream",
     "text": [
      "\n"
     ]
    },
    {
     "ename": "KeyboardInterrupt",
     "evalue": "",
     "output_type": "error",
     "traceback": [
      "\u001b[0;31m---------------------------------------------------------------------------\u001b[0m",
      "\u001b[0;31mKeyboardInterrupt\u001b[0m                         Traceback (most recent call last)",
      "\u001b[0;32m<ipython-input-325-3412cb887e1e>\u001b[0m in \u001b[0;36m<module>\u001b[0;34m\u001b[0m\n\u001b[1;32m     58\u001b[0m             \u001b[0mloss\u001b[0m\u001b[0;34m.\u001b[0m\u001b[0mbackward\u001b[0m\u001b[0;34m(\u001b[0m\u001b[0;34m)\u001b[0m\u001b[0;34m\u001b[0m\u001b[0;34m\u001b[0m\u001b[0m\n\u001b[1;32m     59\u001b[0m             \u001b[0mprint\u001b[0m\u001b[0;34m(\u001b[0m\u001b[0mloss\u001b[0m\u001b[0;34m.\u001b[0m\u001b[0mitem\u001b[0m\u001b[0;34m(\u001b[0m\u001b[0;34m)\u001b[0m\u001b[0;34m)\u001b[0m\u001b[0;34m\u001b[0m\u001b[0;34m\u001b[0m\u001b[0m\n\u001b[0;32m---> 60\u001b[0;31m             \u001b[0moptimizer\u001b[0m\u001b[0;34m.\u001b[0m\u001b[0mstep\u001b[0m\u001b[0;34m(\u001b[0m\u001b[0;34m)\u001b[0m\u001b[0;34m\u001b[0m\u001b[0;34m\u001b[0m\u001b[0m\n\u001b[0m\u001b[1;32m     61\u001b[0m \u001b[0;31m#             print('forward_time =', time.time()-forward_time)\u001b[0m\u001b[0;34m\u001b[0m\u001b[0;34m\u001b[0m\u001b[0;34m\u001b[0m\u001b[0m\n\u001b[1;32m     62\u001b[0m             \u001b[0mtotal_loss\u001b[0m \u001b[0;34m+=\u001b[0m \u001b[0mloss\u001b[0m\u001b[0;34m.\u001b[0m\u001b[0mitem\u001b[0m\u001b[0;34m(\u001b[0m\u001b[0;34m)\u001b[0m\u001b[0;34m\u001b[0m\u001b[0;34m\u001b[0m\u001b[0m\n",
      "\u001b[0;32m/scratch/sagar/Projects/radio_map_deep_prior/venv/lib/python3.6/site-packages/torch/autograd/grad_mode.py\u001b[0m in \u001b[0;36mdecorate_context\u001b[0;34m(*args, **kwargs)\u001b[0m\n\u001b[1;32m     24\u001b[0m         \u001b[0;32mdef\u001b[0m \u001b[0mdecorate_context\u001b[0m\u001b[0;34m(\u001b[0m\u001b[0;34m*\u001b[0m\u001b[0margs\u001b[0m\u001b[0;34m,\u001b[0m \u001b[0;34m**\u001b[0m\u001b[0mkwargs\u001b[0m\u001b[0;34m)\u001b[0m\u001b[0;34m:\u001b[0m\u001b[0;34m\u001b[0m\u001b[0;34m\u001b[0m\u001b[0m\n\u001b[1;32m     25\u001b[0m             \u001b[0;32mwith\u001b[0m \u001b[0mself\u001b[0m\u001b[0;34m.\u001b[0m\u001b[0m__class__\u001b[0m\u001b[0;34m(\u001b[0m\u001b[0;34m)\u001b[0m\u001b[0;34m:\u001b[0m\u001b[0;34m\u001b[0m\u001b[0;34m\u001b[0m\u001b[0m\n\u001b[0;32m---> 26\u001b[0;31m                 \u001b[0;32mreturn\u001b[0m \u001b[0mfunc\u001b[0m\u001b[0;34m(\u001b[0m\u001b[0;34m*\u001b[0m\u001b[0margs\u001b[0m\u001b[0;34m,\u001b[0m \u001b[0;34m**\u001b[0m\u001b[0mkwargs\u001b[0m\u001b[0;34m)\u001b[0m\u001b[0;34m\u001b[0m\u001b[0;34m\u001b[0m\u001b[0m\n\u001b[0m\u001b[1;32m     27\u001b[0m         \u001b[0;32mreturn\u001b[0m \u001b[0mcast\u001b[0m\u001b[0;34m(\u001b[0m\u001b[0mF\u001b[0m\u001b[0;34m,\u001b[0m \u001b[0mdecorate_context\u001b[0m\u001b[0;34m)\u001b[0m\u001b[0;34m\u001b[0m\u001b[0;34m\u001b[0m\u001b[0m\n\u001b[1;32m     28\u001b[0m \u001b[0;34m\u001b[0m\u001b[0m\n",
      "\u001b[0;32m/scratch/sagar/Projects/radio_map_deep_prior/venv/lib/python3.6/site-packages/torch/optim/adam.py\u001b[0m in \u001b[0;36mstep\u001b[0;34m(self, closure)\u001b[0m\n\u001b[1;32m    117\u001b[0m                    \u001b[0mgroup\u001b[0m\u001b[0;34m[\u001b[0m\u001b[0;34m'lr'\u001b[0m\u001b[0;34m]\u001b[0m\u001b[0;34m,\u001b[0m\u001b[0;34m\u001b[0m\u001b[0;34m\u001b[0m\u001b[0m\n\u001b[1;32m    118\u001b[0m                    \u001b[0mgroup\u001b[0m\u001b[0;34m[\u001b[0m\u001b[0;34m'weight_decay'\u001b[0m\u001b[0;34m]\u001b[0m\u001b[0;34m,\u001b[0m\u001b[0;34m\u001b[0m\u001b[0;34m\u001b[0m\u001b[0m\n\u001b[0;32m--> 119\u001b[0;31m                    \u001b[0mgroup\u001b[0m\u001b[0;34m[\u001b[0m\u001b[0;34m'eps'\u001b[0m\u001b[0;34m]\u001b[0m\u001b[0;34m\u001b[0m\u001b[0;34m\u001b[0m\u001b[0m\n\u001b[0m\u001b[1;32m    120\u001b[0m                    )\n\u001b[1;32m    121\u001b[0m         \u001b[0;32mreturn\u001b[0m \u001b[0mloss\u001b[0m\u001b[0;34m\u001b[0m\u001b[0;34m\u001b[0m\u001b[0m\n",
      "\u001b[0;32m/scratch/sagar/Projects/radio_map_deep_prior/venv/lib/python3.6/site-packages/torch/optim/functional.py\u001b[0m in \u001b[0;36madam\u001b[0;34m(params, grads, exp_avgs, exp_avg_sqs, max_exp_avg_sqs, state_steps, amsgrad, beta1, beta2, lr, weight_decay, eps)\u001b[0m\n\u001b[1;32m     85\u001b[0m         \u001b[0;31m# Decay the first and second moment running average coefficient\u001b[0m\u001b[0;34m\u001b[0m\u001b[0;34m\u001b[0m\u001b[0;34m\u001b[0m\u001b[0m\n\u001b[1;32m     86\u001b[0m         \u001b[0mexp_avg\u001b[0m\u001b[0;34m.\u001b[0m\u001b[0mmul_\u001b[0m\u001b[0;34m(\u001b[0m\u001b[0mbeta1\u001b[0m\u001b[0;34m)\u001b[0m\u001b[0;34m.\u001b[0m\u001b[0madd_\u001b[0m\u001b[0;34m(\u001b[0m\u001b[0mgrad\u001b[0m\u001b[0;34m,\u001b[0m \u001b[0malpha\u001b[0m\u001b[0;34m=\u001b[0m\u001b[0;36m1\u001b[0m \u001b[0;34m-\u001b[0m \u001b[0mbeta1\u001b[0m\u001b[0;34m)\u001b[0m\u001b[0;34m\u001b[0m\u001b[0;34m\u001b[0m\u001b[0m\n\u001b[0;32m---> 87\u001b[0;31m         \u001b[0mexp_avg_sq\u001b[0m\u001b[0;34m.\u001b[0m\u001b[0mmul_\u001b[0m\u001b[0;34m(\u001b[0m\u001b[0mbeta2\u001b[0m\u001b[0;34m)\u001b[0m\u001b[0;34m.\u001b[0m\u001b[0maddcmul_\u001b[0m\u001b[0;34m(\u001b[0m\u001b[0mgrad\u001b[0m\u001b[0;34m,\u001b[0m \u001b[0mgrad\u001b[0m\u001b[0;34m,\u001b[0m \u001b[0mvalue\u001b[0m\u001b[0;34m=\u001b[0m\u001b[0;36m1\u001b[0m \u001b[0;34m-\u001b[0m \u001b[0mbeta2\u001b[0m\u001b[0;34m)\u001b[0m\u001b[0;34m\u001b[0m\u001b[0;34m\u001b[0m\u001b[0m\n\u001b[0m\u001b[1;32m     88\u001b[0m         \u001b[0;32mif\u001b[0m \u001b[0mamsgrad\u001b[0m\u001b[0;34m:\u001b[0m\u001b[0;34m\u001b[0m\u001b[0;34m\u001b[0m\u001b[0m\n\u001b[1;32m     89\u001b[0m             \u001b[0;31m# Maintains the maximum of all 2nd moment running avg. till now\u001b[0m\u001b[0;34m\u001b[0m\u001b[0;34m\u001b[0m\u001b[0;34m\u001b[0m\u001b[0m\n",
      "\u001b[0;31mKeyboardInterrupt\u001b[0m: "
     ]
    }
   ],
   "source": [
    "from collections import OrderedDict, namedtuple\n",
    "import os\n",
    "from run_manager_adv import RunBuilder, RunManager\n",
    "from tqdm import tqdm, trange\n",
    "from IPython.display import clear_output\n",
    "import time\n",
    "import pandas as pd\n",
    "\n",
    "DEFAULT_ROOT = '/scratch/sagar/slf/train_set/set_harsh_torch_raw_unnormalized'\n",
    "\n",
    "if torch.cuda.is_available():\n",
    "    devices = ['cuda']\n",
    "else:\n",
    "    devices = ['cpu']\n",
    "print('starting')\n",
    "\n",
    "params = OrderedDict(\n",
    "    lr = [0.0001],\n",
    "    batch_size = [32],\n",
    "    device = devices,\n",
    "    shuffle = [True],\n",
    "    num_workers = [1]\n",
    ")\n",
    "GAN_path = 'trained-models/gan/generator-gan-first'\n",
    "\n",
    "train_set = GANSample(GAN_path, total_data=500000, sampling=True)\n",
    "\n",
    "m = RunManager(epoch_count_print=1)\n",
    "\n",
    "criterion = nn.MSELoss()\n",
    "run_data = []\n",
    "\n",
    "data_load_time = time.time()\n",
    "forward_time = time.time()\n",
    "for run in RunBuilder.get_runs(params):\n",
    "    device = torch.device(run.device)\n",
    "    encoder = GANEncoder().to(run.device)\n",
    "    loader = torch.utils.data.DataLoader(train_set, batch_size=run.batch_size, shuffle=run.shuffle, num_workers = 5)\n",
    "    optimizer = torch.optim.Adam(encoder.parameters(), lr=run.lr)\n",
    "        \n",
    "    for epoch in range(10):\n",
    "        \n",
    "        total_loss = 0\n",
    "        num_batches = len(train_set)/run.batch_size\n",
    "        \n",
    "        for batch in tqdm(loader):\n",
    "            # Get data\n",
    "            sample, true_label = batch\n",
    "            sample = sample.to(run.device)\n",
    "            true_label = true_label.to(run.device)\n",
    "#             print('data load time:{}'.format(time.time()-data_load_time))\n",
    "            # Update Encoder parameters\n",
    "#             forward_time = time.time()\n",
    "            optimizer.zero_grad()\n",
    "\n",
    "            output = encoder(sample)\n",
    "            loss = criterion(output, true_label)\n",
    "            loss.backward()\n",
    "            print(loss.item())\n",
    "            optimizer.step()\n",
    "#             print('forward_time =', time.time()-forward_time)\n",
    "            total_loss += loss.item()\n",
    "#             data_load_time = time.time()\n",
    "            \n",
    "            \n",
    "        results = OrderedDict()\n",
    "        results['loss'] = total_loss/num_batches\n",
    "        results['lr'] = run.lr\n",
    "        results['batch_size'] = [run.batch_size]\n",
    "        run_data.append(results)\n",
    "        df = pd.DataFrame.from_dict(run_data, orient='columns')\n",
    "        clear_output(wait=True)\n",
    "        display(df)\n",
    "        \n",
    "    m.end_run()"
   ]
  },
  {
   "cell_type": "code",
   "execution_count": 328,
   "metadata": {},
   "outputs": [
    {
     "data": {
      "text/plain": [
       "<matplotlib.image.AxesImage at 0x7f2bed3b8438>"
      ]
     },
     "execution_count": 328,
     "metadata": {},
     "output_type": "execute_result"
    },
    {
     "data": {
      "image/png": "[encoded data removed]",
      "text/plain": [
       "<Figure size 432x288 with 1 Axes>"
      ]
     },
     "metadata": {
      "needs_background": "light"
     },
     "output_type": "display_data"
    }
   ],
   "source": [
    "a = true_label.to('cpu')\n",
    "recons = generator2(a)\n",
    "\n",
    "plt.imshow(recons[0].detach().squeeze().numpy())"
   ]
  },
  {
   "cell_type": "code",
   "execution_count": 330,
   "metadata": {},
   "outputs": [
    {
     "data": {
      "text/plain": [
       "<matplotlib.image.AxesImage at 0x7f2bed47be10>"
      ]
     },
     "execution_count": 330,
     "metadata": {},
     "output_type": "execute_result"
    },
    {
     "data": {
      "image/png": "[encoded data removed]",
      "text/plain": [
       "<Figure size 432x288 with 1 Axes>"
      ]
     },
     "metadata": {
      "needs_background": "light"
     },
     "output_type": "display_data"
    }
   ],
   "source": [
    "b = sample[0].to('cpu')\n",
    "plt.imshow(b.detach().squeeze().numpy())"
   ]
  },
  {
   "cell_type": "code",
   "execution_count": 340,
   "metadata": {},
   "outputs": [],
   "source": [
    "gen = torch.load(GAN_path)\n",
    "c = encoder(b.unsqueeze(dim=0).to('cuda'))\n",
    "d = gen(c.to('cpu'))"
   ]
  },
  {
   "cell_type": "code",
   "execution_count": 341,
   "metadata": {},
   "outputs": [
    {
     "data": {
      "text/plain": [
       "<matplotlib.image.AxesImage at 0x7f2bed4b46d8>"
      ]
     },
     "execution_count": 341,
     "metadata": {},
     "output_type": "execute_result"
    },
    {
     "data": {
      "image/png": "[encoded data removed]",
      "text/plain": [
       "<Figure size 432x288 with 1 Axes>"
      ]
     },
     "metadata": {
      "needs_background": "light"
     },
     "output_type": "display_data"
    }
   ],
   "source": [
    "plt.imshow(d.detach().squeeze().numpy())"
   ]
  },
  {
   "cell_type": "code",
   "execution_count": 332,
   "metadata": {},
   "outputs": [
    {
     "data": {
      "text/plain": [
       "torch.Size([1, 51, 51])"
      ]
     },
     "execution_count": 332,
     "metadata": {},
     "output_type": "execute_result"
    }
   ],
   "source": [
    "b.shape"
   ]
  },
  {
   "cell_type": "code",
   "execution_count": 318,
   "metadata": {},
   "outputs": [
    {
     "data": {
      "text/plain": [
       "torch.Size([32, 1, 51, 51])"
      ]
     },
     "execution_count": 318,
     "metadata": {},
     "output_type": "execute_result"
    }
   ],
   "source": [
    "sample.shape"
   ]
  },
  {
   "cell_type": "code",
   "execution_count": 319,
   "metadata": {},
   "outputs": [
    {
     "data": {
      "text/plain": [
       "<matplotlib.image.AxesImage at 0x7f2b93433898>"
      ]
     },
     "execution_count": 319,
     "metadata": {},
     "output_type": "execute_result"
    },
    {
     "data": {
      "image/png": "[encoded data removed]",
      "text/plain": [
       "<Figure size 432x288 with 1 Axes>"
      ]
     },
     "metadata": {
      "needs_background": "light"
     },
     "output_type": "display_data"
    }
   ],
   "source": [
    "a = sample[0]\n",
    "a = a.squeeze()\n",
    "a = a.to('cpu')\n",
    "plt.imshow(a.detach().squeeze().numpy())"
   ]
  },
  {
   "cell_type": "code",
   "execution_count": 287,
   "metadata": {},
   "outputs": [
    {
     "data": {
      "text/plain": [
       "<matplotlib.image.AxesImage at 0x7f2be55b3cc0>"
      ]
     },
     "execution_count": 287,
     "metadata": {},
     "output_type": "execute_result"
    },
    {
     "data": {
      "image/png": "[encoded data removed]",
      "text/plain": [
       "<Figure size 432x288 with 1 Axes>"
      ]
     },
     "metadata": {
      "needs_background": "light"
     },
     "output_type": "display_data"
    }
   ],
   "source": [
    "test_set = SLF(sampling=True)\n",
    "a, true = test_set[0]\n",
    "\n",
    "a = a.unsqueeze(dim=0)\n",
    "encoder.eval()\n",
    "encoder = encoder.to('cpu')\n",
    "generator2.eval()\n",
    "generator2 = generator2.to('cpu')\n",
    "\n",
    "enc = encoder(a)\n",
    "gen = generator2(enc)\n",
    "\n",
    "plt.imshow(np.log(gen.detach().squeeze().numpy()))"
   ]
  },
  {
   "cell_type": "code",
   "execution_count": 288,
   "metadata": {},
   "outputs": [
    {
     "data": {
      "text/plain": [
       "<matplotlib.image.AxesImage at 0x7f2b49e313c8>"
      ]
     },
     "execution_count": 288,
     "metadata": {},
     "output_type": "execute_result"
    },
    {
     "data": {
      "image/png": "[encoded data removed]",
      "text/plain": [
       "<Figure size 432x288 with 1 Axes>"
      ]
     },
     "metadata": {
      "needs_background": "light"
     },
     "output_type": "display_data"
    }
   ],
   "source": [
    "plt.imshow(np.log(true.detach().squeeze().numpy()))"
   ]
  },
  {
   "cell_type": "code",
   "execution_count": 247,
   "metadata": {},
   "outputs": [
    {
     "ename": "NotImplementedError",
     "evalue": "",
     "output_type": "error",
     "traceback": [
      "\u001b[0;31m---------------------------------------------------------------------------\u001b[0m",
      "\u001b[0;31mNotImplementedError\u001b[0m                       Traceback (most recent call last)",
      "\u001b[0;32m<ipython-input-247-a1bcf234c745>\u001b[0m in \u001b[0;36m<module>\u001b[0;34m\u001b[0m\n\u001b[0;32m----> 1\u001b[0;31m \u001b[0ma\u001b[0m \u001b[0;34m=\u001b[0m \u001b[0mencoder\u001b[0m\u001b[0;34m(\u001b[0m\u001b[0msample\u001b[0m\u001b[0;34m)\u001b[0m\u001b[0;34m\u001b[0m\u001b[0;34m\u001b[0m\u001b[0m\n\u001b[0m",
      "\u001b[0;32m/scratch/sagar/Projects/radio_map_deep_prior/venv/lib/python3.6/site-packages/torch/nn/modules/module.py\u001b[0m in \u001b[0;36m_call_impl\u001b[0;34m(self, *input, **kwargs)\u001b[0m\n\u001b[1;32m    725\u001b[0m             \u001b[0mresult\u001b[0m \u001b[0;34m=\u001b[0m \u001b[0mself\u001b[0m\u001b[0;34m.\u001b[0m\u001b[0m_slow_forward\u001b[0m\u001b[0;34m(\u001b[0m\u001b[0;34m*\u001b[0m\u001b[0minput\u001b[0m\u001b[0;34m,\u001b[0m \u001b[0;34m**\u001b[0m\u001b[0mkwargs\u001b[0m\u001b[0;34m)\u001b[0m\u001b[0;34m\u001b[0m\u001b[0;34m\u001b[0m\u001b[0m\n\u001b[1;32m    726\u001b[0m         \u001b[0;32melse\u001b[0m\u001b[0;34m:\u001b[0m\u001b[0;34m\u001b[0m\u001b[0;34m\u001b[0m\u001b[0m\n\u001b[0;32m--> 727\u001b[0;31m             \u001b[0mresult\u001b[0m \u001b[0;34m=\u001b[0m \u001b[0mself\u001b[0m\u001b[0;34m.\u001b[0m\u001b[0mforward\u001b[0m\u001b[0;34m(\u001b[0m\u001b[0;34m*\u001b[0m\u001b[0minput\u001b[0m\u001b[0;34m,\u001b[0m \u001b[0;34m**\u001b[0m\u001b[0mkwargs\u001b[0m\u001b[0;34m)\u001b[0m\u001b[0;34m\u001b[0m\u001b[0;34m\u001b[0m\u001b[0m\n\u001b[0m\u001b[1;32m    728\u001b[0m         for hook in itertools.chain(\n\u001b[1;32m    729\u001b[0m                 \u001b[0m_global_forward_hooks\u001b[0m\u001b[0;34m.\u001b[0m\u001b[0mvalues\u001b[0m\u001b[0;34m(\u001b[0m\u001b[0;34m)\u001b[0m\u001b[0;34m,\u001b[0m\u001b[0;34m\u001b[0m\u001b[0;34m\u001b[0m\u001b[0m\n",
      "\u001b[0;32m/scratch/sagar/Projects/radio_map_deep_prior/venv/lib/python3.6/site-packages/torch/nn/modules/module.py\u001b[0m in \u001b[0;36m_forward_unimplemented\u001b[0;34m(self, *input)\u001b[0m\n\u001b[1;32m    173\u001b[0m         \u001b[0mregistered\u001b[0m \u001b[0mhooks\u001b[0m \u001b[0;32mwhile\u001b[0m \u001b[0mthe\u001b[0m \u001b[0mlatter\u001b[0m \u001b[0msilently\u001b[0m \u001b[0mignores\u001b[0m \u001b[0mthem\u001b[0m\u001b[0;34m.\u001b[0m\u001b[0;34m\u001b[0m\u001b[0;34m\u001b[0m\u001b[0m\n\u001b[1;32m    174\u001b[0m     \"\"\"\n\u001b[0;32m--> 175\u001b[0;31m     \u001b[0;32mraise\u001b[0m \u001b[0mNotImplementedError\u001b[0m\u001b[0;34m\u001b[0m\u001b[0;34m\u001b[0m\u001b[0m\n\u001b[0m\u001b[1;32m    176\u001b[0m \u001b[0;34m\u001b[0m\u001b[0m\n\u001b[1;32m    177\u001b[0m \u001b[0;34m\u001b[0m\u001b[0m\n",
      "\u001b[0;31mNotImplementedError\u001b[0m: "
     ]
    }
   ],
   "source": [
    "a = encoder(sample)"
   ]
  },
  {
   "cell_type": "code",
   "execution_count": 255,
   "metadata": {},
   "outputs": [
    {
     "ename": "NotImplementedError",
     "evalue": "",
     "output_type": "error",
     "traceback": [
      "\u001b[0;31m---------------------------------------------------------------------------\u001b[0m",
      "\u001b[0;31mNotImplementedError\u001b[0m                       Traceback (most recent call last)",
      "\u001b[0;32m<ipython-input-255-101b5d35426d>\u001b[0m in \u001b[0;36m<module>\u001b[0;34m\u001b[0m\n\u001b[1;32m      1\u001b[0m \u001b[0msample\u001b[0m \u001b[0;34m=\u001b[0m \u001b[0mtorch\u001b[0m\u001b[0;34m.\u001b[0m\u001b[0mrandn\u001b[0m\u001b[0;34m(\u001b[0m\u001b[0;34m(\u001b[0m\u001b[0;36m1\u001b[0m\u001b[0;34m,\u001b[0m\u001b[0;36m51\u001b[0m\u001b[0;34m,\u001b[0m\u001b[0;36m51\u001b[0m\u001b[0;34m)\u001b[0m\u001b[0;34m,\u001b[0m \u001b[0mdtype\u001b[0m\u001b[0;34m=\u001b[0m\u001b[0mtorch\u001b[0m\u001b[0;34m.\u001b[0m\u001b[0mfloat32\u001b[0m\u001b[0;34m)\u001b[0m\u001b[0;34m\u001b[0m\u001b[0;34m\u001b[0m\u001b[0m\n\u001b[0;32m----> 2\u001b[0;31m \u001b[0ma\u001b[0m \u001b[0;34m=\u001b[0m \u001b[0mencoder\u001b[0m\u001b[0;34m(\u001b[0m\u001b[0msample\u001b[0m\u001b[0;34m)\u001b[0m\u001b[0;34m\u001b[0m\u001b[0;34m\u001b[0m\u001b[0m\n\u001b[0m",
      "\u001b[0;32m/scratch/sagar/Projects/radio_map_deep_prior/venv/lib/python3.6/site-packages/torch/nn/modules/module.py\u001b[0m in \u001b[0;36m_call_impl\u001b[0;34m(self, *input, **kwargs)\u001b[0m\n\u001b[1;32m    725\u001b[0m             \u001b[0mresult\u001b[0m \u001b[0;34m=\u001b[0m \u001b[0mself\u001b[0m\u001b[0;34m.\u001b[0m\u001b[0m_slow_forward\u001b[0m\u001b[0;34m(\u001b[0m\u001b[0;34m*\u001b[0m\u001b[0minput\u001b[0m\u001b[0;34m,\u001b[0m \u001b[0;34m**\u001b[0m\u001b[0mkwargs\u001b[0m\u001b[0;34m)\u001b[0m\u001b[0;34m\u001b[0m\u001b[0;34m\u001b[0m\u001b[0m\n\u001b[1;32m    726\u001b[0m         \u001b[0;32melse\u001b[0m\u001b[0;34m:\u001b[0m\u001b[0;34m\u001b[0m\u001b[0;34m\u001b[0m\u001b[0m\n\u001b[0;32m--> 727\u001b[0;31m             \u001b[0mresult\u001b[0m \u001b[0;34m=\u001b[0m \u001b[0mself\u001b[0m\u001b[0;34m.\u001b[0m\u001b[0mforward\u001b[0m\u001b[0;34m(\u001b[0m\u001b[0;34m*\u001b[0m\u001b[0minput\u001b[0m\u001b[0;34m,\u001b[0m \u001b[0;34m**\u001b[0m\u001b[0mkwargs\u001b[0m\u001b[0;34m)\u001b[0m\u001b[0;34m\u001b[0m\u001b[0;34m\u001b[0m\u001b[0m\n\u001b[0m\u001b[1;32m    728\u001b[0m         for hook in itertools.chain(\n\u001b[1;32m    729\u001b[0m                 \u001b[0m_global_forward_hooks\u001b[0m\u001b[0;34m.\u001b[0m\u001b[0mvalues\u001b[0m\u001b[0;34m(\u001b[0m\u001b[0;34m)\u001b[0m\u001b[0;34m,\u001b[0m\u001b[0;34m\u001b[0m\u001b[0;34m\u001b[0m\u001b[0m\n",
      "\u001b[0;32m/scratch/sagar/Projects/radio_map_deep_prior/venv/lib/python3.6/site-packages/torch/nn/modules/module.py\u001b[0m in \u001b[0;36m_forward_unimplemented\u001b[0;34m(self, *input)\u001b[0m\n\u001b[1;32m    173\u001b[0m         \u001b[0mregistered\u001b[0m \u001b[0mhooks\u001b[0m \u001b[0;32mwhile\u001b[0m \u001b[0mthe\u001b[0m \u001b[0mlatter\u001b[0m \u001b[0msilently\u001b[0m \u001b[0mignores\u001b[0m \u001b[0mthem\u001b[0m\u001b[0;34m.\u001b[0m\u001b[0;34m\u001b[0m\u001b[0;34m\u001b[0m\u001b[0m\n\u001b[1;32m    174\u001b[0m     \"\"\"\n\u001b[0;32m--> 175\u001b[0;31m     \u001b[0;32mraise\u001b[0m \u001b[0mNotImplementedError\u001b[0m\u001b[0;34m\u001b[0m\u001b[0;34m\u001b[0m\u001b[0m\n\u001b[0m\u001b[1;32m    176\u001b[0m \u001b[0;34m\u001b[0m\u001b[0m\n\u001b[1;32m    177\u001b[0m \u001b[0;34m\u001b[0m\u001b[0m\n",
      "\u001b[0;31mNotImplementedError\u001b[0m: "
     ]
    }
   ],
   "source": [
    "sample = torch.randn((1,51,51), dtype=torch.float32)\n",
    "a = encoder(sample)"
   ]
  },
  {
   "cell_type": "code",
   "execution_count": 246,
   "metadata": {},
   "outputs": [
    {
     "data": {
      "text/plain": [
       "torch.Size([32, 1, 51, 51])"
      ]
     },
     "execution_count": 246,
     "metadata": {},
     "output_type": "execute_result"
    }
   ],
   "source": [
    "sample.shape"
   ]
  },
  {
   "cell_type": "code",
   "execution_count": 261,
   "metadata": {},
   "outputs": [],
   "source": [
    "loader = torch.utils.data.DataLoader(train_set, batch_size=32, shuffle=True)"
   ]
  },
  {
   "cell_type": "code",
   "execution_count": 207,
   "metadata": {},
   "outputs": [
    {
     "ename": "NameError",
     "evalue": "name 'loaded' is not defined",
     "output_type": "error",
     "traceback": [
      "\u001b[0;31m---------------------------------------------------------------------------\u001b[0m",
      "\u001b[0;31mNameError\u001b[0m                                 Traceback (most recent call last)",
      "\u001b[0;32m<ipython-input-207-d428cc504a79>\u001b[0m in \u001b[0;36m<module>\u001b[0;34m\u001b[0m\n\u001b[1;32m      1\u001b[0m \u001b[0;32mfor\u001b[0m \u001b[0mbatch\u001b[0m \u001b[0;32min\u001b[0m \u001b[0mloader\u001b[0m\u001b[0;34m:\u001b[0m\u001b[0;34m\u001b[0m\u001b[0;34m\u001b[0m\u001b[0m\n\u001b[1;32m      2\u001b[0m     \u001b[0ma\u001b[0m \u001b[0;34m=\u001b[0m \u001b[0mbatch\u001b[0m\u001b[0;34m\u001b[0m\u001b[0;34m\u001b[0m\u001b[0m\n\u001b[0;32m----> 3\u001b[0;31m     \u001b[0mprint\u001b[0m\u001b[0;34m(\u001b[0m\u001b[0mloaded\u001b[0m\u001b[0;34m)\u001b[0m\u001b[0;34m\u001b[0m\u001b[0;34m\u001b[0m\u001b[0m\n\u001b[0m",
      "\u001b[0;31mNameError\u001b[0m: name 'loaded' is not defined"
     ]
    }
   ],
   "source": [
    "for batch in loader:\n",
    "    a = batch\n",
    "    print('loaded')"
   ]
  },
  {
   "cell_type": "code",
   "execution_count": 77,
   "metadata": {},
   "outputs": [],
   "source": [
    "import torch\n",
    "import torch.nn as nn\n",
    "import matplotlib.pyplot as plt\n",
    "\n",
    "generator = torch.load('trained-models/gan/gan-generator-2_z-16')\n",
    "generator2 = torch.load('trained-models/gan/generator-gan-first')\n",
    "\n",
    "generator2.eval()\n",
    "generator2 = generator2.to('cpu')\n",
    "generator.eval()\n",
    "generator = generator.to('cpu')"
   ]
  },
  {
   "cell_type": "code",
   "execution_count": 78,
   "metadata": {},
   "outputs": [],
   "source": [
    "def plot_multiple(images, n, dim, cmap):\n",
    "    \"\"\"\n",
    "    :param arr images:          An array of images stored as a numpy array\n",
    "    :param int n:               The width and height of the plot in terms of images\n",
    "    :param tuple dim:           The dimension of the images\n",
    "    :param str cmap:            The colourmap to be used by pyplot\n",
    "\n",
    "    :return:                    Nothing\n",
    "\n",
    "    Function used to plot multiple images in one single plot\n",
    "    \"\"\"\n",
    "    # unpack the image dimensions\n",
    "    z_dim, x_dim, y_dim = dim\n",
    "\n",
    "    # if image is grayscale\n",
    "    if (z_dim == 1):\n",
    "        # initialize some limits on x&y\n",
    "        x_limit = np.linspace(-2, 2, n)\n",
    "        y_limit = np.linspace(-2, 2, n)\n",
    "\n",
    "        # initialize the final combined image\n",
    "        empty = np.empty((x_dim*n, y_dim*n))\n",
    "\n",
    "        current = 0\n",
    "        for i, zi in enumerate(x_limit):\n",
    "            for j, pi in enumerate(y_limit):\n",
    "                # each image insert it into a subsection of the final image\n",
    "                empty[(n-i-1)*x_dim:(n-i)*x_dim, j*y_dim:(j+1)*y_dim] = images[current][0]\n",
    "                current+=1\n",
    "\n",
    "        plt.figure(figsize=(8, 10))\n",
    "\n",
    "        x,y = np.meshgrid(x_limit, y_limit)\n",
    "        plt.imshow(empty, origin=\"upper\", cmap=cmap)\n",
    "        plt.grid(False)\n",
    "        plt.show()\n",
    "\n",
    "    # if the image is rgb\n",
    "    elif (z_dim == 3):\n",
    "        # initialize some limits on x&y\n",
    "        x_limit = np.linspace(-2, 2, n)\n",
    "        y_limit = np.linspace(-2, 2, n)\n",
    "\n",
    "        # initialize the final combined image (now with one more dim)\n",
    "        empty = np.empty((x_dim*n, y_dim*n, 3))\n",
    "\n",
    "        current = 0\n",
    "        for i, zi in enumerate(x_limit):\n",
    "            for j, pi in enumerate(y_limit):\n",
    "                # flatten the image\n",
    "                curr_img = images[current].ravel()\n",
    "                # reshape it into the correct shape for pyplot\n",
    "                curr_img = np.reshape(curr_img, (x_dim, y_dim, z_dim), order='F')\n",
    "                # rotate it by 270 degrees\n",
    "                curr_img = np.rot90(curr_img, 3)\n",
    "\n",
    "                # insert it into a subsection of the final image\n",
    "                empty[(n-i-1)*x_dim:(n-i)*x_dim, j*y_dim:(j+1)*y_dim] = curr_img\n",
    "                current+=1\n",
    "\n",
    "        plt.figure(figsize=(8, 10))\n",
    "\n",
    "        x,y = np.meshgrid(x_limit, y_limit)\n",
    "        plt.imshow(empty, origin=\"upper\", cmap=cmap)\n",
    "        plt.grid(False)\n",
    "        plt.show()\n",
    "\n",
    "def plot_images(images):\n",
    "    if len(images)==0:\n",
    "        return\n",
    "    x_dim = images[0][0].shape[0]\n",
    "    y_dim = images[0][0].shape[1]\n",
    "    m = len(images)\n",
    "    n = len(images[0])\n",
    "    empty = np.empty((x_dim*m, y_dim*n))\n",
    "    for i in range(m):\n",
    "        for j in range(n):\n",
    "            empty[(i)*x_dim:(i+1)*x_dim, j*y_dim:(j+1)*y_dim] = images[i][j]\n",
    "    \n",
    "    plt.figure(figsize=(8, 10))\n",
    "    plt.imshow(empty, origin=\"upper\")\n",
    "    plt.grid(False)\n",
    "    plt.show()"
   ]
  },
  {
   "cell_type": "code",
   "execution_count": 118,
   "metadata": {},
   "outputs": [
    {
     "data": {
      "image/png": "[encoded data removed]",
      "text/plain": [
       "<Figure size 576x720 with 1 Axes>"
      ]
     },
     "metadata": {
      "needs_background": "light"
     },
     "output_type": "display_data"
    }
   ],
   "source": [
    "import numpy as np\n",
    "m = 1\n",
    "n = 1\n",
    "\n",
    "images = []\n",
    "step = 1.0/m\n",
    "\n",
    "z_dim = 64\n",
    "for j in range(n):\n",
    "    p1 = torch.randn((1,64), dtype=torch.float32)\n",
    "    p2 = torch.randn((1,64), dtype=torch.float32)\n",
    "\n",
    "    new = []\n",
    "    for i in range(m):\n",
    "        sample = p1 #+ i*step*(p2-p1)\n",
    "        out = generator2(sample)\n",
    "        new.append(np.log(out.detach().squeeze().numpy()))\n",
    "    \n",
    "    images.append(new)    \n",
    "plot_images(images)"
   ]
  },
  {
   "cell_type": "code",
   "execution_count": 119,
   "metadata": {},
   "outputs": [
    {
     "data": {
      "text/plain": [
       "Generator(\n",
       "  (main): Sequential(\n",
       "    (0): Linear(in_features=64, out_features=128, bias=True)\n",
       "    (1): UnFlatten()\n",
       "    (2): ConvTranspose2d(128, 128, kernel_size=(3, 3), stride=(1, 1))\n",
       "    (3): BatchNorm2d(128, eps=1e-05, momentum=0.1, affine=True, track_running_stats=True)\n",
       "    (4): ReLU(inplace=True)\n",
       "    (5): ConvTranspose2d(128, 64, kernel_size=(4, 4), stride=(2, 2), padding=(1, 1))\n",
       "    (6): BatchNorm2d(64, eps=1e-05, momentum=0.1, affine=True, track_running_stats=True)\n",
       "    (7): ReLU(inplace=True)\n",
       "    (8): ConvTranspose2d(64, 32, kernel_size=(4, 4), stride=(2, 2), padding=(1, 1))\n",
       "    (9): BatchNorm2d(32, eps=1e-05, momentum=0.1, affine=True, track_running_stats=True)\n",
       "    (10): ReLU(inplace=True)\n",
       "    (11): ConvTranspose2d(32, 16, kernel_size=(4, 4), stride=(2, 2))\n",
       "    (12): BatchNorm2d(16, eps=1e-05, momentum=0.1, affine=True, track_running_stats=True)\n",
       "    (13): ReLU(inplace=True)\n",
       "    (14): ConvTranspose2d(16, 2, kernel_size=(4, 4), stride=(2, 2))\n",
       "    (15): BatchNorm2d(2, eps=1e-05, momentum=0.1, affine=True, track_running_stats=True)\n",
       "    (16): ReLU(inplace=True)\n",
       "    (17): Conv2d(2, 1, kernel_size=(4, 4), stride=(1, 1))\n",
       "    (18): Sigmoid()\n",
       "  )\n",
       ")"
      ]
     },
     "execution_count": 119,
     "metadata": {},
     "output_type": "execute_result"
    }
   ],
   "source": [
    "generator2"
   ]
  },
  {
   "cell_type": "code",
   "execution_count": 136,
   "metadata": {},
   "outputs": [
    {
     "name": "stdout",
     "output_type": "stream",
     "text": [
      "torch.Size([128, 64])\n",
      "torch.Size([128])\n",
      "torch.Size([128, 128, 3, 3])\n",
      "torch.Size([128])\n",
      "torch.Size([128])\n",
      "torch.Size([128])\n",
      "torch.Size([128, 64, 4, 4])\n",
      "torch.Size([64])\n",
      "torch.Size([64])\n",
      "torch.Size([64])\n",
      "torch.Size([64, 32, 4, 4])\n",
      "torch.Size([32])\n",
      "torch.Size([32])\n",
      "torch.Size([32])\n",
      "torch.Size([32, 16, 4, 4])\n",
      "torch.Size([16])\n",
      "torch.Size([16])\n",
      "torch.Size([16])\n",
      "torch.Size([16, 2, 4, 4])\n",
      "torch.Size([2])\n",
      "torch.Size([2])\n",
      "torch.Size([2])\n",
      "torch.Size([1, 2, 4, 4])\n",
      "torch.Size([1])\n"
     ]
    }
   ],
   "source": [
    "for param in generator2.parameters():\n",
    "    print(param.shape)"
   ]
  },
  {
   "cell_type": "code",
   "execution_count": 139,
   "metadata": {},
   "outputs": [
    {
     "data": {
      "text/plain": [
       "128"
      ]
     },
     "execution_count": 139,
     "metadata": {},
     "output_type": "execute_result"
    }
   ],
   "source": [
    "next(generator2.parameters()).shape[0]"
   ]
  },
  {
   "cell_type": "code",
   "execution_count": 134,
   "metadata": {},
   "outputs": [
    {
     "data": {
      "text/plain": [
       "torch.Size([128, 64])"
      ]
     },
     "execution_count": 134,
     "metadata": {},
     "output_type": "execute_result"
    }
   ],
   "source": [
    "a.shape"
   ]
  },
  {
   "cell_type": "code",
   "execution_count": null,
   "metadata": {},
   "outputs": [],
   "source": [
    "generator"
   ]
  },
  {
   "cell_type": "code",
   "execution_count": null,
   "metadata": {},
   "outputs": [],
   "source": []
  },
  {
   "cell_type": "code",
   "execution_count": 88,
   "metadata": {},
   "outputs": [
    {
     "ename": "TypeError",
     "evalue": "can't multiply sequence by non-int of type 'float'",
     "output_type": "error",
     "traceback": [
      "\u001b[0;31m---------------------------------------------------------------------------\u001b[0m",
      "\u001b[0;31mTypeError\u001b[0m                                 Traceback (most recent call last)",
      "\u001b[0;32m<ipython-input-88-5c96e5609cbe>\u001b[0m in \u001b[0;36m<module>\u001b[0;34m\u001b[0m\n\u001b[0;32m----> 1\u001b[0;31m \u001b[0ma\u001b[0m \u001b[0;34m=\u001b[0m \u001b[0mtorch\u001b[0m\u001b[0;34m.\u001b[0m\u001b[0mrandn\u001b[0m\u001b[0;34m(\u001b[0m\u001b[0;36m0.25\u001b[0m\u001b[0;34m*\u001b[0m\u001b[0;34m(\u001b[0m\u001b[0;36m1\u001b[0m\u001b[0;34m,\u001b[0m\u001b[0;36m64\u001b[0m\u001b[0;34m)\u001b[0m\u001b[0;34m,\u001b[0m \u001b[0mdtype\u001b[0m\u001b[0;34m=\u001b[0m\u001b[0mtorch\u001b[0m\u001b[0;34m.\u001b[0m\u001b[0mfloat32\u001b[0m\u001b[0;34m)\u001b[0m\u001b[0;34m\u001b[0m\u001b[0;34m\u001b[0m\u001b[0m\n\u001b[0m\u001b[1;32m      2\u001b[0m \u001b[0mb\u001b[0m \u001b[0;34m=\u001b[0m \u001b[0mtorch\u001b[0m\u001b[0;34m.\u001b[0m\u001b[0mrandn\u001b[0m\u001b[0;34m(\u001b[0m\u001b[0;36m0.25\u001b[0m\u001b[0;34m*\u001b[0m\u001b[0;34m(\u001b[0m\u001b[0;36m1\u001b[0m\u001b[0;34m,\u001b[0m\u001b[0;36m64\u001b[0m\u001b[0;34m)\u001b[0m\u001b[0;34m,\u001b[0m \u001b[0mdtype\u001b[0m\u001b[0;34m=\u001b[0m\u001b[0mtorch\u001b[0m\u001b[0;34m.\u001b[0m\u001b[0mfloat32\u001b[0m\u001b[0;34m)\u001b[0m\u001b[0;34m\u001b[0m\u001b[0;34m\u001b[0m\u001b[0m\n\u001b[1;32m      3\u001b[0m \u001b[0;34m\u001b[0m\u001b[0m\n\u001b[1;32m      4\u001b[0m \u001b[0;32mimport\u001b[0m \u001b[0mmatplotlib\u001b[0m\u001b[0;34m.\u001b[0m\u001b[0mpyplot\u001b[0m \u001b[0;32mas\u001b[0m \u001b[0mplt\u001b[0m\u001b[0;34m\u001b[0m\u001b[0;34m\u001b[0m\u001b[0m\n\u001b[1;32m      5\u001b[0m \u001b[0;32mimport\u001b[0m \u001b[0mnumpy\u001b[0m \u001b[0;32mas\u001b[0m \u001b[0mnp\u001b[0m\u001b[0;34m\u001b[0m\u001b[0;34m\u001b[0m\u001b[0m\n",
      "\u001b[0;31mTypeError\u001b[0m: can't multiply sequence by non-int of type 'float'"
     ]
    }
   ],
   "source": [
    "a = torch.randn((1,64), dtype=torch.float32)\n",
    " = torch.randn((1,64), dtype=torch.float32)\n",
    "\n",
    "import matplotlib.pyplot as plt\n",
    "import numpy as np\n",
    "\n",
    "generator.to('cpu')\n",
    "generator.eval()\n",
    "img = generator(a)\n",
    "plt.imshow(np.log(img.detach().squeeze().numpy()))"
   ]
  },
  {
   "cell_type": "code",
   "execution_count": 69,
   "metadata": {},
   "outputs": [],
   "source": [
    "torch.save(generator, 'trained-models/generator-gan-first')"
   ]
  },
  {
   "cell_type": "code",
   "execution_count": null,
   "metadata": {},
   "outputs": [],
   "source": []
  },
  {
   "cell_type": "code",
   "execution_count": 4,
   "metadata": {},
   "outputs": [],
   "source": [
    "q = torch.rand((5,10), dtype=torch.float32)\n",
    "a = torch.randn_like(q)"
   ]
  },
  {
   "cell_type": "code",
   "execution_count": 10,
   "metadata": {},
   "outputs": [
    {
     "data": {
      "text/plain": [
       "5"
      ]
     },
     "execution_count": 10,
     "metadata": {},
     "output_type": "execute_result"
    }
   ],
   "source": [
    "q.shape[0]"
   ]
  },
  {
   "cell_type": "code",
   "execution_count": 6,
   "metadata": {},
   "outputs": [
    {
     "data": {
      "text/plain": [
       "torch.Size([5, 10])"
      ]
     },
     "execution_count": 6,
     "metadata": {},
     "output_type": "execute_result"
    }
   ],
   "source": [
    "a.shape"
   ]
  },
  {
   "cell_type": "code",
   "execution_count": 8,
   "metadata": {},
   "outputs": [
    {
     "data": {
      "text/plain": [
       "torch.float32"
      ]
     },
     "execution_count": 8,
     "metadata": {},
     "output_type": "execute_result"
    }
   ],
   "source": [
    "a.dtype"
   ]
  }
 ],
 "metadata": {
  "kernelspec": {
   "display_name": "Python 3",
   "language": "python",
   "name": "python3"
  },
  "language_info": {
   "codemirror_mode": {
    "name": "ipython",
    "version": 3
   },
   "file_extension": ".py",
   "mimetype": "text/x-python",
   "name": "python",
   "nbconvert_exporter": "python",
   "pygments_lexer": "ipython3",
   "version": "3.6.8"
  }
 },
 "nbformat": 4,
 "nbformat_minor": 4
}
